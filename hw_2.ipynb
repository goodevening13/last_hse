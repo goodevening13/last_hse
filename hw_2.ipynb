{
 "cells": [
  {
   "cell_type": "code",
   "execution_count": 9,
   "metadata": {},
   "outputs": [],
   "source": [
    "import os\n",
    "os.environ[\"CUDA_DEVICE_ORDER\"]=\"PCI_BUS_ID\"\n",
    "os.environ[\"CUDA_VISIBLE_DEVICES\"]=\"3\""
   ]
  },
  {
   "cell_type": "code",
   "execution_count": 10,
   "metadata": {},
   "outputs": [],
   "source": [
    "import pandas as pd\n",
    "import optuna\n",
    "import torch\n",
    "import torch.nn as nn\n",
    "from ray import tune\n",
    "from ray.tune.schedulers import PopulationBasedTraining\n",
    "from sklearn.model_selection import ParameterGrid\n",
    "import json\n",
    "from transformers import LongformerTokenizer, LongformerForSequenceClassification, AutoTokenizer\n",
    "from utils.load_dataset import create_loaders\n",
    "from utils.training_loop import training_loop\n",
    "from utils.models import Baseline, SmallTransformer, TextCNN\n",
    "from sklearn.feature_extraction.text import TfidfVectorizer\n",
    "from sklearn.linear_model import LogisticRegression"
   ]
  },
  {
   "cell_type": "code",
   "execution_count": 11,
   "metadata": {},
   "outputs": [],
   "source": [
    "device = 'cuda:0'\n",
    "\n",
    "train_ds = pd.read_csv('data/train_ds.csv', converters={'embs': lambda x: json.loads(x.replace(\"'\", '\"'))})\n",
    "val_ds = pd.read_csv('data/val_ds.csv', converters={'embs': lambda x: json.loads(x.replace(\"'\", '\"'))})\n",
    "test_ds = pd.read_csv('data/test_ds.csv', converters={'embs': lambda x: json.loads(x.replace(\"'\", '\"'))})\n",
    "\n",
    "train_loader, val_loader, test_loader = create_loaders(train_ds, val_ds, test_ds, batch_size=64)"
   ]
  },
  {
   "cell_type": "markdown",
   "metadata": {},
   "source": [
    "## 1. Эксперименты с моделями без тюнинга гиперпараметров  (3 балла)\n",
    "\n",
    "- Усложним бейзлайн, заменив RNN на LSTM\n",
    "- Попробуем CNN для текстов\n",
    "- Попробуем маленькую transformer модельку\n",
    "- TF-IDF + LogisticRegression\n",
    "\n",
    "(Конечно, можно было бы взять большую предобученную модель, качество будет на порядки выше, но предположим, что наши бизнес-ограничения требуют очень дешевое обучение и инференс)"
   ]
  },
  {
   "cell_type": "code",
   "execution_count": 4,
   "metadata": {},
   "outputs": [
    {
     "name": "stderr",
     "output_type": "stream",
     "text": [
      "\u001b[34m\u001b[1mwandb\u001b[0m: Using wandb-core as the SDK backend.  Please refer to https://wandb.me/wandb-core for more information.\n",
      "\u001b[34m\u001b[1mwandb\u001b[0m: Currently logged in as: \u001b[33mgoodevening13\u001b[0m to \u001b[32mhttps://api.wandb.ai\u001b[0m. Use \u001b[1m`wandb login --relogin`\u001b[0m to force relogin\n"
     ]
    },
    {
     "data": {
      "text/html": [
       "Tracking run with wandb version 0.19.8"
      ],
      "text/plain": [
       "<IPython.core.display.HTML object>"
      ]
     },
     "metadata": {},
     "output_type": "display_data"
    },
    {
     "data": {
      "text/html": [
       "Run data is saved locally in <code>/extra_disk_1/alinashutova/last_hse/wandb/run-20250325_181905-h03rbgsa</code>"
      ],
      "text/plain": [
       "<IPython.core.display.HTML object>"
      ]
     },
     "metadata": {},
     "output_type": "display_data"
    },
    {
     "data": {
      "text/html": [
       "Syncing run <strong><a href='https://wandb.ai/goodevening13/ml_sys_design/runs/h03rbgsa' target=\"_blank\">LSTM</a></strong> to <a href='https://wandb.ai/goodevening13/ml_sys_design' target=\"_blank\">Weights & Biases</a> (<a href='https://wandb.me/developer-guide' target=\"_blank\">docs</a>)<br>"
      ],
      "text/plain": [
       "<IPython.core.display.HTML object>"
      ]
     },
     "metadata": {},
     "output_type": "display_data"
    },
    {
     "data": {
      "text/html": [
       " View project at <a href='https://wandb.ai/goodevening13/ml_sys_design' target=\"_blank\">https://wandb.ai/goodevening13/ml_sys_design</a>"
      ],
      "text/plain": [
       "<IPython.core.display.HTML object>"
      ]
     },
     "metadata": {},
     "output_type": "display_data"
    },
    {
     "data": {
      "text/html": [
       " View run at <a href='https://wandb.ai/goodevening13/ml_sys_design/runs/h03rbgsa' target=\"_blank\">https://wandb.ai/goodevening13/ml_sys_design/runs/h03rbgsa</a>"
      ],
      "text/plain": [
       "<IPython.core.display.HTML object>"
      ]
     },
     "metadata": {},
     "output_type": "display_data"
    },
    {
     "name": "stderr",
     "output_type": "stream",
     "text": [
      "100%|██████████| 20/20 [04:54<00:00, 14.74s/it]\n"
     ]
    },
    {
     "data": {
      "text/html": [],
      "text/plain": [
       "<IPython.core.display.HTML object>"
      ]
     },
     "metadata": {},
     "output_type": "display_data"
    },
    {
     "data": {
      "text/html": [
       "<br>    <style><br>        .wandb-row {<br>            display: flex;<br>            flex-direction: row;<br>            flex-wrap: wrap;<br>            justify-content: flex-start;<br>            width: 100%;<br>        }<br>        .wandb-col {<br>            display: flex;<br>            flex-direction: column;<br>            flex-basis: 100%;<br>            flex: 1;<br>            padding: 10px;<br>        }<br>    </style><br><div class=\"wandb-row\"><div class=\"wandb-col\"><h3>Run history:</h3><br/><table class=\"wandb\"><tr><td>epoch</td><td>▁▁▂▂▂▃▃▄▄▄▅▅▅▆▆▇▇▇██</td></tr><tr><td>test_f1</td><td>▁▂▅▁▆▃▆▆▆▇▇▇▇███▇▇██</td></tr><tr><td>test_recall_n</td><td>▅▃▅█▆▆▅▅▄▄▃▁▃▂▂▁▃▂▁▂</td></tr><tr><td>train_f1</td><td>▁▁▂▁▂▃▄▄▅▅▆▆▆▇▇▇▇▇██</td></tr><tr><td>train_loss</td><td>█▆▆▆▅▅▄▄▄▃▃▃▂▂▂▂▁▁▁▁</td></tr><tr><td>train_recall_n</td><td>▆▅▆█▇▅▅▅▄▆▄▁▆▆▅▅▇▇▇▇</td></tr></table><br/></div><div class=\"wandb-col\"><h3>Run summary:</h3><br/><table class=\"wandb\"><tr><td>epoch</td><td>19</td></tr><tr><td>test_f1</td><td>0.76227</td></tr><tr><td>test_recall_n</td><td>0.86155</td></tr><tr><td>train_f1</td><td>0.92719</td></tr><tr><td>train_loss</td><td>0.25357</td></tr><tr><td>train_recall_n</td><td>0.98446</td></tr></table><br/></div></div>"
      ],
      "text/plain": [
       "<IPython.core.display.HTML object>"
      ]
     },
     "metadata": {},
     "output_type": "display_data"
    },
    {
     "data": {
      "text/html": [
       " View run <strong style=\"color:#cdcd00\">LSTM</strong> at: <a href='https://wandb.ai/goodevening13/ml_sys_design/runs/h03rbgsa' target=\"_blank\">https://wandb.ai/goodevening13/ml_sys_design/runs/h03rbgsa</a><br> View project at: <a href='https://wandb.ai/goodevening13/ml_sys_design' target=\"_blank\">https://wandb.ai/goodevening13/ml_sys_design</a><br>Synced 5 W&B file(s), 0 media file(s), 0 artifact file(s) and 0 other file(s)"
      ],
      "text/plain": [
       "<IPython.core.display.HTML object>"
      ]
     },
     "metadata": {},
     "output_type": "display_data"
    },
    {
     "data": {
      "text/html": [
       "Find logs at: <code>./wandb/run-20250325_181905-h03rbgsa/logs</code>"
      ],
      "text/plain": [
       "<IPython.core.display.HTML object>"
      ]
     },
     "metadata": {},
     "output_type": "display_data"
    }
   ],
   "source": [
    "model_lstm = Baseline(embed_dim=64, hidden_size=64, output_size=7, use_rnn=False, num_layers=2).to(device)\n",
    "training_loop(model_lstm, 'LSTM', device, train_loader, test_loader)"
   ]
  },
  {
   "cell_type": "code",
   "execution_count": 5,
   "metadata": {},
   "outputs": [],
   "source": [
    "del model_lstm"
   ]
  },
  {
   "cell_type": "code",
   "execution_count": 6,
   "metadata": {},
   "outputs": [
    {
     "data": {
      "text/html": [
       "Tracking run with wandb version 0.19.8"
      ],
      "text/plain": [
       "<IPython.core.display.HTML object>"
      ]
     },
     "metadata": {},
     "output_type": "display_data"
    },
    {
     "data": {
      "text/html": [
       "Run data is saved locally in <code>/extra_disk_1/alinashutova/last_hse/wandb/run-20250325_182403-948gekhw</code>"
      ],
      "text/plain": [
       "<IPython.core.display.HTML object>"
      ]
     },
     "metadata": {},
     "output_type": "display_data"
    },
    {
     "data": {
      "text/html": [
       "Syncing run <strong><a href='https://wandb.ai/goodevening13/ml_sys_design/runs/948gekhw' target=\"_blank\">CNN</a></strong> to <a href='https://wandb.ai/goodevening13/ml_sys_design' target=\"_blank\">Weights & Biases</a> (<a href='https://wandb.me/developer-guide' target=\"_blank\">docs</a>)<br>"
      ],
      "text/plain": [
       "<IPython.core.display.HTML object>"
      ]
     },
     "metadata": {},
     "output_type": "display_data"
    },
    {
     "data": {
      "text/html": [
       " View project at <a href='https://wandb.ai/goodevening13/ml_sys_design' target=\"_blank\">https://wandb.ai/goodevening13/ml_sys_design</a>"
      ],
      "text/plain": [
       "<IPython.core.display.HTML object>"
      ]
     },
     "metadata": {},
     "output_type": "display_data"
    },
    {
     "data": {
      "text/html": [
       " View run at <a href='https://wandb.ai/goodevening13/ml_sys_design/runs/948gekhw' target=\"_blank\">https://wandb.ai/goodevening13/ml_sys_design/runs/948gekhw</a>"
      ],
      "text/plain": [
       "<IPython.core.display.HTML object>"
      ]
     },
     "metadata": {},
     "output_type": "display_data"
    },
    {
     "name": "stderr",
     "output_type": "stream",
     "text": [
      "100%|██████████| 20/20 [04:44<00:00, 14.23s/it]\n"
     ]
    },
    {
     "data": {
      "text/html": [],
      "text/plain": [
       "<IPython.core.display.HTML object>"
      ]
     },
     "metadata": {},
     "output_type": "display_data"
    },
    {
     "data": {
      "text/html": [
       "<br>    <style><br>        .wandb-row {<br>            display: flex;<br>            flex-direction: row;<br>            flex-wrap: wrap;<br>            justify-content: flex-start;<br>            width: 100%;<br>        }<br>        .wandb-col {<br>            display: flex;<br>            flex-direction: column;<br>            flex-basis: 100%;<br>            flex: 1;<br>            padding: 10px;<br>        }<br>    </style><br><div class=\"wandb-row\"><div class=\"wandb-col\"><h3>Run history:</h3><br/><table class=\"wandb\"><tr><td>epoch</td><td>▁▁▂▂▂▃▃▄▄▄▅▅▅▆▆▇▇▇██</td></tr><tr><td>test_f1</td><td>▁▄▇▄▇▆█▆▆▄▆▇▃▇▅▆▆▄▅▅</td></tr><tr><td>test_recall_n</td><td>▆█▇▄▇▃█▄▆▂▂▅▁▄▂▁▃▃▁▁</td></tr><tr><td>train_f1</td><td>▁▂▂▃▃▄▄▅▅▅▆▆▆▇▇▇████</td></tr><tr><td>train_loss</td><td>█▇▆▆▅▅▅▄▄▄▃▃▃▂▂▂▂▁▁▁</td></tr><tr><td>train_recall_n</td><td>▇▇▇▄▆▂█▃▆▁▄▇▃▇▆▅▇█▇▆</td></tr></table><br/></div><div class=\"wandb-col\"><h3>Run summary:</h3><br/><table class=\"wandb\"><tr><td>epoch</td><td>19</td></tr><tr><td>test_f1</td><td>0.72833</td></tr><tr><td>test_recall_n</td><td>0.81673</td></tr><tr><td>train_f1</td><td>0.93503</td></tr><tr><td>train_loss</td><td>0.23738</td></tr><tr><td>train_recall_n</td><td>0.96582</td></tr></table><br/></div></div>"
      ],
      "text/plain": [
       "<IPython.core.display.HTML object>"
      ]
     },
     "metadata": {},
     "output_type": "display_data"
    },
    {
     "data": {
      "text/html": [
       " View run <strong style=\"color:#cdcd00\">CNN</strong> at: <a href='https://wandb.ai/goodevening13/ml_sys_design/runs/948gekhw' target=\"_blank\">https://wandb.ai/goodevening13/ml_sys_design/runs/948gekhw</a><br> View project at: <a href='https://wandb.ai/goodevening13/ml_sys_design' target=\"_blank\">https://wandb.ai/goodevening13/ml_sys_design</a><br>Synced 5 W&B file(s), 0 media file(s), 0 artifact file(s) and 0 other file(s)"
      ],
      "text/plain": [
       "<IPython.core.display.HTML object>"
      ]
     },
     "metadata": {},
     "output_type": "display_data"
    },
    {
     "data": {
      "text/html": [
       "Find logs at: <code>./wandb/run-20250325_182403-948gekhw/logs</code>"
      ],
      "text/plain": [
       "<IPython.core.display.HTML object>"
      ]
     },
     "metadata": {},
     "output_type": "display_data"
    }
   ],
   "source": [
    "model_cnn = TextCNN(embed_dim=64, output_size=7).to(device)\n",
    "training_loop(model_cnn, 'CNN', device, train_loader, test_loader)"
   ]
  },
  {
   "cell_type": "code",
   "execution_count": 7,
   "metadata": {},
   "outputs": [],
   "source": [
    "del model_cnn"
   ]
  },
  {
   "cell_type": "code",
   "execution_count": 8,
   "metadata": {},
   "outputs": [
    {
     "data": {
      "text/html": [
       "Tracking run with wandb version 0.19.8"
      ],
      "text/plain": [
       "<IPython.core.display.HTML object>"
      ]
     },
     "metadata": {},
     "output_type": "display_data"
    },
    {
     "data": {
      "text/html": [
       "Run data is saved locally in <code>/extra_disk_1/alinashutova/last_hse/wandb/run-20250325_182850-zqzoe5qt</code>"
      ],
      "text/plain": [
       "<IPython.core.display.HTML object>"
      ]
     },
     "metadata": {},
     "output_type": "display_data"
    },
    {
     "data": {
      "text/html": [
       "Syncing run <strong><a href='https://wandb.ai/goodevening13/ml_sys_design/runs/zqzoe5qt' target=\"_blank\">SmallTransformer</a></strong> to <a href='https://wandb.ai/goodevening13/ml_sys_design' target=\"_blank\">Weights & Biases</a> (<a href='https://wandb.me/developer-guide' target=\"_blank\">docs</a>)<br>"
      ],
      "text/plain": [
       "<IPython.core.display.HTML object>"
      ]
     },
     "metadata": {},
     "output_type": "display_data"
    },
    {
     "data": {
      "text/html": [
       " View project at <a href='https://wandb.ai/goodevening13/ml_sys_design' target=\"_blank\">https://wandb.ai/goodevening13/ml_sys_design</a>"
      ],
      "text/plain": [
       "<IPython.core.display.HTML object>"
      ]
     },
     "metadata": {},
     "output_type": "display_data"
    },
    {
     "data": {
      "text/html": [
       " View run at <a href='https://wandb.ai/goodevening13/ml_sys_design/runs/zqzoe5qt' target=\"_blank\">https://wandb.ai/goodevening13/ml_sys_design/runs/zqzoe5qt</a>"
      ],
      "text/plain": [
       "<IPython.core.display.HTML object>"
      ]
     },
     "metadata": {},
     "output_type": "display_data"
    },
    {
     "name": "stderr",
     "output_type": "stream",
     "text": [
      "100%|██████████| 20/20 [05:26<00:00, 16.32s/it]\n"
     ]
    },
    {
     "data": {
      "text/html": [],
      "text/plain": [
       "<IPython.core.display.HTML object>"
      ]
     },
     "metadata": {},
     "output_type": "display_data"
    },
    {
     "data": {
      "text/html": [
       "<br>    <style><br>        .wandb-row {<br>            display: flex;<br>            flex-direction: row;<br>            flex-wrap: wrap;<br>            justify-content: flex-start;<br>            width: 100%;<br>        }<br>        .wandb-col {<br>            display: flex;<br>            flex-direction: column;<br>            flex-basis: 100%;<br>            flex: 1;<br>            padding: 10px;<br>        }<br>    </style><br><div class=\"wandb-row\"><div class=\"wandb-col\"><h3>Run history:</h3><br/><table class=\"wandb\"><tr><td>epoch</td><td>▁▁▂▂▂▃▃▄▄▄▅▅▅▆▆▇▇▇██</td></tr><tr><td>test_f1</td><td>▁▂▃▅▅▇▇▇▇██████▇█▇██</td></tr><tr><td>test_recall_n</td><td>▅▅▆█▇▇▇▇▄▅▄▄▄▃▆▃▅▁▃▃</td></tr><tr><td>train_f1</td><td>▁▁▂▂▂▃▃▄▅▅▆▆▆▇▇▇▇███</td></tr><tr><td>train_loss</td><td>█▇▆▆▅▅▅▄▄▄▃▃▃▂▂▂▂▁▁▁</td></tr><tr><td>train_recall_n</td><td>▃▆▅█▇▅▇▇▁▂▃▄▂▃▆▄▆▁▄▆</td></tr></table><br/></div><div class=\"wandb-col\"><h3>Run summary:</h3><br/><table class=\"wandb\"><tr><td>epoch</td><td>19</td></tr><tr><td>test_f1</td><td>0.74093</td></tr><tr><td>test_recall_n</td><td>0.84064</td></tr><tr><td>train_f1</td><td>0.93329</td></tr><tr><td>train_loss</td><td>0.28997</td></tr><tr><td>train_recall_n</td><td>0.9836</td></tr></table><br/></div></div>"
      ],
      "text/plain": [
       "<IPython.core.display.HTML object>"
      ]
     },
     "metadata": {},
     "output_type": "display_data"
    },
    {
     "data": {
      "text/html": [
       " View run <strong style=\"color:#cdcd00\">SmallTransformer</strong> at: <a href='https://wandb.ai/goodevening13/ml_sys_design/runs/zqzoe5qt' target=\"_blank\">https://wandb.ai/goodevening13/ml_sys_design/runs/zqzoe5qt</a><br> View project at: <a href='https://wandb.ai/goodevening13/ml_sys_design' target=\"_blank\">https://wandb.ai/goodevening13/ml_sys_design</a><br>Synced 5 W&B file(s), 0 media file(s), 0 artifact file(s) and 0 other file(s)"
      ],
      "text/plain": [
       "<IPython.core.display.HTML object>"
      ]
     },
     "metadata": {},
     "output_type": "display_data"
    },
    {
     "data": {
      "text/html": [
       "Find logs at: <code>./wandb/run-20250325_182850-zqzoe5qt/logs</code>"
      ],
      "text/plain": [
       "<IPython.core.display.HTML object>"
      ]
     },
     "metadata": {},
     "output_type": "display_data"
    }
   ],
   "source": [
    "model_t = SmallTransformer(embed_dim=64, num_heads=2, hidden_dim=64, output_size=7).to(device)\n",
    "training_loop(model_t, 'SmallTransformer', device, train_loader, test_loader)"
   ]
  },
  {
   "cell_type": "code",
   "execution_count": 9,
   "metadata": {},
   "outputs": [],
   "source": [
    "del model_t"
   ]
  },
  {
   "cell_type": "code",
   "execution_count": 10,
   "metadata": {},
   "outputs": [
    {
     "data": {
      "text/html": [
       "<style>#sk-container-id-1 {\n",
       "  /* Definition of color scheme common for light and dark mode */\n",
       "  --sklearn-color-text: #000;\n",
       "  --sklearn-color-text-muted: #666;\n",
       "  --sklearn-color-line: gray;\n",
       "  /* Definition of color scheme for unfitted estimators */\n",
       "  --sklearn-color-unfitted-level-0: #fff5e6;\n",
       "  --sklearn-color-unfitted-level-1: #f6e4d2;\n",
       "  --sklearn-color-unfitted-level-2: #ffe0b3;\n",
       "  --sklearn-color-unfitted-level-3: chocolate;\n",
       "  /* Definition of color scheme for fitted estimators */\n",
       "  --sklearn-color-fitted-level-0: #f0f8ff;\n",
       "  --sklearn-color-fitted-level-1: #d4ebff;\n",
       "  --sklearn-color-fitted-level-2: #b3dbfd;\n",
       "  --sklearn-color-fitted-level-3: cornflowerblue;\n",
       "\n",
       "  /* Specific color for light theme */\n",
       "  --sklearn-color-text-on-default-background: var(--sg-text-color, var(--theme-code-foreground, var(--jp-content-font-color1, black)));\n",
       "  --sklearn-color-background: var(--sg-background-color, var(--theme-background, var(--jp-layout-color0, white)));\n",
       "  --sklearn-color-border-box: var(--sg-text-color, var(--theme-code-foreground, var(--jp-content-font-color1, black)));\n",
       "  --sklearn-color-icon: #696969;\n",
       "\n",
       "  @media (prefers-color-scheme: dark) {\n",
       "    /* Redefinition of color scheme for dark theme */\n",
       "    --sklearn-color-text-on-default-background: var(--sg-text-color, var(--theme-code-foreground, var(--jp-content-font-color1, white)));\n",
       "    --sklearn-color-background: var(--sg-background-color, var(--theme-background, var(--jp-layout-color0, #111)));\n",
       "    --sklearn-color-border-box: var(--sg-text-color, var(--theme-code-foreground, var(--jp-content-font-color1, white)));\n",
       "    --sklearn-color-icon: #878787;\n",
       "  }\n",
       "}\n",
       "\n",
       "#sk-container-id-1 {\n",
       "  color: var(--sklearn-color-text);\n",
       "}\n",
       "\n",
       "#sk-container-id-1 pre {\n",
       "  padding: 0;\n",
       "}\n",
       "\n",
       "#sk-container-id-1 input.sk-hidden--visually {\n",
       "  border: 0;\n",
       "  clip: rect(1px 1px 1px 1px);\n",
       "  clip: rect(1px, 1px, 1px, 1px);\n",
       "  height: 1px;\n",
       "  margin: -1px;\n",
       "  overflow: hidden;\n",
       "  padding: 0;\n",
       "  position: absolute;\n",
       "  width: 1px;\n",
       "}\n",
       "\n",
       "#sk-container-id-1 div.sk-dashed-wrapped {\n",
       "  border: 1px dashed var(--sklearn-color-line);\n",
       "  margin: 0 0.4em 0.5em 0.4em;\n",
       "  box-sizing: border-box;\n",
       "  padding-bottom: 0.4em;\n",
       "  background-color: var(--sklearn-color-background);\n",
       "}\n",
       "\n",
       "#sk-container-id-1 div.sk-container {\n",
       "  /* jupyter's `normalize.less` sets `[hidden] { display: none; }`\n",
       "     but bootstrap.min.css set `[hidden] { display: none !important; }`\n",
       "     so we also need the `!important` here to be able to override the\n",
       "     default hidden behavior on the sphinx rendered scikit-learn.org.\n",
       "     See: https://github.com/scikit-learn/scikit-learn/issues/21755 */\n",
       "  display: inline-block !important;\n",
       "  position: relative;\n",
       "}\n",
       "\n",
       "#sk-container-id-1 div.sk-text-repr-fallback {\n",
       "  display: none;\n",
       "}\n",
       "\n",
       "div.sk-parallel-item,\n",
       "div.sk-serial,\n",
       "div.sk-item {\n",
       "  /* draw centered vertical line to link estimators */\n",
       "  background-image: linear-gradient(var(--sklearn-color-text-on-default-background), var(--sklearn-color-text-on-default-background));\n",
       "  background-size: 2px 100%;\n",
       "  background-repeat: no-repeat;\n",
       "  background-position: center center;\n",
       "}\n",
       "\n",
       "/* Parallel-specific style estimator block */\n",
       "\n",
       "#sk-container-id-1 div.sk-parallel-item::after {\n",
       "  content: \"\";\n",
       "  width: 100%;\n",
       "  border-bottom: 2px solid var(--sklearn-color-text-on-default-background);\n",
       "  flex-grow: 1;\n",
       "}\n",
       "\n",
       "#sk-container-id-1 div.sk-parallel {\n",
       "  display: flex;\n",
       "  align-items: stretch;\n",
       "  justify-content: center;\n",
       "  background-color: var(--sklearn-color-background);\n",
       "  position: relative;\n",
       "}\n",
       "\n",
       "#sk-container-id-1 div.sk-parallel-item {\n",
       "  display: flex;\n",
       "  flex-direction: column;\n",
       "}\n",
       "\n",
       "#sk-container-id-1 div.sk-parallel-item:first-child::after {\n",
       "  align-self: flex-end;\n",
       "  width: 50%;\n",
       "}\n",
       "\n",
       "#sk-container-id-1 div.sk-parallel-item:last-child::after {\n",
       "  align-self: flex-start;\n",
       "  width: 50%;\n",
       "}\n",
       "\n",
       "#sk-container-id-1 div.sk-parallel-item:only-child::after {\n",
       "  width: 0;\n",
       "}\n",
       "\n",
       "/* Serial-specific style estimator block */\n",
       "\n",
       "#sk-container-id-1 div.sk-serial {\n",
       "  display: flex;\n",
       "  flex-direction: column;\n",
       "  align-items: center;\n",
       "  background-color: var(--sklearn-color-background);\n",
       "  padding-right: 1em;\n",
       "  padding-left: 1em;\n",
       "}\n",
       "\n",
       "\n",
       "/* Toggleable style: style used for estimator/Pipeline/ColumnTransformer box that is\n",
       "clickable and can be expanded/collapsed.\n",
       "- Pipeline and ColumnTransformer use this feature and define the default style\n",
       "- Estimators will overwrite some part of the style using the `sk-estimator` class\n",
       "*/\n",
       "\n",
       "/* Pipeline and ColumnTransformer style (default) */\n",
       "\n",
       "#sk-container-id-1 div.sk-toggleable {\n",
       "  /* Default theme specific background. It is overwritten whether we have a\n",
       "  specific estimator or a Pipeline/ColumnTransformer */\n",
       "  background-color: var(--sklearn-color-background);\n",
       "}\n",
       "\n",
       "/* Toggleable label */\n",
       "#sk-container-id-1 label.sk-toggleable__label {\n",
       "  cursor: pointer;\n",
       "  display: flex;\n",
       "  width: 100%;\n",
       "  margin-bottom: 0;\n",
       "  padding: 0.5em;\n",
       "  box-sizing: border-box;\n",
       "  text-align: center;\n",
       "  align-items: start;\n",
       "  justify-content: space-between;\n",
       "  gap: 0.5em;\n",
       "}\n",
       "\n",
       "#sk-container-id-1 label.sk-toggleable__label .caption {\n",
       "  font-size: 0.6rem;\n",
       "  font-weight: lighter;\n",
       "  color: var(--sklearn-color-text-muted);\n",
       "}\n",
       "\n",
       "#sk-container-id-1 label.sk-toggleable__label-arrow:before {\n",
       "  /* Arrow on the left of the label */\n",
       "  content: \"▸\";\n",
       "  float: left;\n",
       "  margin-right: 0.25em;\n",
       "  color: var(--sklearn-color-icon);\n",
       "}\n",
       "\n",
       "#sk-container-id-1 label.sk-toggleable__label-arrow:hover:before {\n",
       "  color: var(--sklearn-color-text);\n",
       "}\n",
       "\n",
       "/* Toggleable content - dropdown */\n",
       "\n",
       "#sk-container-id-1 div.sk-toggleable__content {\n",
       "  max-height: 0;\n",
       "  max-width: 0;\n",
       "  overflow: hidden;\n",
       "  text-align: left;\n",
       "  /* unfitted */\n",
       "  background-color: var(--sklearn-color-unfitted-level-0);\n",
       "}\n",
       "\n",
       "#sk-container-id-1 div.sk-toggleable__content.fitted {\n",
       "  /* fitted */\n",
       "  background-color: var(--sklearn-color-fitted-level-0);\n",
       "}\n",
       "\n",
       "#sk-container-id-1 div.sk-toggleable__content pre {\n",
       "  margin: 0.2em;\n",
       "  border-radius: 0.25em;\n",
       "  color: var(--sklearn-color-text);\n",
       "  /* unfitted */\n",
       "  background-color: var(--sklearn-color-unfitted-level-0);\n",
       "}\n",
       "\n",
       "#sk-container-id-1 div.sk-toggleable__content.fitted pre {\n",
       "  /* unfitted */\n",
       "  background-color: var(--sklearn-color-fitted-level-0);\n",
       "}\n",
       "\n",
       "#sk-container-id-1 input.sk-toggleable__control:checked~div.sk-toggleable__content {\n",
       "  /* Expand drop-down */\n",
       "  max-height: 200px;\n",
       "  max-width: 100%;\n",
       "  overflow: auto;\n",
       "}\n",
       "\n",
       "#sk-container-id-1 input.sk-toggleable__control:checked~label.sk-toggleable__label-arrow:before {\n",
       "  content: \"▾\";\n",
       "}\n",
       "\n",
       "/* Pipeline/ColumnTransformer-specific style */\n",
       "\n",
       "#sk-container-id-1 div.sk-label input.sk-toggleable__control:checked~label.sk-toggleable__label {\n",
       "  color: var(--sklearn-color-text);\n",
       "  background-color: var(--sklearn-color-unfitted-level-2);\n",
       "}\n",
       "\n",
       "#sk-container-id-1 div.sk-label.fitted input.sk-toggleable__control:checked~label.sk-toggleable__label {\n",
       "  background-color: var(--sklearn-color-fitted-level-2);\n",
       "}\n",
       "\n",
       "/* Estimator-specific style */\n",
       "\n",
       "/* Colorize estimator box */\n",
       "#sk-container-id-1 div.sk-estimator input.sk-toggleable__control:checked~label.sk-toggleable__label {\n",
       "  /* unfitted */\n",
       "  background-color: var(--sklearn-color-unfitted-level-2);\n",
       "}\n",
       "\n",
       "#sk-container-id-1 div.sk-estimator.fitted input.sk-toggleable__control:checked~label.sk-toggleable__label {\n",
       "  /* fitted */\n",
       "  background-color: var(--sklearn-color-fitted-level-2);\n",
       "}\n",
       "\n",
       "#sk-container-id-1 div.sk-label label.sk-toggleable__label,\n",
       "#sk-container-id-1 div.sk-label label {\n",
       "  /* The background is the default theme color */\n",
       "  color: var(--sklearn-color-text-on-default-background);\n",
       "}\n",
       "\n",
       "/* On hover, darken the color of the background */\n",
       "#sk-container-id-1 div.sk-label:hover label.sk-toggleable__label {\n",
       "  color: var(--sklearn-color-text);\n",
       "  background-color: var(--sklearn-color-unfitted-level-2);\n",
       "}\n",
       "\n",
       "/* Label box, darken color on hover, fitted */\n",
       "#sk-container-id-1 div.sk-label.fitted:hover label.sk-toggleable__label.fitted {\n",
       "  color: var(--sklearn-color-text);\n",
       "  background-color: var(--sklearn-color-fitted-level-2);\n",
       "}\n",
       "\n",
       "/* Estimator label */\n",
       "\n",
       "#sk-container-id-1 div.sk-label label {\n",
       "  font-family: monospace;\n",
       "  font-weight: bold;\n",
       "  display: inline-block;\n",
       "  line-height: 1.2em;\n",
       "}\n",
       "\n",
       "#sk-container-id-1 div.sk-label-container {\n",
       "  text-align: center;\n",
       "}\n",
       "\n",
       "/* Estimator-specific */\n",
       "#sk-container-id-1 div.sk-estimator {\n",
       "  font-family: monospace;\n",
       "  border: 1px dotted var(--sklearn-color-border-box);\n",
       "  border-radius: 0.25em;\n",
       "  box-sizing: border-box;\n",
       "  margin-bottom: 0.5em;\n",
       "  /* unfitted */\n",
       "  background-color: var(--sklearn-color-unfitted-level-0);\n",
       "}\n",
       "\n",
       "#sk-container-id-1 div.sk-estimator.fitted {\n",
       "  /* fitted */\n",
       "  background-color: var(--sklearn-color-fitted-level-0);\n",
       "}\n",
       "\n",
       "/* on hover */\n",
       "#sk-container-id-1 div.sk-estimator:hover {\n",
       "  /* unfitted */\n",
       "  background-color: var(--sklearn-color-unfitted-level-2);\n",
       "}\n",
       "\n",
       "#sk-container-id-1 div.sk-estimator.fitted:hover {\n",
       "  /* fitted */\n",
       "  background-color: var(--sklearn-color-fitted-level-2);\n",
       "}\n",
       "\n",
       "/* Specification for estimator info (e.g. \"i\" and \"?\") */\n",
       "\n",
       "/* Common style for \"i\" and \"?\" */\n",
       "\n",
       ".sk-estimator-doc-link,\n",
       "a:link.sk-estimator-doc-link,\n",
       "a:visited.sk-estimator-doc-link {\n",
       "  float: right;\n",
       "  font-size: smaller;\n",
       "  line-height: 1em;\n",
       "  font-family: monospace;\n",
       "  background-color: var(--sklearn-color-background);\n",
       "  border-radius: 1em;\n",
       "  height: 1em;\n",
       "  width: 1em;\n",
       "  text-decoration: none !important;\n",
       "  margin-left: 0.5em;\n",
       "  text-align: center;\n",
       "  /* unfitted */\n",
       "  border: var(--sklearn-color-unfitted-level-1) 1pt solid;\n",
       "  color: var(--sklearn-color-unfitted-level-1);\n",
       "}\n",
       "\n",
       ".sk-estimator-doc-link.fitted,\n",
       "a:link.sk-estimator-doc-link.fitted,\n",
       "a:visited.sk-estimator-doc-link.fitted {\n",
       "  /* fitted */\n",
       "  border: var(--sklearn-color-fitted-level-1) 1pt solid;\n",
       "  color: var(--sklearn-color-fitted-level-1);\n",
       "}\n",
       "\n",
       "/* On hover */\n",
       "div.sk-estimator:hover .sk-estimator-doc-link:hover,\n",
       ".sk-estimator-doc-link:hover,\n",
       "div.sk-label-container:hover .sk-estimator-doc-link:hover,\n",
       ".sk-estimator-doc-link:hover {\n",
       "  /* unfitted */\n",
       "  background-color: var(--sklearn-color-unfitted-level-3);\n",
       "  color: var(--sklearn-color-background);\n",
       "  text-decoration: none;\n",
       "}\n",
       "\n",
       "div.sk-estimator.fitted:hover .sk-estimator-doc-link.fitted:hover,\n",
       ".sk-estimator-doc-link.fitted:hover,\n",
       "div.sk-label-container:hover .sk-estimator-doc-link.fitted:hover,\n",
       ".sk-estimator-doc-link.fitted:hover {\n",
       "  /* fitted */\n",
       "  background-color: var(--sklearn-color-fitted-level-3);\n",
       "  color: var(--sklearn-color-background);\n",
       "  text-decoration: none;\n",
       "}\n",
       "\n",
       "/* Span, style for the box shown on hovering the info icon */\n",
       ".sk-estimator-doc-link span {\n",
       "  display: none;\n",
       "  z-index: 9999;\n",
       "  position: relative;\n",
       "  font-weight: normal;\n",
       "  right: .2ex;\n",
       "  padding: .5ex;\n",
       "  margin: .5ex;\n",
       "  width: min-content;\n",
       "  min-width: 20ex;\n",
       "  max-width: 50ex;\n",
       "  color: var(--sklearn-color-text);\n",
       "  box-shadow: 2pt 2pt 4pt #999;\n",
       "  /* unfitted */\n",
       "  background: var(--sklearn-color-unfitted-level-0);\n",
       "  border: .5pt solid var(--sklearn-color-unfitted-level-3);\n",
       "}\n",
       "\n",
       ".sk-estimator-doc-link.fitted span {\n",
       "  /* fitted */\n",
       "  background: var(--sklearn-color-fitted-level-0);\n",
       "  border: var(--sklearn-color-fitted-level-3);\n",
       "}\n",
       "\n",
       ".sk-estimator-doc-link:hover span {\n",
       "  display: block;\n",
       "}\n",
       "\n",
       "/* \"?\"-specific style due to the `<a>` HTML tag */\n",
       "\n",
       "#sk-container-id-1 a.estimator_doc_link {\n",
       "  float: right;\n",
       "  font-size: 1rem;\n",
       "  line-height: 1em;\n",
       "  font-family: monospace;\n",
       "  background-color: var(--sklearn-color-background);\n",
       "  border-radius: 1rem;\n",
       "  height: 1rem;\n",
       "  width: 1rem;\n",
       "  text-decoration: none;\n",
       "  /* unfitted */\n",
       "  color: var(--sklearn-color-unfitted-level-1);\n",
       "  border: var(--sklearn-color-unfitted-level-1) 1pt solid;\n",
       "}\n",
       "\n",
       "#sk-container-id-1 a.estimator_doc_link.fitted {\n",
       "  /* fitted */\n",
       "  border: var(--sklearn-color-fitted-level-1) 1pt solid;\n",
       "  color: var(--sklearn-color-fitted-level-1);\n",
       "}\n",
       "\n",
       "/* On hover */\n",
       "#sk-container-id-1 a.estimator_doc_link:hover {\n",
       "  /* unfitted */\n",
       "  background-color: var(--sklearn-color-unfitted-level-3);\n",
       "  color: var(--sklearn-color-background);\n",
       "  text-decoration: none;\n",
       "}\n",
       "\n",
       "#sk-container-id-1 a.estimator_doc_link.fitted:hover {\n",
       "  /* fitted */\n",
       "  background-color: var(--sklearn-color-fitted-level-3);\n",
       "}\n",
       "</style><div id=\"sk-container-id-1\" class=\"sk-top-container\"><div class=\"sk-text-repr-fallback\"><pre>LogisticRegression(max_iter=500)</pre><b>In a Jupyter environment, please rerun this cell to show the HTML representation or trust the notebook. <br />On GitHub, the HTML representation is unable to render, please try loading this page with nbviewer.org.</b></div><div class=\"sk-container\" hidden><div class=\"sk-item\"><div class=\"sk-estimator fitted sk-toggleable\"><input class=\"sk-toggleable__control sk-hidden--visually\" id=\"sk-estimator-id-1\" type=\"checkbox\" checked><label for=\"sk-estimator-id-1\" class=\"sk-toggleable__label fitted sk-toggleable__label-arrow\"><div><div>LogisticRegression</div></div><div><a class=\"sk-estimator-doc-link fitted\" rel=\"noreferrer\" target=\"_blank\" href=\"https://scikit-learn.org/1.6/modules/generated/sklearn.linear_model.LogisticRegression.html\">?<span>Documentation for LogisticRegression</span></a><span class=\"sk-estimator-doc-link fitted\">i<span>Fitted</span></span></div></label><div class=\"sk-toggleable__content fitted\"><pre>LogisticRegression(max_iter=500)</pre></div> </div></div></div></div>"
      ],
      "text/plain": [
       "LogisticRegression(max_iter=500)"
      ]
     },
     "execution_count": 10,
     "metadata": {},
     "output_type": "execute_result"
    }
   ],
   "source": [
    "vectorizer = TfidfVectorizer(max_features=128256)\n",
    "X_train = vectorizer.fit_transform(train_ds['text'])\n",
    "model = LogisticRegression(max_iter=500)\n",
    "model.fit(X_train, train_ds['enc_label'])"
   ]
  },
  {
   "cell_type": "code",
   "execution_count": 11,
   "metadata": {},
   "outputs": [],
   "source": [
    "predictions = model.predict(X_train)\n",
    "X_test = vectorizer.transform(test_ds['text'])\n",
    "predictions_test = model.predict(X_test)"
   ]
  },
  {
   "cell_type": "code",
   "execution_count": 12,
   "metadata": {},
   "outputs": [],
   "source": [
    "labels = train_ds['enc_label'].to_numpy()\n",
    "labels_test = test_ds['enc_label'].to_numpy()"
   ]
  },
  {
   "cell_type": "code",
   "execution_count": 15,
   "metadata": {},
   "outputs": [
    {
     "name": "stderr",
     "output_type": "stream",
     "text": [
      "/var/tmp/ipykernel_963701/579590635.py:5: RuntimeWarning: invalid value encountered in scalar divide\n",
      "  recall_normal = (predictions[normal_idx] == 7).sum() / len(normal_idx)\n"
     ]
    },
    {
     "data": {
      "text/html": [
       "Tracking run with wandb version 0.19.8"
      ],
      "text/plain": [
       "<IPython.core.display.HTML object>"
      ]
     },
     "metadata": {},
     "output_type": "display_data"
    },
    {
     "data": {
      "text/html": [
       "Run data is saved locally in <code>/extra_disk_1/alinashutova/last_hse/wandb/run-20250325_214416-h8571xmz</code>"
      ],
      "text/plain": [
       "<IPython.core.display.HTML object>"
      ]
     },
     "metadata": {},
     "output_type": "display_data"
    },
    {
     "data": {
      "text/html": [
       "Syncing run <strong><a href='https://wandb.ai/goodevening13/ml_sys_design/runs/h8571xmz' target=\"_blank\">TF-IDF Classifier</a></strong> to <a href='https://wandb.ai/goodevening13/ml_sys_design' target=\"_blank\">Weights & Biases</a> (<a href='https://wandb.me/developer-guide' target=\"_blank\">docs</a>)<br>"
      ],
      "text/plain": [
       "<IPython.core.display.HTML object>"
      ]
     },
     "metadata": {},
     "output_type": "display_data"
    },
    {
     "data": {
      "text/html": [
       " View project at <a href='https://wandb.ai/goodevening13/ml_sys_design' target=\"_blank\">https://wandb.ai/goodevening13/ml_sys_design</a>"
      ],
      "text/plain": [
       "<IPython.core.display.HTML object>"
      ]
     },
     "metadata": {},
     "output_type": "display_data"
    },
    {
     "data": {
      "text/html": [
       " View run at <a href='https://wandb.ai/goodevening13/ml_sys_design/runs/h8571xmz' target=\"_blank\">https://wandb.ai/goodevening13/ml_sys_design/runs/h8571xmz</a>"
      ],
      "text/plain": [
       "<IPython.core.display.HTML object>"
      ]
     },
     "metadata": {},
     "output_type": "display_data"
    },
    {
     "data": {
      "text/html": [],
      "text/plain": [
       "<IPython.core.display.HTML object>"
      ]
     },
     "metadata": {},
     "output_type": "display_data"
    },
    {
     "data": {
      "text/html": [
       "<br>    <style><br>        .wandb-row {<br>            display: flex;<br>            flex-direction: row;<br>            flex-wrap: wrap;<br>            justify-content: flex-start;<br>            width: 100%;<br>        }<br>        .wandb-col {<br>            display: flex;<br>            flex-direction: column;<br>            flex-basis: 100%;<br>            flex: 1;<br>            padding: 10px;<br>        }<br>    </style><br><div class=\"wandb-row\"><div class=\"wandb-col\"><h3>Run history:</h3><br/><table class=\"wandb\"><tr><td>epoch</td><td>▁▁▂▂▂▃▃▄▄▄▅▅▅▆▆▇▇▇██</td></tr><tr><td>test_f1</td><td>▁▁▁▁▁▁▁▁▁▁▁▁▁▁▁▁▁▁▁▁</td></tr><tr><td>train_f1</td><td>▁▁▁▁▁▁▁▁▁▁▁▁▁▁▁▁▁▁▁▁</td></tr><tr><td>train_loss</td><td>▁▁▁▁▁▁▁▁▁▁▁▁▁▁▁▁▁▁▁▁</td></tr></table><br/></div><div class=\"wandb-col\"><h3>Run summary:</h3><br/><table class=\"wandb\"><tr><td>epoch</td><td>19</td></tr><tr><td>test_f1</td><td>0.75163</td></tr><tr><td>test_recall_n</td><td>nan</td></tr><tr><td>train_f1</td><td>0.73249</td></tr><tr><td>train_loss</td><td>0</td></tr><tr><td>train_recall_n</td><td>nan</td></tr></table><br/></div></div>"
      ],
      "text/plain": [
       "<IPython.core.display.HTML object>"
      ]
     },
     "metadata": {},
     "output_type": "display_data"
    },
    {
     "data": {
      "text/html": [
       " View run <strong style=\"color:#cdcd00\">TF-IDF Classifier</strong> at: <a href='https://wandb.ai/goodevening13/ml_sys_design/runs/h8571xmz' target=\"_blank\">https://wandb.ai/goodevening13/ml_sys_design/runs/h8571xmz</a><br> View project at: <a href='https://wandb.ai/goodevening13/ml_sys_design' target=\"_blank\">https://wandb.ai/goodevening13/ml_sys_design</a><br>Synced 5 W&B file(s), 0 media file(s), 0 artifact file(s) and 0 other file(s)"
      ],
      "text/plain": [
       "<IPython.core.display.HTML object>"
      ]
     },
     "metadata": {},
     "output_type": "display_data"
    },
    {
     "data": {
      "text/html": [
       "Find logs at: <code>./wandb/run-20250325_214416-h8571xmz/logs</code>"
      ],
      "text/plain": [
       "<IPython.core.display.HTML object>"
      ]
     },
     "metadata": {},
     "output_type": "display_data"
    }
   ],
   "source": [
    "import wandb\n",
    "from torcheval.metrics.functional import multiclass_f1_score\n",
    "def calculate_recall_normal(predictions, labels):\n",
    "    normal_idx = [i for i in range(len(labels)) if labels[i] == 7]\n",
    "    recall_normal = (predictions[normal_idx] == 7).sum() / len(normal_idx)\n",
    "    return recall_normal\n",
    "\n",
    "f1_train = multiclass_f1_score(torch.Tensor(predictions).to(dtype=torch.int64),\n",
    "                               torch.Tensor(labels).to(dtype=torch.int64), average='weighted', num_classes=7)\n",
    "\n",
    "f1_test = multiclass_f1_score(torch.Tensor(predictions_test).to(dtype=torch.int64), \n",
    "                               torch.Tensor(labels_test).to(dtype=torch.int64), average='weighted', num_classes=7)\n",
    "recall_n_train = calculate_recall_normal(predictions, labels)\n",
    "recall_n_test = calculate_recall_normal(predictions_test, labels_test)\n",
    "\n",
    "wandb.init(\n",
    "        project=\"ml_sys_design\",\n",
    "        name='TF-IDF Classifier',\n",
    "        group='model_comparison'\n",
    "    )\n",
    "for i in range(20):\n",
    "    wandb.log({\n",
    "            \"epoch\": i,\n",
    "            \"train_loss\": 0,\n",
    "            \"train_recall_n\": recall_n_train,\n",
    "            \"train_f1\": f1_train,\n",
    "            \"test_recall_n\": recall_n_test,\n",
    "            \"test_f1\": f1_test,\n",
    "        })\n",
    "wandb.finish()"
   ]
  },
  {
   "cell_type": "code",
   "execution_count": 16,
   "metadata": {},
   "outputs": [],
   "source": [
    "used_tokenizer = AutoTokenizer.from_pretrained('unsloth/Meta-Llama-3.1-8B-Instruct')\n",
    "model_name = \"allenai/longformer-base-4096\"\n",
    "pretrained_tokenizer = LongformerTokenizer.from_pretrained(model_name)\n",
    "\n",
    "def decode(ids):\n",
    "    return used_tokenizer.decode(ids)\n",
    "\n",
    "def tokenize_and_save_embs(text):\n",
    "    emb = pretrained_tokenizer(text, max_length=1024, truncation=True, return_tensors=\"pt\")\n",
    "    emb.global_attention_mask = torch.zeros_like(emb.input_ids)\n",
    "    emb.global_attention_mask[:, 0] = 1\n",
    "    emb.global_attention_mask[emb.input_ids == pretrained_tokenizer.sep_token_id] = 1 \n",
    "    return emb.input_ids, emb.global_attention_mask\n",
    "\n",
    "train_ds['text'] = train_ds['embs'].apply(decode)\n",
    "val_ds['text'] = val_ds['embs'].apply(decode)\n",
    "test_ds['text'] = test_ds['embs'].apply(decode)\n",
    "\n",
    "#train_ds['embs_new'] = train_ds['text'].apply(tokenize_and_save_embs)\n",
    "#val_ds['embs_new'] = val_ds['text'].apply(tokenize_and_save_embs)\n",
    "#test_ds['embs_new'] = test_ds['text'].apply(tokenize_and_save_embs)\n",
    "#train_loader_pre, val_loader_pre, test_loader_pre = create_loaders(train_ds, val_ds, test_ds, batch_size=64, extra=True)"
   ]
  },
  {
   "cell_type": "markdown",
   "metadata": {},
   "source": [
    "## 2. Эксперименты с моделями с тюнингом гиперпараметров  (4 балла)"
   ]
  },
  {
   "cell_type": "markdown",
   "metadata": {},
   "source": [
    "берем две модели: LSTM и SmallTransformer\n",
    "\n",
    "Сначала подбираем параметры для LSTM"
   ]
  },
  {
   "cell_type": "code",
   "execution_count": 5,
   "metadata": {},
   "outputs": [
    {
     "name": "stderr",
     "output_type": "stream",
     "text": [
      "[I 2025-03-25 20:43:26,520] A new study created in memory with name: no-name-200122c6-00cc-4c72-9ae2-89d0deb956e1\n",
      "\u001b[34m\u001b[1mwandb\u001b[0m: Using wandb-core as the SDK backend.  Please refer to https://wandb.me/wandb-core for more information.\n",
      "\u001b[34m\u001b[1mwandb\u001b[0m: Currently logged in as: \u001b[33mgoodevening13\u001b[0m to \u001b[32mhttps://api.wandb.ai\u001b[0m. Use \u001b[1m`wandb login --relogin`\u001b[0m to force relogin\n"
     ]
    },
    {
     "data": {
      "text/html": [
       "Tracking run with wandb version 0.19.8"
      ],
      "text/plain": [
       "<IPython.core.display.HTML object>"
      ]
     },
     "metadata": {},
     "output_type": "display_data"
    },
    {
     "data": {
      "text/html": [
       "Run data is saved locally in <code>/extra_disk_1/alinashutova/last_hse/wandb/run-20250325_204327-csoklxns</code>"
      ],
      "text/plain": [
       "<IPython.core.display.HTML object>"
      ]
     },
     "metadata": {},
     "output_type": "display_data"
    },
    {
     "data": {
      "text/html": [
       "Syncing run <strong><a href='https://wandb.ai/goodevening13/ml_sys_design/runs/csoklxns' target=\"_blank\">LSTM</a></strong> to <a href='https://wandb.ai/goodevening13/ml_sys_design' target=\"_blank\">Weights & Biases</a> (<a href='https://wandb.me/developer-guide' target=\"_blank\">docs</a>)<br>"
      ],
      "text/plain": [
       "<IPython.core.display.HTML object>"
      ]
     },
     "metadata": {},
     "output_type": "display_data"
    },
    {
     "data": {
      "text/html": [
       " View project at <a href='https://wandb.ai/goodevening13/ml_sys_design' target=\"_blank\">https://wandb.ai/goodevening13/ml_sys_design</a>"
      ],
      "text/plain": [
       "<IPython.core.display.HTML object>"
      ]
     },
     "metadata": {},
     "output_type": "display_data"
    },
    {
     "data": {
      "text/html": [
       " View run at <a href='https://wandb.ai/goodevening13/ml_sys_design/runs/csoklxns' target=\"_blank\">https://wandb.ai/goodevening13/ml_sys_design/runs/csoklxns</a>"
      ],
      "text/plain": [
       "<IPython.core.display.HTML object>"
      ]
     },
     "metadata": {},
     "output_type": "display_data"
    },
    {
     "name": "stderr",
     "output_type": "stream",
     "text": [
      "100%|██████████| 20/20 [06:18<00:00, 18.94s/it]\n"
     ]
    },
    {
     "data": {
      "text/html": [],
      "text/plain": [
       "<IPython.core.display.HTML object>"
      ]
     },
     "metadata": {},
     "output_type": "display_data"
    },
    {
     "data": {
      "text/html": [
       "<br>    <style><br>        .wandb-row {<br>            display: flex;<br>            flex-direction: row;<br>            flex-wrap: wrap;<br>            justify-content: flex-start;<br>            width: 100%;<br>        }<br>        .wandb-col {<br>            display: flex;<br>            flex-direction: column;<br>            flex-basis: 100%;<br>            flex: 1;<br>            padding: 10px;<br>        }<br>    </style><br><div class=\"wandb-row\"><div class=\"wandb-col\"><h3>Run history:</h3><br/><table class=\"wandb\"><tr><td>epoch</td><td>▁▁▂▂▂▃▃▄▄▄▅▅▅▆▆▇▇▇██</td></tr><tr><td>test_f1</td><td>▁▂▃▃▇███▇▇▇███▇▇▇▇▇▇</td></tr><tr><td>test_recall_n</td><td>▅▆█▇█▇▆▅▃▅▂▃▃▄▂▂▂▂▂▁</td></tr><tr><td>train_f1</td><td>▁▁▂▂▃▃▄▅▅▆▆▇▇▇▇▇▇███</td></tr><tr><td>train_loss</td><td>█▇▆▆▅▅▄▄▄▃▃▃▂▂▂▂▂▁▁▁</td></tr><tr><td>train_recall_n</td><td>▃▅█▇█▇▆▁▁▅▁▂▆▆▅▆▇▆▇▅</td></tr></table><br/></div><div class=\"wandb-col\"><h3>Run summary:</h3><br/><table class=\"wandb\"><tr><td>epoch</td><td>19</td></tr><tr><td>test_f1</td><td>0.74277</td></tr><tr><td>test_recall_n</td><td>0.83528</td></tr><tr><td>train_f1</td><td>0.94039</td></tr><tr><td>train_loss</td><td>0.19723</td></tr><tr><td>train_recall_n</td><td>0.98182</td></tr></table><br/></div></div>"
      ],
      "text/plain": [
       "<IPython.core.display.HTML object>"
      ]
     },
     "metadata": {},
     "output_type": "display_data"
    },
    {
     "data": {
      "text/html": [
       " View run <strong style=\"color:#cdcd00\">LSTM</strong> at: <a href='https://wandb.ai/goodevening13/ml_sys_design/runs/csoklxns' target=\"_blank\">https://wandb.ai/goodevening13/ml_sys_design/runs/csoklxns</a><br> View project at: <a href='https://wandb.ai/goodevening13/ml_sys_design' target=\"_blank\">https://wandb.ai/goodevening13/ml_sys_design</a><br>Synced 5 W&B file(s), 0 media file(s), 0 artifact file(s) and 0 other file(s)"
      ],
      "text/plain": [
       "<IPython.core.display.HTML object>"
      ]
     },
     "metadata": {},
     "output_type": "display_data"
    },
    {
     "data": {
      "text/html": [
       "Find logs at: <code>./wandb/run-20250325_204327-csoklxns/logs</code>"
      ],
      "text/plain": [
       "<IPython.core.display.HTML object>"
      ]
     },
     "metadata": {},
     "output_type": "display_data"
    },
    {
     "name": "stderr",
     "output_type": "stream",
     "text": [
      "[I 2025-03-25 20:49:49,829] Trial 0 finished with value: 0.7427650690078735 and parameters: {'hidden_dim': 128, 'num_layers': 3, 'dropout': 0.4464886137511739}. Best is trial 0 with value: 0.7427650690078735.\n"
     ]
    },
    {
     "data": {
      "text/html": [
       "Tracking run with wandb version 0.19.8"
      ],
      "text/plain": [
       "<IPython.core.display.HTML object>"
      ]
     },
     "metadata": {},
     "output_type": "display_data"
    },
    {
     "data": {
      "text/html": [
       "Run data is saved locally in <code>/extra_disk_1/alinashutova/last_hse/wandb/run-20250325_204950-1knvizmw</code>"
      ],
      "text/plain": [
       "<IPython.core.display.HTML object>"
      ]
     },
     "metadata": {},
     "output_type": "display_data"
    },
    {
     "data": {
      "text/html": [
       "Syncing run <strong><a href='https://wandb.ai/goodevening13/ml_sys_design/runs/1knvizmw' target=\"_blank\">LSTM</a></strong> to <a href='https://wandb.ai/goodevening13/ml_sys_design' target=\"_blank\">Weights & Biases</a> (<a href='https://wandb.me/developer-guide' target=\"_blank\">docs</a>)<br>"
      ],
      "text/plain": [
       "<IPython.core.display.HTML object>"
      ]
     },
     "metadata": {},
     "output_type": "display_data"
    },
    {
     "data": {
      "text/html": [
       " View project at <a href='https://wandb.ai/goodevening13/ml_sys_design' target=\"_blank\">https://wandb.ai/goodevening13/ml_sys_design</a>"
      ],
      "text/plain": [
       "<IPython.core.display.HTML object>"
      ]
     },
     "metadata": {},
     "output_type": "display_data"
    },
    {
     "data": {
      "text/html": [
       " View run at <a href='https://wandb.ai/goodevening13/ml_sys_design/runs/1knvizmw' target=\"_blank\">https://wandb.ai/goodevening13/ml_sys_design/runs/1knvizmw</a>"
      ],
      "text/plain": [
       "<IPython.core.display.HTML object>"
      ]
     },
     "metadata": {},
     "output_type": "display_data"
    },
    {
     "name": "stderr",
     "output_type": "stream",
     "text": [
      "100%|██████████| 20/20 [05:14<00:00, 15.74s/it]\n"
     ]
    },
    {
     "data": {
      "text/html": [],
      "text/plain": [
       "<IPython.core.display.HTML object>"
      ]
     },
     "metadata": {},
     "output_type": "display_data"
    },
    {
     "data": {
      "text/html": [
       "<br>    <style><br>        .wandb-row {<br>            display: flex;<br>            flex-direction: row;<br>            flex-wrap: wrap;<br>            justify-content: flex-start;<br>            width: 100%;<br>        }<br>        .wandb-col {<br>            display: flex;<br>            flex-direction: column;<br>            flex-basis: 100%;<br>            flex: 1;<br>            padding: 10px;<br>        }<br>    </style><br><div class=\"wandb-row\"><div class=\"wandb-col\"><h3>Run history:</h3><br/><table class=\"wandb\"><tr><td>epoch</td><td>▁▁▂▂▂▃▃▄▄▄▅▅▅▆▆▇▇▇██</td></tr><tr><td>test_f1</td><td>▁▂▄▄▅▃▆▇▇███▇▇▇▇▇▇▇▇</td></tr><tr><td>test_recall_n</td><td>▆▇▇▇▇█▇▇▆▆▅▅▄▁▃▃▄▃▃▃</td></tr><tr><td>train_f1</td><td>▁▁▂▂▃▃▄▅▅▆▆▆▇▇▇▇▇███</td></tr><tr><td>train_loss</td><td>█▆▆▅▅▄▄▄▃▃▃▂▂▂▂▂▁▁▁▁</td></tr><tr><td>train_recall_n</td><td>▆▆▇▆▅▇▆▇▆▇▆▇▇▁▆▅▇▅██</td></tr></table><br/></div><div class=\"wandb-col\"><h3>Run summary:</h3><br/><table class=\"wandb\"><tr><td>epoch</td><td>19</td></tr><tr><td>test_f1</td><td>0.7493</td></tr><tr><td>test_recall_n</td><td>0.87135</td></tr><tr><td>train_f1</td><td>0.94354</td></tr><tr><td>train_loss</td><td>0.20884</td></tr><tr><td>train_recall_n</td><td>0.9888</td></tr></table><br/></div></div>"
      ],
      "text/plain": [
       "<IPython.core.display.HTML object>"
      ]
     },
     "metadata": {},
     "output_type": "display_data"
    },
    {
     "data": {
      "text/html": [
       " View run <strong style=\"color:#cdcd00\">LSTM</strong> at: <a href='https://wandb.ai/goodevening13/ml_sys_design/runs/1knvizmw' target=\"_blank\">https://wandb.ai/goodevening13/ml_sys_design/runs/1knvizmw</a><br> View project at: <a href='https://wandb.ai/goodevening13/ml_sys_design' target=\"_blank\">https://wandb.ai/goodevening13/ml_sys_design</a><br>Synced 5 W&B file(s), 0 media file(s), 0 artifact file(s) and 0 other file(s)"
      ],
      "text/plain": [
       "<IPython.core.display.HTML object>"
      ]
     },
     "metadata": {},
     "output_type": "display_data"
    },
    {
     "data": {
      "text/html": [
       "Find logs at: <code>./wandb/run-20250325_204950-1knvizmw/logs</code>"
      ],
      "text/plain": [
       "<IPython.core.display.HTML object>"
      ]
     },
     "metadata": {},
     "output_type": "display_data"
    },
    {
     "name": "stderr",
     "output_type": "stream",
     "text": [
      "[I 2025-03-25 20:55:08,231] Trial 1 finished with value: 0.7492995858192444 and parameters: {'hidden_dim': 64, 'num_layers': 1, 'dropout': 0.36044941024150834}. Best is trial 1 with value: 0.7492995858192444.\n"
     ]
    },
    {
     "data": {
      "text/html": [
       "Tracking run with wandb version 0.19.8"
      ],
      "text/plain": [
       "<IPython.core.display.HTML object>"
      ]
     },
     "metadata": {},
     "output_type": "display_data"
    },
    {
     "data": {
      "text/html": [
       "Run data is saved locally in <code>/extra_disk_1/alinashutova/last_hse/wandb/run-20250325_205508-zek8f9zc</code>"
      ],
      "text/plain": [
       "<IPython.core.display.HTML object>"
      ]
     },
     "metadata": {},
     "output_type": "display_data"
    },
    {
     "data": {
      "text/html": [
       "Syncing run <strong><a href='https://wandb.ai/goodevening13/ml_sys_design/runs/zek8f9zc' target=\"_blank\">LSTM</a></strong> to <a href='https://wandb.ai/goodevening13/ml_sys_design' target=\"_blank\">Weights & Biases</a> (<a href='https://wandb.me/developer-guide' target=\"_blank\">docs</a>)<br>"
      ],
      "text/plain": [
       "<IPython.core.display.HTML object>"
      ]
     },
     "metadata": {},
     "output_type": "display_data"
    },
    {
     "data": {
      "text/html": [
       " View project at <a href='https://wandb.ai/goodevening13/ml_sys_design' target=\"_blank\">https://wandb.ai/goodevening13/ml_sys_design</a>"
      ],
      "text/plain": [
       "<IPython.core.display.HTML object>"
      ]
     },
     "metadata": {},
     "output_type": "display_data"
    },
    {
     "data": {
      "text/html": [
       " View run at <a href='https://wandb.ai/goodevening13/ml_sys_design/runs/zek8f9zc' target=\"_blank\">https://wandb.ai/goodevening13/ml_sys_design/runs/zek8f9zc</a>"
      ],
      "text/plain": [
       "<IPython.core.display.HTML object>"
      ]
     },
     "metadata": {},
     "output_type": "display_data"
    },
    {
     "name": "stderr",
     "output_type": "stream",
     "text": [
      "100%|██████████| 20/20 [06:11<00:00, 18.58s/it]\n"
     ]
    },
    {
     "data": {
      "text/html": [],
      "text/plain": [
       "<IPython.core.display.HTML object>"
      ]
     },
     "metadata": {},
     "output_type": "display_data"
    },
    {
     "data": {
      "text/html": [
       "<br>    <style><br>        .wandb-row {<br>            display: flex;<br>            flex-direction: row;<br>            flex-wrap: wrap;<br>            justify-content: flex-start;<br>            width: 100%;<br>        }<br>        .wandb-col {<br>            display: flex;<br>            flex-direction: column;<br>            flex-basis: 100%;<br>            flex: 1;<br>            padding: 10px;<br>        }<br>    </style><br><div class=\"wandb-row\"><div class=\"wandb-col\"><h3>Run history:</h3><br/><table class=\"wandb\"><tr><td>epoch</td><td>▁▁▂▂▂▃▃▄▄▄▅▅▅▆▆▇▇▇██</td></tr><tr><td>test_f1</td><td>▁▃▄▄▄▄▆▄▆▆▇▇▇▇▇▇█▇▇█</td></tr><tr><td>test_recall_n</td><td>▅█▆█▆▇▆▅▃▃▆▅▅▅▃▄▄▂▁▄</td></tr><tr><td>train_f1</td><td>▁▂▂▂▃▃▄▄▅▅▄▆▆▆▇▇▇███</td></tr><tr><td>train_loss</td><td>█▅▅▄▄▄▃▃▃▃▂▂▂▂▂▂▁▁▁▁</td></tr><tr><td>train_recall_n</td><td>▅█▅█▇▇▆▅▁▃█▅▅▆▃▆▆▄▁▆</td></tr></table><br/></div><div class=\"wandb-col\"><h3>Run summary:</h3><br/><table class=\"wandb\"><tr><td>epoch</td><td>19</td></tr><tr><td>test_f1</td><td>0.73582</td></tr><tr><td>test_recall_n</td><td>0.89376</td></tr><tr><td>train_f1</td><td>0.85171</td></tr><tr><td>train_loss</td><td>0.41991</td></tr><tr><td>train_recall_n</td><td>0.98268</td></tr></table><br/></div></div>"
      ],
      "text/plain": [
       "<IPython.core.display.HTML object>"
      ]
     },
     "metadata": {},
     "output_type": "display_data"
    },
    {
     "data": {
      "text/html": [
       " View run <strong style=\"color:#cdcd00\">LSTM</strong> at: <a href='https://wandb.ai/goodevening13/ml_sys_design/runs/zek8f9zc' target=\"_blank\">https://wandb.ai/goodevening13/ml_sys_design/runs/zek8f9zc</a><br> View project at: <a href='https://wandb.ai/goodevening13/ml_sys_design' target=\"_blank\">https://wandb.ai/goodevening13/ml_sys_design</a><br>Synced 5 W&B file(s), 0 media file(s), 0 artifact file(s) and 0 other file(s)"
      ],
      "text/plain": [
       "<IPython.core.display.HTML object>"
      ]
     },
     "metadata": {},
     "output_type": "display_data"
    },
    {
     "data": {
      "text/html": [
       "Find logs at: <code>./wandb/run-20250325_205508-zek8f9zc/logs</code>"
      ],
      "text/plain": [
       "<IPython.core.display.HTML object>"
      ]
     },
     "metadata": {},
     "output_type": "display_data"
    },
    {
     "name": "stderr",
     "output_type": "stream",
     "text": [
      "[I 2025-03-25 21:01:22,426] Trial 2 finished with value: 0.7358205318450928 and parameters: {'hidden_dim': 32, 'num_layers': 4, 'dropout': 0.26072583518065967}. Best is trial 1 with value: 0.7492995858192444.\n"
     ]
    },
    {
     "data": {
      "text/html": [
       "Tracking run with wandb version 0.19.8"
      ],
      "text/plain": [
       "<IPython.core.display.HTML object>"
      ]
     },
     "metadata": {},
     "output_type": "display_data"
    },
    {
     "data": {
      "text/html": [
       "Run data is saved locally in <code>/extra_disk_1/alinashutova/last_hse/wandb/run-20250325_210122-6jfb76f3</code>"
      ],
      "text/plain": [
       "<IPython.core.display.HTML object>"
      ]
     },
     "metadata": {},
     "output_type": "display_data"
    },
    {
     "data": {
      "text/html": [
       "Syncing run <strong><a href='https://wandb.ai/goodevening13/ml_sys_design/runs/6jfb76f3' target=\"_blank\">LSTM</a></strong> to <a href='https://wandb.ai/goodevening13/ml_sys_design' target=\"_blank\">Weights & Biases</a> (<a href='https://wandb.me/developer-guide' target=\"_blank\">docs</a>)<br>"
      ],
      "text/plain": [
       "<IPython.core.display.HTML object>"
      ]
     },
     "metadata": {},
     "output_type": "display_data"
    },
    {
     "data": {
      "text/html": [
       " View project at <a href='https://wandb.ai/goodevening13/ml_sys_design' target=\"_blank\">https://wandb.ai/goodevening13/ml_sys_design</a>"
      ],
      "text/plain": [
       "<IPython.core.display.HTML object>"
      ]
     },
     "metadata": {},
     "output_type": "display_data"
    },
    {
     "data": {
      "text/html": [
       " View run at <a href='https://wandb.ai/goodevening13/ml_sys_design/runs/6jfb76f3' target=\"_blank\">https://wandb.ai/goodevening13/ml_sys_design/runs/6jfb76f3</a>"
      ],
      "text/plain": [
       "<IPython.core.display.HTML object>"
      ]
     },
     "metadata": {},
     "output_type": "display_data"
    },
    {
     "name": "stderr",
     "output_type": "stream",
     "text": [
      "100%|██████████| 20/20 [05:13<00:00, 15.68s/it]\n"
     ]
    },
    {
     "data": {
      "text/html": [],
      "text/plain": [
       "<IPython.core.display.HTML object>"
      ]
     },
     "metadata": {},
     "output_type": "display_data"
    },
    {
     "data": {
      "text/html": [
       "<br>    <style><br>        .wandb-row {<br>            display: flex;<br>            flex-direction: row;<br>            flex-wrap: wrap;<br>            justify-content: flex-start;<br>            width: 100%;<br>        }<br>        .wandb-col {<br>            display: flex;<br>            flex-direction: column;<br>            flex-basis: 100%;<br>            flex: 1;<br>            padding: 10px;<br>        }<br>    </style><br><div class=\"wandb-row\"><div class=\"wandb-col\"><h3>Run history:</h3><br/><table class=\"wandb\"><tr><td>epoch</td><td>▁▁▂▂▂▃▃▄▄▄▅▅▅▆▆▇▇▇██</td></tr><tr><td>test_f1</td><td>▁▂▄▆▇▇▇▇█████▇▇▇▇▇▆▇</td></tr><tr><td>test_recall_n</td><td>█▆▇█▆▄▅▆▅▅▅▄▄▁▁▂▃▂▂▂</td></tr><tr><td>train_f1</td><td>▁▁▂▂▃▄▄▅▅▆▆▆▇▇▇▇████</td></tr><tr><td>train_loss</td><td>█▆▆▅▅▅▄▄▃▃▃▃▂▂▂▂▁▁▁▁</td></tr><tr><td>train_recall_n</td><td>█▇▇█▇▁▄▃▄▅▆▆▆▅▅▆▇▇▇▇</td></tr></table><br/></div><div class=\"wandb-col\"><h3>Run summary:</h3><br/><table class=\"wandb\"><tr><td>epoch</td><td>19</td></tr><tr><td>test_f1</td><td>0.7489</td></tr><tr><td>test_recall_n</td><td>0.88889</td></tr><tr><td>train_f1</td><td>0.94655</td></tr><tr><td>train_loss</td><td>0.19139</td></tr><tr><td>train_recall_n</td><td>0.98808</td></tr></table><br/></div></div>"
      ],
      "text/plain": [
       "<IPython.core.display.HTML object>"
      ]
     },
     "metadata": {},
     "output_type": "display_data"
    },
    {
     "data": {
      "text/html": [
       " View run <strong style=\"color:#cdcd00\">LSTM</strong> at: <a href='https://wandb.ai/goodevening13/ml_sys_design/runs/6jfb76f3' target=\"_blank\">https://wandb.ai/goodevening13/ml_sys_design/runs/6jfb76f3</a><br> View project at: <a href='https://wandb.ai/goodevening13/ml_sys_design' target=\"_blank\">https://wandb.ai/goodevening13/ml_sys_design</a><br>Synced 5 W&B file(s), 0 media file(s), 0 artifact file(s) and 0 other file(s)"
      ],
      "text/plain": [
       "<IPython.core.display.HTML object>"
      ]
     },
     "metadata": {},
     "output_type": "display_data"
    },
    {
     "data": {
      "text/html": [
       "Find logs at: <code>./wandb/run-20250325_210122-6jfb76f3/logs</code>"
      ],
      "text/plain": [
       "<IPython.core.display.HTML object>"
      ]
     },
     "metadata": {},
     "output_type": "display_data"
    },
    {
     "name": "stderr",
     "output_type": "stream",
     "text": [
      "[I 2025-03-25 21:06:38,430] Trial 3 finished with value: 0.7488998174667358 and parameters: {'hidden_dim': 64, 'num_layers': 1, 'dropout': 0.25140622923018885}. Best is trial 1 with value: 0.7492995858192444.\n"
     ]
    },
    {
     "data": {
      "text/html": [
       "Tracking run with wandb version 0.19.8"
      ],
      "text/plain": [
       "<IPython.core.display.HTML object>"
      ]
     },
     "metadata": {},
     "output_type": "display_data"
    },
    {
     "data": {
      "text/html": [
       "Run data is saved locally in <code>/extra_disk_1/alinashutova/last_hse/wandb/run-20250325_210638-g45yotk1</code>"
      ],
      "text/plain": [
       "<IPython.core.display.HTML object>"
      ]
     },
     "metadata": {},
     "output_type": "display_data"
    },
    {
     "data": {
      "text/html": [
       "Syncing run <strong><a href='https://wandb.ai/goodevening13/ml_sys_design/runs/g45yotk1' target=\"_blank\">LSTM</a></strong> to <a href='https://wandb.ai/goodevening13/ml_sys_design' target=\"_blank\">Weights & Biases</a> (<a href='https://wandb.me/developer-guide' target=\"_blank\">docs</a>)<br>"
      ],
      "text/plain": [
       "<IPython.core.display.HTML object>"
      ]
     },
     "metadata": {},
     "output_type": "display_data"
    },
    {
     "data": {
      "text/html": [
       " View project at <a href='https://wandb.ai/goodevening13/ml_sys_design' target=\"_blank\">https://wandb.ai/goodevening13/ml_sys_design</a>"
      ],
      "text/plain": [
       "<IPython.core.display.HTML object>"
      ]
     },
     "metadata": {},
     "output_type": "display_data"
    },
    {
     "data": {
      "text/html": [
       " View run at <a href='https://wandb.ai/goodevening13/ml_sys_design/runs/g45yotk1' target=\"_blank\">https://wandb.ai/goodevening13/ml_sys_design/runs/g45yotk1</a>"
      ],
      "text/plain": [
       "<IPython.core.display.HTML object>"
      ]
     },
     "metadata": {},
     "output_type": "display_data"
    },
    {
     "name": "stderr",
     "output_type": "stream",
     "text": [
      "100%|██████████| 20/20 [06:15<00:00, 18.77s/it]\n"
     ]
    },
    {
     "data": {
      "text/html": [],
      "text/plain": [
       "<IPython.core.display.HTML object>"
      ]
     },
     "metadata": {},
     "output_type": "display_data"
    },
    {
     "data": {
      "text/html": [
       "<br>    <style><br>        .wandb-row {<br>            display: flex;<br>            flex-direction: row;<br>            flex-wrap: wrap;<br>            justify-content: flex-start;<br>            width: 100%;<br>        }<br>        .wandb-col {<br>            display: flex;<br>            flex-direction: column;<br>            flex-basis: 100%;<br>            flex: 1;<br>            padding: 10px;<br>        }<br>    </style><br><div class=\"wandb-row\"><div class=\"wandb-col\"><h3>Run history:</h3><br/><table class=\"wandb\"><tr><td>epoch</td><td>▁▁▂▂▂▃▃▄▄▄▅▅▅▆▆▇▇▇██</td></tr><tr><td>test_f1</td><td>▁▂▂▅▆▃▅███████▇█▇███</td></tr><tr><td>test_recall_n</td><td>▆▆▆█▆█▅▅▄▃▂▄▃▂▃▂▁▂▁▁</td></tr><tr><td>train_f1</td><td>▁▁▁▂▃▃▄▅▅▆▆▆▇▇▇▇▇███</td></tr><tr><td>train_loss</td><td>█▇▆▆▅▅▄▄▃▃▃▃▂▂▂▂▁▁▁▁</td></tr><tr><td>train_recall_n</td><td>▄▄▄█▁▇▁▅▄▃▃▆▆▅▆▅▇█▇█</td></tr></table><br/></div><div class=\"wandb-col\"><h3>Run summary:</h3><br/><table class=\"wandb\"><tr><td>epoch</td><td>19</td></tr><tr><td>test_f1</td><td>0.7485</td></tr><tr><td>test_recall_n</td><td>0.83821</td></tr><tr><td>train_f1</td><td>0.94678</td></tr><tr><td>train_loss</td><td>0.19721</td></tr><tr><td>train_recall_n</td><td>0.99203</td></tr></table><br/></div></div>"
      ],
      "text/plain": [
       "<IPython.core.display.HTML object>"
      ]
     },
     "metadata": {},
     "output_type": "display_data"
    },
    {
     "data": {
      "text/html": [
       " View run <strong style=\"color:#cdcd00\">LSTM</strong> at: <a href='https://wandb.ai/goodevening13/ml_sys_design/runs/g45yotk1' target=\"_blank\">https://wandb.ai/goodevening13/ml_sys_design/runs/g45yotk1</a><br> View project at: <a href='https://wandb.ai/goodevening13/ml_sys_design' target=\"_blank\">https://wandb.ai/goodevening13/ml_sys_design</a><br>Synced 5 W&B file(s), 0 media file(s), 0 artifact file(s) and 0 other file(s)"
      ],
      "text/plain": [
       "<IPython.core.display.HTML object>"
      ]
     },
     "metadata": {},
     "output_type": "display_data"
    },
    {
     "data": {
      "text/html": [
       "Find logs at: <code>./wandb/run-20250325_210638-g45yotk1/logs</code>"
      ],
      "text/plain": [
       "<IPython.core.display.HTML object>"
      ]
     },
     "metadata": {},
     "output_type": "display_data"
    },
    {
     "name": "stderr",
     "output_type": "stream",
     "text": [
      "[I 2025-03-25 21:12:56,251] Trial 4 finished with value: 0.7485037446022034 and parameters: {'hidden_dim': 128, 'num_layers': 3, 'dropout': 0.47835899429406614}. Best is trial 1 with value: 0.7492995858192444.\n"
     ]
    },
    {
     "data": {
      "text/html": [
       "Tracking run with wandb version 0.19.8"
      ],
      "text/plain": [
       "<IPython.core.display.HTML object>"
      ]
     },
     "metadata": {},
     "output_type": "display_data"
    },
    {
     "data": {
      "text/html": [
       "Run data is saved locally in <code>/extra_disk_1/alinashutova/last_hse/wandb/run-20250325_211256-ug56niv2</code>"
      ],
      "text/plain": [
       "<IPython.core.display.HTML object>"
      ]
     },
     "metadata": {},
     "output_type": "display_data"
    },
    {
     "data": {
      "text/html": [
       "Syncing run <strong><a href='https://wandb.ai/goodevening13/ml_sys_design/runs/ug56niv2' target=\"_blank\">LSTM</a></strong> to <a href='https://wandb.ai/goodevening13/ml_sys_design' target=\"_blank\">Weights & Biases</a> (<a href='https://wandb.me/developer-guide' target=\"_blank\">docs</a>)<br>"
      ],
      "text/plain": [
       "<IPython.core.display.HTML object>"
      ]
     },
     "metadata": {},
     "output_type": "display_data"
    },
    {
     "data": {
      "text/html": [
       " View project at <a href='https://wandb.ai/goodevening13/ml_sys_design' target=\"_blank\">https://wandb.ai/goodevening13/ml_sys_design</a>"
      ],
      "text/plain": [
       "<IPython.core.display.HTML object>"
      ]
     },
     "metadata": {},
     "output_type": "display_data"
    },
    {
     "data": {
      "text/html": [
       " View run at <a href='https://wandb.ai/goodevening13/ml_sys_design/runs/ug56niv2' target=\"_blank\">https://wandb.ai/goodevening13/ml_sys_design/runs/ug56niv2</a>"
      ],
      "text/plain": [
       "<IPython.core.display.HTML object>"
      ]
     },
     "metadata": {},
     "output_type": "display_data"
    },
    {
     "name": "stderr",
     "output_type": "stream",
     "text": [
      "100%|██████████| 20/20 [05:09<00:00, 15.47s/it]\n"
     ]
    },
    {
     "data": {
      "text/html": [],
      "text/plain": [
       "<IPython.core.display.HTML object>"
      ]
     },
     "metadata": {},
     "output_type": "display_data"
    },
    {
     "data": {
      "text/html": [
       "<br>    <style><br>        .wandb-row {<br>            display: flex;<br>            flex-direction: row;<br>            flex-wrap: wrap;<br>            justify-content: flex-start;<br>            width: 100%;<br>        }<br>        .wandb-col {<br>            display: flex;<br>            flex-direction: column;<br>            flex-basis: 100%;<br>            flex: 1;<br>            padding: 10px;<br>        }<br>    </style><br><div class=\"wandb-row\"><div class=\"wandb-col\"><h3>Run history:</h3><br/><table class=\"wandb\"><tr><td>epoch</td><td>▁▁▂▂▂▃▃▄▄▄▅▅▅▆▆▇▇▇██</td></tr><tr><td>test_f1</td><td>▁▂▂▃▃▃▃▅▅▅▆█▇▄▇▆▆▆██</td></tr><tr><td>test_recall_n</td><td>▄▇▅█▅▇▃▇▆▅▆▇▄▂▁▃▂▂▁▁</td></tr><tr><td>train_f1</td><td>▁▁▂▂▂▂▃▄▄▅▅▅▆▆▇▆▇███</td></tr><tr><td>train_loss</td><td>█▆▅▅▄▄▄▃▃▃▃▂▂▂▂▂▁▁▁▁</td></tr><tr><td>train_recall_n</td><td>▂▆▅█▅▇▁▅▂▁▄▇▃▃▁▂▄▄▄▅</td></tr></table><br/></div><div class=\"wandb-col\"><h3>Run summary:</h3><br/><table class=\"wandb\"><tr><td>epoch</td><td>19</td></tr><tr><td>test_f1</td><td>0.73768</td></tr><tr><td>test_recall_n</td><td>0.88109</td></tr><tr><td>train_f1</td><td>0.85756</td></tr><tr><td>train_loss</td><td>0.3936</td></tr><tr><td>train_recall_n</td><td>0.98064</td></tr></table><br/></div></div>"
      ],
      "text/plain": [
       "<IPython.core.display.HTML object>"
      ]
     },
     "metadata": {},
     "output_type": "display_data"
    },
    {
     "data": {
      "text/html": [
       " View run <strong style=\"color:#cdcd00\">LSTM</strong> at: <a href='https://wandb.ai/goodevening13/ml_sys_design/runs/ug56niv2' target=\"_blank\">https://wandb.ai/goodevening13/ml_sys_design/runs/ug56niv2</a><br> View project at: <a href='https://wandb.ai/goodevening13/ml_sys_design' target=\"_blank\">https://wandb.ai/goodevening13/ml_sys_design</a><br>Synced 5 W&B file(s), 0 media file(s), 0 artifact file(s) and 0 other file(s)"
      ],
      "text/plain": [
       "<IPython.core.display.HTML object>"
      ]
     },
     "metadata": {},
     "output_type": "display_data"
    },
    {
     "data": {
      "text/html": [
       "Find logs at: <code>./wandb/run-20250325_211256-ug56niv2/logs</code>"
      ],
      "text/plain": [
       "<IPython.core.display.HTML object>"
      ]
     },
     "metadata": {},
     "output_type": "display_data"
    },
    {
     "name": "stderr",
     "output_type": "stream",
     "text": [
      "[I 2025-03-25 21:18:08,080] Trial 5 finished with value: 0.7376782894134521 and parameters: {'hidden_dim': 32, 'num_layers': 2, 'dropout': 0.4177951562393335}. Best is trial 1 with value: 0.7492995858192444.\n"
     ]
    },
    {
     "data": {
      "text/html": [
       "Tracking run with wandb version 0.19.8"
      ],
      "text/plain": [
       "<IPython.core.display.HTML object>"
      ]
     },
     "metadata": {},
     "output_type": "display_data"
    },
    {
     "data": {
      "text/html": [
       "Run data is saved locally in <code>/extra_disk_1/alinashutova/last_hse/wandb/run-20250325_211808-3rwa39d4</code>"
      ],
      "text/plain": [
       "<IPython.core.display.HTML object>"
      ]
     },
     "metadata": {},
     "output_type": "display_data"
    },
    {
     "data": {
      "text/html": [
       "Syncing run <strong><a href='https://wandb.ai/goodevening13/ml_sys_design/runs/3rwa39d4' target=\"_blank\">LSTM</a></strong> to <a href='https://wandb.ai/goodevening13/ml_sys_design' target=\"_blank\">Weights & Biases</a> (<a href='https://wandb.me/developer-guide' target=\"_blank\">docs</a>)<br>"
      ],
      "text/plain": [
       "<IPython.core.display.HTML object>"
      ]
     },
     "metadata": {},
     "output_type": "display_data"
    },
    {
     "data": {
      "text/html": [
       " View project at <a href='https://wandb.ai/goodevening13/ml_sys_design' target=\"_blank\">https://wandb.ai/goodevening13/ml_sys_design</a>"
      ],
      "text/plain": [
       "<IPython.core.display.HTML object>"
      ]
     },
     "metadata": {},
     "output_type": "display_data"
    },
    {
     "data": {
      "text/html": [
       " View run at <a href='https://wandb.ai/goodevening13/ml_sys_design/runs/3rwa39d4' target=\"_blank\">https://wandb.ai/goodevening13/ml_sys_design/runs/3rwa39d4</a>"
      ],
      "text/plain": [
       "<IPython.core.display.HTML object>"
      ]
     },
     "metadata": {},
     "output_type": "display_data"
    },
    {
     "name": "stderr",
     "output_type": "stream",
     "text": [
      "100%|██████████| 20/20 [05:49<00:00, 17.47s/it]\n"
     ]
    },
    {
     "data": {
      "text/html": [],
      "text/plain": [
       "<IPython.core.display.HTML object>"
      ]
     },
     "metadata": {},
     "output_type": "display_data"
    },
    {
     "data": {
      "text/html": [
       "<br>    <style><br>        .wandb-row {<br>            display: flex;<br>            flex-direction: row;<br>            flex-wrap: wrap;<br>            justify-content: flex-start;<br>            width: 100%;<br>        }<br>        .wandb-col {<br>            display: flex;<br>            flex-direction: column;<br>            flex-basis: 100%;<br>            flex: 1;<br>            padding: 10px;<br>        }<br>    </style><br><div class=\"wandb-row\"><div class=\"wandb-col\"><h3>Run history:</h3><br/><table class=\"wandb\"><tr><td>epoch</td><td>▁▁▂▂▂▃▃▄▄▄▅▅▅▆▆▇▇▇██</td></tr><tr><td>test_f1</td><td>▁▅▅▆▇▇████▇▇▇▇▇▇▇▇▇▇</td></tr><tr><td>test_recall_n</td><td>▅█▆▇▆▆▇▆▅▅▃▄▄▃▄▃▂▂▁▃</td></tr><tr><td>train_f1</td><td>▁▁▂▃▄▄▅▆▆▇▇▇▇███████</td></tr><tr><td>train_loss</td><td>█▇▆▅▅▄▄▃▃▃▂▂▂▂▂▁▁▁▁▁</td></tr><tr><td>train_recall_n</td><td>▃█▄▅▁▅▅▄▆▆▃▅▆▆█▇▇▇▆█</td></tr></table><br/></div><div class=\"wandb-col\"><h3>Run summary:</h3><br/><table class=\"wandb\"><tr><td>epoch</td><td>19</td></tr><tr><td>test_f1</td><td>0.74821</td></tr><tr><td>test_recall_n</td><td>0.87817</td></tr><tr><td>train_f1</td><td>0.97838</td></tr><tr><td>train_loss</td><td>0.08921</td></tr><tr><td>train_recall_n</td><td>0.99236</td></tr></table><br/></div></div>"
      ],
      "text/plain": [
       "<IPython.core.display.HTML object>"
      ]
     },
     "metadata": {},
     "output_type": "display_data"
    },
    {
     "data": {
      "text/html": [
       " View run <strong style=\"color:#cdcd00\">LSTM</strong> at: <a href='https://wandb.ai/goodevening13/ml_sys_design/runs/3rwa39d4' target=\"_blank\">https://wandb.ai/goodevening13/ml_sys_design/runs/3rwa39d4</a><br> View project at: <a href='https://wandb.ai/goodevening13/ml_sys_design' target=\"_blank\">https://wandb.ai/goodevening13/ml_sys_design</a><br>Synced 5 W&B file(s), 0 media file(s), 0 artifact file(s) and 0 other file(s)"
      ],
      "text/plain": [
       "<IPython.core.display.HTML object>"
      ]
     },
     "metadata": {},
     "output_type": "display_data"
    },
    {
     "data": {
      "text/html": [
       "Find logs at: <code>./wandb/run-20250325_211808-3rwa39d4/logs</code>"
      ],
      "text/plain": [
       "<IPython.core.display.HTML object>"
      ]
     },
     "metadata": {},
     "output_type": "display_data"
    },
    {
     "name": "stderr",
     "output_type": "stream",
     "text": [
      "[I 2025-03-25 21:24:00,549] Trial 6 finished with value: 0.748207151889801 and parameters: {'hidden_dim': 128, 'num_layers': 1, 'dropout': 0.4957924025577741}. Best is trial 1 with value: 0.7492995858192444.\n"
     ]
    },
    {
     "data": {
      "text/html": [
       "Tracking run with wandb version 0.19.8"
      ],
      "text/plain": [
       "<IPython.core.display.HTML object>"
      ]
     },
     "metadata": {},
     "output_type": "display_data"
    },
    {
     "data": {
      "text/html": [
       "Run data is saved locally in <code>/extra_disk_1/alinashutova/last_hse/wandb/run-20250325_212400-222ty7wd</code>"
      ],
      "text/plain": [
       "<IPython.core.display.HTML object>"
      ]
     },
     "metadata": {},
     "output_type": "display_data"
    },
    {
     "data": {
      "text/html": [
       "Syncing run <strong><a href='https://wandb.ai/goodevening13/ml_sys_design/runs/222ty7wd' target=\"_blank\">LSTM</a></strong> to <a href='https://wandb.ai/goodevening13/ml_sys_design' target=\"_blank\">Weights & Biases</a> (<a href='https://wandb.me/developer-guide' target=\"_blank\">docs</a>)<br>"
      ],
      "text/plain": [
       "<IPython.core.display.HTML object>"
      ]
     },
     "metadata": {},
     "output_type": "display_data"
    },
    {
     "data": {
      "text/html": [
       " View project at <a href='https://wandb.ai/goodevening13/ml_sys_design' target=\"_blank\">https://wandb.ai/goodevening13/ml_sys_design</a>"
      ],
      "text/plain": [
       "<IPython.core.display.HTML object>"
      ]
     },
     "metadata": {},
     "output_type": "display_data"
    },
    {
     "data": {
      "text/html": [
       " View run at <a href='https://wandb.ai/goodevening13/ml_sys_design/runs/222ty7wd' target=\"_blank\">https://wandb.ai/goodevening13/ml_sys_design/runs/222ty7wd</a>"
      ],
      "text/plain": [
       "<IPython.core.display.HTML object>"
      ]
     },
     "metadata": {},
     "output_type": "display_data"
    },
    {
     "name": "stderr",
     "output_type": "stream",
     "text": [
      "100%|██████████| 20/20 [05:33<00:00, 16.69s/it]\n"
     ]
    },
    {
     "data": {
      "text/html": [],
      "text/plain": [
       "<IPython.core.display.HTML object>"
      ]
     },
     "metadata": {},
     "output_type": "display_data"
    },
    {
     "data": {
      "text/html": [
       "<br>    <style><br>        .wandb-row {<br>            display: flex;<br>            flex-direction: row;<br>            flex-wrap: wrap;<br>            justify-content: flex-start;<br>            width: 100%;<br>        }<br>        .wandb-col {<br>            display: flex;<br>            flex-direction: column;<br>            flex-basis: 100%;<br>            flex: 1;<br>            padding: 10px;<br>        }<br>    </style><br><div class=\"wandb-row\"><div class=\"wandb-col\"><h3>Run history:</h3><br/><table class=\"wandb\"><tr><td>epoch</td><td>▁▁▂▂▂▃▃▄▄▄▅▅▅▆▆▇▇▇██</td></tr><tr><td>test_f1</td><td>▁▂▂▂▅▅▇▇███▇██▇██▇▇▇</td></tr><tr><td>test_recall_n</td><td>▅▅▆██▅▅▄▅▅▅▃▃▄▃▃▃▁▂▂</td></tr><tr><td>train_f1</td><td>▁▁▂▂▃▄▄▅▅▆▆▆▇▇▇▇████</td></tr><tr><td>train_loss</td><td>█▆▆▅▅▅▄▄▃▃▃▂▂▂▂▂▁▁▁▁</td></tr><tr><td>train_recall_n</td><td>▄▅▆█▇▃▃▁▅▅▆▄▄▆▅▆▇▅▆▇</td></tr></table><br/></div><div class=\"wandb-col\"><h3>Run summary:</h3><br/><table class=\"wandb\"><tr><td>epoch</td><td>19</td></tr><tr><td>test_f1</td><td>0.75263</td></tr><tr><td>test_recall_n</td><td>0.85283</td></tr><tr><td>train_f1</td><td>0.91943</td></tr><tr><td>train_loss</td><td>0.24591</td></tr><tr><td>train_recall_n</td><td>0.98432</td></tr></table><br/></div></div>"
      ],
      "text/plain": [
       "<IPython.core.display.HTML object>"
      ]
     },
     "metadata": {},
     "output_type": "display_data"
    },
    {
     "data": {
      "text/html": [
       " View run <strong style=\"color:#cdcd00\">LSTM</strong> at: <a href='https://wandb.ai/goodevening13/ml_sys_design/runs/222ty7wd' target=\"_blank\">https://wandb.ai/goodevening13/ml_sys_design/runs/222ty7wd</a><br> View project at: <a href='https://wandb.ai/goodevening13/ml_sys_design' target=\"_blank\">https://wandb.ai/goodevening13/ml_sys_design</a><br>Synced 5 W&B file(s), 0 media file(s), 0 artifact file(s) and 0 other file(s)"
      ],
      "text/plain": [
       "<IPython.core.display.HTML object>"
      ]
     },
     "metadata": {},
     "output_type": "display_data"
    },
    {
     "data": {
      "text/html": [
       "Find logs at: <code>./wandb/run-20250325_212400-222ty7wd/logs</code>"
      ],
      "text/plain": [
       "<IPython.core.display.HTML object>"
      ]
     },
     "metadata": {},
     "output_type": "display_data"
    },
    {
     "name": "stderr",
     "output_type": "stream",
     "text": [
      "[I 2025-03-25 21:29:36,901] Trial 7 finished with value: 0.7526282668113708 and parameters: {'hidden_dim': 64, 'num_layers': 2, 'dropout': 0.3926072895884507}. Best is trial 7 with value: 0.7526282668113708.\n"
     ]
    },
    {
     "data": {
      "text/html": [
       "Tracking run with wandb version 0.19.8"
      ],
      "text/plain": [
       "<IPython.core.display.HTML object>"
      ]
     },
     "metadata": {},
     "output_type": "display_data"
    },
    {
     "data": {
      "text/html": [
       "Run data is saved locally in <code>/extra_disk_1/alinashutova/last_hse/wandb/run-20250325_212936-5o248gfy</code>"
      ],
      "text/plain": [
       "<IPython.core.display.HTML object>"
      ]
     },
     "metadata": {},
     "output_type": "display_data"
    },
    {
     "data": {
      "text/html": [
       "Syncing run <strong><a href='https://wandb.ai/goodevening13/ml_sys_design/runs/5o248gfy' target=\"_blank\">LSTM</a></strong> to <a href='https://wandb.ai/goodevening13/ml_sys_design' target=\"_blank\">Weights & Biases</a> (<a href='https://wandb.me/developer-guide' target=\"_blank\">docs</a>)<br>"
      ],
      "text/plain": [
       "<IPython.core.display.HTML object>"
      ]
     },
     "metadata": {},
     "output_type": "display_data"
    },
    {
     "data": {
      "text/html": [
       " View project at <a href='https://wandb.ai/goodevening13/ml_sys_design' target=\"_blank\">https://wandb.ai/goodevening13/ml_sys_design</a>"
      ],
      "text/plain": [
       "<IPython.core.display.HTML object>"
      ]
     },
     "metadata": {},
     "output_type": "display_data"
    },
    {
     "data": {
      "text/html": [
       " View run at <a href='https://wandb.ai/goodevening13/ml_sys_design/runs/5o248gfy' target=\"_blank\">https://wandb.ai/goodevening13/ml_sys_design/runs/5o248gfy</a>"
      ],
      "text/plain": [
       "<IPython.core.display.HTML object>"
      ]
     },
     "metadata": {},
     "output_type": "display_data"
    },
    {
     "name": "stderr",
     "output_type": "stream",
     "text": [
      "100%|██████████| 20/20 [04:44<00:00, 14.21s/it]\n"
     ]
    },
    {
     "data": {
      "text/html": [],
      "text/plain": [
       "<IPython.core.display.HTML object>"
      ]
     },
     "metadata": {},
     "output_type": "display_data"
    },
    {
     "data": {
      "text/html": [
       "<br>    <style><br>        .wandb-row {<br>            display: flex;<br>            flex-direction: row;<br>            flex-wrap: wrap;<br>            justify-content: flex-start;<br>            width: 100%;<br>        }<br>        .wandb-col {<br>            display: flex;<br>            flex-direction: column;<br>            flex-basis: 100%;<br>            flex: 1;<br>            padding: 10px;<br>        }<br>    </style><br><div class=\"wandb-row\"><div class=\"wandb-col\"><h3>Run history:</h3><br/><table class=\"wandb\"><tr><td>epoch</td><td>▁▁▂▂▂▃▃▄▄▄▅▅▅▆▆▇▇▇██</td></tr><tr><td>test_f1</td><td>▃▄▄▄▁▄▄▅▄▇▇▅▇▇▇█████</td></tr><tr><td>test_recall_n</td><td>▄▄▃▄█▆▇▆▄▆▅▃▄▃▄▄▄▃▂▁</td></tr><tr><td>train_f1</td><td>▁▂▂▂▁▃▃▃▃▄▅▅▅▆▆▆▇▇██</td></tr><tr><td>train_loss</td><td>█▆▅▅▅▅▄▄▄▃▃▃▃▂▂▂▂▁▁▁</td></tr><tr><td>train_recall_n</td><td>▃▄▃▄█▆▇▆▄▆▅▄▃▁▅▅▅▃▄▂</td></tr></table><br/></div><div class=\"wandb-col\"><h3>Run summary:</h3><br/><table class=\"wandb\"><tr><td>epoch</td><td>19</td></tr><tr><td>test_f1</td><td>0.74166</td></tr><tr><td>test_recall_n</td><td>0.84211</td></tr><tr><td>train_f1</td><td>0.86327</td></tr><tr><td>train_loss</td><td>0.40918</td></tr><tr><td>train_recall_n</td><td>0.96404</td></tr></table><br/></div></div>"
      ],
      "text/plain": [
       "<IPython.core.display.HTML object>"
      ]
     },
     "metadata": {},
     "output_type": "display_data"
    },
    {
     "data": {
      "text/html": [
       " View run <strong style=\"color:#cdcd00\">LSTM</strong> at: <a href='https://wandb.ai/goodevening13/ml_sys_design/runs/5o248gfy' target=\"_blank\">https://wandb.ai/goodevening13/ml_sys_design/runs/5o248gfy</a><br> View project at: <a href='https://wandb.ai/goodevening13/ml_sys_design' target=\"_blank\">https://wandb.ai/goodevening13/ml_sys_design</a><br>Synced 5 W&B file(s), 0 media file(s), 0 artifact file(s) and 0 other file(s)"
      ],
      "text/plain": [
       "<IPython.core.display.HTML object>"
      ]
     },
     "metadata": {},
     "output_type": "display_data"
    },
    {
     "data": {
      "text/html": [
       "Find logs at: <code>./wandb/run-20250325_212936-5o248gfy/logs</code>"
      ],
      "text/plain": [
       "<IPython.core.display.HTML object>"
      ]
     },
     "metadata": {},
     "output_type": "display_data"
    },
    {
     "name": "stderr",
     "output_type": "stream",
     "text": [
      "[I 2025-03-25 21:34:23,506] Trial 8 finished with value: 0.7416589856147766 and parameters: {'hidden_dim': 32, 'num_layers': 2, 'dropout': 0.1915978973911459}. Best is trial 7 with value: 0.7526282668113708.\n"
     ]
    },
    {
     "data": {
      "text/html": [
       "Tracking run with wandb version 0.19.8"
      ],
      "text/plain": [
       "<IPython.core.display.HTML object>"
      ]
     },
     "metadata": {},
     "output_type": "display_data"
    },
    {
     "data": {
      "text/html": [
       "Run data is saved locally in <code>/extra_disk_1/alinashutova/last_hse/wandb/run-20250325_213423-o9jsbtd7</code>"
      ],
      "text/plain": [
       "<IPython.core.display.HTML object>"
      ]
     },
     "metadata": {},
     "output_type": "display_data"
    },
    {
     "data": {
      "text/html": [
       "Syncing run <strong><a href='https://wandb.ai/goodevening13/ml_sys_design/runs/o9jsbtd7' target=\"_blank\">LSTM</a></strong> to <a href='https://wandb.ai/goodevening13/ml_sys_design' target=\"_blank\">Weights & Biases</a> (<a href='https://wandb.me/developer-guide' target=\"_blank\">docs</a>)<br>"
      ],
      "text/plain": [
       "<IPython.core.display.HTML object>"
      ]
     },
     "metadata": {},
     "output_type": "display_data"
    },
    {
     "data": {
      "text/html": [
       " View project at <a href='https://wandb.ai/goodevening13/ml_sys_design' target=\"_blank\">https://wandb.ai/goodevening13/ml_sys_design</a>"
      ],
      "text/plain": [
       "<IPython.core.display.HTML object>"
      ]
     },
     "metadata": {},
     "output_type": "display_data"
    },
    {
     "data": {
      "text/html": [
       " View run at <a href='https://wandb.ai/goodevening13/ml_sys_design/runs/o9jsbtd7' target=\"_blank\">https://wandb.ai/goodevening13/ml_sys_design/runs/o9jsbtd7</a>"
      ],
      "text/plain": [
       "<IPython.core.display.HTML object>"
      ]
     },
     "metadata": {},
     "output_type": "display_data"
    },
    {
     "name": "stderr",
     "output_type": "stream",
     "text": [
      "100%|██████████| 20/20 [06:43<00:00, 20.20s/it]\n"
     ]
    },
    {
     "data": {
      "text/html": [],
      "text/plain": [
       "<IPython.core.display.HTML object>"
      ]
     },
     "metadata": {},
     "output_type": "display_data"
    },
    {
     "data": {
      "text/html": [
       "<br>    <style><br>        .wandb-row {<br>            display: flex;<br>            flex-direction: row;<br>            flex-wrap: wrap;<br>            justify-content: flex-start;<br>            width: 100%;<br>        }<br>        .wandb-col {<br>            display: flex;<br>            flex-direction: column;<br>            flex-basis: 100%;<br>            flex: 1;<br>            padding: 10px;<br>        }<br>    </style><br><div class=\"wandb-row\"><div class=\"wandb-col\"><h3>Run history:</h3><br/><table class=\"wandb\"><tr><td>epoch</td><td>▁▁▂▂▂▃▃▄▄▄▅▅▅▆▆▇▇▇██</td></tr><tr><td>test_f1</td><td>▁▃▃▃▃▅▅▆▆██▇▇▇██▇███</td></tr><tr><td>test_recall_n</td><td>█▇▇▇▇▅▄▆▄▄▄▄▃▃▃▁▂▂▁▂</td></tr><tr><td>train_f1</td><td>▁▂▂▂▂▃▄▅▅▆▆▆▆▇▇▇████</td></tr><tr><td>train_loss</td><td>█▇▆▆▅▅▄▄▃▃▃▃▂▂▂▂▂▁▁▁</td></tr><tr><td>train_recall_n</td><td>█▅▆▇█▆▁▆▁▄▅▄▇▇▇▄▇▅▃▆</td></tr></table><br/></div><div class=\"wandb-col\"><h3>Run summary:</h3><br/><table class=\"wandb\"><tr><td>epoch</td><td>19</td></tr><tr><td>test_f1</td><td>0.75078</td></tr><tr><td>test_recall_n</td><td>0.85283</td></tr><tr><td>train_f1</td><td>0.9316</td></tr><tr><td>train_loss</td><td>0.23706</td></tr><tr><td>train_recall_n</td><td>0.98465</td></tr></table><br/></div></div>"
      ],
      "text/plain": [
       "<IPython.core.display.HTML object>"
      ]
     },
     "metadata": {},
     "output_type": "display_data"
    },
    {
     "data": {
      "text/html": [
       " View run <strong style=\"color:#cdcd00\">LSTM</strong> at: <a href='https://wandb.ai/goodevening13/ml_sys_design/runs/o9jsbtd7' target=\"_blank\">https://wandb.ai/goodevening13/ml_sys_design/runs/o9jsbtd7</a><br> View project at: <a href='https://wandb.ai/goodevening13/ml_sys_design' target=\"_blank\">https://wandb.ai/goodevening13/ml_sys_design</a><br>Synced 5 W&B file(s), 0 media file(s), 0 artifact file(s) and 0 other file(s)"
      ],
      "text/plain": [
       "<IPython.core.display.HTML object>"
      ]
     },
     "metadata": {},
     "output_type": "display_data"
    },
    {
     "data": {
      "text/html": [
       "Find logs at: <code>./wandb/run-20250325_213423-o9jsbtd7/logs</code>"
      ],
      "text/plain": [
       "<IPython.core.display.HTML object>"
      ]
     },
     "metadata": {},
     "output_type": "display_data"
    },
    {
     "name": "stderr",
     "output_type": "stream",
     "text": [
      "[I 2025-03-25 21:41:10,286] Trial 9 finished with value: 0.7507827281951904 and parameters: {'hidden_dim': 128, 'num_layers': 4, 'dropout': 0.48174889407109966}. Best is trial 7 with value: 0.7526282668113708.\n"
     ]
    }
   ],
   "source": [
    "def objective_optuna(trial):\n",
    "    params = {\n",
    "        \"hidden_size\": trial.suggest_categorical(\"hidden_dim\", [32, 64, 128]),\n",
    "        \"num_layers\": trial.suggest_int(\"num_layers\", 1, 4),\n",
    "        \"dropout\": trial.suggest_float(\"dropout\", 0.1, 0.5)\n",
    "    }\n",
    "    \n",
    "    model = Baseline(embed_dim=params['hidden_size'], hidden_size=params['hidden_size'], output_size=7, use_rnn=False, \n",
    "                     num_layers=params['num_layers']).to(device)\n",
    "    \n",
    "    val_f1 = training_loop(model, 'LSTM', device, train_loader, val_loader, params=params)\n",
    "    return val_f1\n",
    "\n",
    "study = optuna.create_study(direction=\"maximize\")\n",
    "study.optimize(objective_optuna, n_trials=10)"
   ]
  },
  {
   "cell_type": "code",
   "execution_count": 8,
   "metadata": {},
   "outputs": [
    {
     "name": "stderr",
     "output_type": "stream",
     "text": [
      "2025-03-25 23:01:49,045\tINFO tune.py:616 -- [output] This uses the legacy output and progress reporter, as Jupyter notebooks are not supported by the new engine, yet. For more information, please see https://github.com/ray-project/ray/issues/36949\n",
      "/home/alinashutova/anaconda3/envs/aquakv/lib/python3.11/site-packages/ray/tune/tune.py:730: UserWarning: Consider boosting PBT performance by enabling `reuse_actors` as well as implementing `reset_config` for Trainable.\n",
      "  warnings.warn(\n",
      "2025-03-25 23:01:49,123\tWARNING callback.py:136 -- The TensorboardX logger cannot be instantiated because either TensorboardX or one of it's dependencies is not installed. Please make sure you have the latest version of TensorboardX installed: `pip install -U tensorboardx`\n"
     ]
    },
    {
     "data": {
      "text/html": [
       "<div class=\"tuneStatus\">\n",
       "  <div style=\"display: flex;flex-direction: row\">\n",
       "    <div style=\"display: flex;flex-direction: column;\">\n",
       "      <h3>Tune Status</h3>\n",
       "      <table>\n",
       "<tbody>\n",
       "<tr><td>Current time:</td><td>2025-03-25 23:04:47</td></tr>\n",
       "<tr><td>Running for: </td><td>00:02:58.56        </td></tr>\n",
       "<tr><td>Memory:      </td><td>417.0/917.3 GiB    </td></tr>\n",
       "</tbody>\n",
       "</table>\n",
       "    </div>\n",
       "    <div class=\"vDivider\"></div>\n",
       "    <div class=\"systemInfo\">\n",
       "      <h3>System Info</h3>\n",
       "      PopulationBasedTraining: 0 checkpoints, 0 perturbs<br>Logical resource usage: 4.0/255 CPUs, 1.0/1 GPUs (0.0/1.0 accelerator_type:A100)\n",
       "    </div>\n",
       "    <div class=\"vDivider\"></div>\n",
       "<div class=\"messages\">\n",
       "  <h3>Messages</h3>\n",
       "  \n",
       "  \n",
       "  Number of errored trials: 2<br><table>\n",
       "<thead>\n",
       "<tr><th>Trial name           </th><th style=\"text-align: right;\">  # failures</th><th>error file                                                                                                                                                                               </th></tr>\n",
       "</thead>\n",
       "<tbody>\n",
       "<tr><td>train_pbt_fca93_00000</td><td style=\"text-align: right;\">           1</td><td>/var/tmp/ray/session_2025-03-25_22-56-57_747288_936033/artifacts/2025-03-25_23-01-49/train_pbt_2025-03-25_23-01-49/driver_artifacts/train_pbt_fca93_00000_0_2025-03-25_23-01-50/error.txt</td></tr>\n",
       "<tr><td>train_pbt_fca93_00001</td><td style=\"text-align: right;\">           1</td><td>/var/tmp/ray/session_2025-03-25_22-56-57_747288_936033/artifacts/2025-03-25_23-01-49/train_pbt_2025-03-25_23-01-49/driver_artifacts/train_pbt_fca93_00001_1_2025-03-25_23-01-50/error.txt</td></tr>\n",
       "</tbody>\n",
       "</table>\n",
       "</div>\n",
       "<style>\n",
       ".messages {\n",
       "  color: var(--jp-ui-font-color1);\n",
       "  display: flex;\n",
       "  flex-direction: column;\n",
       "  padding-left: 1em;\n",
       "  overflow-y: auto;\n",
       "}\n",
       ".messages h3 {\n",
       "  font-weight: bold;\n",
       "}\n",
       ".vDivider {\n",
       "  border-left-width: var(--jp-border-width);\n",
       "  border-left-color: var(--jp-border-color0);\n",
       "  border-left-style: solid;\n",
       "  margin: 0.5em 1em 0.5em 1em;\n",
       "}\n",
       "</style>\n",
       "\n",
       "  </div>\n",
       "  <div class=\"hDivider\"></div>\n",
       "  <div class=\"trialStatus\">\n",
       "    <h3>Trial Status</h3>\n",
       "    <table>\n",
       "<thead>\n",
       "<tr><th>Trial name           </th><th>status  </th><th>loc                </th></tr>\n",
       "</thead>\n",
       "<tbody>\n",
       "<tr><td>train_pbt_fca93_00002</td><td>RUNNING </td><td>192.168.1.2:1026877</td></tr>\n",
       "<tr><td>train_pbt_fca93_00003</td><td>RUNNING </td><td>192.168.1.2:1027383</td></tr>\n",
       "<tr><td>train_pbt_fca93_00004</td><td>PENDING </td><td>                   </td></tr>\n",
       "<tr><td>train_pbt_fca93_00000</td><td>ERROR   </td><td>192.168.1.2:1011383</td></tr>\n",
       "<tr><td>train_pbt_fca93_00001</td><td>ERROR   </td><td>192.168.1.2:1011384</td></tr>\n",
       "</tbody>\n",
       "</table>\n",
       "  </div>\n",
       "</div>\n",
       "<style>\n",
       ".tuneStatus {\n",
       "  color: var(--jp-ui-font-color1);\n",
       "}\n",
       ".tuneStatus .systemInfo {\n",
       "  display: flex;\n",
       "  flex-direction: column;\n",
       "}\n",
       ".tuneStatus td {\n",
       "  white-space: nowrap;\n",
       "}\n",
       ".tuneStatus .trialStatus {\n",
       "  display: flex;\n",
       "  flex-direction: column;\n",
       "}\n",
       ".tuneStatus h3 {\n",
       "  font-weight: bold;\n",
       "}\n",
       ".tuneStatus .hDivider {\n",
       "  border-bottom-width: var(--jp-border-width);\n",
       "  border-bottom-color: var(--jp-border-color0);\n",
       "  border-bottom-style: solid;\n",
       "}\n",
       ".tuneStatus .vDivider {\n",
       "  border-left-width: var(--jp-border-width);\n",
       "  border-left-color: var(--jp-border-color0);\n",
       "  border-left-style: solid;\n",
       "  margin: 0.5em 1em 0.5em 1em;\n",
       "}\n",
       "</style>\n"
      ],
      "text/plain": [
       "<IPython.core.display.HTML object>"
      ]
     },
     "metadata": {},
     "output_type": "display_data"
    },
    {
     "name": "stderr",
     "output_type": "stream",
     "text": [
      "2025-03-25 23:01:49,130\tWARNING tune_controller.py:2132 -- The maximum number of pending trials has been automatically set to the number of available cluster CPUs, which is high (280 CPUs/pending trials). If you're running an experiment with a large number of trials, this could lead to scheduling overhead. In this case, consider setting the `TUNE_MAX_PENDING_TRIALS_PG` environment variable to the desired maximum number of concurrent pending trials.\n",
      "2025-03-25 23:01:49,133\tWARNING tune_controller.py:2132 -- The maximum number of pending trials has been automatically set to the number of available cluster CPUs, which is high (280 CPUs/pending trials). If you're running an experiment with a large number of trials, this could lead to scheduling overhead. In this case, consider setting the `TUNE_MAX_PENDING_TRIALS_PG` environment variable to the desired maximum number of concurrent pending trials.\n",
      "2025-03-25 23:04:07,160\tERROR tune_controller.py:1331 -- Trial task failed for trial train_pbt_fca93_00001\n",
      "Traceback (most recent call last):\n",
      "  File \"/home/alinashutova/anaconda3/envs/aquakv/lib/python3.11/site-packages/ray/air/execution/_internal/event_manager.py\", line 110, in resolve_future\n",
      "    result = ray.get(future)\n",
      "             ^^^^^^^^^^^^^^^\n",
      "  File \"/home/alinashutova/anaconda3/envs/aquakv/lib/python3.11/site-packages/ray/_private/auto_init_hook.py\", line 21, in auto_init_wrapper\n",
      "    return fn(*args, **kwargs)\n",
      "           ^^^^^^^^^^^^^^^^^^^\n",
      "  File \"/home/alinashutova/anaconda3/envs/aquakv/lib/python3.11/site-packages/ray/_private/client_mode_hook.py\", line 103, in wrapper\n",
      "    return func(*args, **kwargs)\n",
      "           ^^^^^^^^^^^^^^^^^^^^^\n",
      "  File \"/home/alinashutova/anaconda3/envs/aquakv/lib/python3.11/site-packages/ray/_private/worker.py\", line 2782, in get\n",
      "    values, debugger_breakpoint = worker.get_objects(object_refs, timeout=timeout)\n",
      "                                  ^^^^^^^^^^^^^^^^^^^^^^^^^^^^^^^^^^^^^^^^^^^^^^^^\n",
      "  File \"/home/alinashutova/anaconda3/envs/aquakv/lib/python3.11/site-packages/ray/_private/worker.py\", line 929, in get_objects\n",
      "    raise value.as_instanceof_cause()\n",
      "ray.exceptions.RayTaskError(TypeError): \u001b[36mray::ImplicitFunc.train()\u001b[39m (pid=1011384, ip=192.168.1.2, actor_id=1c512adcd47e02742a3607af01000000, repr=train_pbt)\n",
      "           ^^^^^^^^^^^^^^^^^^^^^^^^^^^^^^^^^^^^\n",
      "           ^^^^^^^^^^^^^^^^^^^^^^^^^^^^^^^\n",
      "  File \"/home/alinashutova/anaconda3/envs/aquakv/lib/python3.11/site-packages/ray/tune/trainable/trainable.py\", line 330, in train\n",
      "    raise skipped from exception_cause(skipped)\n",
      "  File \"/home/alinashutova/anaconda3/envs/aquakv/lib/python3.11/site-packages/ray/air/_internal/util.py\", line 107, in run\n",
      "    self._ret = self._target(*self._args, **self._kwargs)\n",
      "                ^^^^^^^^^^^^^^^^^^^^^^^^^^^^^^^^^^^^^^^^^\n",
      "  File \"/home/alinashutova/anaconda3/envs/aquakv/lib/python3.11/site-packages/ray/tune/trainable/function_trainable.py\", line 45, in <lambda>\n",
      "    training_func=lambda: self._trainable_func(self.config),\n",
      "                          ^^^^^^^^^^^^^^^^^^^^^^^^^^^^^^^^^\n",
      "           ^^^^^^^^^^^^^^^^^^^^^^^^^^^^^^^\n",
      "  File \"/home/alinashutova/anaconda3/envs/aquakv/lib/python3.11/site-packages/ray/tune/trainable/function_trainable.py\", line 261, in _trainable_func\n",
      "    output = fn()\n",
      "             ^^^^\n",
      "  File \"/var/tmp/ipykernel_936033/481273627.py\", line 5, in train_pbt\n",
      "  File \"/home/alinashutova/anaconda3/envs/aquakv/lib/python3.11/site-packages/ray/train/_internal/session.py\", line 663, in wrapper\n",
      "    return fn(*args, **kwargs)\n",
      "           ^^^^^^^^^^^^^^^^^^^\n",
      "  File \"/home/alinashutova/anaconda3/envs/aquakv/lib/python3.11/site-packages/ray/tune/trainable/trainable_fn_utils.py\", line 48, in report\n",
      "    get_session().report(metrics, checkpoint=checkpoint)\n",
      "  File \"/home/alinashutova/anaconda3/envs/aquakv/lib/python3.11/site-packages/ray/train/_internal/session.py\", line 422, in report\n",
      "    metrics = self._auto_fill_metrics(metrics)\n",
      "              ^^^^^^^^^^^^^^^^^^^^^^^^^^^^^^^^\n",
      "  File \"/home/alinashutova/anaconda3/envs/aquakv/lib/python3.11/site-packages/ray/train/_internal/session.py\", line 332, in _auto_fill_metrics\n",
      "    if TIME_THIS_ITER_S in result:\n",
      "       ^^^^^^^^^^^^^^^^^^^^^^^^^^\n",
      "TypeError: argument of type 'float' is not iterable\n"
     ]
    },
    {
     "data": {
      "text/html": [
       "<div class=\"trialProgress\">\n",
       "  <h3>Trial Progress</h3>\n",
       "  <table>\n",
       "<thead>\n",
       "<tr><th>Trial name           </th></tr>\n",
       "</thead>\n",
       "<tbody>\n",
       "<tr><td>train_pbt_fca93_00000</td></tr>\n",
       "<tr><td>train_pbt_fca93_00001</td></tr>\n",
       "</tbody>\n",
       "</table>\n",
       "</div>\n",
       "<style>\n",
       ".trialProgress {\n",
       "  display: flex;\n",
       "  flex-direction: column;\n",
       "  color: var(--jp-ui-font-color1);\n",
       "}\n",
       ".trialProgress h3 {\n",
       "  font-weight: bold;\n",
       "}\n",
       ".trialProgress td {\n",
       "  white-space: nowrap;\n",
       "}\n",
       "</style>\n"
      ],
      "text/plain": [
       "<IPython.core.display.HTML object>"
      ]
     },
     "metadata": {},
     "output_type": "display_data"
    },
    {
     "name": "stderr",
     "output_type": "stream",
     "text": [
      "2025-03-25 23:04:11,497\tERROR tune_controller.py:1331 -- Trial task failed for trial train_pbt_fca93_00000\n",
      "Traceback (most recent call last):\n",
      "  File \"/home/alinashutova/anaconda3/envs/aquakv/lib/python3.11/site-packages/ray/air/execution/_internal/event_manager.py\", line 110, in resolve_future\n",
      "    result = ray.get(future)\n",
      "             ^^^^^^^^^^^^^^^\n",
      "  File \"/home/alinashutova/anaconda3/envs/aquakv/lib/python3.11/site-packages/ray/_private/auto_init_hook.py\", line 21, in auto_init_wrapper\n",
      "    return fn(*args, **kwargs)\n",
      "           ^^^^^^^^^^^^^^^^^^^\n",
      "  File \"/home/alinashutova/anaconda3/envs/aquakv/lib/python3.11/site-packages/ray/_private/client_mode_hook.py\", line 103, in wrapper\n",
      "    return func(*args, **kwargs)\n",
      "           ^^^^^^^^^^^^^^^^^^^^^\n",
      "  File \"/home/alinashutova/anaconda3/envs/aquakv/lib/python3.11/site-packages/ray/_private/worker.py\", line 2782, in get\n",
      "    values, debugger_breakpoint = worker.get_objects(object_refs, timeout=timeout)\n",
      "                                  ^^^^^^^^^^^^^^^^^^^^^^^^^^^^^^^^^^^^^^^^^^^^^^^^\n",
      "  File \"/home/alinashutova/anaconda3/envs/aquakv/lib/python3.11/site-packages/ray/_private/worker.py\", line 929, in get_objects\n",
      "    raise value.as_instanceof_cause()\n",
      "ray.exceptions.RayTaskError(TypeError): \u001b[36mray::ImplicitFunc.train()\u001b[39m (pid=1011383, ip=192.168.1.2, actor_id=cd8109dfcae075470a152c5001000000, repr=train_pbt)\n",
      "           ^^^^^^^^^^^^^^^^^^^^^^^^^^^^^^^^^^^^\n",
      "           ^^^^^^^^^^^^^^^^^^^^^^^^^^^^^^^\n",
      "  File \"/home/alinashutova/anaconda3/envs/aquakv/lib/python3.11/site-packages/ray/tune/trainable/trainable.py\", line 330, in train\n",
      "    raise skipped from exception_cause(skipped)\n",
      "  File \"/home/alinashutova/anaconda3/envs/aquakv/lib/python3.11/site-packages/ray/air/_internal/util.py\", line 107, in run\n",
      "    self._ret = self._target(*self._args, **self._kwargs)\n",
      "                ^^^^^^^^^^^^^^^^^^^^^^^^^^^^^^^^^^^^^^^^^\n",
      "  File \"/home/alinashutova/anaconda3/envs/aquakv/lib/python3.11/site-packages/ray/tune/trainable/function_trainable.py\", line 45, in <lambda>\n",
      "    training_func=lambda: self._trainable_func(self.config),\n",
      "                          ^^^^^^^^^^^^^^^^^^^^^^^^^^^^^^^^^\n",
      "           ^^^^^^^^^^^^^^^^^^^^^^^^^^^^^^^\n",
      "  File \"/home/alinashutova/anaconda3/envs/aquakv/lib/python3.11/site-packages/ray/tune/trainable/function_trainable.py\", line 261, in _trainable_func\n",
      "    output = fn()\n",
      "             ^^^^\n",
      "  File \"/var/tmp/ipykernel_936033/481273627.py\", line 5, in train_pbt\n",
      "  File \"/home/alinashutova/anaconda3/envs/aquakv/lib/python3.11/site-packages/ray/train/_internal/session.py\", line 663, in wrapper\n",
      "    return fn(*args, **kwargs)\n",
      "           ^^^^^^^^^^^^^^^^^^^\n",
      "  File \"/home/alinashutova/anaconda3/envs/aquakv/lib/python3.11/site-packages/ray/tune/trainable/trainable_fn_utils.py\", line 48, in report\n",
      "    get_session().report(metrics, checkpoint=checkpoint)\n",
      "  File \"/home/alinashutova/anaconda3/envs/aquakv/lib/python3.11/site-packages/ray/train/_internal/session.py\", line 422, in report\n",
      "    metrics = self._auto_fill_metrics(metrics)\n",
      "              ^^^^^^^^^^^^^^^^^^^^^^^^^^^^^^^^\n",
      "  File \"/home/alinashutova/anaconda3/envs/aquakv/lib/python3.11/site-packages/ray/train/_internal/session.py\", line 332, in _auto_fill_metrics\n",
      "    if TIME_THIS_ITER_S in result:\n",
      "       ^^^^^^^^^^^^^^^^^^^^^^^^^^\n",
      "TypeError: argument of type 'float' is not iterable\n",
      "2025-03-25 23:04:47,606\tWARNING tune.py:219 -- Stop signal received (e.g. via SIGINT/Ctrl+C), ending Ray Tune run. This will try to checkpoint the experiment state one last time. Press CTRL+C (or send SIGINT/SIGKILL/SIGTERM) to skip. \n",
      "2025-03-25 23:04:47,691\tINFO tune.py:1009 -- Wrote the latest version of all result files and experiment state to '/home/alinashutova/ray_results/train_pbt_2025-03-25_23-01-49' in 0.0817s.\n",
      "2025-03-25 23:04:53,619\tERROR worker.py:420 -- Unhandled error (suppress with 'RAY_IGNORE_UNHANDLED_ERRORS=1'): \u001b[36mray::ImplicitFunc.train()\u001b[39m (pid=1026877, ip=192.168.1.2, actor_id=93057683a642dac4e17d1d2401000000, repr=train_pbt)\n",
      "           ^^^^^^^^^^^^^^^^^^^^^^^^^^^^^^^^^^^^\n",
      "           ^^^^^^^^^^^^^^^^^^^^^^^^^^^^^^^\n",
      "  File \"/home/alinashutova/anaconda3/envs/aquakv/lib/python3.11/site-packages/ray/tune/trainable/trainable.py\", line 330, in train\n",
      "    raise skipped from exception_cause(skipped)\n",
      "  File \"/home/alinashutova/anaconda3/envs/aquakv/lib/python3.11/site-packages/ray/air/_internal/util.py\", line 107, in run\n",
      "    self._ret = self._target(*self._args, **self._kwargs)\n",
      "                ^^^^^^^^^^^^^^^^^^^^^^^^^^^^^^^^^^^^^^^^^\n",
      "  File \"/home/alinashutova/anaconda3/envs/aquakv/lib/python3.11/site-packages/ray/tune/trainable/function_trainable.py\", line 45, in <lambda>\n",
      "    training_func=lambda: self._trainable_func(self.config),\n",
      "                          ^^^^^^^^^^^^^^^^^^^^^^^^^^^^^^^^^\n",
      "           ^^^^^^^^^^^^^^^^^^^^^^^^^^^^^^^\n",
      "  File \"/home/alinashutova/anaconda3/envs/aquakv/lib/python3.11/site-packages/ray/tune/trainable/function_trainable.py\", line 261, in _trainable_func\n",
      "    output = fn()\n",
      "             ^^^^\n",
      "  File \"/var/tmp/ipykernel_936033/481273627.py\", line 4, in train_pbt\n",
      "  File \"/extra_disk_1/alinashutova/last_hse/utils/training_loop.py\", line 63, in training_loop\n",
      "    wandb.log({\n",
      "  File \"/home/alinashutova/anaconda3/envs/aquakv/lib/python3.11/site-packages/wandb/sdk/wandb_run.py\", line 449, in wrapper\n",
      "    return func(self, *args, **kwargs)\n",
      "           ^^^^^^^^^^^^^^^^^^^^^^^^^^^\n",
      "  File \"/home/alinashutova/anaconda3/envs/aquakv/lib/python3.11/site-packages/wandb/sdk/wandb_run.py\", line 401, in wrapper_fn\n",
      "    return func(self, *args, **kwargs)\n",
      "           ^^^^^^^^^^^^^^^^^^^^^^^^^^^\n",
      "  File \"/home/alinashutova/anaconda3/envs/aquakv/lib/python3.11/site-packages/wandb/sdk/wandb_run.py\", line 391, in wrapper\n",
      "    return func(self, *args, **kwargs)\n",
      "           ^^^^^^^^^^^^^^^^^^^^^^^^^^^\n",
      "  File \"/home/alinashutova/anaconda3/envs/aquakv/lib/python3.11/site-packages/wandb/sdk/wandb_run.py\", line 1873, in log\n",
      "    self._log(data=data, step=step, commit=commit)\n",
      "  File \"/home/alinashutova/anaconda3/envs/aquakv/lib/python3.11/site-packages/wandb/sdk/wandb_run.py\", line 1587, in _log\n",
      "    self._partial_history_callback(data, step, commit)\n",
      "  File \"/home/alinashutova/anaconda3/envs/aquakv/lib/python3.11/site-packages/wandb/sdk/wandb_run.py\", line 1417, in _partial_history_callback\n",
      "    self._backend.interface.publish_partial_history(\n",
      "  File \"/home/alinashutova/anaconda3/envs/aquakv/lib/python3.11/site-packages/wandb/sdk/interface/interface.py\", line 690, in publish_partial_history\n",
      "    self._publish_partial_history(partial_history)\n",
      "  File \"/home/alinashutova/anaconda3/envs/aquakv/lib/python3.11/site-packages/wandb/sdk/interface/interface_shared.py\", line 48, in _publish_partial_history\n",
      "    self._publish(rec)\n",
      "  File \"/home/alinashutova/anaconda3/envs/aquakv/lib/python3.11/site-packages/wandb/sdk/interface/interface_sock.py\", line 39, in _publish\n",
      "    self._sock_client.send_record_publish(record)\n",
      "  File \"/home/alinashutova/anaconda3/envs/aquakv/lib/python3.11/site-packages/wandb/sdk/lib/sock_client.py\", line 174, in send_record_publish\n",
      "    self.send_server_request(server_req)\n",
      "  File \"/home/alinashutova/anaconda3/envs/aquakv/lib/python3.11/site-packages/wandb/sdk/lib/sock_client.py\", line 154, in send_server_request\n",
      "    self._send_message(msg)\n",
      "  File \"/home/alinashutova/anaconda3/envs/aquakv/lib/python3.11/site-packages/wandb/sdk/lib/sock_client.py\", line 151, in _send_message\n",
      "    self._sendall_with_error_handle(header + data)\n",
      "  File \"/home/alinashutova/anaconda3/envs/aquakv/lib/python3.11/site-packages/wandb/sdk/lib/sock_client.py\", line 130, in _sendall_with_error_handle\n",
      "    sent = self._sock.send(data)\n",
      "           ^^^^^^^^^^^^^^^^^^^^^\n",
      "BrokenPipeError: [Errno 32] Broken pipe\n",
      "2025-03-25 23:04:53,881\tERROR worker.py:420 -- Unhandled error (suppress with 'RAY_IGNORE_UNHANDLED_ERRORS=1'): \u001b[36mray::ImplicitFunc.train()\u001b[39m (pid=1027383, ip=192.168.1.2, actor_id=596e26850ad6cab0efc2233101000000, repr=train_pbt)\n",
      "           ^^^^^^^^^^^^^^^^^^^^^^^^^^^^^^^^^^^^\n",
      "           ^^^^^^^^^^^^^^^^^^^^^^^^^^^^^^^\n",
      "  File \"/home/alinashutova/anaconda3/envs/aquakv/lib/python3.11/site-packages/ray/tune/trainable/trainable.py\", line 330, in train\n",
      "    raise skipped from exception_cause(skipped)\n",
      "  File \"/home/alinashutova/anaconda3/envs/aquakv/lib/python3.11/site-packages/ray/air/_internal/util.py\", line 107, in run\n",
      "    self._ret = self._target(*self._args, **self._kwargs)\n",
      "                ^^^^^^^^^^^^^^^^^^^^^^^^^^^^^^^^^^^^^^^^^\n",
      "  File \"/home/alinashutova/anaconda3/envs/aquakv/lib/python3.11/site-packages/ray/tune/trainable/function_trainable.py\", line 45, in <lambda>\n",
      "    training_func=lambda: self._trainable_func(self.config),\n",
      "                          ^^^^^^^^^^^^^^^^^^^^^^^^^^^^^^^^^\n",
      "           ^^^^^^^^^^^^^^^^^^^^^^^^^^^^^^^\n",
      "  File \"/home/alinashutova/anaconda3/envs/aquakv/lib/python3.11/site-packages/ray/tune/trainable/function_trainable.py\", line 261, in _trainable_func\n",
      "    output = fn()\n",
      "             ^^^^\n",
      "  File \"/var/tmp/ipykernel_936033/481273627.py\", line 4, in train_pbt\n",
      "  File \"/extra_disk_1/alinashutova/last_hse/utils/training_loop.py\", line 63, in training_loop\n",
      "    wandb.log({\n",
      "  File \"/home/alinashutova/anaconda3/envs/aquakv/lib/python3.11/site-packages/wandb/sdk/wandb_run.py\", line 449, in wrapper\n",
      "    return func(self, *args, **kwargs)\n",
      "           ^^^^^^^^^^^^^^^^^^^^^^^^^^^\n",
      "  File \"/home/alinashutova/anaconda3/envs/aquakv/lib/python3.11/site-packages/wandb/sdk/wandb_run.py\", line 401, in wrapper_fn\n",
      "    return func(self, *args, **kwargs)\n",
      "           ^^^^^^^^^^^^^^^^^^^^^^^^^^^\n",
      "  File \"/home/alinashutova/anaconda3/envs/aquakv/lib/python3.11/site-packages/wandb/sdk/wandb_run.py\", line 391, in wrapper\n",
      "    return func(self, *args, **kwargs)\n",
      "           ^^^^^^^^^^^^^^^^^^^^^^^^^^^\n",
      "  File \"/home/alinashutova/anaconda3/envs/aquakv/lib/python3.11/site-packages/wandb/sdk/wandb_run.py\", line 1873, in log\n",
      "    self._log(data=data, step=step, commit=commit)\n",
      "  File \"/home/alinashutova/anaconda3/envs/aquakv/lib/python3.11/site-packages/wandb/sdk/wandb_run.py\", line 1587, in _log\n",
      "    self._partial_history_callback(data, step, commit)\n",
      "  File \"/home/alinashutova/anaconda3/envs/aquakv/lib/python3.11/site-packages/wandb/sdk/wandb_run.py\", line 1417, in _partial_history_callback\n",
      "    self._backend.interface.publish_partial_history(\n",
      "  File \"/home/alinashutova/anaconda3/envs/aquakv/lib/python3.11/site-packages/wandb/sdk/interface/interface.py\", line 690, in publish_partial_history\n",
      "    self._publish_partial_history(partial_history)\n",
      "  File \"/home/alinashutova/anaconda3/envs/aquakv/lib/python3.11/site-packages/wandb/sdk/interface/interface_shared.py\", line 48, in _publish_partial_history\n",
      "    self._publish(rec)\n",
      "  File \"/home/alinashutova/anaconda3/envs/aquakv/lib/python3.11/site-packages/wandb/sdk/interface/interface_sock.py\", line 39, in _publish\n",
      "    self._sock_client.send_record_publish(record)\n",
      "  File \"/home/alinashutova/anaconda3/envs/aquakv/lib/python3.11/site-packages/wandb/sdk/lib/sock_client.py\", line 174, in send_record_publish\n",
      "    self.send_server_request(server_req)\n",
      "  File \"/home/alinashutova/anaconda3/envs/aquakv/lib/python3.11/site-packages/wandb/sdk/lib/sock_client.py\", line 154, in send_server_request\n",
      "    self._send_message(msg)\n",
      "  File \"/home/alinashutova/anaconda3/envs/aquakv/lib/python3.11/site-packages/wandb/sdk/lib/sock_client.py\", line 151, in _send_message\n",
      "    self._sendall_with_error_handle(header + data)\n",
      "  File \"/home/alinashutova/anaconda3/envs/aquakv/lib/python3.11/site-packages/wandb/sdk/lib/sock_client.py\", line 130, in _sendall_with_error_handle\n",
      "    sent = self._sock.send(data)\n",
      "           ^^^^^^^^^^^^^^^^^^^^^\n",
      "BrokenPipeError: [Errno 32] Broken pipe\n",
      "2025-03-25 23:04:53,886\tERROR tune.py:1037 -- Trials did not complete: [train_pbt_fca93_00000, train_pbt_fca93_00001]\n",
      "2025-03-25 23:04:53,887\tINFO tune.py:1041 -- Total run time: 184.84 seconds (178.47 seconds for the tuning loop).\n",
      "2025-03-25 23:04:53,888\tWARNING tune.py:1056 -- Experiment has been interrupted, but the most recent state was saved.\n",
      "Resume experiment with: tune.run(..., resume=True)\n",
      "2025-03-25 23:04:53,891\tWARNING experiment_analysis.py:180 -- Failed to fetch metrics for 1 trial(s):\n",
      "- train_pbt_fca93_00004: FileNotFoundError('Could not fetch metrics for train_pbt_fca93_00004: both result.json and progress.csv were not found at /home/alinashutova/ray_results/train_pbt_2025-03-25_23-01-49/train_pbt_fca93_00004_4_2025-03-25_23-01-50')\n"
     ]
    },
    {
     "data": {
      "text/plain": [
       "<ray.tune.analysis.experiment_analysis.ExperimentAnalysis at 0x7fb9ff6d5410>"
      ]
     },
     "execution_count": 8,
     "metadata": {},
     "output_type": "execute_result"
    }
   ],
   "source": [
    "def train_pbt(config):\n",
    "    model = Baseline(embed_dim=64, hidden_size=64, output_size=7, use_rnn=False, num_layers=1).to(device)\n",
    "    \n",
    "    val_f1 = training_loop(model, 'LSTM', device, train_loader, val_loader, lr=config[\"lr\"], params=config)\n",
    "    tune.report(float(val_f1.item()))\n",
    "\n",
    "pbt_scheduler = PopulationBasedTraining(\n",
    "    time_attr=\"training_iteration\",\n",
    "    metric=\"val_f1\",\n",
    "    mode=\"max\",\n",
    "    perturbation_interval=2,\n",
    "    hyperparam_mutations={\n",
    "        \"lr\": tune.loguniform(1e-5, 1e-3),\n",
    "        \"dropout\": tune.uniform(0.1, 0.5),\n",
    "    }\n",
    ")\n",
    "\n",
    "tune.run(\n",
    "    train_pbt,\n",
    "    config={\n",
    "        \"lr\": 1e-4,\n",
    "        \"dropout\": 0.3,\n",
    "    },\n",
    "    scheduler=pbt_scheduler,\n",
    "    num_samples=5,\n",
    "    resources_per_trial={\n",
    "        \"cpu\": 2,\n",
    "        \"gpu\": 0.5 if torch.cuda.is_available() else 0\n",
    "    }\n",
    ")"
   ]
  },
  {
   "cell_type": "code",
   "execution_count": null,
   "metadata": {},
   "outputs": [
    {
     "name": "stderr",
     "output_type": "stream",
     "text": [
      "100%|██████████| 20/20 [04:43<00:00, 14.18s/it]\n"
     ]
    },
    {
     "data": {
      "text/html": [],
      "text/plain": [
       "<IPython.core.display.HTML object>"
      ]
     },
     "metadata": {},
     "output_type": "display_data"
    },
    {
     "data": {
      "text/html": [
       "<br>    <style><br>        .wandb-row {<br>            display: flex;<br>            flex-direction: row;<br>            flex-wrap: wrap;<br>            justify-content: flex-start;<br>            width: 100%;<br>        }<br>        .wandb-col {<br>            display: flex;<br>            flex-direction: column;<br>            flex-basis: 100%;<br>            flex: 1;<br>            padding: 10px;<br>        }<br>    </style><br><div class=\"wandb-row\"><div class=\"wandb-col\"><h3>Run history:</h3><br/><table class=\"wandb\"><tr><td>epoch</td><td>▁▁▂▂▂▃▃▄▄▄▅▅▅▆▆▇▇▇██</td></tr><tr><td>test_f1</td><td>▁▂▃▂▅▆▇▇▇▇▇██▇▇▇▇▇▇▇</td></tr><tr><td>test_recall_n</td><td>▆▇▆█▇▅▇▅▄▄▅▄▄▃▂▂▂▄▂▁</td></tr><tr><td>train_f1</td><td>▁▁▂▂▂▃▄▅▅▆▆▆▆▇▇▇█▇██</td></tr><tr><td>train_loss</td><td>█▆▆▅▅▅▄▄▃▃▃▂▂▂▂▂▁▁▁▁</td></tr><tr><td>train_recall_n</td><td>▅▆▅█▆▄▄▁▁▂▄▆▄▃▄▃▄▇▄▄</td></tr></table><br/></div><div class=\"wandb-col\"><h3>Run summary:</h3><br/><table class=\"wandb\"><tr><td>epoch</td><td>19</td></tr><tr><td>test_f1</td><td>0.75255</td></tr><tr><td>test_recall_n</td><td>0.87037</td></tr><tr><td>train_f1</td><td>0.94375</td></tr><tr><td>train_loss</td><td>0.21868</td></tr><tr><td>train_recall_n</td><td>0.97899</td></tr></table><br/></div></div>"
      ],
      "text/plain": [
       "<IPython.core.display.HTML object>"
      ]
     },
     "metadata": {},
     "output_type": "display_data"
    },
    {
     "data": {
      "text/html": [
       " View run <strong style=\"color:#cdcd00\">LSTM</strong> at: <a href='https://wandb.ai/goodevening13/ml_sys_design/runs/q5fh7r7y' target=\"_blank\">https://wandb.ai/goodevening13/ml_sys_design/runs/q5fh7r7y</a><br> View project at: <a href='https://wandb.ai/goodevening13/ml_sys_design' target=\"_blank\">https://wandb.ai/goodevening13/ml_sys_design</a><br>Synced 5 W&B file(s), 0 media file(s), 0 artifact file(s) and 0 other file(s)"
      ],
      "text/plain": [
       "<IPython.core.display.HTML object>"
      ]
     },
     "metadata": {},
     "output_type": "display_data"
    },
    {
     "data": {
      "text/html": [
       "Find logs at: <code>./wandb/run-20250325_230557-q5fh7r7y/logs</code>"
      ],
      "text/plain": [
       "<IPython.core.display.HTML object>"
      ]
     },
     "metadata": {},
     "output_type": "display_data"
    },
    {
     "name": "stdout",
     "output_type": "stream",
     "text": [
      "Лучшие параметры (Grid Search): {'lr': 0.001, 'optimizer': <class 'torch.optim.adam.Adam'>}\n"
     ]
    },
    {
     "data": {
      "text/html": [
       "Tracking run with wandb version 0.19.8"
      ],
      "text/plain": [
       "<IPython.core.display.HTML object>"
      ]
     },
     "metadata": {},
     "output_type": "display_data"
    },
    {
     "data": {
      "text/html": [
       "Run data is saved locally in <code>/extra_disk_1/alinashutova/last_hse/wandb/run-20250325_231057-j1hjjair</code>"
      ],
      "text/plain": [
       "<IPython.core.display.HTML object>"
      ]
     },
     "metadata": {},
     "output_type": "display_data"
    },
    {
     "data": {
      "text/html": [
       "Syncing run <strong><a href='https://wandb.ai/goodevening13/ml_sys_design/runs/j1hjjair' target=\"_blank\">LSTM</a></strong> to <a href='https://wandb.ai/goodevening13/ml_sys_design' target=\"_blank\">Weights & Biases</a> (<a href='https://wandb.me/developer-guide' target=\"_blank\">docs</a>)<br>"
      ],
      "text/plain": [
       "<IPython.core.display.HTML object>"
      ]
     },
     "metadata": {},
     "output_type": "display_data"
    },
    {
     "data": {
      "text/html": [
       " View project at <a href='https://wandb.ai/goodevening13/ml_sys_design' target=\"_blank\">https://wandb.ai/goodevening13/ml_sys_design</a>"
      ],
      "text/plain": [
       "<IPython.core.display.HTML object>"
      ]
     },
     "metadata": {},
     "output_type": "display_data"
    },
    {
     "data": {
      "text/html": [
       " View run at <a href='https://wandb.ai/goodevening13/ml_sys_design/runs/j1hjjair' target=\"_blank\">https://wandb.ai/goodevening13/ml_sys_design/runs/j1hjjair</a>"
      ],
      "text/plain": [
       "<IPython.core.display.HTML object>"
      ]
     },
     "metadata": {},
     "output_type": "display_data"
    },
    {
     "name": "stderr",
     "output_type": "stream",
     "text": [
      " 85%|████████▌ | 17/20 [03:53<00:40, 13.66s/it]"
     ]
    }
   ],
   "source": [
    "import torch.optim as optim\n",
    "\n",
    "\n",
    "grid_params = {\n",
    "    \"lr\": [1e-3, 1e-4],\n",
    "    \"optimizer\": [optim.Adam, optim.RMSprop],\n",
    "}\n",
    "\n",
    "best_val_f1 = 0\n",
    "for params in ParameterGrid(grid_params):\n",
    "    model = Baseline(embed_dim=64, hidden_size=64, output_size=7, use_rnn=False, \n",
    "                    num_layers=1).to(device)\n",
    "\n",
    "    val_f1 = training_loop(model, 'LSTM', device, train_loader, val_loader, params=params, optimizer=params[\"optimizer\"], lr=params['lr'])\n",
    "    if val_f1 > best_val_f1:\n",
    "        best_val_f1 = val_f1\n",
    "        best_params = params\n",
    "    \n",
    "    print(\"Лучшие параметры (Grid Search):\", best_params)"
   ]
  },
  {
   "cell_type": "markdown",
   "metadata": {},
   "source": [
    "То же самое для CNN"
   ]
  },
  {
   "cell_type": "code",
   "execution_count": null,
   "metadata": {},
   "outputs": [],
   "source": [
    "def objective_optuna(trial):\n",
    "    params = {\n",
    "        \"hidden_size\": trial.suggest_categorical(\"embed_dim\", [32, 64, 128]),\n",
    "        \"num_convs\": trial.suggest_int(\"num_convs\", 2, 5),\n",
    "        \"dropout\": trial.suggest_float(\"dropout\", 0.1, 0.5)\n",
    "    }\n",
    "    \n",
    "    model = TextCNN(embed_dim=params['embed_dim'], output_size=7, num_convs=params['num_convs'], dropout=params['dropout']).to(device)\n",
    "    \n",
    "    val_f1 = training_loop(model, 'CNN', device, train_loader, val_loader, params=params)\n",
    "    return val_f1\n",
    "\n",
    "study = optuna.create_study(direction=\"maximize\")\n",
    "study.optimize(objective_optuna, n_trials=6)"
   ]
  },
  {
   "cell_type": "code",
   "execution_count": null,
   "metadata": {},
   "outputs": [],
   "source": [
    "def grid_search():\n",
    "    grid_params = {\n",
    "        \"lr\": [1e-3, 1e-4],\n",
    "        \"optimizer\": [optim.Adam, optim.RMSprop],\n",
    "    }\n",
    "    \n",
    "    best_val_f1 = 0\n",
    "    for params in ParameterGrid(grid_params):\n",
    "        model = Baseline(embed_dim=params['hidden_size'], hidden_size=params['hidden_size'], output_size=7, use_rnn=False, \n",
    "                     num_layers=params['num_layers']).to(device)\n",
    "    \n",
    "        val_f1 = training_loop(model, 'CNN', device, train_loader, val_loader, params=params, optimizer=params[\"optimizer\"], lr=params['lr'])\n",
    "        if val_f1 > best_val_f1:\n",
    "            best_val_f1 = val_f1\n",
    "            best_params = params\n",
    "    \n",
    "    print(\"Лучшие параметры (Grid Search):\", best_params)"
   ]
  },
  {
   "cell_type": "markdown",
   "metadata": {},
   "source": [
    "## 4. Демо инференса модели  (2 балл)\n",
    "\n",
    "В репозитории по ссылке https://github.com/goodevening13/last_hse\n",
    "\n",
    "Все скриншоты также в репозитории"
   ]
  },
  {
   "cell_type": "markdown",
   "metadata": {},
   "source": [
    "model = Baseline(embed_dim=64, hidden_size=64, output_size=7, use_rnn=False, num_layers=1, dropout=0.25).to(device)\n",
    "    \n",
    "_ = training_loop(model, 'LSTM', device, train_loader, val_loader, params=params)\n",
    "model.push_to_hub(\"my-awesome-model\")"
   ]
  }
 ],
 "metadata": {
  "kernelspec": {
   "display_name": "aquakv",
   "language": "python",
   "name": "python3"
  },
  "language_info": {
   "codemirror_mode": {
    "name": "ipython",
    "version": 3
   },
   "file_extension": ".py",
   "mimetype": "text/x-python",
   "name": "python",
   "nbconvert_exporter": "python",
   "pygments_lexer": "ipython3",
   "version": "3.11.11"
  }
 },
 "nbformat": 4,
 "nbformat_minor": 2
}

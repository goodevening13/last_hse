{
 "cells": [
  {
   "cell_type": "code",
   "execution_count": 1,
   "metadata": {},
   "outputs": [],
   "source": [
    "import os\n",
    "os.environ[\"CUDA_DEVICE_ORDER\"]=\"PCI_BUS_ID\"\n",
    "os.environ[\"CUDA_VISIBLE_DEVICES\"]=\"3\""
   ]
  },
  {
   "cell_type": "code",
   "execution_count": 2,
   "metadata": {},
   "outputs": [],
   "source": [
    "import pandas as pd\n",
    "import optuna\n",
    "import torch\n",
    "import torch.nn as nn\n",
    "from ray import tune\n",
    "from ray.tune.schedulers import PopulationBasedTraining\n",
    "from sklearn.model_selection import ParameterGrid\n",
    "import json\n",
    "from transformers import LongformerTokenizer, LongformerForSequenceClassification, AutoTokenizer\n",
    "from utils.load_dataset import create_loaders\n",
    "from utils.training_loop import training_loop, calculate_metrics\n",
    "from utils.models import Baseline, SmallTransformer, TextCNN\n",
    "from sklearn.feature_extraction.text import TfidfVectorizer\n",
    "from sklearn.linear_model import LogisticRegression"
   ]
  },
  {
   "cell_type": "code",
   "execution_count": 3,
   "metadata": {},
   "outputs": [],
   "source": [
    "device = 'cuda:0'\n",
    "\n",
    "train_ds = pd.read_csv('data/train_ds.csv', converters={'embs': lambda x: json.loads(x.replace(\"'\", '\"'))})\n",
    "val_ds = pd.read_csv('data/val_ds.csv', converters={'embs': lambda x: json.loads(x.replace(\"'\", '\"'))})\n",
    "test_ds = pd.read_csv('data/test_ds.csv', converters={'embs': lambda x: json.loads(x.replace(\"'\", '\"'))})\n",
    "\n",
    "train_loader, val_loader, test_loader = create_loaders(train_ds, val_ds, test_ds, batch_size=64)"
   ]
  },
  {
   "cell_type": "markdown",
   "metadata": {},
   "source": [
    "## 1. Эксперименты с моделями без тюнинга гиперпараметров  (3 балла)\n",
    "\n",
    "- Усложним бейзлайн, заменив RNN на LSTM\n",
    "- Попробуем CNN для текстов\n",
    "- Попробуем маленькую transformer модельку\n",
    "- TF-IDF + LogisticRegression\n",
    "\n",
    "(Конечно, можно было бы взять большую предобученную модель, качество будет на порядки выше, но предположим, что наши бизнес-ограничения требуют очень дешевое обучение и инференс)"
   ]
  },
  {
   "cell_type": "code",
   "execution_count": 4,
   "metadata": {},
   "outputs": [
    {
     "name": "stderr",
     "output_type": "stream",
     "text": [
      "\u001b[34m\u001b[1mwandb\u001b[0m: Using wandb-core as the SDK backend.  Please refer to https://wandb.me/wandb-core for more information.\n",
      "\u001b[34m\u001b[1mwandb\u001b[0m: Currently logged in as: \u001b[33mgoodevening13\u001b[0m to \u001b[32mhttps://api.wandb.ai\u001b[0m. Use \u001b[1m`wandb login --relogin`\u001b[0m to force relogin\n"
     ]
    },
    {
     "data": {
      "text/html": [
       "Tracking run with wandb version 0.19.8"
      ],
      "text/plain": [
       "<IPython.core.display.HTML object>"
      ]
     },
     "metadata": {},
     "output_type": "display_data"
    },
    {
     "data": {
      "text/html": [
       "Run data is saved locally in <code>/extra_disk_1/alinashutova/last_hse/wandb/run-20250325_181905-h03rbgsa</code>"
      ],
      "text/plain": [
       "<IPython.core.display.HTML object>"
      ]
     },
     "metadata": {},
     "output_type": "display_data"
    },
    {
     "data": {
      "text/html": [
       "Syncing run <strong><a href='https://wandb.ai/goodevening13/ml_sys_design/runs/h03rbgsa' target=\"_blank\">LSTM</a></strong> to <a href='https://wandb.ai/goodevening13/ml_sys_design' target=\"_blank\">Weights & Biases</a> (<a href='https://wandb.me/developer-guide' target=\"_blank\">docs</a>)<br>"
      ],
      "text/plain": [
       "<IPython.core.display.HTML object>"
      ]
     },
     "metadata": {},
     "output_type": "display_data"
    },
    {
     "data": {
      "text/html": [
       " View project at <a href='https://wandb.ai/goodevening13/ml_sys_design' target=\"_blank\">https://wandb.ai/goodevening13/ml_sys_design</a>"
      ],
      "text/plain": [
       "<IPython.core.display.HTML object>"
      ]
     },
     "metadata": {},
     "output_type": "display_data"
    },
    {
     "data": {
      "text/html": [
       " View run at <a href='https://wandb.ai/goodevening13/ml_sys_design/runs/h03rbgsa' target=\"_blank\">https://wandb.ai/goodevening13/ml_sys_design/runs/h03rbgsa</a>"
      ],
      "text/plain": [
       "<IPython.core.display.HTML object>"
      ]
     },
     "metadata": {},
     "output_type": "display_data"
    },
    {
     "name": "stderr",
     "output_type": "stream",
     "text": [
      "100%|██████████| 20/20 [04:54<00:00, 14.74s/it]\n"
     ]
    },
    {
     "data": {
      "text/html": [],
      "text/plain": [
       "<IPython.core.display.HTML object>"
      ]
     },
     "metadata": {},
     "output_type": "display_data"
    },
    {
     "data": {
      "text/html": [
       "<br>    <style><br>        .wandb-row {<br>            display: flex;<br>            flex-direction: row;<br>            flex-wrap: wrap;<br>            justify-content: flex-start;<br>            width: 100%;<br>        }<br>        .wandb-col {<br>            display: flex;<br>            flex-direction: column;<br>            flex-basis: 100%;<br>            flex: 1;<br>            padding: 10px;<br>        }<br>    </style><br><div class=\"wandb-row\"><div class=\"wandb-col\"><h3>Run history:</h3><br/><table class=\"wandb\"><tr><td>epoch</td><td>▁▁▂▂▂▃▃▄▄▄▅▅▅▆▆▇▇▇██</td></tr><tr><td>test_f1</td><td>▁▂▅▁▆▃▆▆▆▇▇▇▇███▇▇██</td></tr><tr><td>test_recall_n</td><td>▅▃▅█▆▆▅▅▄▄▃▁▃▂▂▁▃▂▁▂</td></tr><tr><td>train_f1</td><td>▁▁▂▁▂▃▄▄▅▅▆▆▆▇▇▇▇▇██</td></tr><tr><td>train_loss</td><td>█▆▆▆▅▅▄▄▄▃▃▃▂▂▂▂▁▁▁▁</td></tr><tr><td>train_recall_n</td><td>▆▅▆█▇▅▅▅▄▆▄▁▆▆▅▅▇▇▇▇</td></tr></table><br/></div><div class=\"wandb-col\"><h3>Run summary:</h3><br/><table class=\"wandb\"><tr><td>epoch</td><td>19</td></tr><tr><td>test_f1</td><td>0.76227</td></tr><tr><td>test_recall_n</td><td>0.86155</td></tr><tr><td>train_f1</td><td>0.92719</td></tr><tr><td>train_loss</td><td>0.25357</td></tr><tr><td>train_recall_n</td><td>0.98446</td></tr></table><br/></div></div>"
      ],
      "text/plain": [
       "<IPython.core.display.HTML object>"
      ]
     },
     "metadata": {},
     "output_type": "display_data"
    },
    {
     "data": {
      "text/html": [
       " View run <strong style=\"color:#cdcd00\">LSTM</strong> at: <a href='https://wandb.ai/goodevening13/ml_sys_design/runs/h03rbgsa' target=\"_blank\">https://wandb.ai/goodevening13/ml_sys_design/runs/h03rbgsa</a><br> View project at: <a href='https://wandb.ai/goodevening13/ml_sys_design' target=\"_blank\">https://wandb.ai/goodevening13/ml_sys_design</a><br>Synced 5 W&B file(s), 0 media file(s), 0 artifact file(s) and 0 other file(s)"
      ],
      "text/plain": [
       "<IPython.core.display.HTML object>"
      ]
     },
     "metadata": {},
     "output_type": "display_data"
    },
    {
     "data": {
      "text/html": [
       "Find logs at: <code>./wandb/run-20250325_181905-h03rbgsa/logs</code>"
      ],
      "text/plain": [
       "<IPython.core.display.HTML object>"
      ]
     },
     "metadata": {},
     "output_type": "display_data"
    }
   ],
   "source": [
    "model_lstm = Baseline(embed_dim=64, hidden_size=64, output_size=7, use_rnn=False, num_layers=2).to(device)\n",
    "training_loop(model_lstm, 'LSTM', device, train_loader, test_loader)"
   ]
  },
  {
   "cell_type": "code",
   "execution_count": 5,
   "metadata": {},
   "outputs": [],
   "source": [
    "del model_lstm"
   ]
  },
  {
   "cell_type": "code",
   "execution_count": 6,
   "metadata": {},
   "outputs": [
    {
     "data": {
      "text/html": [
       "Tracking run with wandb version 0.19.8"
      ],
      "text/plain": [
       "<IPython.core.display.HTML object>"
      ]
     },
     "metadata": {},
     "output_type": "display_data"
    },
    {
     "data": {
      "text/html": [
       "Run data is saved locally in <code>/extra_disk_1/alinashutova/last_hse/wandb/run-20250325_182403-948gekhw</code>"
      ],
      "text/plain": [
       "<IPython.core.display.HTML object>"
      ]
     },
     "metadata": {},
     "output_type": "display_data"
    },
    {
     "data": {
      "text/html": [
       "Syncing run <strong><a href='https://wandb.ai/goodevening13/ml_sys_design/runs/948gekhw' target=\"_blank\">CNN</a></strong> to <a href='https://wandb.ai/goodevening13/ml_sys_design' target=\"_blank\">Weights & Biases</a> (<a href='https://wandb.me/developer-guide' target=\"_blank\">docs</a>)<br>"
      ],
      "text/plain": [
       "<IPython.core.display.HTML object>"
      ]
     },
     "metadata": {},
     "output_type": "display_data"
    },
    {
     "data": {
      "text/html": [
       " View project at <a href='https://wandb.ai/goodevening13/ml_sys_design' target=\"_blank\">https://wandb.ai/goodevening13/ml_sys_design</a>"
      ],
      "text/plain": [
       "<IPython.core.display.HTML object>"
      ]
     },
     "metadata": {},
     "output_type": "display_data"
    },
    {
     "data": {
      "text/html": [
       " View run at <a href='https://wandb.ai/goodevening13/ml_sys_design/runs/948gekhw' target=\"_blank\">https://wandb.ai/goodevening13/ml_sys_design/runs/948gekhw</a>"
      ],
      "text/plain": [
       "<IPython.core.display.HTML object>"
      ]
     },
     "metadata": {},
     "output_type": "display_data"
    },
    {
     "name": "stderr",
     "output_type": "stream",
     "text": [
      "100%|██████████| 20/20 [04:44<00:00, 14.23s/it]\n"
     ]
    },
    {
     "data": {
      "text/html": [],
      "text/plain": [
       "<IPython.core.display.HTML object>"
      ]
     },
     "metadata": {},
     "output_type": "display_data"
    },
    {
     "data": {
      "text/html": [
       "<br>    <style><br>        .wandb-row {<br>            display: flex;<br>            flex-direction: row;<br>            flex-wrap: wrap;<br>            justify-content: flex-start;<br>            width: 100%;<br>        }<br>        .wandb-col {<br>            display: flex;<br>            flex-direction: column;<br>            flex-basis: 100%;<br>            flex: 1;<br>            padding: 10px;<br>        }<br>    </style><br><div class=\"wandb-row\"><div class=\"wandb-col\"><h3>Run history:</h3><br/><table class=\"wandb\"><tr><td>epoch</td><td>▁▁▂▂▂▃▃▄▄▄▅▅▅▆▆▇▇▇██</td></tr><tr><td>test_f1</td><td>▁▄▇▄▇▆█▆▆▄▆▇▃▇▅▆▆▄▅▅</td></tr><tr><td>test_recall_n</td><td>▆█▇▄▇▃█▄▆▂▂▅▁▄▂▁▃▃▁▁</td></tr><tr><td>train_f1</td><td>▁▂▂▃▃▄▄▅▅▅▆▆▆▇▇▇████</td></tr><tr><td>train_loss</td><td>█▇▆▆▅▅▅▄▄▄▃▃▃▂▂▂▂▁▁▁</td></tr><tr><td>train_recall_n</td><td>▇▇▇▄▆▂█▃▆▁▄▇▃▇▆▅▇█▇▆</td></tr></table><br/></div><div class=\"wandb-col\"><h3>Run summary:</h3><br/><table class=\"wandb\"><tr><td>epoch</td><td>19</td></tr><tr><td>test_f1</td><td>0.72833</td></tr><tr><td>test_recall_n</td><td>0.81673</td></tr><tr><td>train_f1</td><td>0.93503</td></tr><tr><td>train_loss</td><td>0.23738</td></tr><tr><td>train_recall_n</td><td>0.96582</td></tr></table><br/></div></div>"
      ],
      "text/plain": [
       "<IPython.core.display.HTML object>"
      ]
     },
     "metadata": {},
     "output_type": "display_data"
    },
    {
     "data": {
      "text/html": [
       " View run <strong style=\"color:#cdcd00\">CNN</strong> at: <a href='https://wandb.ai/goodevening13/ml_sys_design/runs/948gekhw' target=\"_blank\">https://wandb.ai/goodevening13/ml_sys_design/runs/948gekhw</a><br> View project at: <a href='https://wandb.ai/goodevening13/ml_sys_design' target=\"_blank\">https://wandb.ai/goodevening13/ml_sys_design</a><br>Synced 5 W&B file(s), 0 media file(s), 0 artifact file(s) and 0 other file(s)"
      ],
      "text/plain": [
       "<IPython.core.display.HTML object>"
      ]
     },
     "metadata": {},
     "output_type": "display_data"
    },
    {
     "data": {
      "text/html": [
       "Find logs at: <code>./wandb/run-20250325_182403-948gekhw/logs</code>"
      ],
      "text/plain": [
       "<IPython.core.display.HTML object>"
      ]
     },
     "metadata": {},
     "output_type": "display_data"
    }
   ],
   "source": [
    "model_cnn = TextCNN(embed_dim=64, output_size=7).to(device)\n",
    "training_loop(model_cnn, 'CNN', device, train_loader, test_loader)"
   ]
  },
  {
   "cell_type": "code",
   "execution_count": 7,
   "metadata": {},
   "outputs": [],
   "source": [
    "del model_cnn"
   ]
  },
  {
   "cell_type": "code",
   "execution_count": 8,
   "metadata": {},
   "outputs": [
    {
     "data": {
      "text/html": [
       "Tracking run with wandb version 0.19.8"
      ],
      "text/plain": [
       "<IPython.core.display.HTML object>"
      ]
     },
     "metadata": {},
     "output_type": "display_data"
    },
    {
     "data": {
      "text/html": [
       "Run data is saved locally in <code>/extra_disk_1/alinashutova/last_hse/wandb/run-20250325_182850-zqzoe5qt</code>"
      ],
      "text/plain": [
       "<IPython.core.display.HTML object>"
      ]
     },
     "metadata": {},
     "output_type": "display_data"
    },
    {
     "data": {
      "text/html": [
       "Syncing run <strong><a href='https://wandb.ai/goodevening13/ml_sys_design/runs/zqzoe5qt' target=\"_blank\">SmallTransformer</a></strong> to <a href='https://wandb.ai/goodevening13/ml_sys_design' target=\"_blank\">Weights & Biases</a> (<a href='https://wandb.me/developer-guide' target=\"_blank\">docs</a>)<br>"
      ],
      "text/plain": [
       "<IPython.core.display.HTML object>"
      ]
     },
     "metadata": {},
     "output_type": "display_data"
    },
    {
     "data": {
      "text/html": [
       " View project at <a href='https://wandb.ai/goodevening13/ml_sys_design' target=\"_blank\">https://wandb.ai/goodevening13/ml_sys_design</a>"
      ],
      "text/plain": [
       "<IPython.core.display.HTML object>"
      ]
     },
     "metadata": {},
     "output_type": "display_data"
    },
    {
     "data": {
      "text/html": [
       " View run at <a href='https://wandb.ai/goodevening13/ml_sys_design/runs/zqzoe5qt' target=\"_blank\">https://wandb.ai/goodevening13/ml_sys_design/runs/zqzoe5qt</a>"
      ],
      "text/plain": [
       "<IPython.core.display.HTML object>"
      ]
     },
     "metadata": {},
     "output_type": "display_data"
    },
    {
     "name": "stderr",
     "output_type": "stream",
     "text": [
      "100%|██████████| 20/20 [05:26<00:00, 16.32s/it]\n"
     ]
    },
    {
     "data": {
      "text/html": [],
      "text/plain": [
       "<IPython.core.display.HTML object>"
      ]
     },
     "metadata": {},
     "output_type": "display_data"
    },
    {
     "data": {
      "text/html": [
       "<br>    <style><br>        .wandb-row {<br>            display: flex;<br>            flex-direction: row;<br>            flex-wrap: wrap;<br>            justify-content: flex-start;<br>            width: 100%;<br>        }<br>        .wandb-col {<br>            display: flex;<br>            flex-direction: column;<br>            flex-basis: 100%;<br>            flex: 1;<br>            padding: 10px;<br>        }<br>    </style><br><div class=\"wandb-row\"><div class=\"wandb-col\"><h3>Run history:</h3><br/><table class=\"wandb\"><tr><td>epoch</td><td>▁▁▂▂▂▃▃▄▄▄▅▅▅▆▆▇▇▇██</td></tr><tr><td>test_f1</td><td>▁▂▃▅▅▇▇▇▇██████▇█▇██</td></tr><tr><td>test_recall_n</td><td>▅▅▆█▇▇▇▇▄▅▄▄▄▃▆▃▅▁▃▃</td></tr><tr><td>train_f1</td><td>▁▁▂▂▂▃▃▄▅▅▆▆▆▇▇▇▇███</td></tr><tr><td>train_loss</td><td>█▇▆▆▅▅▅▄▄▄▃▃▃▂▂▂▂▁▁▁</td></tr><tr><td>train_recall_n</td><td>▃▆▅█▇▅▇▇▁▂▃▄▂▃▆▄▆▁▄▆</td></tr></table><br/></div><div class=\"wandb-col\"><h3>Run summary:</h3><br/><table class=\"wandb\"><tr><td>epoch</td><td>19</td></tr><tr><td>test_f1</td><td>0.74093</td></tr><tr><td>test_recall_n</td><td>0.84064</td></tr><tr><td>train_f1</td><td>0.93329</td></tr><tr><td>train_loss</td><td>0.28997</td></tr><tr><td>train_recall_n</td><td>0.9836</td></tr></table><br/></div></div>"
      ],
      "text/plain": [
       "<IPython.core.display.HTML object>"
      ]
     },
     "metadata": {},
     "output_type": "display_data"
    },
    {
     "data": {
      "text/html": [
       " View run <strong style=\"color:#cdcd00\">SmallTransformer</strong> at: <a href='https://wandb.ai/goodevening13/ml_sys_design/runs/zqzoe5qt' target=\"_blank\">https://wandb.ai/goodevening13/ml_sys_design/runs/zqzoe5qt</a><br> View project at: <a href='https://wandb.ai/goodevening13/ml_sys_design' target=\"_blank\">https://wandb.ai/goodevening13/ml_sys_design</a><br>Synced 5 W&B file(s), 0 media file(s), 0 artifact file(s) and 0 other file(s)"
      ],
      "text/plain": [
       "<IPython.core.display.HTML object>"
      ]
     },
     "metadata": {},
     "output_type": "display_data"
    },
    {
     "data": {
      "text/html": [
       "Find logs at: <code>./wandb/run-20250325_182850-zqzoe5qt/logs</code>"
      ],
      "text/plain": [
       "<IPython.core.display.HTML object>"
      ]
     },
     "metadata": {},
     "output_type": "display_data"
    }
   ],
   "source": [
    "model_t = SmallTransformer(embed_dim=64, num_heads=2, hidden_dim=64, output_size=7).to(device)\n",
    "training_loop(model_t, 'SmallTransformer', device, train_loader, test_loader)"
   ]
  },
  {
   "cell_type": "code",
   "execution_count": 9,
   "metadata": {},
   "outputs": [],
   "source": [
    "del model_t"
   ]
  },
  {
   "cell_type": "code",
   "execution_count": 4,
   "metadata": {},
   "outputs": [],
   "source": [
    "used_tokenizer = AutoTokenizer.from_pretrained('unsloth/Meta-Llama-3.1-8B-Instruct')\n",
    "\n",
    "def decode(ids):\n",
    "    return used_tokenizer.decode(ids)\n",
    "\n",
    "train_ds['text'] = train_ds['embs'].apply(decode)\n",
    "val_ds['text'] = val_ds['embs'].apply(decode)\n",
    "test_ds['text'] = test_ds['embs'].apply(decode)"
   ]
  },
  {
   "cell_type": "code",
   "execution_count": 5,
   "metadata": {},
   "outputs": [
    {
     "data": {
      "text/html": [
       "<style>#sk-container-id-1 {\n",
       "  /* Definition of color scheme common for light and dark mode */\n",
       "  --sklearn-color-text: #000;\n",
       "  --sklearn-color-text-muted: #666;\n",
       "  --sklearn-color-line: gray;\n",
       "  /* Definition of color scheme for unfitted estimators */\n",
       "  --sklearn-color-unfitted-level-0: #fff5e6;\n",
       "  --sklearn-color-unfitted-level-1: #f6e4d2;\n",
       "  --sklearn-color-unfitted-level-2: #ffe0b3;\n",
       "  --sklearn-color-unfitted-level-3: chocolate;\n",
       "  /* Definition of color scheme for fitted estimators */\n",
       "  --sklearn-color-fitted-level-0: #f0f8ff;\n",
       "  --sklearn-color-fitted-level-1: #d4ebff;\n",
       "  --sklearn-color-fitted-level-2: #b3dbfd;\n",
       "  --sklearn-color-fitted-level-3: cornflowerblue;\n",
       "\n",
       "  /* Specific color for light theme */\n",
       "  --sklearn-color-text-on-default-background: var(--sg-text-color, var(--theme-code-foreground, var(--jp-content-font-color1, black)));\n",
       "  --sklearn-color-background: var(--sg-background-color, var(--theme-background, var(--jp-layout-color0, white)));\n",
       "  --sklearn-color-border-box: var(--sg-text-color, var(--theme-code-foreground, var(--jp-content-font-color1, black)));\n",
       "  --sklearn-color-icon: #696969;\n",
       "\n",
       "  @media (prefers-color-scheme: dark) {\n",
       "    /* Redefinition of color scheme for dark theme */\n",
       "    --sklearn-color-text-on-default-background: var(--sg-text-color, var(--theme-code-foreground, var(--jp-content-font-color1, white)));\n",
       "    --sklearn-color-background: var(--sg-background-color, var(--theme-background, var(--jp-layout-color0, #111)));\n",
       "    --sklearn-color-border-box: var(--sg-text-color, var(--theme-code-foreground, var(--jp-content-font-color1, white)));\n",
       "    --sklearn-color-icon: #878787;\n",
       "  }\n",
       "}\n",
       "\n",
       "#sk-container-id-1 {\n",
       "  color: var(--sklearn-color-text);\n",
       "}\n",
       "\n",
       "#sk-container-id-1 pre {\n",
       "  padding: 0;\n",
       "}\n",
       "\n",
       "#sk-container-id-1 input.sk-hidden--visually {\n",
       "  border: 0;\n",
       "  clip: rect(1px 1px 1px 1px);\n",
       "  clip: rect(1px, 1px, 1px, 1px);\n",
       "  height: 1px;\n",
       "  margin: -1px;\n",
       "  overflow: hidden;\n",
       "  padding: 0;\n",
       "  position: absolute;\n",
       "  width: 1px;\n",
       "}\n",
       "\n",
       "#sk-container-id-1 div.sk-dashed-wrapped {\n",
       "  border: 1px dashed var(--sklearn-color-line);\n",
       "  margin: 0 0.4em 0.5em 0.4em;\n",
       "  box-sizing: border-box;\n",
       "  padding-bottom: 0.4em;\n",
       "  background-color: var(--sklearn-color-background);\n",
       "}\n",
       "\n",
       "#sk-container-id-1 div.sk-container {\n",
       "  /* jupyter's `normalize.less` sets `[hidden] { display: none; }`\n",
       "     but bootstrap.min.css set `[hidden] { display: none !important; }`\n",
       "     so we also need the `!important` here to be able to override the\n",
       "     default hidden behavior on the sphinx rendered scikit-learn.org.\n",
       "     See: https://github.com/scikit-learn/scikit-learn/issues/21755 */\n",
       "  display: inline-block !important;\n",
       "  position: relative;\n",
       "}\n",
       "\n",
       "#sk-container-id-1 div.sk-text-repr-fallback {\n",
       "  display: none;\n",
       "}\n",
       "\n",
       "div.sk-parallel-item,\n",
       "div.sk-serial,\n",
       "div.sk-item {\n",
       "  /* draw centered vertical line to link estimators */\n",
       "  background-image: linear-gradient(var(--sklearn-color-text-on-default-background), var(--sklearn-color-text-on-default-background));\n",
       "  background-size: 2px 100%;\n",
       "  background-repeat: no-repeat;\n",
       "  background-position: center center;\n",
       "}\n",
       "\n",
       "/* Parallel-specific style estimator block */\n",
       "\n",
       "#sk-container-id-1 div.sk-parallel-item::after {\n",
       "  content: \"\";\n",
       "  width: 100%;\n",
       "  border-bottom: 2px solid var(--sklearn-color-text-on-default-background);\n",
       "  flex-grow: 1;\n",
       "}\n",
       "\n",
       "#sk-container-id-1 div.sk-parallel {\n",
       "  display: flex;\n",
       "  align-items: stretch;\n",
       "  justify-content: center;\n",
       "  background-color: var(--sklearn-color-background);\n",
       "  position: relative;\n",
       "}\n",
       "\n",
       "#sk-container-id-1 div.sk-parallel-item {\n",
       "  display: flex;\n",
       "  flex-direction: column;\n",
       "}\n",
       "\n",
       "#sk-container-id-1 div.sk-parallel-item:first-child::after {\n",
       "  align-self: flex-end;\n",
       "  width: 50%;\n",
       "}\n",
       "\n",
       "#sk-container-id-1 div.sk-parallel-item:last-child::after {\n",
       "  align-self: flex-start;\n",
       "  width: 50%;\n",
       "}\n",
       "\n",
       "#sk-container-id-1 div.sk-parallel-item:only-child::after {\n",
       "  width: 0;\n",
       "}\n",
       "\n",
       "/* Serial-specific style estimator block */\n",
       "\n",
       "#sk-container-id-1 div.sk-serial {\n",
       "  display: flex;\n",
       "  flex-direction: column;\n",
       "  align-items: center;\n",
       "  background-color: var(--sklearn-color-background);\n",
       "  padding-right: 1em;\n",
       "  padding-left: 1em;\n",
       "}\n",
       "\n",
       "\n",
       "/* Toggleable style: style used for estimator/Pipeline/ColumnTransformer box that is\n",
       "clickable and can be expanded/collapsed.\n",
       "- Pipeline and ColumnTransformer use this feature and define the default style\n",
       "- Estimators will overwrite some part of the style using the `sk-estimator` class\n",
       "*/\n",
       "\n",
       "/* Pipeline and ColumnTransformer style (default) */\n",
       "\n",
       "#sk-container-id-1 div.sk-toggleable {\n",
       "  /* Default theme specific background. It is overwritten whether we have a\n",
       "  specific estimator or a Pipeline/ColumnTransformer */\n",
       "  background-color: var(--sklearn-color-background);\n",
       "}\n",
       "\n",
       "/* Toggleable label */\n",
       "#sk-container-id-1 label.sk-toggleable__label {\n",
       "  cursor: pointer;\n",
       "  display: flex;\n",
       "  width: 100%;\n",
       "  margin-bottom: 0;\n",
       "  padding: 0.5em;\n",
       "  box-sizing: border-box;\n",
       "  text-align: center;\n",
       "  align-items: start;\n",
       "  justify-content: space-between;\n",
       "  gap: 0.5em;\n",
       "}\n",
       "\n",
       "#sk-container-id-1 label.sk-toggleable__label .caption {\n",
       "  font-size: 0.6rem;\n",
       "  font-weight: lighter;\n",
       "  color: var(--sklearn-color-text-muted);\n",
       "}\n",
       "\n",
       "#sk-container-id-1 label.sk-toggleable__label-arrow:before {\n",
       "  /* Arrow on the left of the label */\n",
       "  content: \"▸\";\n",
       "  float: left;\n",
       "  margin-right: 0.25em;\n",
       "  color: var(--sklearn-color-icon);\n",
       "}\n",
       "\n",
       "#sk-container-id-1 label.sk-toggleable__label-arrow:hover:before {\n",
       "  color: var(--sklearn-color-text);\n",
       "}\n",
       "\n",
       "/* Toggleable content - dropdown */\n",
       "\n",
       "#sk-container-id-1 div.sk-toggleable__content {\n",
       "  max-height: 0;\n",
       "  max-width: 0;\n",
       "  overflow: hidden;\n",
       "  text-align: left;\n",
       "  /* unfitted */\n",
       "  background-color: var(--sklearn-color-unfitted-level-0);\n",
       "}\n",
       "\n",
       "#sk-container-id-1 div.sk-toggleable__content.fitted {\n",
       "  /* fitted */\n",
       "  background-color: var(--sklearn-color-fitted-level-0);\n",
       "}\n",
       "\n",
       "#sk-container-id-1 div.sk-toggleable__content pre {\n",
       "  margin: 0.2em;\n",
       "  border-radius: 0.25em;\n",
       "  color: var(--sklearn-color-text);\n",
       "  /* unfitted */\n",
       "  background-color: var(--sklearn-color-unfitted-level-0);\n",
       "}\n",
       "\n",
       "#sk-container-id-1 div.sk-toggleable__content.fitted pre {\n",
       "  /* unfitted */\n",
       "  background-color: var(--sklearn-color-fitted-level-0);\n",
       "}\n",
       "\n",
       "#sk-container-id-1 input.sk-toggleable__control:checked~div.sk-toggleable__content {\n",
       "  /* Expand drop-down */\n",
       "  max-height: 200px;\n",
       "  max-width: 100%;\n",
       "  overflow: auto;\n",
       "}\n",
       "\n",
       "#sk-container-id-1 input.sk-toggleable__control:checked~label.sk-toggleable__label-arrow:before {\n",
       "  content: \"▾\";\n",
       "}\n",
       "\n",
       "/* Pipeline/ColumnTransformer-specific style */\n",
       "\n",
       "#sk-container-id-1 div.sk-label input.sk-toggleable__control:checked~label.sk-toggleable__label {\n",
       "  color: var(--sklearn-color-text);\n",
       "  background-color: var(--sklearn-color-unfitted-level-2);\n",
       "}\n",
       "\n",
       "#sk-container-id-1 div.sk-label.fitted input.sk-toggleable__control:checked~label.sk-toggleable__label {\n",
       "  background-color: var(--sklearn-color-fitted-level-2);\n",
       "}\n",
       "\n",
       "/* Estimator-specific style */\n",
       "\n",
       "/* Colorize estimator box */\n",
       "#sk-container-id-1 div.sk-estimator input.sk-toggleable__control:checked~label.sk-toggleable__label {\n",
       "  /* unfitted */\n",
       "  background-color: var(--sklearn-color-unfitted-level-2);\n",
       "}\n",
       "\n",
       "#sk-container-id-1 div.sk-estimator.fitted input.sk-toggleable__control:checked~label.sk-toggleable__label {\n",
       "  /* fitted */\n",
       "  background-color: var(--sklearn-color-fitted-level-2);\n",
       "}\n",
       "\n",
       "#sk-container-id-1 div.sk-label label.sk-toggleable__label,\n",
       "#sk-container-id-1 div.sk-label label {\n",
       "  /* The background is the default theme color */\n",
       "  color: var(--sklearn-color-text-on-default-background);\n",
       "}\n",
       "\n",
       "/* On hover, darken the color of the background */\n",
       "#sk-container-id-1 div.sk-label:hover label.sk-toggleable__label {\n",
       "  color: var(--sklearn-color-text);\n",
       "  background-color: var(--sklearn-color-unfitted-level-2);\n",
       "}\n",
       "\n",
       "/* Label box, darken color on hover, fitted */\n",
       "#sk-container-id-1 div.sk-label.fitted:hover label.sk-toggleable__label.fitted {\n",
       "  color: var(--sklearn-color-text);\n",
       "  background-color: var(--sklearn-color-fitted-level-2);\n",
       "}\n",
       "\n",
       "/* Estimator label */\n",
       "\n",
       "#sk-container-id-1 div.sk-label label {\n",
       "  font-family: monospace;\n",
       "  font-weight: bold;\n",
       "  display: inline-block;\n",
       "  line-height: 1.2em;\n",
       "}\n",
       "\n",
       "#sk-container-id-1 div.sk-label-container {\n",
       "  text-align: center;\n",
       "}\n",
       "\n",
       "/* Estimator-specific */\n",
       "#sk-container-id-1 div.sk-estimator {\n",
       "  font-family: monospace;\n",
       "  border: 1px dotted var(--sklearn-color-border-box);\n",
       "  border-radius: 0.25em;\n",
       "  box-sizing: border-box;\n",
       "  margin-bottom: 0.5em;\n",
       "  /* unfitted */\n",
       "  background-color: var(--sklearn-color-unfitted-level-0);\n",
       "}\n",
       "\n",
       "#sk-container-id-1 div.sk-estimator.fitted {\n",
       "  /* fitted */\n",
       "  background-color: var(--sklearn-color-fitted-level-0);\n",
       "}\n",
       "\n",
       "/* on hover */\n",
       "#sk-container-id-1 div.sk-estimator:hover {\n",
       "  /* unfitted */\n",
       "  background-color: var(--sklearn-color-unfitted-level-2);\n",
       "}\n",
       "\n",
       "#sk-container-id-1 div.sk-estimator.fitted:hover {\n",
       "  /* fitted */\n",
       "  background-color: var(--sklearn-color-fitted-level-2);\n",
       "}\n",
       "\n",
       "/* Specification for estimator info (e.g. \"i\" and \"?\") */\n",
       "\n",
       "/* Common style for \"i\" and \"?\" */\n",
       "\n",
       ".sk-estimator-doc-link,\n",
       "a:link.sk-estimator-doc-link,\n",
       "a:visited.sk-estimator-doc-link {\n",
       "  float: right;\n",
       "  font-size: smaller;\n",
       "  line-height: 1em;\n",
       "  font-family: monospace;\n",
       "  background-color: var(--sklearn-color-background);\n",
       "  border-radius: 1em;\n",
       "  height: 1em;\n",
       "  width: 1em;\n",
       "  text-decoration: none !important;\n",
       "  margin-left: 0.5em;\n",
       "  text-align: center;\n",
       "  /* unfitted */\n",
       "  border: var(--sklearn-color-unfitted-level-1) 1pt solid;\n",
       "  color: var(--sklearn-color-unfitted-level-1);\n",
       "}\n",
       "\n",
       ".sk-estimator-doc-link.fitted,\n",
       "a:link.sk-estimator-doc-link.fitted,\n",
       "a:visited.sk-estimator-doc-link.fitted {\n",
       "  /* fitted */\n",
       "  border: var(--sklearn-color-fitted-level-1) 1pt solid;\n",
       "  color: var(--sklearn-color-fitted-level-1);\n",
       "}\n",
       "\n",
       "/* On hover */\n",
       "div.sk-estimator:hover .sk-estimator-doc-link:hover,\n",
       ".sk-estimator-doc-link:hover,\n",
       "div.sk-label-container:hover .sk-estimator-doc-link:hover,\n",
       ".sk-estimator-doc-link:hover {\n",
       "  /* unfitted */\n",
       "  background-color: var(--sklearn-color-unfitted-level-3);\n",
       "  color: var(--sklearn-color-background);\n",
       "  text-decoration: none;\n",
       "}\n",
       "\n",
       "div.sk-estimator.fitted:hover .sk-estimator-doc-link.fitted:hover,\n",
       ".sk-estimator-doc-link.fitted:hover,\n",
       "div.sk-label-container:hover .sk-estimator-doc-link.fitted:hover,\n",
       ".sk-estimator-doc-link.fitted:hover {\n",
       "  /* fitted */\n",
       "  background-color: var(--sklearn-color-fitted-level-3);\n",
       "  color: var(--sklearn-color-background);\n",
       "  text-decoration: none;\n",
       "}\n",
       "\n",
       "/* Span, style for the box shown on hovering the info icon */\n",
       ".sk-estimator-doc-link span {\n",
       "  display: none;\n",
       "  z-index: 9999;\n",
       "  position: relative;\n",
       "  font-weight: normal;\n",
       "  right: .2ex;\n",
       "  padding: .5ex;\n",
       "  margin: .5ex;\n",
       "  width: min-content;\n",
       "  min-width: 20ex;\n",
       "  max-width: 50ex;\n",
       "  color: var(--sklearn-color-text);\n",
       "  box-shadow: 2pt 2pt 4pt #999;\n",
       "  /* unfitted */\n",
       "  background: var(--sklearn-color-unfitted-level-0);\n",
       "  border: .5pt solid var(--sklearn-color-unfitted-level-3);\n",
       "}\n",
       "\n",
       ".sk-estimator-doc-link.fitted span {\n",
       "  /* fitted */\n",
       "  background: var(--sklearn-color-fitted-level-0);\n",
       "  border: var(--sklearn-color-fitted-level-3);\n",
       "}\n",
       "\n",
       ".sk-estimator-doc-link:hover span {\n",
       "  display: block;\n",
       "}\n",
       "\n",
       "/* \"?\"-specific style due to the `<a>` HTML tag */\n",
       "\n",
       "#sk-container-id-1 a.estimator_doc_link {\n",
       "  float: right;\n",
       "  font-size: 1rem;\n",
       "  line-height: 1em;\n",
       "  font-family: monospace;\n",
       "  background-color: var(--sklearn-color-background);\n",
       "  border-radius: 1rem;\n",
       "  height: 1rem;\n",
       "  width: 1rem;\n",
       "  text-decoration: none;\n",
       "  /* unfitted */\n",
       "  color: var(--sklearn-color-unfitted-level-1);\n",
       "  border: var(--sklearn-color-unfitted-level-1) 1pt solid;\n",
       "}\n",
       "\n",
       "#sk-container-id-1 a.estimator_doc_link.fitted {\n",
       "  /* fitted */\n",
       "  border: var(--sklearn-color-fitted-level-1) 1pt solid;\n",
       "  color: var(--sklearn-color-fitted-level-1);\n",
       "}\n",
       "\n",
       "/* On hover */\n",
       "#sk-container-id-1 a.estimator_doc_link:hover {\n",
       "  /* unfitted */\n",
       "  background-color: var(--sklearn-color-unfitted-level-3);\n",
       "  color: var(--sklearn-color-background);\n",
       "  text-decoration: none;\n",
       "}\n",
       "\n",
       "#sk-container-id-1 a.estimator_doc_link.fitted:hover {\n",
       "  /* fitted */\n",
       "  background-color: var(--sklearn-color-fitted-level-3);\n",
       "}\n",
       "</style><div id=\"sk-container-id-1\" class=\"sk-top-container\"><div class=\"sk-text-repr-fallback\"><pre>LogisticRegression(max_iter=500)</pre><b>In a Jupyter environment, please rerun this cell to show the HTML representation or trust the notebook. <br />On GitHub, the HTML representation is unable to render, please try loading this page with nbviewer.org.</b></div><div class=\"sk-container\" hidden><div class=\"sk-item\"><div class=\"sk-estimator fitted sk-toggleable\"><input class=\"sk-toggleable__control sk-hidden--visually\" id=\"sk-estimator-id-1\" type=\"checkbox\" checked><label for=\"sk-estimator-id-1\" class=\"sk-toggleable__label fitted sk-toggleable__label-arrow\"><div><div>LogisticRegression</div></div><div><a class=\"sk-estimator-doc-link fitted\" rel=\"noreferrer\" target=\"_blank\" href=\"https://scikit-learn.org/1.6/modules/generated/sklearn.linear_model.LogisticRegression.html\">?<span>Documentation for LogisticRegression</span></a><span class=\"sk-estimator-doc-link fitted\">i<span>Fitted</span></span></div></label><div class=\"sk-toggleable__content fitted\"><pre>LogisticRegression(max_iter=500)</pre></div> </div></div></div></div>"
      ],
      "text/plain": [
       "LogisticRegression(max_iter=500)"
      ]
     },
     "execution_count": 5,
     "metadata": {},
     "output_type": "execute_result"
    }
   ],
   "source": [
    "vectorizer = TfidfVectorizer(max_features=128256)\n",
    "X_train = vectorizer.fit_transform(train_ds['text'])\n",
    "model = LogisticRegression(max_iter=500)\n",
    "model.fit(X_train, train_ds['enc_label'])"
   ]
  },
  {
   "cell_type": "code",
   "execution_count": 6,
   "metadata": {},
   "outputs": [],
   "source": [
    "predictions = model.predict(X_train)\n",
    "X_test = vectorizer.transform(test_ds['text'])\n",
    "predictions_test = model.predict(X_test)"
   ]
  },
  {
   "cell_type": "code",
   "execution_count": 7,
   "metadata": {},
   "outputs": [],
   "source": [
    "labels = train_ds['enc_label'].to_numpy()\n",
    "labels_test = test_ds['enc_label'].to_numpy()"
   ]
  },
  {
   "cell_type": "code",
   "execution_count": 8,
   "metadata": {},
   "outputs": [
    {
     "name": "stderr",
     "output_type": "stream",
     "text": [
      "\u001b[34m\u001b[1mwandb\u001b[0m: Using wandb-core as the SDK backend.  Please refer to https://wandb.me/wandb-core for more information.\n",
      "\u001b[34m\u001b[1mwandb\u001b[0m: Currently logged in as: \u001b[33mgoodevening13\u001b[0m to \u001b[32mhttps://api.wandb.ai\u001b[0m. Use \u001b[1m`wandb login --relogin`\u001b[0m to force relogin\n"
     ]
    },
    {
     "data": {
      "text/html": [
       "Tracking run with wandb version 0.19.8"
      ],
      "text/plain": [
       "<IPython.core.display.HTML object>"
      ]
     },
     "metadata": {},
     "output_type": "display_data"
    },
    {
     "data": {
      "text/html": [
       "Run data is saved locally in <code>/extra_disk_1/alinashutova/last_hse/wandb/run-20250326_012105-z2mxqhoy</code>"
      ],
      "text/plain": [
       "<IPython.core.display.HTML object>"
      ]
     },
     "metadata": {},
     "output_type": "display_data"
    },
    {
     "data": {
      "text/html": [
       "Syncing run <strong><a href='https://wandb.ai/goodevening13/ml_sys_design/runs/z2mxqhoy' target=\"_blank\">TF-IDF Classifier</a></strong> to <a href='https://wandb.ai/goodevening13/ml_sys_design' target=\"_blank\">Weights & Biases</a> (<a href='https://wandb.me/developer-guide' target=\"_blank\">docs</a>)<br>"
      ],
      "text/plain": [
       "<IPython.core.display.HTML object>"
      ]
     },
     "metadata": {},
     "output_type": "display_data"
    },
    {
     "data": {
      "text/html": [
       " View project at <a href='https://wandb.ai/goodevening13/ml_sys_design' target=\"_blank\">https://wandb.ai/goodevening13/ml_sys_design</a>"
      ],
      "text/plain": [
       "<IPython.core.display.HTML object>"
      ]
     },
     "metadata": {},
     "output_type": "display_data"
    },
    {
     "data": {
      "text/html": [
       " View run at <a href='https://wandb.ai/goodevening13/ml_sys_design/runs/z2mxqhoy' target=\"_blank\">https://wandb.ai/goodevening13/ml_sys_design/runs/z2mxqhoy</a>"
      ],
      "text/plain": [
       "<IPython.core.display.HTML object>"
      ]
     },
     "metadata": {},
     "output_type": "display_data"
    },
    {
     "data": {
      "text/html": [],
      "text/plain": [
       "<IPython.core.display.HTML object>"
      ]
     },
     "metadata": {},
     "output_type": "display_data"
    },
    {
     "data": {
      "text/html": [
       "<br>    <style><br>        .wandb-row {<br>            display: flex;<br>            flex-direction: row;<br>            flex-wrap: wrap;<br>            justify-content: flex-start;<br>            width: 100%;<br>        }<br>        .wandb-col {<br>            display: flex;<br>            flex-direction: column;<br>            flex-basis: 100%;<br>            flex: 1;<br>            padding: 10px;<br>        }<br>    </style><br><div class=\"wandb-row\"><div class=\"wandb-col\"><h3>Run history:</h3><br/><table class=\"wandb\"><tr><td>epoch</td><td>▁▁▂▂▂▃▃▄▄▄▅▅▅▆▆▇▇▇██</td></tr><tr><td>test_f1</td><td>▁▁▁▁▁▁▁▁▁▁▁▁▁▁▁▁▁▁▁▁</td></tr><tr><td>test_recall_n</td><td>▁▁▁▁▁▁▁▁▁▁▁▁▁▁▁▁▁▁▁▁</td></tr><tr><td>train_f1</td><td>▁▁▁▁▁▁▁▁▁▁▁▁▁▁▁▁▁▁▁▁</td></tr><tr><td>train_loss</td><td>▁▁▁▁▁▁▁▁▁▁▁▁▁▁▁▁▁▁▁▁</td></tr><tr><td>train_recall_n</td><td>▁▁▁▁▁▁▁▁▁▁▁▁▁▁▁▁▁▁▁▁</td></tr></table><br/></div><div class=\"wandb-col\"><h3>Run summary:</h3><br/><table class=\"wandb\"><tr><td>epoch</td><td>19</td></tr><tr><td>test_f1</td><td>0.75609</td></tr><tr><td>test_recall_n</td><td>0.96713</td></tr><tr><td>train_f1</td><td>0.78055</td></tr><tr><td>train_loss</td><td>0</td></tr><tr><td>train_recall_n</td><td>0.99032</td></tr></table><br/></div></div>"
      ],
      "text/plain": [
       "<IPython.core.display.HTML object>"
      ]
     },
     "metadata": {},
     "output_type": "display_data"
    },
    {
     "data": {
      "text/html": [
       " View run <strong style=\"color:#cdcd00\">TF-IDF Classifier</strong> at: <a href='https://wandb.ai/goodevening13/ml_sys_design/runs/z2mxqhoy' target=\"_blank\">https://wandb.ai/goodevening13/ml_sys_design/runs/z2mxqhoy</a><br> View project at: <a href='https://wandb.ai/goodevening13/ml_sys_design' target=\"_blank\">https://wandb.ai/goodevening13/ml_sys_design</a><br>Synced 5 W&B file(s), 0 media file(s), 0 artifact file(s) and 0 other file(s)"
      ],
      "text/plain": [
       "<IPython.core.display.HTML object>"
      ]
     },
     "metadata": {},
     "output_type": "display_data"
    },
    {
     "data": {
      "text/html": [
       "Find logs at: <code>./wandb/run-20250326_012105-z2mxqhoy/logs</code>"
      ],
      "text/plain": [
       "<IPython.core.display.HTML object>"
      ]
     },
     "metadata": {},
     "output_type": "display_data"
    }
   ],
   "source": [
    "import wandb\n",
    "from torcheval.metrics.functional import multiclass_f1_score\n",
    "def calculate_recall_normal(predictions, labels):\n",
    "    normal_idx = [i for i in range(len(labels)) if labels[i] == 1.]\n",
    "    recall_normal = sum([1 if predictions[idx] == 1. else 0 for idx in normal_idx]) / len(normal_idx)\n",
    "    return recall_normal\n",
    "\n",
    "f1_train = multiclass_f1_score(torch.Tensor(predictions).to(dtype=torch.int64),\n",
    "                               torch.Tensor(labels).to(dtype=torch.int64), average='weighted', num_classes=7)\n",
    "\n",
    "f1_test = multiclass_f1_score(torch.Tensor(predictions_test).to(dtype=torch.int64), \n",
    "                               torch.Tensor(labels_test).to(dtype=torch.int64), average='weighted', num_classes=7)\n",
    "recall_n_train = calculate_recall_normal(predictions, labels)\n",
    "recall_n_test = calculate_recall_normal(predictions_test, labels_test)\n",
    "\n",
    "wandb.init(\n",
    "        project=\"ml_sys_design\",\n",
    "        name='TF-IDF Classifier',\n",
    "        group='model_comparison'\n",
    "    )\n",
    "for i in range(20):\n",
    "    wandb.log({\n",
    "            \"epoch\": i,\n",
    "            \"train_loss\": 0,\n",
    "            \"train_recall_n\": recall_n_train,\n",
    "            \"train_f1\": f1_train,\n",
    "            \"test_recall_n\": recall_n_test,\n",
    "            \"test_f1\": f1_test,\n",
    "        })\n",
    "wandb.finish()"
   ]
  },
  {
   "cell_type": "markdown",
   "metadata": {},
   "source": [
    "## 2. Эксперименты с моделями с тюнингом гиперпараметров  (4 балла)"
   ]
  },
  {
   "cell_type": "markdown",
   "metadata": {},
   "source": [
    "берем две модели: LSTM и SmallTransformer\n",
    "\n",
    "Сначала подбираем параметры для LSTM"
   ]
  },
  {
   "cell_type": "code",
   "execution_count": 5,
   "metadata": {},
   "outputs": [
    {
     "name": "stderr",
     "output_type": "stream",
     "text": [
      "[I 2025-03-25 20:43:26,520] A new study created in memory with name: no-name-200122c6-00cc-4c72-9ae2-89d0deb956e1\n",
      "\u001b[34m\u001b[1mwandb\u001b[0m: Using wandb-core as the SDK backend.  Please refer to https://wandb.me/wandb-core for more information.\n",
      "\u001b[34m\u001b[1mwandb\u001b[0m: Currently logged in as: \u001b[33mgoodevening13\u001b[0m to \u001b[32mhttps://api.wandb.ai\u001b[0m. Use \u001b[1m`wandb login --relogin`\u001b[0m to force relogin\n"
     ]
    },
    {
     "data": {
      "text/html": [
       "Tracking run with wandb version 0.19.8"
      ],
      "text/plain": [
       "<IPython.core.display.HTML object>"
      ]
     },
     "metadata": {},
     "output_type": "display_data"
    },
    {
     "data": {
      "text/html": [
       "Run data is saved locally in <code>/extra_disk_1/alinashutova/last_hse/wandb/run-20250325_204327-csoklxns</code>"
      ],
      "text/plain": [
       "<IPython.core.display.HTML object>"
      ]
     },
     "metadata": {},
     "output_type": "display_data"
    },
    {
     "data": {
      "text/html": [
       "Syncing run <strong><a href='https://wandb.ai/goodevening13/ml_sys_design/runs/csoklxns' target=\"_blank\">LSTM</a></strong> to <a href='https://wandb.ai/goodevening13/ml_sys_design' target=\"_blank\">Weights & Biases</a> (<a href='https://wandb.me/developer-guide' target=\"_blank\">docs</a>)<br>"
      ],
      "text/plain": [
       "<IPython.core.display.HTML object>"
      ]
     },
     "metadata": {},
     "output_type": "display_data"
    },
    {
     "data": {
      "text/html": [
       " View project at <a href='https://wandb.ai/goodevening13/ml_sys_design' target=\"_blank\">https://wandb.ai/goodevening13/ml_sys_design</a>"
      ],
      "text/plain": [
       "<IPython.core.display.HTML object>"
      ]
     },
     "metadata": {},
     "output_type": "display_data"
    },
    {
     "data": {
      "text/html": [
       " View run at <a href='https://wandb.ai/goodevening13/ml_sys_design/runs/csoklxns' target=\"_blank\">https://wandb.ai/goodevening13/ml_sys_design/runs/csoklxns</a>"
      ],
      "text/plain": [
       "<IPython.core.display.HTML object>"
      ]
     },
     "metadata": {},
     "output_type": "display_data"
    },
    {
     "name": "stderr",
     "output_type": "stream",
     "text": [
      "100%|██████████| 20/20 [06:18<00:00, 18.94s/it]\n"
     ]
    },
    {
     "data": {
      "text/html": [],
      "text/plain": [
       "<IPython.core.display.HTML object>"
      ]
     },
     "metadata": {},
     "output_type": "display_data"
    },
    {
     "data": {
      "text/html": [
       "<br>    <style><br>        .wandb-row {<br>            display: flex;<br>            flex-direction: row;<br>            flex-wrap: wrap;<br>            justify-content: flex-start;<br>            width: 100%;<br>        }<br>        .wandb-col {<br>            display: flex;<br>            flex-direction: column;<br>            flex-basis: 100%;<br>            flex: 1;<br>            padding: 10px;<br>        }<br>    </style><br><div class=\"wandb-row\"><div class=\"wandb-col\"><h3>Run history:</h3><br/><table class=\"wandb\"><tr><td>epoch</td><td>▁▁▂▂▂▃▃▄▄▄▅▅▅▆▆▇▇▇██</td></tr><tr><td>test_f1</td><td>▁▂▃▃▇███▇▇▇███▇▇▇▇▇▇</td></tr><tr><td>test_recall_n</td><td>▅▆█▇█▇▆▅▃▅▂▃▃▄▂▂▂▂▂▁</td></tr><tr><td>train_f1</td><td>▁▁▂▂▃▃▄▅▅▆▆▇▇▇▇▇▇███</td></tr><tr><td>train_loss</td><td>█▇▆▆▅▅▄▄▄▃▃▃▂▂▂▂▂▁▁▁</td></tr><tr><td>train_recall_n</td><td>▃▅█▇█▇▆▁▁▅▁▂▆▆▅▆▇▆▇▅</td></tr></table><br/></div><div class=\"wandb-col\"><h3>Run summary:</h3><br/><table class=\"wandb\"><tr><td>epoch</td><td>19</td></tr><tr><td>test_f1</td><td>0.74277</td></tr><tr><td>test_recall_n</td><td>0.83528</td></tr><tr><td>train_f1</td><td>0.94039</td></tr><tr><td>train_loss</td><td>0.19723</td></tr><tr><td>train_recall_n</td><td>0.98182</td></tr></table><br/></div></div>"
      ],
      "text/plain": [
       "<IPython.core.display.HTML object>"
      ]
     },
     "metadata": {},
     "output_type": "display_data"
    },
    {
     "data": {
      "text/html": [
       " View run <strong style=\"color:#cdcd00\">LSTM</strong> at: <a href='https://wandb.ai/goodevening13/ml_sys_design/runs/csoklxns' target=\"_blank\">https://wandb.ai/goodevening13/ml_sys_design/runs/csoklxns</a><br> View project at: <a href='https://wandb.ai/goodevening13/ml_sys_design' target=\"_blank\">https://wandb.ai/goodevening13/ml_sys_design</a><br>Synced 5 W&B file(s), 0 media file(s), 0 artifact file(s) and 0 other file(s)"
      ],
      "text/plain": [
       "<IPython.core.display.HTML object>"
      ]
     },
     "metadata": {},
     "output_type": "display_data"
    },
    {
     "data": {
      "text/html": [
       "Find logs at: <code>./wandb/run-20250325_204327-csoklxns/logs</code>"
      ],
      "text/plain": [
       "<IPython.core.display.HTML object>"
      ]
     },
     "metadata": {},
     "output_type": "display_data"
    },
    {
     "name": "stderr",
     "output_type": "stream",
     "text": [
      "[I 2025-03-25 20:49:49,829] Trial 0 finished with value: 0.7427650690078735 and parameters: {'hidden_dim': 128, 'num_layers': 3, 'dropout': 0.4464886137511739}. Best is trial 0 with value: 0.7427650690078735.\n"
     ]
    },
    {
     "data": {
      "text/html": [
       "Tracking run with wandb version 0.19.8"
      ],
      "text/plain": [
       "<IPython.core.display.HTML object>"
      ]
     },
     "metadata": {},
     "output_type": "display_data"
    },
    {
     "data": {
      "text/html": [
       "Run data is saved locally in <code>/extra_disk_1/alinashutova/last_hse/wandb/run-20250325_204950-1knvizmw</code>"
      ],
      "text/plain": [
       "<IPython.core.display.HTML object>"
      ]
     },
     "metadata": {},
     "output_type": "display_data"
    },
    {
     "data": {
      "text/html": [
       "Syncing run <strong><a href='https://wandb.ai/goodevening13/ml_sys_design/runs/1knvizmw' target=\"_blank\">LSTM</a></strong> to <a href='https://wandb.ai/goodevening13/ml_sys_design' target=\"_blank\">Weights & Biases</a> (<a href='https://wandb.me/developer-guide' target=\"_blank\">docs</a>)<br>"
      ],
      "text/plain": [
       "<IPython.core.display.HTML object>"
      ]
     },
     "metadata": {},
     "output_type": "display_data"
    },
    {
     "data": {
      "text/html": [
       " View project at <a href='https://wandb.ai/goodevening13/ml_sys_design' target=\"_blank\">https://wandb.ai/goodevening13/ml_sys_design</a>"
      ],
      "text/plain": [
       "<IPython.core.display.HTML object>"
      ]
     },
     "metadata": {},
     "output_type": "display_data"
    },
    {
     "data": {
      "text/html": [
       " View run at <a href='https://wandb.ai/goodevening13/ml_sys_design/runs/1knvizmw' target=\"_blank\">https://wandb.ai/goodevening13/ml_sys_design/runs/1knvizmw</a>"
      ],
      "text/plain": [
       "<IPython.core.display.HTML object>"
      ]
     },
     "metadata": {},
     "output_type": "display_data"
    },
    {
     "name": "stderr",
     "output_type": "stream",
     "text": [
      "100%|██████████| 20/20 [05:14<00:00, 15.74s/it]\n"
     ]
    },
    {
     "data": {
      "text/html": [],
      "text/plain": [
       "<IPython.core.display.HTML object>"
      ]
     },
     "metadata": {},
     "output_type": "display_data"
    },
    {
     "data": {
      "text/html": [
       "<br>    <style><br>        .wandb-row {<br>            display: flex;<br>            flex-direction: row;<br>            flex-wrap: wrap;<br>            justify-content: flex-start;<br>            width: 100%;<br>        }<br>        .wandb-col {<br>            display: flex;<br>            flex-direction: column;<br>            flex-basis: 100%;<br>            flex: 1;<br>            padding: 10px;<br>        }<br>    </style><br><div class=\"wandb-row\"><div class=\"wandb-col\"><h3>Run history:</h3><br/><table class=\"wandb\"><tr><td>epoch</td><td>▁▁▂▂▂▃▃▄▄▄▅▅▅▆▆▇▇▇██</td></tr><tr><td>test_f1</td><td>▁▂▄▄▅▃▆▇▇███▇▇▇▇▇▇▇▇</td></tr><tr><td>test_recall_n</td><td>▆▇▇▇▇█▇▇▆▆▅▅▄▁▃▃▄▃▃▃</td></tr><tr><td>train_f1</td><td>▁▁▂▂▃▃▄▅▅▆▆▆▇▇▇▇▇███</td></tr><tr><td>train_loss</td><td>█▆▆▅▅▄▄▄▃▃▃▂▂▂▂▂▁▁▁▁</td></tr><tr><td>train_recall_n</td><td>▆▆▇▆▅▇▆▇▆▇▆▇▇▁▆▅▇▅██</td></tr></table><br/></div><div class=\"wandb-col\"><h3>Run summary:</h3><br/><table class=\"wandb\"><tr><td>epoch</td><td>19</td></tr><tr><td>test_f1</td><td>0.7493</td></tr><tr><td>test_recall_n</td><td>0.87135</td></tr><tr><td>train_f1</td><td>0.94354</td></tr><tr><td>train_loss</td><td>0.20884</td></tr><tr><td>train_recall_n</td><td>0.9888</td></tr></table><br/></div></div>"
      ],
      "text/plain": [
       "<IPython.core.display.HTML object>"
      ]
     },
     "metadata": {},
     "output_type": "display_data"
    },
    {
     "data": {
      "text/html": [
       " View run <strong style=\"color:#cdcd00\">LSTM</strong> at: <a href='https://wandb.ai/goodevening13/ml_sys_design/runs/1knvizmw' target=\"_blank\">https://wandb.ai/goodevening13/ml_sys_design/runs/1knvizmw</a><br> View project at: <a href='https://wandb.ai/goodevening13/ml_sys_design' target=\"_blank\">https://wandb.ai/goodevening13/ml_sys_design</a><br>Synced 5 W&B file(s), 0 media file(s), 0 artifact file(s) and 0 other file(s)"
      ],
      "text/plain": [
       "<IPython.core.display.HTML object>"
      ]
     },
     "metadata": {},
     "output_type": "display_data"
    },
    {
     "data": {
      "text/html": [
       "Find logs at: <code>./wandb/run-20250325_204950-1knvizmw/logs</code>"
      ],
      "text/plain": [
       "<IPython.core.display.HTML object>"
      ]
     },
     "metadata": {},
     "output_type": "display_data"
    },
    {
     "name": "stderr",
     "output_type": "stream",
     "text": [
      "[I 2025-03-25 20:55:08,231] Trial 1 finished with value: 0.7492995858192444 and parameters: {'hidden_dim': 64, 'num_layers': 1, 'dropout': 0.36044941024150834}. Best is trial 1 with value: 0.7492995858192444.\n"
     ]
    },
    {
     "data": {
      "text/html": [
       "Tracking run with wandb version 0.19.8"
      ],
      "text/plain": [
       "<IPython.core.display.HTML object>"
      ]
     },
     "metadata": {},
     "output_type": "display_data"
    },
    {
     "data": {
      "text/html": [
       "Run data is saved locally in <code>/extra_disk_1/alinashutova/last_hse/wandb/run-20250325_205508-zek8f9zc</code>"
      ],
      "text/plain": [
       "<IPython.core.display.HTML object>"
      ]
     },
     "metadata": {},
     "output_type": "display_data"
    },
    {
     "data": {
      "text/html": [
       "Syncing run <strong><a href='https://wandb.ai/goodevening13/ml_sys_design/runs/zek8f9zc' target=\"_blank\">LSTM</a></strong> to <a href='https://wandb.ai/goodevening13/ml_sys_design' target=\"_blank\">Weights & Biases</a> (<a href='https://wandb.me/developer-guide' target=\"_blank\">docs</a>)<br>"
      ],
      "text/plain": [
       "<IPython.core.display.HTML object>"
      ]
     },
     "metadata": {},
     "output_type": "display_data"
    },
    {
     "data": {
      "text/html": [
       " View project at <a href='https://wandb.ai/goodevening13/ml_sys_design' target=\"_blank\">https://wandb.ai/goodevening13/ml_sys_design</a>"
      ],
      "text/plain": [
       "<IPython.core.display.HTML object>"
      ]
     },
     "metadata": {},
     "output_type": "display_data"
    },
    {
     "data": {
      "text/html": [
       " View run at <a href='https://wandb.ai/goodevening13/ml_sys_design/runs/zek8f9zc' target=\"_blank\">https://wandb.ai/goodevening13/ml_sys_design/runs/zek8f9zc</a>"
      ],
      "text/plain": [
       "<IPython.core.display.HTML object>"
      ]
     },
     "metadata": {},
     "output_type": "display_data"
    },
    {
     "name": "stderr",
     "output_type": "stream",
     "text": [
      "100%|██████████| 20/20 [06:11<00:00, 18.58s/it]\n"
     ]
    },
    {
     "data": {
      "text/html": [],
      "text/plain": [
       "<IPython.core.display.HTML object>"
      ]
     },
     "metadata": {},
     "output_type": "display_data"
    },
    {
     "data": {
      "text/html": [
       "<br>    <style><br>        .wandb-row {<br>            display: flex;<br>            flex-direction: row;<br>            flex-wrap: wrap;<br>            justify-content: flex-start;<br>            width: 100%;<br>        }<br>        .wandb-col {<br>            display: flex;<br>            flex-direction: column;<br>            flex-basis: 100%;<br>            flex: 1;<br>            padding: 10px;<br>        }<br>    </style><br><div class=\"wandb-row\"><div class=\"wandb-col\"><h3>Run history:</h3><br/><table class=\"wandb\"><tr><td>epoch</td><td>▁▁▂▂▂▃▃▄▄▄▅▅▅▆▆▇▇▇██</td></tr><tr><td>test_f1</td><td>▁▃▄▄▄▄▆▄▆▆▇▇▇▇▇▇█▇▇█</td></tr><tr><td>test_recall_n</td><td>▅█▆█▆▇▆▅▃▃▆▅▅▅▃▄▄▂▁▄</td></tr><tr><td>train_f1</td><td>▁▂▂▂▃▃▄▄▅▅▄▆▆▆▇▇▇███</td></tr><tr><td>train_loss</td><td>█▅▅▄▄▄▃▃▃▃▂▂▂▂▂▂▁▁▁▁</td></tr><tr><td>train_recall_n</td><td>▅█▅█▇▇▆▅▁▃█▅▅▆▃▆▆▄▁▆</td></tr></table><br/></div><div class=\"wandb-col\"><h3>Run summary:</h3><br/><table class=\"wandb\"><tr><td>epoch</td><td>19</td></tr><tr><td>test_f1</td><td>0.73582</td></tr><tr><td>test_recall_n</td><td>0.89376</td></tr><tr><td>train_f1</td><td>0.85171</td></tr><tr><td>train_loss</td><td>0.41991</td></tr><tr><td>train_recall_n</td><td>0.98268</td></tr></table><br/></div></div>"
      ],
      "text/plain": [
       "<IPython.core.display.HTML object>"
      ]
     },
     "metadata": {},
     "output_type": "display_data"
    },
    {
     "data": {
      "text/html": [
       " View run <strong style=\"color:#cdcd00\">LSTM</strong> at: <a href='https://wandb.ai/goodevening13/ml_sys_design/runs/zek8f9zc' target=\"_blank\">https://wandb.ai/goodevening13/ml_sys_design/runs/zek8f9zc</a><br> View project at: <a href='https://wandb.ai/goodevening13/ml_sys_design' target=\"_blank\">https://wandb.ai/goodevening13/ml_sys_design</a><br>Synced 5 W&B file(s), 0 media file(s), 0 artifact file(s) and 0 other file(s)"
      ],
      "text/plain": [
       "<IPython.core.display.HTML object>"
      ]
     },
     "metadata": {},
     "output_type": "display_data"
    },
    {
     "data": {
      "text/html": [
       "Find logs at: <code>./wandb/run-20250325_205508-zek8f9zc/logs</code>"
      ],
      "text/plain": [
       "<IPython.core.display.HTML object>"
      ]
     },
     "metadata": {},
     "output_type": "display_data"
    },
    {
     "name": "stderr",
     "output_type": "stream",
     "text": [
      "[I 2025-03-25 21:01:22,426] Trial 2 finished with value: 0.7358205318450928 and parameters: {'hidden_dim': 32, 'num_layers': 4, 'dropout': 0.26072583518065967}. Best is trial 1 with value: 0.7492995858192444.\n"
     ]
    },
    {
     "data": {
      "text/html": [
       "Tracking run with wandb version 0.19.8"
      ],
      "text/plain": [
       "<IPython.core.display.HTML object>"
      ]
     },
     "metadata": {},
     "output_type": "display_data"
    },
    {
     "data": {
      "text/html": [
       "Run data is saved locally in <code>/extra_disk_1/alinashutova/last_hse/wandb/run-20250325_210122-6jfb76f3</code>"
      ],
      "text/plain": [
       "<IPython.core.display.HTML object>"
      ]
     },
     "metadata": {},
     "output_type": "display_data"
    },
    {
     "data": {
      "text/html": [
       "Syncing run <strong><a href='https://wandb.ai/goodevening13/ml_sys_design/runs/6jfb76f3' target=\"_blank\">LSTM</a></strong> to <a href='https://wandb.ai/goodevening13/ml_sys_design' target=\"_blank\">Weights & Biases</a> (<a href='https://wandb.me/developer-guide' target=\"_blank\">docs</a>)<br>"
      ],
      "text/plain": [
       "<IPython.core.display.HTML object>"
      ]
     },
     "metadata": {},
     "output_type": "display_data"
    },
    {
     "data": {
      "text/html": [
       " View project at <a href='https://wandb.ai/goodevening13/ml_sys_design' target=\"_blank\">https://wandb.ai/goodevening13/ml_sys_design</a>"
      ],
      "text/plain": [
       "<IPython.core.display.HTML object>"
      ]
     },
     "metadata": {},
     "output_type": "display_data"
    },
    {
     "data": {
      "text/html": [
       " View run at <a href='https://wandb.ai/goodevening13/ml_sys_design/runs/6jfb76f3' target=\"_blank\">https://wandb.ai/goodevening13/ml_sys_design/runs/6jfb76f3</a>"
      ],
      "text/plain": [
       "<IPython.core.display.HTML object>"
      ]
     },
     "metadata": {},
     "output_type": "display_data"
    },
    {
     "name": "stderr",
     "output_type": "stream",
     "text": [
      "100%|██████████| 20/20 [05:13<00:00, 15.68s/it]\n"
     ]
    },
    {
     "data": {
      "text/html": [],
      "text/plain": [
       "<IPython.core.display.HTML object>"
      ]
     },
     "metadata": {},
     "output_type": "display_data"
    },
    {
     "data": {
      "text/html": [
       "<br>    <style><br>        .wandb-row {<br>            display: flex;<br>            flex-direction: row;<br>            flex-wrap: wrap;<br>            justify-content: flex-start;<br>            width: 100%;<br>        }<br>        .wandb-col {<br>            display: flex;<br>            flex-direction: column;<br>            flex-basis: 100%;<br>            flex: 1;<br>            padding: 10px;<br>        }<br>    </style><br><div class=\"wandb-row\"><div class=\"wandb-col\"><h3>Run history:</h3><br/><table class=\"wandb\"><tr><td>epoch</td><td>▁▁▂▂▂▃▃▄▄▄▅▅▅▆▆▇▇▇██</td></tr><tr><td>test_f1</td><td>▁▂▄▆▇▇▇▇█████▇▇▇▇▇▆▇</td></tr><tr><td>test_recall_n</td><td>█▆▇█▆▄▅▆▅▅▅▄▄▁▁▂▃▂▂▂</td></tr><tr><td>train_f1</td><td>▁▁▂▂▃▄▄▅▅▆▆▆▇▇▇▇████</td></tr><tr><td>train_loss</td><td>█▆▆▅▅▅▄▄▃▃▃▃▂▂▂▂▁▁▁▁</td></tr><tr><td>train_recall_n</td><td>█▇▇█▇▁▄▃▄▅▆▆▆▅▅▆▇▇▇▇</td></tr></table><br/></div><div class=\"wandb-col\"><h3>Run summary:</h3><br/><table class=\"wandb\"><tr><td>epoch</td><td>19</td></tr><tr><td>test_f1</td><td>0.7489</td></tr><tr><td>test_recall_n</td><td>0.88889</td></tr><tr><td>train_f1</td><td>0.94655</td></tr><tr><td>train_loss</td><td>0.19139</td></tr><tr><td>train_recall_n</td><td>0.98808</td></tr></table><br/></div></div>"
      ],
      "text/plain": [
       "<IPython.core.display.HTML object>"
      ]
     },
     "metadata": {},
     "output_type": "display_data"
    },
    {
     "data": {
      "text/html": [
       " View run <strong style=\"color:#cdcd00\">LSTM</strong> at: <a href='https://wandb.ai/goodevening13/ml_sys_design/runs/6jfb76f3' target=\"_blank\">https://wandb.ai/goodevening13/ml_sys_design/runs/6jfb76f3</a><br> View project at: <a href='https://wandb.ai/goodevening13/ml_sys_design' target=\"_blank\">https://wandb.ai/goodevening13/ml_sys_design</a><br>Synced 5 W&B file(s), 0 media file(s), 0 artifact file(s) and 0 other file(s)"
      ],
      "text/plain": [
       "<IPython.core.display.HTML object>"
      ]
     },
     "metadata": {},
     "output_type": "display_data"
    },
    {
     "data": {
      "text/html": [
       "Find logs at: <code>./wandb/run-20250325_210122-6jfb76f3/logs</code>"
      ],
      "text/plain": [
       "<IPython.core.display.HTML object>"
      ]
     },
     "metadata": {},
     "output_type": "display_data"
    },
    {
     "name": "stderr",
     "output_type": "stream",
     "text": [
      "[I 2025-03-25 21:06:38,430] Trial 3 finished with value: 0.7488998174667358 and parameters: {'hidden_dim': 64, 'num_layers': 1, 'dropout': 0.25140622923018885}. Best is trial 1 with value: 0.7492995858192444.\n"
     ]
    },
    {
     "data": {
      "text/html": [
       "Tracking run with wandb version 0.19.8"
      ],
      "text/plain": [
       "<IPython.core.display.HTML object>"
      ]
     },
     "metadata": {},
     "output_type": "display_data"
    },
    {
     "data": {
      "text/html": [
       "Run data is saved locally in <code>/extra_disk_1/alinashutova/last_hse/wandb/run-20250325_210638-g45yotk1</code>"
      ],
      "text/plain": [
       "<IPython.core.display.HTML object>"
      ]
     },
     "metadata": {},
     "output_type": "display_data"
    },
    {
     "data": {
      "text/html": [
       "Syncing run <strong><a href='https://wandb.ai/goodevening13/ml_sys_design/runs/g45yotk1' target=\"_blank\">LSTM</a></strong> to <a href='https://wandb.ai/goodevening13/ml_sys_design' target=\"_blank\">Weights & Biases</a> (<a href='https://wandb.me/developer-guide' target=\"_blank\">docs</a>)<br>"
      ],
      "text/plain": [
       "<IPython.core.display.HTML object>"
      ]
     },
     "metadata": {},
     "output_type": "display_data"
    },
    {
     "data": {
      "text/html": [
       " View project at <a href='https://wandb.ai/goodevening13/ml_sys_design' target=\"_blank\">https://wandb.ai/goodevening13/ml_sys_design</a>"
      ],
      "text/plain": [
       "<IPython.core.display.HTML object>"
      ]
     },
     "metadata": {},
     "output_type": "display_data"
    },
    {
     "data": {
      "text/html": [
       " View run at <a href='https://wandb.ai/goodevening13/ml_sys_design/runs/g45yotk1' target=\"_blank\">https://wandb.ai/goodevening13/ml_sys_design/runs/g45yotk1</a>"
      ],
      "text/plain": [
       "<IPython.core.display.HTML object>"
      ]
     },
     "metadata": {},
     "output_type": "display_data"
    },
    {
     "name": "stderr",
     "output_type": "stream",
     "text": [
      "100%|██████████| 20/20 [06:15<00:00, 18.77s/it]\n"
     ]
    },
    {
     "data": {
      "text/html": [],
      "text/plain": [
       "<IPython.core.display.HTML object>"
      ]
     },
     "metadata": {},
     "output_type": "display_data"
    },
    {
     "data": {
      "text/html": [
       "<br>    <style><br>        .wandb-row {<br>            display: flex;<br>            flex-direction: row;<br>            flex-wrap: wrap;<br>            justify-content: flex-start;<br>            width: 100%;<br>        }<br>        .wandb-col {<br>            display: flex;<br>            flex-direction: column;<br>            flex-basis: 100%;<br>            flex: 1;<br>            padding: 10px;<br>        }<br>    </style><br><div class=\"wandb-row\"><div class=\"wandb-col\"><h3>Run history:</h3><br/><table class=\"wandb\"><tr><td>epoch</td><td>▁▁▂▂▂▃▃▄▄▄▅▅▅▆▆▇▇▇██</td></tr><tr><td>test_f1</td><td>▁▂▂▅▆▃▅███████▇█▇███</td></tr><tr><td>test_recall_n</td><td>▆▆▆█▆█▅▅▄▃▂▄▃▂▃▂▁▂▁▁</td></tr><tr><td>train_f1</td><td>▁▁▁▂▃▃▄▅▅▆▆▆▇▇▇▇▇███</td></tr><tr><td>train_loss</td><td>█▇▆▆▅▅▄▄▃▃▃▃▂▂▂▂▁▁▁▁</td></tr><tr><td>train_recall_n</td><td>▄▄▄█▁▇▁▅▄▃▃▆▆▅▆▅▇█▇█</td></tr></table><br/></div><div class=\"wandb-col\"><h3>Run summary:</h3><br/><table class=\"wandb\"><tr><td>epoch</td><td>19</td></tr><tr><td>test_f1</td><td>0.7485</td></tr><tr><td>test_recall_n</td><td>0.83821</td></tr><tr><td>train_f1</td><td>0.94678</td></tr><tr><td>train_loss</td><td>0.19721</td></tr><tr><td>train_recall_n</td><td>0.99203</td></tr></table><br/></div></div>"
      ],
      "text/plain": [
       "<IPython.core.display.HTML object>"
      ]
     },
     "metadata": {},
     "output_type": "display_data"
    },
    {
     "data": {
      "text/html": [
       " View run <strong style=\"color:#cdcd00\">LSTM</strong> at: <a href='https://wandb.ai/goodevening13/ml_sys_design/runs/g45yotk1' target=\"_blank\">https://wandb.ai/goodevening13/ml_sys_design/runs/g45yotk1</a><br> View project at: <a href='https://wandb.ai/goodevening13/ml_sys_design' target=\"_blank\">https://wandb.ai/goodevening13/ml_sys_design</a><br>Synced 5 W&B file(s), 0 media file(s), 0 artifact file(s) and 0 other file(s)"
      ],
      "text/plain": [
       "<IPython.core.display.HTML object>"
      ]
     },
     "metadata": {},
     "output_type": "display_data"
    },
    {
     "data": {
      "text/html": [
       "Find logs at: <code>./wandb/run-20250325_210638-g45yotk1/logs</code>"
      ],
      "text/plain": [
       "<IPython.core.display.HTML object>"
      ]
     },
     "metadata": {},
     "output_type": "display_data"
    },
    {
     "name": "stderr",
     "output_type": "stream",
     "text": [
      "[I 2025-03-25 21:12:56,251] Trial 4 finished with value: 0.7485037446022034 and parameters: {'hidden_dim': 128, 'num_layers': 3, 'dropout': 0.47835899429406614}. Best is trial 1 with value: 0.7492995858192444.\n"
     ]
    },
    {
     "data": {
      "text/html": [
       "Tracking run with wandb version 0.19.8"
      ],
      "text/plain": [
       "<IPython.core.display.HTML object>"
      ]
     },
     "metadata": {},
     "output_type": "display_data"
    },
    {
     "data": {
      "text/html": [
       "Run data is saved locally in <code>/extra_disk_1/alinashutova/last_hse/wandb/run-20250325_211256-ug56niv2</code>"
      ],
      "text/plain": [
       "<IPython.core.display.HTML object>"
      ]
     },
     "metadata": {},
     "output_type": "display_data"
    },
    {
     "data": {
      "text/html": [
       "Syncing run <strong><a href='https://wandb.ai/goodevening13/ml_sys_design/runs/ug56niv2' target=\"_blank\">LSTM</a></strong> to <a href='https://wandb.ai/goodevening13/ml_sys_design' target=\"_blank\">Weights & Biases</a> (<a href='https://wandb.me/developer-guide' target=\"_blank\">docs</a>)<br>"
      ],
      "text/plain": [
       "<IPython.core.display.HTML object>"
      ]
     },
     "metadata": {},
     "output_type": "display_data"
    },
    {
     "data": {
      "text/html": [
       " View project at <a href='https://wandb.ai/goodevening13/ml_sys_design' target=\"_blank\">https://wandb.ai/goodevening13/ml_sys_design</a>"
      ],
      "text/plain": [
       "<IPython.core.display.HTML object>"
      ]
     },
     "metadata": {},
     "output_type": "display_data"
    },
    {
     "data": {
      "text/html": [
       " View run at <a href='https://wandb.ai/goodevening13/ml_sys_design/runs/ug56niv2' target=\"_blank\">https://wandb.ai/goodevening13/ml_sys_design/runs/ug56niv2</a>"
      ],
      "text/plain": [
       "<IPython.core.display.HTML object>"
      ]
     },
     "metadata": {},
     "output_type": "display_data"
    },
    {
     "name": "stderr",
     "output_type": "stream",
     "text": [
      "100%|██████████| 20/20 [05:09<00:00, 15.47s/it]\n"
     ]
    },
    {
     "data": {
      "text/html": [],
      "text/plain": [
       "<IPython.core.display.HTML object>"
      ]
     },
     "metadata": {},
     "output_type": "display_data"
    },
    {
     "data": {
      "text/html": [
       "<br>    <style><br>        .wandb-row {<br>            display: flex;<br>            flex-direction: row;<br>            flex-wrap: wrap;<br>            justify-content: flex-start;<br>            width: 100%;<br>        }<br>        .wandb-col {<br>            display: flex;<br>            flex-direction: column;<br>            flex-basis: 100%;<br>            flex: 1;<br>            padding: 10px;<br>        }<br>    </style><br><div class=\"wandb-row\"><div class=\"wandb-col\"><h3>Run history:</h3><br/><table class=\"wandb\"><tr><td>epoch</td><td>▁▁▂▂▂▃▃▄▄▄▅▅▅▆▆▇▇▇██</td></tr><tr><td>test_f1</td><td>▁▂▂▃▃▃▃▅▅▅▆█▇▄▇▆▆▆██</td></tr><tr><td>test_recall_n</td><td>▄▇▅█▅▇▃▇▆▅▆▇▄▂▁▃▂▂▁▁</td></tr><tr><td>train_f1</td><td>▁▁▂▂▂▂▃▄▄▅▅▅▆▆▇▆▇███</td></tr><tr><td>train_loss</td><td>█▆▅▅▄▄▄▃▃▃▃▂▂▂▂▂▁▁▁▁</td></tr><tr><td>train_recall_n</td><td>▂▆▅█▅▇▁▅▂▁▄▇▃▃▁▂▄▄▄▅</td></tr></table><br/></div><div class=\"wandb-col\"><h3>Run summary:</h3><br/><table class=\"wandb\"><tr><td>epoch</td><td>19</td></tr><tr><td>test_f1</td><td>0.73768</td></tr><tr><td>test_recall_n</td><td>0.88109</td></tr><tr><td>train_f1</td><td>0.85756</td></tr><tr><td>train_loss</td><td>0.3936</td></tr><tr><td>train_recall_n</td><td>0.98064</td></tr></table><br/></div></div>"
      ],
      "text/plain": [
       "<IPython.core.display.HTML object>"
      ]
     },
     "metadata": {},
     "output_type": "display_data"
    },
    {
     "data": {
      "text/html": [
       " View run <strong style=\"color:#cdcd00\">LSTM</strong> at: <a href='https://wandb.ai/goodevening13/ml_sys_design/runs/ug56niv2' target=\"_blank\">https://wandb.ai/goodevening13/ml_sys_design/runs/ug56niv2</a><br> View project at: <a href='https://wandb.ai/goodevening13/ml_sys_design' target=\"_blank\">https://wandb.ai/goodevening13/ml_sys_design</a><br>Synced 5 W&B file(s), 0 media file(s), 0 artifact file(s) and 0 other file(s)"
      ],
      "text/plain": [
       "<IPython.core.display.HTML object>"
      ]
     },
     "metadata": {},
     "output_type": "display_data"
    },
    {
     "data": {
      "text/html": [
       "Find logs at: <code>./wandb/run-20250325_211256-ug56niv2/logs</code>"
      ],
      "text/plain": [
       "<IPython.core.display.HTML object>"
      ]
     },
     "metadata": {},
     "output_type": "display_data"
    },
    {
     "name": "stderr",
     "output_type": "stream",
     "text": [
      "[I 2025-03-25 21:18:08,080] Trial 5 finished with value: 0.7376782894134521 and parameters: {'hidden_dim': 32, 'num_layers': 2, 'dropout': 0.4177951562393335}. Best is trial 1 with value: 0.7492995858192444.\n"
     ]
    },
    {
     "data": {
      "text/html": [
       "Tracking run with wandb version 0.19.8"
      ],
      "text/plain": [
       "<IPython.core.display.HTML object>"
      ]
     },
     "metadata": {},
     "output_type": "display_data"
    },
    {
     "data": {
      "text/html": [
       "Run data is saved locally in <code>/extra_disk_1/alinashutova/last_hse/wandb/run-20250325_211808-3rwa39d4</code>"
      ],
      "text/plain": [
       "<IPython.core.display.HTML object>"
      ]
     },
     "metadata": {},
     "output_type": "display_data"
    },
    {
     "data": {
      "text/html": [
       "Syncing run <strong><a href='https://wandb.ai/goodevening13/ml_sys_design/runs/3rwa39d4' target=\"_blank\">LSTM</a></strong> to <a href='https://wandb.ai/goodevening13/ml_sys_design' target=\"_blank\">Weights & Biases</a> (<a href='https://wandb.me/developer-guide' target=\"_blank\">docs</a>)<br>"
      ],
      "text/plain": [
       "<IPython.core.display.HTML object>"
      ]
     },
     "metadata": {},
     "output_type": "display_data"
    },
    {
     "data": {
      "text/html": [
       " View project at <a href='https://wandb.ai/goodevening13/ml_sys_design' target=\"_blank\">https://wandb.ai/goodevening13/ml_sys_design</a>"
      ],
      "text/plain": [
       "<IPython.core.display.HTML object>"
      ]
     },
     "metadata": {},
     "output_type": "display_data"
    },
    {
     "data": {
      "text/html": [
       " View run at <a href='https://wandb.ai/goodevening13/ml_sys_design/runs/3rwa39d4' target=\"_blank\">https://wandb.ai/goodevening13/ml_sys_design/runs/3rwa39d4</a>"
      ],
      "text/plain": [
       "<IPython.core.display.HTML object>"
      ]
     },
     "metadata": {},
     "output_type": "display_data"
    },
    {
     "name": "stderr",
     "output_type": "stream",
     "text": [
      "100%|██████████| 20/20 [05:49<00:00, 17.47s/it]\n"
     ]
    },
    {
     "data": {
      "text/html": [],
      "text/plain": [
       "<IPython.core.display.HTML object>"
      ]
     },
     "metadata": {},
     "output_type": "display_data"
    },
    {
     "data": {
      "text/html": [
       "<br>    <style><br>        .wandb-row {<br>            display: flex;<br>            flex-direction: row;<br>            flex-wrap: wrap;<br>            justify-content: flex-start;<br>            width: 100%;<br>        }<br>        .wandb-col {<br>            display: flex;<br>            flex-direction: column;<br>            flex-basis: 100%;<br>            flex: 1;<br>            padding: 10px;<br>        }<br>    </style><br><div class=\"wandb-row\"><div class=\"wandb-col\"><h3>Run history:</h3><br/><table class=\"wandb\"><tr><td>epoch</td><td>▁▁▂▂▂▃▃▄▄▄▅▅▅▆▆▇▇▇██</td></tr><tr><td>test_f1</td><td>▁▅▅▆▇▇████▇▇▇▇▇▇▇▇▇▇</td></tr><tr><td>test_recall_n</td><td>▅█▆▇▆▆▇▆▅▅▃▄▄▃▄▃▂▂▁▃</td></tr><tr><td>train_f1</td><td>▁▁▂▃▄▄▅▆▆▇▇▇▇███████</td></tr><tr><td>train_loss</td><td>█▇▆▅▅▄▄▃▃▃▂▂▂▂▂▁▁▁▁▁</td></tr><tr><td>train_recall_n</td><td>▃█▄▅▁▅▅▄▆▆▃▅▆▆█▇▇▇▆█</td></tr></table><br/></div><div class=\"wandb-col\"><h3>Run summary:</h3><br/><table class=\"wandb\"><tr><td>epoch</td><td>19</td></tr><tr><td>test_f1</td><td>0.74821</td></tr><tr><td>test_recall_n</td><td>0.87817</td></tr><tr><td>train_f1</td><td>0.97838</td></tr><tr><td>train_loss</td><td>0.08921</td></tr><tr><td>train_recall_n</td><td>0.99236</td></tr></table><br/></div></div>"
      ],
      "text/plain": [
       "<IPython.core.display.HTML object>"
      ]
     },
     "metadata": {},
     "output_type": "display_data"
    },
    {
     "data": {
      "text/html": [
       " View run <strong style=\"color:#cdcd00\">LSTM</strong> at: <a href='https://wandb.ai/goodevening13/ml_sys_design/runs/3rwa39d4' target=\"_blank\">https://wandb.ai/goodevening13/ml_sys_design/runs/3rwa39d4</a><br> View project at: <a href='https://wandb.ai/goodevening13/ml_sys_design' target=\"_blank\">https://wandb.ai/goodevening13/ml_sys_design</a><br>Synced 5 W&B file(s), 0 media file(s), 0 artifact file(s) and 0 other file(s)"
      ],
      "text/plain": [
       "<IPython.core.display.HTML object>"
      ]
     },
     "metadata": {},
     "output_type": "display_data"
    },
    {
     "data": {
      "text/html": [
       "Find logs at: <code>./wandb/run-20250325_211808-3rwa39d4/logs</code>"
      ],
      "text/plain": [
       "<IPython.core.display.HTML object>"
      ]
     },
     "metadata": {},
     "output_type": "display_data"
    },
    {
     "name": "stderr",
     "output_type": "stream",
     "text": [
      "[I 2025-03-25 21:24:00,549] Trial 6 finished with value: 0.748207151889801 and parameters: {'hidden_dim': 128, 'num_layers': 1, 'dropout': 0.4957924025577741}. Best is trial 1 with value: 0.7492995858192444.\n"
     ]
    },
    {
     "data": {
      "text/html": [
       "Tracking run with wandb version 0.19.8"
      ],
      "text/plain": [
       "<IPython.core.display.HTML object>"
      ]
     },
     "metadata": {},
     "output_type": "display_data"
    },
    {
     "data": {
      "text/html": [
       "Run data is saved locally in <code>/extra_disk_1/alinashutova/last_hse/wandb/run-20250325_212400-222ty7wd</code>"
      ],
      "text/plain": [
       "<IPython.core.display.HTML object>"
      ]
     },
     "metadata": {},
     "output_type": "display_data"
    },
    {
     "data": {
      "text/html": [
       "Syncing run <strong><a href='https://wandb.ai/goodevening13/ml_sys_design/runs/222ty7wd' target=\"_blank\">LSTM</a></strong> to <a href='https://wandb.ai/goodevening13/ml_sys_design' target=\"_blank\">Weights & Biases</a> (<a href='https://wandb.me/developer-guide' target=\"_blank\">docs</a>)<br>"
      ],
      "text/plain": [
       "<IPython.core.display.HTML object>"
      ]
     },
     "metadata": {},
     "output_type": "display_data"
    },
    {
     "data": {
      "text/html": [
       " View project at <a href='https://wandb.ai/goodevening13/ml_sys_design' target=\"_blank\">https://wandb.ai/goodevening13/ml_sys_design</a>"
      ],
      "text/plain": [
       "<IPython.core.display.HTML object>"
      ]
     },
     "metadata": {},
     "output_type": "display_data"
    },
    {
     "data": {
      "text/html": [
       " View run at <a href='https://wandb.ai/goodevening13/ml_sys_design/runs/222ty7wd' target=\"_blank\">https://wandb.ai/goodevening13/ml_sys_design/runs/222ty7wd</a>"
      ],
      "text/plain": [
       "<IPython.core.display.HTML object>"
      ]
     },
     "metadata": {},
     "output_type": "display_data"
    },
    {
     "name": "stderr",
     "output_type": "stream",
     "text": [
      "100%|██████████| 20/20 [05:33<00:00, 16.69s/it]\n"
     ]
    },
    {
     "data": {
      "text/html": [],
      "text/plain": [
       "<IPython.core.display.HTML object>"
      ]
     },
     "metadata": {},
     "output_type": "display_data"
    },
    {
     "data": {
      "text/html": [
       "<br>    <style><br>        .wandb-row {<br>            display: flex;<br>            flex-direction: row;<br>            flex-wrap: wrap;<br>            justify-content: flex-start;<br>            width: 100%;<br>        }<br>        .wandb-col {<br>            display: flex;<br>            flex-direction: column;<br>            flex-basis: 100%;<br>            flex: 1;<br>            padding: 10px;<br>        }<br>    </style><br><div class=\"wandb-row\"><div class=\"wandb-col\"><h3>Run history:</h3><br/><table class=\"wandb\"><tr><td>epoch</td><td>▁▁▂▂▂▃▃▄▄▄▅▅▅▆▆▇▇▇██</td></tr><tr><td>test_f1</td><td>▁▂▂▂▅▅▇▇███▇██▇██▇▇▇</td></tr><tr><td>test_recall_n</td><td>▅▅▆██▅▅▄▅▅▅▃▃▄▃▃▃▁▂▂</td></tr><tr><td>train_f1</td><td>▁▁▂▂▃▄▄▅▅▆▆▆▇▇▇▇████</td></tr><tr><td>train_loss</td><td>█▆▆▅▅▅▄▄▃▃▃▂▂▂▂▂▁▁▁▁</td></tr><tr><td>train_recall_n</td><td>▄▅▆█▇▃▃▁▅▅▆▄▄▆▅▆▇▅▆▇</td></tr></table><br/></div><div class=\"wandb-col\"><h3>Run summary:</h3><br/><table class=\"wandb\"><tr><td>epoch</td><td>19</td></tr><tr><td>test_f1</td><td>0.75263</td></tr><tr><td>test_recall_n</td><td>0.85283</td></tr><tr><td>train_f1</td><td>0.91943</td></tr><tr><td>train_loss</td><td>0.24591</td></tr><tr><td>train_recall_n</td><td>0.98432</td></tr></table><br/></div></div>"
      ],
      "text/plain": [
       "<IPython.core.display.HTML object>"
      ]
     },
     "metadata": {},
     "output_type": "display_data"
    },
    {
     "data": {
      "text/html": [
       " View run <strong style=\"color:#cdcd00\">LSTM</strong> at: <a href='https://wandb.ai/goodevening13/ml_sys_design/runs/222ty7wd' target=\"_blank\">https://wandb.ai/goodevening13/ml_sys_design/runs/222ty7wd</a><br> View project at: <a href='https://wandb.ai/goodevening13/ml_sys_design' target=\"_blank\">https://wandb.ai/goodevening13/ml_sys_design</a><br>Synced 5 W&B file(s), 0 media file(s), 0 artifact file(s) and 0 other file(s)"
      ],
      "text/plain": [
       "<IPython.core.display.HTML object>"
      ]
     },
     "metadata": {},
     "output_type": "display_data"
    },
    {
     "data": {
      "text/html": [
       "Find logs at: <code>./wandb/run-20250325_212400-222ty7wd/logs</code>"
      ],
      "text/plain": [
       "<IPython.core.display.HTML object>"
      ]
     },
     "metadata": {},
     "output_type": "display_data"
    },
    {
     "name": "stderr",
     "output_type": "stream",
     "text": [
      "[I 2025-03-25 21:29:36,901] Trial 7 finished with value: 0.7526282668113708 and parameters: {'hidden_dim': 64, 'num_layers': 2, 'dropout': 0.3926072895884507}. Best is trial 7 with value: 0.7526282668113708.\n"
     ]
    },
    {
     "data": {
      "text/html": [
       "Tracking run with wandb version 0.19.8"
      ],
      "text/plain": [
       "<IPython.core.display.HTML object>"
      ]
     },
     "metadata": {},
     "output_type": "display_data"
    },
    {
     "data": {
      "text/html": [
       "Run data is saved locally in <code>/extra_disk_1/alinashutova/last_hse/wandb/run-20250325_212936-5o248gfy</code>"
      ],
      "text/plain": [
       "<IPython.core.display.HTML object>"
      ]
     },
     "metadata": {},
     "output_type": "display_data"
    },
    {
     "data": {
      "text/html": [
       "Syncing run <strong><a href='https://wandb.ai/goodevening13/ml_sys_design/runs/5o248gfy' target=\"_blank\">LSTM</a></strong> to <a href='https://wandb.ai/goodevening13/ml_sys_design' target=\"_blank\">Weights & Biases</a> (<a href='https://wandb.me/developer-guide' target=\"_blank\">docs</a>)<br>"
      ],
      "text/plain": [
       "<IPython.core.display.HTML object>"
      ]
     },
     "metadata": {},
     "output_type": "display_data"
    },
    {
     "data": {
      "text/html": [
       " View project at <a href='https://wandb.ai/goodevening13/ml_sys_design' target=\"_blank\">https://wandb.ai/goodevening13/ml_sys_design</a>"
      ],
      "text/plain": [
       "<IPython.core.display.HTML object>"
      ]
     },
     "metadata": {},
     "output_type": "display_data"
    },
    {
     "data": {
      "text/html": [
       " View run at <a href='https://wandb.ai/goodevening13/ml_sys_design/runs/5o248gfy' target=\"_blank\">https://wandb.ai/goodevening13/ml_sys_design/runs/5o248gfy</a>"
      ],
      "text/plain": [
       "<IPython.core.display.HTML object>"
      ]
     },
     "metadata": {},
     "output_type": "display_data"
    },
    {
     "name": "stderr",
     "output_type": "stream",
     "text": [
      "100%|██████████| 20/20 [04:44<00:00, 14.21s/it]\n"
     ]
    },
    {
     "data": {
      "text/html": [],
      "text/plain": [
       "<IPython.core.display.HTML object>"
      ]
     },
     "metadata": {},
     "output_type": "display_data"
    },
    {
     "data": {
      "text/html": [
       "<br>    <style><br>        .wandb-row {<br>            display: flex;<br>            flex-direction: row;<br>            flex-wrap: wrap;<br>            justify-content: flex-start;<br>            width: 100%;<br>        }<br>        .wandb-col {<br>            display: flex;<br>            flex-direction: column;<br>            flex-basis: 100%;<br>            flex: 1;<br>            padding: 10px;<br>        }<br>    </style><br><div class=\"wandb-row\"><div class=\"wandb-col\"><h3>Run history:</h3><br/><table class=\"wandb\"><tr><td>epoch</td><td>▁▁▂▂▂▃▃▄▄▄▅▅▅▆▆▇▇▇██</td></tr><tr><td>test_f1</td><td>▃▄▄▄▁▄▄▅▄▇▇▅▇▇▇█████</td></tr><tr><td>test_recall_n</td><td>▄▄▃▄█▆▇▆▄▆▅▃▄▃▄▄▄▃▂▁</td></tr><tr><td>train_f1</td><td>▁▂▂▂▁▃▃▃▃▄▅▅▅▆▆▆▇▇██</td></tr><tr><td>train_loss</td><td>█▆▅▅▅▅▄▄▄▃▃▃▃▂▂▂▂▁▁▁</td></tr><tr><td>train_recall_n</td><td>▃▄▃▄█▆▇▆▄▆▅▄▃▁▅▅▅▃▄▂</td></tr></table><br/></div><div class=\"wandb-col\"><h3>Run summary:</h3><br/><table class=\"wandb\"><tr><td>epoch</td><td>19</td></tr><tr><td>test_f1</td><td>0.74166</td></tr><tr><td>test_recall_n</td><td>0.84211</td></tr><tr><td>train_f1</td><td>0.86327</td></tr><tr><td>train_loss</td><td>0.40918</td></tr><tr><td>train_recall_n</td><td>0.96404</td></tr></table><br/></div></div>"
      ],
      "text/plain": [
       "<IPython.core.display.HTML object>"
      ]
     },
     "metadata": {},
     "output_type": "display_data"
    },
    {
     "data": {
      "text/html": [
       " View run <strong style=\"color:#cdcd00\">LSTM</strong> at: <a href='https://wandb.ai/goodevening13/ml_sys_design/runs/5o248gfy' target=\"_blank\">https://wandb.ai/goodevening13/ml_sys_design/runs/5o248gfy</a><br> View project at: <a href='https://wandb.ai/goodevening13/ml_sys_design' target=\"_blank\">https://wandb.ai/goodevening13/ml_sys_design</a><br>Synced 5 W&B file(s), 0 media file(s), 0 artifact file(s) and 0 other file(s)"
      ],
      "text/plain": [
       "<IPython.core.display.HTML object>"
      ]
     },
     "metadata": {},
     "output_type": "display_data"
    },
    {
     "data": {
      "text/html": [
       "Find logs at: <code>./wandb/run-20250325_212936-5o248gfy/logs</code>"
      ],
      "text/plain": [
       "<IPython.core.display.HTML object>"
      ]
     },
     "metadata": {},
     "output_type": "display_data"
    },
    {
     "name": "stderr",
     "output_type": "stream",
     "text": [
      "[I 2025-03-25 21:34:23,506] Trial 8 finished with value: 0.7416589856147766 and parameters: {'hidden_dim': 32, 'num_layers': 2, 'dropout': 0.1915978973911459}. Best is trial 7 with value: 0.7526282668113708.\n"
     ]
    },
    {
     "data": {
      "text/html": [
       "Tracking run with wandb version 0.19.8"
      ],
      "text/plain": [
       "<IPython.core.display.HTML object>"
      ]
     },
     "metadata": {},
     "output_type": "display_data"
    },
    {
     "data": {
      "text/html": [
       "Run data is saved locally in <code>/extra_disk_1/alinashutova/last_hse/wandb/run-20250325_213423-o9jsbtd7</code>"
      ],
      "text/plain": [
       "<IPython.core.display.HTML object>"
      ]
     },
     "metadata": {},
     "output_type": "display_data"
    },
    {
     "data": {
      "text/html": [
       "Syncing run <strong><a href='https://wandb.ai/goodevening13/ml_sys_design/runs/o9jsbtd7' target=\"_blank\">LSTM</a></strong> to <a href='https://wandb.ai/goodevening13/ml_sys_design' target=\"_blank\">Weights & Biases</a> (<a href='https://wandb.me/developer-guide' target=\"_blank\">docs</a>)<br>"
      ],
      "text/plain": [
       "<IPython.core.display.HTML object>"
      ]
     },
     "metadata": {},
     "output_type": "display_data"
    },
    {
     "data": {
      "text/html": [
       " View project at <a href='https://wandb.ai/goodevening13/ml_sys_design' target=\"_blank\">https://wandb.ai/goodevening13/ml_sys_design</a>"
      ],
      "text/plain": [
       "<IPython.core.display.HTML object>"
      ]
     },
     "metadata": {},
     "output_type": "display_data"
    },
    {
     "data": {
      "text/html": [
       " View run at <a href='https://wandb.ai/goodevening13/ml_sys_design/runs/o9jsbtd7' target=\"_blank\">https://wandb.ai/goodevening13/ml_sys_design/runs/o9jsbtd7</a>"
      ],
      "text/plain": [
       "<IPython.core.display.HTML object>"
      ]
     },
     "metadata": {},
     "output_type": "display_data"
    },
    {
     "name": "stderr",
     "output_type": "stream",
     "text": [
      "100%|██████████| 20/20 [06:43<00:00, 20.20s/it]\n"
     ]
    },
    {
     "data": {
      "text/html": [],
      "text/plain": [
       "<IPython.core.display.HTML object>"
      ]
     },
     "metadata": {},
     "output_type": "display_data"
    },
    {
     "data": {
      "text/html": [
       "<br>    <style><br>        .wandb-row {<br>            display: flex;<br>            flex-direction: row;<br>            flex-wrap: wrap;<br>            justify-content: flex-start;<br>            width: 100%;<br>        }<br>        .wandb-col {<br>            display: flex;<br>            flex-direction: column;<br>            flex-basis: 100%;<br>            flex: 1;<br>            padding: 10px;<br>        }<br>    </style><br><div class=\"wandb-row\"><div class=\"wandb-col\"><h3>Run history:</h3><br/><table class=\"wandb\"><tr><td>epoch</td><td>▁▁▂▂▂▃▃▄▄▄▅▅▅▆▆▇▇▇██</td></tr><tr><td>test_f1</td><td>▁▃▃▃▃▅▅▆▆██▇▇▇██▇███</td></tr><tr><td>test_recall_n</td><td>█▇▇▇▇▅▄▆▄▄▄▄▃▃▃▁▂▂▁▂</td></tr><tr><td>train_f1</td><td>▁▂▂▂▂▃▄▅▅▆▆▆▆▇▇▇████</td></tr><tr><td>train_loss</td><td>█▇▆▆▅▅▄▄▃▃▃▃▂▂▂▂▂▁▁▁</td></tr><tr><td>train_recall_n</td><td>█▅▆▇█▆▁▆▁▄▅▄▇▇▇▄▇▅▃▆</td></tr></table><br/></div><div class=\"wandb-col\"><h3>Run summary:</h3><br/><table class=\"wandb\"><tr><td>epoch</td><td>19</td></tr><tr><td>test_f1</td><td>0.75078</td></tr><tr><td>test_recall_n</td><td>0.85283</td></tr><tr><td>train_f1</td><td>0.9316</td></tr><tr><td>train_loss</td><td>0.23706</td></tr><tr><td>train_recall_n</td><td>0.98465</td></tr></table><br/></div></div>"
      ],
      "text/plain": [
       "<IPython.core.display.HTML object>"
      ]
     },
     "metadata": {},
     "output_type": "display_data"
    },
    {
     "data": {
      "text/html": [
       " View run <strong style=\"color:#cdcd00\">LSTM</strong> at: <a href='https://wandb.ai/goodevening13/ml_sys_design/runs/o9jsbtd7' target=\"_blank\">https://wandb.ai/goodevening13/ml_sys_design/runs/o9jsbtd7</a><br> View project at: <a href='https://wandb.ai/goodevening13/ml_sys_design' target=\"_blank\">https://wandb.ai/goodevening13/ml_sys_design</a><br>Synced 5 W&B file(s), 0 media file(s), 0 artifact file(s) and 0 other file(s)"
      ],
      "text/plain": [
       "<IPython.core.display.HTML object>"
      ]
     },
     "metadata": {},
     "output_type": "display_data"
    },
    {
     "data": {
      "text/html": [
       "Find logs at: <code>./wandb/run-20250325_213423-o9jsbtd7/logs</code>"
      ],
      "text/plain": [
       "<IPython.core.display.HTML object>"
      ]
     },
     "metadata": {},
     "output_type": "display_data"
    },
    {
     "name": "stderr",
     "output_type": "stream",
     "text": [
      "[I 2025-03-25 21:41:10,286] Trial 9 finished with value: 0.7507827281951904 and parameters: {'hidden_dim': 128, 'num_layers': 4, 'dropout': 0.48174889407109966}. Best is trial 7 with value: 0.7526282668113708.\n"
     ]
    }
   ],
   "source": [
    "def objective_optuna(trial):\n",
    "    params = {\n",
    "        \"hidden_size\": trial.suggest_categorical(\"hidden_dim\", [32, 64, 128]),\n",
    "        \"num_layers\": trial.suggest_int(\"num_layers\", 1, 4),\n",
    "        \"dropout\": trial.suggest_float(\"dropout\", 0.1, 0.5)\n",
    "    }\n",
    "    \n",
    "    model = Baseline(embed_dim=params['hidden_size'], hidden_size=params['hidden_size'], output_size=7, use_rnn=False, \n",
    "                     num_layers=params['num_layers']).to(device)\n",
    "    \n",
    "    val_f1 = training_loop(model, 'LSTM', device, train_loader, val_loader, params=params)\n",
    "    return val_f1\n",
    "\n",
    "study = optuna.create_study(direction=\"maximize\")\n",
    "study.optimize(objective_optuna, n_trials=10)"
   ]
  },
  {
   "cell_type": "code",
   "execution_count": 21,
   "metadata": {},
   "outputs": [
    {
     "name": "stdout",
     "output_type": "stream",
     "text": [
      "\u001b[33mDEPRECATION: Loading egg at /extra_disk_1/alinashutova/anaconda3/envs/aquakv/lib/python3.11/site-packages/fast_hadamard_transform-1.0.4.post1-py3.11-linux-x86_64.egg is deprecated. pip 25.1 will enforce this behaviour change. A possible replacement is to use pip for package installation. Discussion can be found at https://github.com/pypa/pip/issues/12330\u001b[0m\u001b[33m\n",
      "\u001b[0m"
     ]
    }
   ],
   "source": [
    "! pip install -q tensorboardx"
   ]
  },
  {
   "cell_type": "code",
   "execution_count": 14,
   "metadata": {},
   "outputs": [
    {
     "name": "stderr",
     "output_type": "stream",
     "text": [
      "100%|██████████| 20/20 [04:43<00:00, 14.18s/it]\n"
     ]
    },
    {
     "data": {
      "text/html": [],
      "text/plain": [
       "<IPython.core.display.HTML object>"
      ]
     },
     "metadata": {},
     "output_type": "display_data"
    },
    {
     "data": {
      "text/html": [
       "<br>    <style><br>        .wandb-row {<br>            display: flex;<br>            flex-direction: row;<br>            flex-wrap: wrap;<br>            justify-content: flex-start;<br>            width: 100%;<br>        }<br>        .wandb-col {<br>            display: flex;<br>            flex-direction: column;<br>            flex-basis: 100%;<br>            flex: 1;<br>            padding: 10px;<br>        }<br>    </style><br><div class=\"wandb-row\"><div class=\"wandb-col\"><h3>Run history:</h3><br/><table class=\"wandb\"><tr><td>epoch</td><td>▁▁▂▂▂▃▃▄▄▄▅▅▅▆▆▇▇▇██</td></tr><tr><td>test_f1</td><td>▁▂▃▂▅▆▇▇▇▇▇██▇▇▇▇▇▇▇</td></tr><tr><td>test_recall_n</td><td>▆▇▆█▇▅▇▅▄▄▅▄▄▃▂▂▂▄▂▁</td></tr><tr><td>train_f1</td><td>▁▁▂▂▂▃▄▅▅▆▆▆▆▇▇▇█▇██</td></tr><tr><td>train_loss</td><td>█▆▆▅▅▅▄▄▃▃▃▂▂▂▂▂▁▁▁▁</td></tr><tr><td>train_recall_n</td><td>▅▆▅█▆▄▄▁▁▂▄▆▄▃▄▃▄▇▄▄</td></tr></table><br/></div><div class=\"wandb-col\"><h3>Run summary:</h3><br/><table class=\"wandb\"><tr><td>epoch</td><td>19</td></tr><tr><td>test_f1</td><td>0.75255</td></tr><tr><td>test_recall_n</td><td>0.87037</td></tr><tr><td>train_f1</td><td>0.94375</td></tr><tr><td>train_loss</td><td>0.21868</td></tr><tr><td>train_recall_n</td><td>0.97899</td></tr></table><br/></div></div>"
      ],
      "text/plain": [
       "<IPython.core.display.HTML object>"
      ]
     },
     "metadata": {},
     "output_type": "display_data"
    },
    {
     "data": {
      "text/html": [
       " View run <strong style=\"color:#cdcd00\">LSTM</strong> at: <a href='https://wandb.ai/goodevening13/ml_sys_design/runs/q5fh7r7y' target=\"_blank\">https://wandb.ai/goodevening13/ml_sys_design/runs/q5fh7r7y</a><br> View project at: <a href='https://wandb.ai/goodevening13/ml_sys_design' target=\"_blank\">https://wandb.ai/goodevening13/ml_sys_design</a><br>Synced 5 W&B file(s), 0 media file(s), 0 artifact file(s) and 0 other file(s)"
      ],
      "text/plain": [
       "<IPython.core.display.HTML object>"
      ]
     },
     "metadata": {},
     "output_type": "display_data"
    },
    {
     "data": {
      "text/html": [
       "Find logs at: <code>./wandb/run-20250325_230557-q5fh7r7y/logs</code>"
      ],
      "text/plain": [
       "<IPython.core.display.HTML object>"
      ]
     },
     "metadata": {},
     "output_type": "display_data"
    },
    {
     "name": "stdout",
     "output_type": "stream",
     "text": [
      "Лучшие параметры (Grid Search): {'lr': 0.001, 'optimizer': <class 'torch.optim.adam.Adam'>}\n"
     ]
    },
    {
     "data": {
      "text/html": [
       "Tracking run with wandb version 0.19.8"
      ],
      "text/plain": [
       "<IPython.core.display.HTML object>"
      ]
     },
     "metadata": {},
     "output_type": "display_data"
    },
    {
     "data": {
      "text/html": [
       "Run data is saved locally in <code>/extra_disk_1/alinashutova/last_hse/wandb/run-20250325_231057-j1hjjair</code>"
      ],
      "text/plain": [
       "<IPython.core.display.HTML object>"
      ]
     },
     "metadata": {},
     "output_type": "display_data"
    },
    {
     "data": {
      "text/html": [
       "Syncing run <strong><a href='https://wandb.ai/goodevening13/ml_sys_design/runs/j1hjjair' target=\"_blank\">LSTM</a></strong> to <a href='https://wandb.ai/goodevening13/ml_sys_design' target=\"_blank\">Weights & Biases</a> (<a href='https://wandb.me/developer-guide' target=\"_blank\">docs</a>)<br>"
      ],
      "text/plain": [
       "<IPython.core.display.HTML object>"
      ]
     },
     "metadata": {},
     "output_type": "display_data"
    },
    {
     "data": {
      "text/html": [
       " View project at <a href='https://wandb.ai/goodevening13/ml_sys_design' target=\"_blank\">https://wandb.ai/goodevening13/ml_sys_design</a>"
      ],
      "text/plain": [
       "<IPython.core.display.HTML object>"
      ]
     },
     "metadata": {},
     "output_type": "display_data"
    },
    {
     "data": {
      "text/html": [
       " View run at <a href='https://wandb.ai/goodevening13/ml_sys_design/runs/j1hjjair' target=\"_blank\">https://wandb.ai/goodevening13/ml_sys_design/runs/j1hjjair</a>"
      ],
      "text/plain": [
       "<IPython.core.display.HTML object>"
      ]
     },
     "metadata": {},
     "output_type": "display_data"
    },
    {
     "name": "stderr",
     "output_type": "stream",
     "text": [
      "100%|██████████| 20/20 [04:35<00:00, 13.75s/it]\n"
     ]
    },
    {
     "data": {
      "text/html": [],
      "text/plain": [
       "<IPython.core.display.HTML object>"
      ]
     },
     "metadata": {},
     "output_type": "display_data"
    },
    {
     "data": {
      "text/html": [
       "<br>    <style><br>        .wandb-row {<br>            display: flex;<br>            flex-direction: row;<br>            flex-wrap: wrap;<br>            justify-content: flex-start;<br>            width: 100%;<br>        }<br>        .wandb-col {<br>            display: flex;<br>            flex-direction: column;<br>            flex-basis: 100%;<br>            flex: 1;<br>            padding: 10px;<br>        }<br>    </style><br><div class=\"wandb-row\"><div class=\"wandb-col\"><h3>Run history:</h3><br/><table class=\"wandb\"><tr><td>epoch</td><td>▁▁▂▂▂▃▃▄▄▄▅▅▅▆▆▇▇▇██</td></tr><tr><td>test_f1</td><td>▂▁▃▄▄▆▆▅▇▆▅▇▇█▇▇▇▇▇█</td></tr><tr><td>test_recall_n</td><td>▃█▇▇▃▃▅▅▄▂▂▄▃▃▂▃▃▃▁▄</td></tr><tr><td>train_f1</td><td>▁▁▂▂▃▄▄▄▅▅▅▆▆▆▇▇▇███</td></tr><tr><td>train_loss</td><td>█▇▆▆▅▅▄▄▄▃▃▃▃▂▂▂▂▁▁▁</td></tr><tr><td>train_recall_n</td><td>▅█▇█▅▁▃▄▆▃▃▅▆▇▄▇▇▆▄▇</td></tr></table><br/></div><div class=\"wandb-col\"><h3>Run summary:</h3><br/><table class=\"wandb\"><tr><td>epoch</td><td>19</td></tr><tr><td>test_f1</td><td>0.76108</td></tr><tr><td>test_recall_n</td><td>0.92105</td></tr><tr><td>train_f1</td><td>0.90429</td></tr><tr><td>train_loss</td><td>0.28166</td></tr><tr><td>train_recall_n</td><td>0.99065</td></tr></table><br/></div></div>"
      ],
      "text/plain": [
       "<IPython.core.display.HTML object>"
      ]
     },
     "metadata": {},
     "output_type": "display_data"
    },
    {
     "data": {
      "text/html": [
       " View run <strong style=\"color:#cdcd00\">LSTM</strong> at: <a href='https://wandb.ai/goodevening13/ml_sys_design/runs/j1hjjair' target=\"_blank\">https://wandb.ai/goodevening13/ml_sys_design/runs/j1hjjair</a><br> View project at: <a href='https://wandb.ai/goodevening13/ml_sys_design' target=\"_blank\">https://wandb.ai/goodevening13/ml_sys_design</a><br>Synced 5 W&B file(s), 0 media file(s), 0 artifact file(s) and 0 other file(s)"
      ],
      "text/plain": [
       "<IPython.core.display.HTML object>"
      ]
     },
     "metadata": {},
     "output_type": "display_data"
    },
    {
     "data": {
      "text/html": [
       "Find logs at: <code>./wandb/run-20250325_231057-j1hjjair/logs</code>"
      ],
      "text/plain": [
       "<IPython.core.display.HTML object>"
      ]
     },
     "metadata": {},
     "output_type": "display_data"
    },
    {
     "name": "stdout",
     "output_type": "stream",
     "text": [
      "Лучшие параметры (Grid Search): {'lr': 0.001, 'optimizer': <class 'torch.optim.rmsprop.RMSprop'>}\n"
     ]
    },
    {
     "data": {
      "text/html": [
       "Tracking run with wandb version 0.19.8"
      ],
      "text/plain": [
       "<IPython.core.display.HTML object>"
      ]
     },
     "metadata": {},
     "output_type": "display_data"
    },
    {
     "data": {
      "text/html": [
       "Run data is saved locally in <code>/extra_disk_1/alinashutova/last_hse/wandb/run-20250325_231534-1glsy1jg</code>"
      ],
      "text/plain": [
       "<IPython.core.display.HTML object>"
      ]
     },
     "metadata": {},
     "output_type": "display_data"
    },
    {
     "data": {
      "text/html": [
       "Syncing run <strong><a href='https://wandb.ai/goodevening13/ml_sys_design/runs/1glsy1jg' target=\"_blank\">LSTM</a></strong> to <a href='https://wandb.ai/goodevening13/ml_sys_design' target=\"_blank\">Weights & Biases</a> (<a href='https://wandb.me/developer-guide' target=\"_blank\">docs</a>)<br>"
      ],
      "text/plain": [
       "<IPython.core.display.HTML object>"
      ]
     },
     "metadata": {},
     "output_type": "display_data"
    },
    {
     "data": {
      "text/html": [
       " View project at <a href='https://wandb.ai/goodevening13/ml_sys_design' target=\"_blank\">https://wandb.ai/goodevening13/ml_sys_design</a>"
      ],
      "text/plain": [
       "<IPython.core.display.HTML object>"
      ]
     },
     "metadata": {},
     "output_type": "display_data"
    },
    {
     "data": {
      "text/html": [
       " View run at <a href='https://wandb.ai/goodevening13/ml_sys_design/runs/1glsy1jg' target=\"_blank\">https://wandb.ai/goodevening13/ml_sys_design/runs/1glsy1jg</a>"
      ],
      "text/plain": [
       "<IPython.core.display.HTML object>"
      ]
     },
     "metadata": {},
     "output_type": "display_data"
    },
    {
     "name": "stderr",
     "output_type": "stream",
     "text": [
      "100%|██████████| 20/20 [04:28<00:00, 13.41s/it]\n"
     ]
    },
    {
     "data": {
      "text/html": [],
      "text/plain": [
       "<IPython.core.display.HTML object>"
      ]
     },
     "metadata": {},
     "output_type": "display_data"
    },
    {
     "data": {
      "text/html": [
       "<br>    <style><br>        .wandb-row {<br>            display: flex;<br>            flex-direction: row;<br>            flex-wrap: wrap;<br>            justify-content: flex-start;<br>            width: 100%;<br>        }<br>        .wandb-col {<br>            display: flex;<br>            flex-direction: column;<br>            flex-basis: 100%;<br>            flex: 1;<br>            padding: 10px;<br>        }<br>    </style><br><div class=\"wandb-row\"><div class=\"wandb-col\"><h3>Run history:</h3><br/><table class=\"wandb\"><tr><td>epoch</td><td>▁▁▂▂▂▃▃▄▄▄▅▅▅▆▆▇▇▇██</td></tr><tr><td>test_f1</td><td>▁▅▇▇▇▇▇▇▇▇▇▇▇▇▇█████</td></tr><tr><td>test_recall_n</td><td>█▃▁▂▂▄▃▂▃▄▃▂▂▅▃▄▃▂▃▃</td></tr><tr><td>train_f1</td><td>▁▄▆▆▆▇▇▇▇▇▇▇▇▇▇█████</td></tr><tr><td>train_loss</td><td>█▄▃▃▂▂▂▂▂▂▂▂▂▁▁▁▁▁▁▁</td></tr><tr><td>train_recall_n</td><td>█▃▁▄▃▃▃▃▃▄▃▂▂▅▃▄▄▃▄▃</td></tr></table><br/></div><div class=\"wandb-col\"><h3>Run summary:</h3><br/><table class=\"wandb\"><tr><td>epoch</td><td>19</td></tr><tr><td>test_f1</td><td>0.69011</td></tr><tr><td>test_recall_n</td><td>0.9347</td></tr><tr><td>train_f1</td><td>0.67688</td></tr><tr><td>train_loss</td><td>0.76432</td></tr><tr><td>train_recall_n</td><td>0.98169</td></tr></table><br/></div></div>"
      ],
      "text/plain": [
       "<IPython.core.display.HTML object>"
      ]
     },
     "metadata": {},
     "output_type": "display_data"
    },
    {
     "data": {
      "text/html": [
       " View run <strong style=\"color:#cdcd00\">LSTM</strong> at: <a href='https://wandb.ai/goodevening13/ml_sys_design/runs/1glsy1jg' target=\"_blank\">https://wandb.ai/goodevening13/ml_sys_design/runs/1glsy1jg</a><br> View project at: <a href='https://wandb.ai/goodevening13/ml_sys_design' target=\"_blank\">https://wandb.ai/goodevening13/ml_sys_design</a><br>Synced 5 W&B file(s), 0 media file(s), 0 artifact file(s) and 0 other file(s)"
      ],
      "text/plain": [
       "<IPython.core.display.HTML object>"
      ]
     },
     "metadata": {},
     "output_type": "display_data"
    },
    {
     "data": {
      "text/html": [
       "Find logs at: <code>./wandb/run-20250325_231534-1glsy1jg/logs</code>"
      ],
      "text/plain": [
       "<IPython.core.display.HTML object>"
      ]
     },
     "metadata": {},
     "output_type": "display_data"
    },
    {
     "name": "stdout",
     "output_type": "stream",
     "text": [
      "Лучшие параметры (Grid Search): {'lr': 0.001, 'optimizer': <class 'torch.optim.rmsprop.RMSprop'>}\n"
     ]
    },
    {
     "data": {
      "text/html": [
       "Tracking run with wandb version 0.19.8"
      ],
      "text/plain": [
       "<IPython.core.display.HTML object>"
      ]
     },
     "metadata": {},
     "output_type": "display_data"
    },
    {
     "data": {
      "text/html": [
       "Run data is saved locally in <code>/extra_disk_1/alinashutova/last_hse/wandb/run-20250325_232005-wx61ew7t</code>"
      ],
      "text/plain": [
       "<IPython.core.display.HTML object>"
      ]
     },
     "metadata": {},
     "output_type": "display_data"
    },
    {
     "data": {
      "text/html": [
       "Syncing run <strong><a href='https://wandb.ai/goodevening13/ml_sys_design/runs/wx61ew7t' target=\"_blank\">LSTM</a></strong> to <a href='https://wandb.ai/goodevening13/ml_sys_design' target=\"_blank\">Weights & Biases</a> (<a href='https://wandb.me/developer-guide' target=\"_blank\">docs</a>)<br>"
      ],
      "text/plain": [
       "<IPython.core.display.HTML object>"
      ]
     },
     "metadata": {},
     "output_type": "display_data"
    },
    {
     "data": {
      "text/html": [
       " View project at <a href='https://wandb.ai/goodevening13/ml_sys_design' target=\"_blank\">https://wandb.ai/goodevening13/ml_sys_design</a>"
      ],
      "text/plain": [
       "<IPython.core.display.HTML object>"
      ]
     },
     "metadata": {},
     "output_type": "display_data"
    },
    {
     "data": {
      "text/html": [
       " View run at <a href='https://wandb.ai/goodevening13/ml_sys_design/runs/wx61ew7t' target=\"_blank\">https://wandb.ai/goodevening13/ml_sys_design/runs/wx61ew7t</a>"
      ],
      "text/plain": [
       "<IPython.core.display.HTML object>"
      ]
     },
     "metadata": {},
     "output_type": "display_data"
    },
    {
     "name": "stderr",
     "output_type": "stream",
     "text": [
      "100%|██████████| 20/20 [04:35<00:00, 13.75s/it]\n"
     ]
    },
    {
     "data": {
      "text/html": [],
      "text/plain": [
       "<IPython.core.display.HTML object>"
      ]
     },
     "metadata": {},
     "output_type": "display_data"
    },
    {
     "data": {
      "text/html": [
       "<br>    <style><br>        .wandb-row {<br>            display: flex;<br>            flex-direction: row;<br>            flex-wrap: wrap;<br>            justify-content: flex-start;<br>            width: 100%;<br>        }<br>        .wandb-col {<br>            display: flex;<br>            flex-direction: column;<br>            flex-basis: 100%;<br>            flex: 1;<br>            padding: 10px;<br>        }<br>    </style><br><div class=\"wandb-row\"><div class=\"wandb-col\"><h3>Run history:</h3><br/><table class=\"wandb\"><tr><td>epoch</td><td>▁▁▂▂▂▃▃▄▄▄▅▅▅▆▆▇▇▇██</td></tr><tr><td>test_f1</td><td>▁▅▇▇▇▇▇█████████████</td></tr><tr><td>test_recall_n</td><td>█▄▂▁▃▂▄▄▃▄▄▄▆▄▃▅▃▄▄▃</td></tr><tr><td>train_f1</td><td>▁▆▆▇▇▇▇▇▇███████████</td></tr><tr><td>train_loss</td><td>█▄▃▃▂▂▂▂▂▂▂▂▂▁▁▁▁▁▁▁</td></tr><tr><td>train_recall_n</td><td>█▄▃▁▄▃▄▄▂▄▄▄▆▅▃▅▃▅▅▄</td></tr></table><br/></div><div class=\"wandb-col\"><h3>Run summary:</h3><br/><table class=\"wandb\"><tr><td>epoch</td><td>19</td></tr><tr><td>test_f1</td><td>0.64938</td></tr><tr><td>test_recall_n</td><td>0.92105</td></tr><tr><td>train_f1</td><td>0.66467</td></tr><tr><td>train_loss</td><td>0.79458</td></tr><tr><td>train_recall_n</td><td>0.97576</td></tr></table><br/></div></div>"
      ],
      "text/plain": [
       "<IPython.core.display.HTML object>"
      ]
     },
     "metadata": {},
     "output_type": "display_data"
    },
    {
     "data": {
      "text/html": [
       " View run <strong style=\"color:#cdcd00\">LSTM</strong> at: <a href='https://wandb.ai/goodevening13/ml_sys_design/runs/wx61ew7t' target=\"_blank\">https://wandb.ai/goodevening13/ml_sys_design/runs/wx61ew7t</a><br> View project at: <a href='https://wandb.ai/goodevening13/ml_sys_design' target=\"_blank\">https://wandb.ai/goodevening13/ml_sys_design</a><br>Synced 5 W&B file(s), 0 media file(s), 0 artifact file(s) and 0 other file(s)"
      ],
      "text/plain": [
       "<IPython.core.display.HTML object>"
      ]
     },
     "metadata": {},
     "output_type": "display_data"
    },
    {
     "data": {
      "text/html": [
       "Find logs at: <code>./wandb/run-20250325_232005-wx61ew7t/logs</code>"
      ],
      "text/plain": [
       "<IPython.core.display.HTML object>"
      ]
     },
     "metadata": {},
     "output_type": "display_data"
    },
    {
     "name": "stdout",
     "output_type": "stream",
     "text": [
      "Лучшие параметры (Grid Search): {'lr': 0.001, 'optimizer': <class 'torch.optim.rmsprop.RMSprop'>}\n"
     ]
    }
   ],
   "source": [
    "import torch.optim as optim\n",
    "\n",
    "\n",
    "grid_params = {\n",
    "    \"lr\": [1e-3, 1e-4],\n",
    "    \"optimizer\": [optim.Adam, optim.RMSprop],\n",
    "}\n",
    "\n",
    "best_val_f1 = 0\n",
    "for params in ParameterGrid(grid_params):\n",
    "    model = Baseline(embed_dim=64, hidden_size=64, output_size=7, use_rnn=False, \n",
    "                    num_layers=1).to(device)\n",
    "\n",
    "    val_f1 = training_loop(model, 'LSTM', device, train_loader, val_loader, params=params, optimizer=params[\"optimizer\"], lr=params['lr'])\n",
    "    if val_f1 > best_val_f1:\n",
    "        best_val_f1 = val_f1\n",
    "        best_params = params\n",
    "    \n",
    "    print(\"Лучшие параметры (Grid Search):\", best_params)"
   ]
  },
  {
   "cell_type": "code",
   "execution_count": null,
   "metadata": {},
   "outputs": [
    {
     "name": "stderr",
     "output_type": "stream",
     "text": [
      "2025-03-26 01:22:15,468\tINFO worker.py:1852 -- Started a local Ray instance.\n",
      "2025-03-26 01:22:18,416\tINFO tune.py:253 -- Initializing Ray automatically. For cluster usage or custom Ray initialization, call `ray.init(...)` before `tune.run(...)`.\n",
      "2025-03-26 01:22:18,421\tINFO tune.py:616 -- [output] This uses the legacy output and progress reporter, as Jupyter notebooks are not supported by the new engine, yet. For more information, please see https://github.com/ray-project/ray/issues/36949\n",
      "/home/alinashutova/anaconda3/envs/aquakv/lib/python3.11/site-packages/ray/tune/tune.py:730: UserWarning: Consider boosting PBT performance by enabling `reuse_actors` as well as implementing `reset_config` for Trainable.\n",
      "  warnings.warn(\n"
     ]
    },
    {
     "data": {
      "text/html": [
       "<div class=\"tuneStatus\">\n",
       "  <div style=\"display: flex;flex-direction: row\">\n",
       "    <div style=\"display: flex;flex-direction: column;\">\n",
       "      <h3>Tune Status</h3>\n",
       "      <table>\n",
       "<tbody>\n",
       "<tr><td>Current time:</td><td>2025-03-26 01:56:56</td></tr>\n",
       "<tr><td>Running for: </td><td>00:34:37.71        </td></tr>\n",
       "<tr><td>Memory:      </td><td>396.2/917.3 GiB    </td></tr>\n",
       "</tbody>\n",
       "</table>\n",
       "    </div>\n",
       "    <div class=\"vDivider\"></div>\n",
       "    <div class=\"systemInfo\">\n",
       "      <h3>System Info</h3>\n",
       "      PopulationBasedTraining: 25 checkpoints, 0 perturbs<br>Logical resource usage: 4.0/255 CPUs, 0.5/1 GPUs (0.0/1.0 accelerator_type:A100)\n",
       "    </div>\n",
       "    \n",
       "  </div>\n",
       "  <div class=\"hDivider\"></div>\n",
       "  <div class=\"trialStatus\">\n",
       "    <h3>Trial Status</h3>\n",
       "    <table>\n",
       "<thead>\n",
       "<tr><th>Trial name           </th><th>status    </th><th>loc              </th><th style=\"text-align: right;\">  iter</th><th style=\"text-align: right;\">  total time (s)</th><th style=\"text-align: right;\">  epoch</th><th style=\"text-align: right;\">  train_loss</th><th style=\"text-align: right;\">  train_recall_n</th></tr>\n",
       "</thead>\n",
       "<tbody>\n",
       "<tr><td>train_pbt_9cf58_00000</td><td>TERMINATED</td><td>192.168.1.2:65746</td><td style=\"text-align: right;\">    20</td><td style=\"text-align: right;\">         110.344</td><td style=\"text-align: right;\">     19</td><td style=\"text-align: right;\">    0.416506</td><td style=\"text-align: right;\">        0.978199</td></tr>\n",
       "<tr><td>train_pbt_9cf58_00001</td><td>TERMINATED</td><td>192.168.1.2:71412</td><td style=\"text-align: right;\">    20</td><td style=\"text-align: right;\">         110.22 </td><td style=\"text-align: right;\">     19</td><td style=\"text-align: right;\">    0.336853</td><td style=\"text-align: right;\">        0.980109</td></tr>\n",
       "<tr><td>train_pbt_9cf58_00002</td><td>TERMINATED</td><td>192.168.1.2:77689</td><td style=\"text-align: right;\">    20</td><td style=\"text-align: right;\">         108.842</td><td style=\"text-align: right;\">     19</td><td style=\"text-align: right;\">    0.364481</td><td style=\"text-align: right;\">        0.978068</td></tr>\n",
       "<tr><td>train_pbt_9cf58_00003</td><td>TERMINATED</td><td>192.168.1.2:85349</td><td style=\"text-align: right;\">    20</td><td style=\"text-align: right;\">         110.633</td><td style=\"text-align: right;\">     19</td><td style=\"text-align: right;\">    0.41488 </td><td style=\"text-align: right;\">        0.976223</td></tr>\n",
       "<tr><td>train_pbt_9cf58_00004</td><td>TERMINATED</td><td>192.168.1.2:91006</td><td style=\"text-align: right;\">    20</td><td style=\"text-align: right;\">         178.639</td><td style=\"text-align: right;\">     19</td><td style=\"text-align: right;\">    0.54759 </td><td style=\"text-align: right;\">        0.953171</td></tr>\n",
       "</tbody>\n",
       "</table>\n",
       "  </div>\n",
       "</div>\n",
       "<style>\n",
       ".tuneStatus {\n",
       "  color: var(--jp-ui-font-color1);\n",
       "}\n",
       ".tuneStatus .systemInfo {\n",
       "  display: flex;\n",
       "  flex-direction: column;\n",
       "}\n",
       ".tuneStatus td {\n",
       "  white-space: nowrap;\n",
       "}\n",
       ".tuneStatus .trialStatus {\n",
       "  display: flex;\n",
       "  flex-direction: column;\n",
       "}\n",
       ".tuneStatus h3 {\n",
       "  font-weight: bold;\n",
       "}\n",
       ".tuneStatus .hDivider {\n",
       "  border-bottom-width: var(--jp-border-width);\n",
       "  border-bottom-color: var(--jp-border-color0);\n",
       "  border-bottom-style: solid;\n",
       "}\n",
       ".tuneStatus .vDivider {\n",
       "  border-left-width: var(--jp-border-width);\n",
       "  border-left-color: var(--jp-border-color0);\n",
       "  border-left-style: solid;\n",
       "  margin: 0.5em 1em 0.5em 1em;\n",
       "}\n",
       "</style>\n"
      ],
      "text/plain": [
       "<IPython.core.display.HTML object>"
      ]
     },
     "metadata": {},
     "output_type": "display_data"
    },
    {
     "name": "stderr",
     "output_type": "stream",
     "text": [
      "2025-03-26 01:22:18,512\tWARNING tune_controller.py:2132 -- The maximum number of pending trials has been automatically set to the number of available cluster CPUs, which is high (280 CPUs/pending trials). If you're running an experiment with a large number of trials, this could lead to scheduling overhead. In this case, consider setting the `TUNE_MAX_PENDING_TRIALS_PG` environment variable to the desired maximum number of concurrent pending trials.\n",
      "2025-03-26 01:22:18,515\tWARNING tune_controller.py:2132 -- The maximum number of pending trials has been automatically set to the number of available cluster CPUs, which is high (280 CPUs/pending trials). If you're running an experiment with a large number of trials, this could lead to scheduling overhead. In this case, consider setting the `TUNE_MAX_PENDING_TRIALS_PG` environment variable to the desired maximum number of concurrent pending trials.\n"
     ]
    },
    {
     "name": "stdout",
     "output_type": "stream",
     "text": [
      "\u001b[33m(raylet)\u001b[0m Warning: The actor ImplicitFunc is very large (9 MiB). Check that its definition is not implicitly capturing a large array or other object in scope. Tip: use ray.put() to put large objects in the Ray object store.\n"
     ]
    },
    {
     "name": "stderr",
     "output_type": "stream",
     "text": [
      "\u001b[33m(raylet)\u001b[0m [2025-03-26 01:22:25,463 E 907034 907067] (raylet) file_system_monitor.cc:116: /var/tmp/ray/session_2025-03-26_01-22-13_421315_893989 is over 95% full, available space: 72.6015 GB; capacity: 2558.08 GB. Object creation will fail if spilling is required.\n",
      "\u001b[36m(train_pbt pid=923126)\u001b[0m /home/alinashutova/anaconda3/envs/aquakv/lib/python3.11/site-packages/torch/nn/modules/rnn.py:123: UserWarning: dropout option adds dropout after all but last recurrent layer, so non-zero dropout expects num_layers greater than 1, but got dropout=0.3 and num_layers=1\n",
      "\u001b[36m(train_pbt pid=923126)\u001b[0m   warnings.warn(\n"
     ]
    },
    {
     "data": {
      "text/html": [
       "<div class=\"trialProgress\">\n",
       "  <h3>Trial Progress</h3>\n",
       "  <table>\n",
       "<thead>\n",
       "<tr><th>Trial name           </th><th style=\"text-align: right;\">  epoch</th><th style=\"text-align: right;\">  train_f1</th><th style=\"text-align: right;\">  train_loss</th><th style=\"text-align: right;\">  train_recall_n</th><th style=\"text-align: right;\">  val_f1</th><th style=\"text-align: right;\">  val_recall_n</th></tr>\n",
       "</thead>\n",
       "<tbody>\n",
       "<tr><td>train_pbt_9cf58_00000</td><td style=\"text-align: right;\">     19</td><td style=\"text-align: right;\">  0.847908</td><td style=\"text-align: right;\">    0.416506</td><td style=\"text-align: right;\">        0.978199</td><td style=\"text-align: right;\">0.721012</td><td style=\"text-align: right;\">      0.869522</td></tr>\n",
       "<tr><td>train_pbt_9cf58_00001</td><td style=\"text-align: right;\">     19</td><td style=\"text-align: right;\">  0.881591</td><td style=\"text-align: right;\">    0.336853</td><td style=\"text-align: right;\">        0.980109</td><td style=\"text-align: right;\">0.728849</td><td style=\"text-align: right;\">      0.860558</td></tr>\n",
       "<tr><td>train_pbt_9cf58_00002</td><td style=\"text-align: right;\">     19</td><td style=\"text-align: right;\">  0.865369</td><td style=\"text-align: right;\">    0.364481</td><td style=\"text-align: right;\">        0.978068</td><td style=\"text-align: right;\">0.688118</td><td style=\"text-align: right;\">      0.840637</td></tr>\n",
       "<tr><td>train_pbt_9cf58_00003</td><td style=\"text-align: right;\">     19</td><td style=\"text-align: right;\">  0.852606</td><td style=\"text-align: right;\">    0.41488 </td><td style=\"text-align: right;\">        0.976223</td><td style=\"text-align: right;\">0.68874 </td><td style=\"text-align: right;\">      0.846614</td></tr>\n",
       "<tr><td>train_pbt_9cf58_00004</td><td style=\"text-align: right;\">     19</td><td style=\"text-align: right;\">  0.78848 </td><td style=\"text-align: right;\">    0.54759 </td><td style=\"text-align: right;\">        0.953171</td><td style=\"text-align: right;\">0.681952</td><td style=\"text-align: right;\">      0.86255 </td></tr>\n",
       "</tbody>\n",
       "</table>\n",
       "</div>\n",
       "<style>\n",
       ".trialProgress {\n",
       "  display: flex;\n",
       "  flex-direction: column;\n",
       "  color: var(--jp-ui-font-color1);\n",
       "}\n",
       ".trialProgress h3 {\n",
       "  font-weight: bold;\n",
       "}\n",
       ".trialProgress td {\n",
       "  white-space: nowrap;\n",
       "}\n",
       "</style>\n"
      ],
      "text/plain": [
       "<IPython.core.display.HTML object>"
      ]
     },
     "metadata": {},
     "output_type": "display_data"
    },
    {
     "name": "stderr",
     "output_type": "stream",
     "text": [
      "\u001b[33m(raylet)\u001b[0m [2025-03-26 01:22:35,484 E 907034 907067] (raylet) file_system_monitor.cc:116: /var/tmp/ray/session_2025-03-26_01-22-13_421315_893989 is over 95% full, available space: 72.5943 GB; capacity: 2558.08 GB. Object creation will fail if spilling is required.\n",
      "\u001b[36m(train_pbt pid=923125)\u001b[0m /home/alinashutova/anaconda3/envs/aquakv/lib/python3.11/site-packages/torch/nn/modules/rnn.py:123: UserWarning: dropout option adds dropout after all but last recurrent layer, so non-zero dropout expects num_layers greater than 1, but got dropout=0.3 and num_layers=1\n",
      "\u001b[36m(train_pbt pid=923125)\u001b[0m   warnings.warn(\n",
      "\u001b[33m(raylet)\u001b[0m [2025-03-26 01:22:45,502 E 907034 907067] (raylet) file_system_monitor.cc:116: /var/tmp/ray/session_2025-03-26_01-22-13_421315_893989 is over 95% full, available space: 72.5932 GB; capacity: 2558.08 GB. Object creation will fail if spilling is required.\n",
      "\u001b[36m(train_pbt pid=925825)\u001b[0m /home/alinashutova/anaconda3/envs/aquakv/lib/python3.11/site-packages/torch/nn/modules/rnn.py:123: UserWarning: dropout option adds dropout after all but last recurrent layer, so non-zero dropout expects num_layers greater than 1, but got dropout=0.3 and num_layers=1\n",
      "\u001b[36m(train_pbt pid=925825)\u001b[0m   warnings.warn(\n",
      "\u001b[33m(raylet)\u001b[0m [2025-03-26 01:22:55,537 E 907034 907067] (raylet) file_system_monitor.cc:116: /var/tmp/ray/session_2025-03-26_01-22-13_421315_893989 is over 95% full, available space: 72.5931 GB; capacity: 2558.08 GB. Object creation will fail if spilling is required.\n",
      "\u001b[36m(train_pbt pid=925824)\u001b[0m /home/alinashutova/anaconda3/envs/aquakv/lib/python3.11/site-packages/torch/nn/modules/rnn.py:123: UserWarning: dropout option adds dropout after all but last recurrent layer, so non-zero dropout expects num_layers greater than 1, but got dropout=0.3 and num_layers=1\n",
      "\u001b[36m(train_pbt pid=925824)\u001b[0m   warnings.warn(\n",
      "\u001b[36m(train_pbt pid=925824)\u001b[0m *** SIGSEGV received at time=1742941379 on cpu 23 ***\n",
      "\u001b[36m(train_pbt pid=925824)\u001b[0m PC: @     0x7f3b0d3765de  (unknown)  ray::gcs::TaskInfoAccessor::AsyncAddTaskEventData()\n",
      "\u001b[36m(train_pbt pid=925824)\u001b[0m     @     0x7f3b0f561980       1792  (unknown)\n",
      "\u001b[36m(train_pbt pid=925824)\u001b[0m     @     0x7f3b0d254ce5       1392  ray::core::worker::TaskEventBufferImpl::FlushEvents()\n",
      "\u001b[36m(train_pbt pid=925824)\u001b[0m     @     0x7f3b0d1db18c       1488  ray::core::CoreWorker::Disconnect()\n",
      "\u001b[36m(train_pbt pid=925824)\u001b[0m     @     0x7f3b0d1db6bd       1152  ray::core::CoreWorker::ForceExit()\n",
      "\u001b[36m(train_pbt pid=925824)\u001b[0m     @     0x7f3b0d1dbaef       1680  ray::core::CoreWorker::HandleKillActor()\n",
      "\u001b[36m(train_pbt pid=925824)\u001b[0m     @     0x7f3b0d1d2e74        192  ray::rpc::ServerCallImpl<>::HandleRequestImpl()\n",
      "\u001b[36m(train_pbt pid=925824)\u001b[0m     @     0x7f3b0d5a95d8       1168  EventTracker::RecordExecution()\n",
      "\u001b[36m(train_pbt pid=925824)\u001b[0m     @     0x7f3b0d5a45ae         48  std::_Function_handler<>::_M_invoke()\n",
      "\u001b[36m(train_pbt pid=925824)\u001b[0m     @     0x7f3b0d5a4a26        112  boost::asio::detail::completion_handler<>::do_complete()\n",
      "\u001b[36m(train_pbt pid=925824)\u001b[0m     @     0x7f3b0dc28f4b        128  boost::asio::detail::scheduler::do_run_one()\n",
      "\u001b[36m(train_pbt pid=925824)\u001b[0m     @     0x7f3b0dc2a8c9        288  boost::asio::detail::scheduler::run()\n",
      "\u001b[36m(train_pbt pid=925824)\u001b[0m     @     0x7f3b0dc2afd2         96  boost::asio::io_context::run()\n",
      "\u001b[36m(train_pbt pid=925824)\u001b[0m     @     0x7f3b0d133751       1280  ray::core::CoreWorker::RunIOService()\n",
      "\u001b[36m(train_pbt pid=925824)\u001b[0m     @     0x7f3b0d643f90         64  thread_proxy\n",
      "\u001b[36m(train_pbt pid=925824)\u001b[0m     @     0x7f3b0f5566db  (unknown)  start_thread\n",
      "\u001b[36m(train_pbt pid=925824)\u001b[0m [2025-03-26 01:22:59,045 E 925824 926006] logging.cc:497: *** SIGSEGV received at time=1742941379 on cpu 23 ***\n",
      "\u001b[36m(train_pbt pid=925824)\u001b[0m [2025-03-26 01:22:59,046 E 925824 926006] logging.cc:497: PC: @     0x7f3b0d3765de  (unknown)  ray::gcs::TaskInfoAccessor::AsyncAddTaskEventData()\n",
      "\u001b[36m(train_pbt pid=925824)\u001b[0m [2025-03-26 01:22:59,046 E 925824 926006] logging.cc:497:     @     0x7f3b0f561980       1792  (unknown)\n",
      "\u001b[36m(train_pbt pid=925824)\u001b[0m [2025-03-26 01:22:59,046 E 925824 926006] logging.cc:497:     @     0x7f3b0d254ce5       1392  ray::core::worker::TaskEventBufferImpl::FlushEvents()\n",
      "\u001b[36m(train_pbt pid=925824)\u001b[0m [2025-03-26 01:22:59,046 E 925824 926006] logging.cc:497:     @     0x7f3b0d1db18c       1488  ray::core::CoreWorker::Disconnect()\n",
      "\u001b[36m(train_pbt pid=925824)\u001b[0m [2025-03-26 01:22:59,046 E 925824 926006] logging.cc:497:     @     0x7f3b0d1db6bd       1152  ray::core::CoreWorker::ForceExit()\n",
      "\u001b[36m(train_pbt pid=925824)\u001b[0m [2025-03-26 01:22:59,046 E 925824 926006] logging.cc:497:     @     0x7f3b0d1dbaef       1680  ray::core::CoreWorker::HandleKillActor()\n",
      "\u001b[36m(train_pbt pid=925824)\u001b[0m [2025-03-26 01:22:59,046 E 925824 926006] logging.cc:497:     @     0x7f3b0d1d2e74        192  ray::rpc::ServerCallImpl<>::HandleRequestImpl()\n",
      "\u001b[36m(train_pbt pid=925824)\u001b[0m [2025-03-26 01:22:59,046 E 925824 926006] logging.cc:497:     @     0x7f3b0d5a95d8       1168  EventTracker::RecordExecution()\n",
      "\u001b[36m(train_pbt pid=925824)\u001b[0m [2025-03-26 01:22:59,046 E 925824 926006] logging.cc:497:     @     0x7f3b0d5a45ae         48  std::_Function_handler<>::_M_invoke()\n",
      "\u001b[36m(train_pbt pid=925824)\u001b[0m [2025-03-26 01:22:59,046 E 925824 926006] logging.cc:497:     @     0x7f3b0d5a4a26        112  boost::asio::detail::completion_handler<>::do_complete()\n",
      "\u001b[36m(train_pbt pid=925824)\u001b[0m [2025-03-26 01:22:59,046 E 925824 926006] logging.cc:497:     @     0x7f3b0dc28f4b        128  boost::asio::detail::scheduler::do_run_one()\n",
      "\u001b[36m(train_pbt pid=925824)\u001b[0m [2025-03-26 01:22:59,046 E 925824 926006] logging.cc:497:     @     0x7f3b0dc2a8c9        288  boost::asio::detail::scheduler::run()\n",
      "\u001b[36m(train_pbt pid=925824)\u001b[0m [2025-03-26 01:22:59,046 E 925824 926006] logging.cc:497:     @     0x7f3b0dc2afd2         96  boost::asio::io_context::run()\n",
      "\u001b[36m(train_pbt pid=925824)\u001b[0m [2025-03-26 01:22:59,046 E 925824 926006] logging.cc:497:     @     0x7f3b0d133751       1280  ray::core::CoreWorker::RunIOService()\n",
      "\u001b[36m(train_pbt pid=925824)\u001b[0m [2025-03-26 01:22:59,046 E 925824 926006] logging.cc:497:     @     0x7f3b0d643f90         64  thread_proxy\n",
      "\u001b[36m(train_pbt pid=925824)\u001b[0m [2025-03-26 01:22:59,046 E 925824 926006] logging.cc:497:     @     0x7f3b0f5566db  (unknown)  start_thread\n",
      "\u001b[36m(train_pbt pid=925824)\u001b[0m Fatal Python error: Segmentation fault\n",
      "\u001b[36m(train_pbt pid=925824)\u001b[0m \n",
      "\u001b[36m(train_pbt pid=925824)\u001b[0m \n",
      "\u001b[36m(train_pbt pid=925824)\u001b[0m Extension modules: msgpack._cmsgpack, google._upb._message, psutil._psutil_linux, psutil._psutil_posix, setproctitle, yaml._yaml, charset_normalizer.md, requests.packages.charset_normalizer.md, requests.packages.chardet.md, ray._raylet, numpy._core._multiarray_umath, numpy.linalg._umath_linalg, pyarrow.lib, numpy.random._common, numpy.random.bit_generator, numpy.random._bounded_integers, numpy.random._mt19937, numpy.random.mtrand, numpy.random._philox, numpy.random._pcg64, numpy.random._sfc64, numpy.random._generator, pandas._libs.tslibs.ccalendar, pandas._libs.tslibs.np_datetime, pandas._libs.tslibs.dtypes, pandas._libs.tslibs.base, pandas._libs.tslibs.nattype, pandas._libs.tslibs.timezones, pandas._libs.tslibs.fields, pandas._libs.tslibs.timedeltas, pandas._libs.tslibs.tzconversion, pandas._libs.tslibs.timestamps, pandas._libs.properties, pandas._libs.tslibs.offsets, pandas._libs.tslibs.strptime, pandas._libs.tslibs.parsing, pandas._libs.tslibs.conversion, pandas._libs.tslibs.period, pandas._libs.tslibs.vectorized, pandas._libs.ops_dispatch, pandas._libs.missing, pandas._libs.hashtable, pandas._libs.algos, pandas._libs.interval, pandas._libs.lib, pyarrow._compute, pandas._libs.ops, pandas._libs.hashing, pandas._libs.arrays, pandas._libs.tslib, pandas._libs.sparse, pandas._libs.internals, pandas._libs.indexing, pandas._libs.index, pandas._libs.writers, pandas._libs.join, pandas._libs.window.aggregations, pandas._libs.window.indexers, pandas._libs.reshape, pandas._libs.groupby, pandas._libs.json, pandas._libs.parsers, pandas._libs.testing, pyarrow._fs, pyarrow._azurefs, pyarrow._hdfs, pyarrow._gcsfs, pyarrow._s3fs, pyarrow._parquet, torch._C, torch._C._dynamo.autograd_compiler, torch._C._dynamo.eval_frame, torch._C._dynamo.guards, torch._C._dynamo.utils, torch._C._fft, torch._C._linalg, torch._C._nested, torch._C._nn, torch._C._sparse, torch._C._special, markupsafe._speedups, PIL._imaging, scipy._lib._ccallback_c, scipy.linalg._fblas, scipy.linalg._flapack, scipy.linalg.cython_lapack, scipy.linalg._cythonized_array_utils, scipy.linalg._solve_toeplitz, scipy.linalg._decomp_lu_cython, scipy.linalg._matfuncs_sqrtm_triu, scipy.linalg._matfuncs_expm, scipy.linalg._linalg_pythran, scipy.linalg.cython_blas, scipy.linalg._decomp_update, scipy.sparse._sparsetools, _csparsetools, scipy.sparse._csparsetools, scipy.sparse.linalg._dsolve._superlu, scipy.sparse.linalg._eigen.arpack._arpack, scipy.sparse.linalg._propack._spropack, scipy.sparse.linalg._propack._dpropack, scipy.sparse.linalg._propack._cpropack, scipy.sparse.linalg._propack._zpropack, scipy.sparse.csgraph._tools, scipy.sparse.csgraph._shortest_path, scipy.sparse.csgraph._traversal, scipy.sparse.csgraph._min_spanning_tree, scipy.sparse.csgraph._flow, scipy.sparse.csgraph._matching, scipy.sparse.csgraph._reordering, scipy.optimize._group_columns, scipy._lib.messagestream, scipy.optimize._trlib._trlib, scipy.optimize._lbfgsb, _moduleTNC, scipy.optimize._moduleTNC, scipy.optimize._cobyla, scipy.optimize._slsqp, scipy.optimize._minpack, scipy.optimize._lsq.givens_elimination, scipy.optimize._zeros, scipy.optimize._cython_nnls, scipy._lib._uarray._uarray, scipy.special._ufuncs_cxx, scipy.special._ufuncs, scipy.special._specfun, scipy.special._comb, scipy.special._ellip_harm_2, scipy.linalg._decomp_interpolative, scipy.optimize._bglu_dense, scipy.optimize._lsap, scipy.spatial._ckdtree, scipy.spatial._qhull, scipy.spatial._voronoi, scipy.spatial._distance_wrap, scipy.spatial._hausdorff, scipy.spatial.transform._rotation, scipy.optimize._direct, greenlet._greenlet, pyarrow._json (total: 140)\n",
      "\u001b[36m(train_pbt pid=928052)\u001b[0m /home/alinashutova/anaconda3/envs/aquakv/lib/python3.11/site-packages/torch/nn/modules/rnn.py:123: UserWarning: dropout option adds dropout after all but last recurrent layer, so non-zero dropout expects num_layers greater than 1, but got dropout=0.3 and num_layers=1\n",
      "\u001b[36m(train_pbt pid=928052)\u001b[0m   warnings.warn(\n",
      "\u001b[33m(raylet)\u001b[0m [2025-03-26 01:23:05,557 E 907034 907067] (raylet) file_system_monitor.cc:116: /var/tmp/ray/session_2025-03-26_01-22-13_421315_893989 is over 95% full, available space: 72.593 GB; capacity: 2558.08 GB. Object creation will fail if spilling is required.\n",
      "\u001b[36m(train_pbt pid=928857)\u001b[0m /home/alinashutova/anaconda3/envs/aquakv/lib/python3.11/site-packages/torch/nn/modules/rnn.py:123: UserWarning: dropout option adds dropout after all but last recurrent layer, so non-zero dropout expects num_layers greater than 1, but got dropout=0.3 and num_layers=1\n",
      "\u001b[36m(train_pbt pid=928857)\u001b[0m   warnings.warn(\n",
      "\u001b[33m(raylet)\u001b[0m [2025-03-26 01:23:15,574 E 907034 907067] (raylet) file_system_monitor.cc:116: /var/tmp/ray/session_2025-03-26_01-22-13_421315_893989 is over 95% full, available space: 72.5918 GB; capacity: 2558.08 GB. Object creation will fail if spilling is required.\n",
      "\u001b[36m(train_pbt pid=930163)\u001b[0m /home/alinashutova/anaconda3/envs/aquakv/lib/python3.11/site-packages/torch/nn/modules/rnn.py:123: UserWarning: dropout option adds dropout after all but last recurrent layer, so non-zero dropout expects num_layers greater than 1, but got dropout=0.3 and num_layers=1\n",
      "\u001b[36m(train_pbt pid=930163)\u001b[0m   warnings.warn(\n",
      "\u001b[33m(raylet)\u001b[0m [2025-03-26 01:23:25,597 E 907034 907067] (raylet) file_system_monitor.cc:116: /var/tmp/ray/session_2025-03-26_01-22-13_421315_893989 is over 95% full, available space: 72.5907 GB; capacity: 2558.08 GB. Object creation will fail if spilling is required.\n",
      "\u001b[36m(train_pbt pid=928857)\u001b[0m *** SIGSEGV received at time=1742941411 on cpu 177 ***\n",
      "\u001b[36m(train_pbt pid=928857)\u001b[0m PC: @     0x7f1870b355de  (unknown)  ray::gcs::TaskInfoAccessor::AsyncAddTaskEventData()\n",
      "\u001b[36m(train_pbt pid=928857)\u001b[0m     @     0x7f1872d20980       1792  (unknown)\n",
      "\u001b[36m(train_pbt pid=928857)\u001b[0m     @     0x7f1870a13ce5       1392  ray::core::worker::TaskEventBufferImpl::FlushEvents()\n",
      "\u001b[36m(train_pbt pid=928857)\u001b[0m     @     0x7f187099a18c       1488  ray::core::CoreWorker::Disconnect()\n",
      "\u001b[36m(train_pbt pid=928857)\u001b[0m     @     0x7f187099a6bd       1152  ray::core::CoreWorker::ForceExit()\n",
      "\u001b[36m(train_pbt pid=928857)\u001b[0m     @     0x7f187099aaef       1680  ray::core::CoreWorker::HandleKillActor()\n",
      "\u001b[36m(train_pbt pid=928857)\u001b[0m     @     0x7f1870991e74        192  ray::rpc::ServerCallImpl<>::HandleRequestImpl()\n",
      "\u001b[36m(train_pbt pid=928857)\u001b[0m     @     0x7f1870d685d8       1168  EventTracker::RecordExecution()\n",
      "\u001b[36m(train_pbt pid=928857)\u001b[0m     @     0x7f1870d635ae         48  std::_Function_handler<>::_M_invoke()\n",
      "\u001b[36m(train_pbt pid=928857)\u001b[0m     @     0x7f1870d63a26        112  boost::asio::detail::completion_handler<>::do_complete()\n",
      "\u001b[36m(train_pbt pid=928857)\u001b[0m     @     0x7f18713e7f4b        128  boost::asio::detail::scheduler::do_run_one()\n",
      "\u001b[36m(train_pbt pid=928857)\u001b[0m     @     0x7f18713e98c9        288  boost::asio::detail::scheduler::run()\n",
      "\u001b[36m(train_pbt pid=928857)\u001b[0m     @     0x7f18713e9fd2         96  boost::asio::io_context::run()\n",
      "\u001b[36m(train_pbt pid=928857)\u001b[0m     @     0x7f18708f2751       1280  ray::core::CoreWorker::RunIOService()\n",
      "\u001b[36m(train_pbt pid=928857)\u001b[0m     @     0x7f1870e02f90         64  thread_proxy\n",
      "\u001b[36m(train_pbt pid=928857)\u001b[0m     @     0x7f1872d156db  (unknown)  start_thread\n",
      "\u001b[36m(train_pbt pid=928857)\u001b[0m [2025-03-26 01:23:31,939 E 928857 928976] logging.cc:497: *** SIGSEGV received at time=1742941411 on cpu 177 ***\n",
      "\u001b[36m(train_pbt pid=928857)\u001b[0m [2025-03-26 01:23:31,939 E 928857 928976] logging.cc:497: PC: @     0x7f1870b355de  (unknown)  ray::gcs::TaskInfoAccessor::AsyncAddTaskEventData()\n",
      "\u001b[36m(train_pbt pid=928857)\u001b[0m [2025-03-26 01:23:31,939 E 928857 928976] logging.cc:497:     @     0x7f1872d20980       1792  (unknown)\n",
      "\u001b[36m(train_pbt pid=928857)\u001b[0m [2025-03-26 01:23:31,939 E 928857 928976] logging.cc:497:     @     0x7f1870a13ce5       1392  ray::core::worker::TaskEventBufferImpl::FlushEvents()\n",
      "\u001b[36m(train_pbt pid=928857)\u001b[0m [2025-03-26 01:23:31,939 E 928857 928976] logging.cc:497:     @     0x7f187099a18c       1488  ray::core::CoreWorker::Disconnect()\n",
      "\u001b[36m(train_pbt pid=928857)\u001b[0m [2025-03-26 01:23:31,939 E 928857 928976] logging.cc:497:     @     0x7f187099a6bd       1152  ray::core::CoreWorker::ForceExit()\n",
      "\u001b[36m(train_pbt pid=928857)\u001b[0m [2025-03-26 01:23:31,939 E 928857 928976] logging.cc:497:     @     0x7f187099aaef       1680  ray::core::CoreWorker::HandleKillActor()\n",
      "\u001b[36m(train_pbt pid=928857)\u001b[0m [2025-03-26 01:23:31,939 E 928857 928976] logging.cc:497:     @     0x7f1870991e74        192  ray::rpc::ServerCallImpl<>::HandleRequestImpl()\n",
      "\u001b[36m(train_pbt pid=928857)\u001b[0m [2025-03-26 01:23:31,939 E 928857 928976] logging.cc:497:     @     0x7f1870d685d8       1168  EventTracker::RecordExecution()\n",
      "\u001b[36m(train_pbt pid=928857)\u001b[0m [2025-03-26 01:23:31,939 E 928857 928976] logging.cc:497:     @     0x7f1870d635ae         48  std::_Function_handler<>::_M_invoke()\n",
      "\u001b[36m(train_pbt pid=928857)\u001b[0m [2025-03-26 01:23:31,939 E 928857 928976] logging.cc:497:     @     0x7f1870d63a26        112  boost::asio::detail::completion_handler<>::do_complete()\n",
      "\u001b[36m(train_pbt pid=928857)\u001b[0m [2025-03-26 01:23:31,939 E 928857 928976] logging.cc:497:     @     0x7f18713e7f4b        128  boost::asio::detail::scheduler::do_run_one()\n",
      "\u001b[36m(train_pbt pid=928857)\u001b[0m [2025-03-26 01:23:31,939 E 928857 928976] logging.cc:497:     @     0x7f18713e98c9        288  boost::asio::detail::scheduler::run()\n",
      "\u001b[36m(train_pbt pid=928857)\u001b[0m [2025-03-26 01:23:31,939 E 928857 928976] logging.cc:497:     @     0x7f18713e9fd2         96  boost::asio::io_context::run()\n",
      "\u001b[36m(train_pbt pid=928857)\u001b[0m [2025-03-26 01:23:31,939 E 928857 928976] logging.cc:497:     @     0x7f18708f2751       1280  ray::core::CoreWorker::RunIOService()\n",
      "\u001b[36m(train_pbt pid=928857)\u001b[0m [2025-03-26 01:23:31,939 E 928857 928976] logging.cc:497:     @     0x7f1870e02f90         64  thread_proxy\n",
      "\u001b[36m(train_pbt pid=928857)\u001b[0m [2025-03-26 01:23:31,939 E 928857 928976] logging.cc:497:     @     0x7f1872d156db  (unknown)  start_thread\n",
      "\u001b[36m(train_pbt pid=928857)\u001b[0m Fatal Python error: Segmentation fault\n",
      "\u001b[36m(train_pbt pid=928857)\u001b[0m \n",
      "\u001b[36m(train_pbt pid=928857)\u001b[0m \n",
      "\u001b[36m(train_pbt pid=928857)\u001b[0m Extension modules: msgpack._cmsgpack, google._upb._message, psutil._psutil_linux, psutil._psutil_posix, setproctitle, yaml._yaml, charset_normalizer.md, requests.packages.charset_normalizer.md, requests.packages.chardet.md, ray._raylet, numpy._core._multiarray_umath, numpy.linalg._umath_linalg, pyarrow.lib, numpy.random._common, numpy.random.bit_generator, numpy.random._bounded_integers, numpy.random._mt19937, numpy.random.mtrand, numpy.random._philox, numpy.random._pcg64, numpy.random._sfc64, numpy.random._generator, pandas._libs.tslibs.ccalendar, pandas._libs.tslibs.np_datetime, pandas._libs.tslibs.dtypes, pandas._libs.tslibs.base, pandas._libs.tslibs.nattype, pandas._libs.tslibs.timezones, pandas._libs.tslibs.fields, pandas._libs.tslibs.timedeltas, pandas._libs.tslibs.tzconversion, pandas._libs.tslibs.timestamps, pandas._libs.properties, pandas._libs.tslibs.offsets, pandas._libs.tslibs.strptime, pandas._libs.tslibs.parsing, pandas._libs.tslibs.conversion, pandas._libs.tslibs.period, pandas._libs.tslibs.vectorized, pandas._libs.ops_dispatch, pandas._libs.missing, pandas._libs.hashtable, pandas._libs.algos, pandas._libs.interval, pandas._libs.lib, pyarrow._compute, pandas._libs.ops, pandas._libs.hashing, pandas._libs.arrays, pandas._libs.tslib, pandas._libs.sparse, pandas._libs.internals, pandas._libs.indexing, pandas._libs.index, pandas._libs.writers, pandas._libs.join, pandas._libs.window.aggregations, pandas._libs.window.indexers, pandas._libs.reshape, pandas._libs.groupby, pandas._libs.json, pandas._libs.parsers, pandas._libs.testing, pyarrow._fs, pyarrow._azurefs, pyarrow._hdfs, pyarrow._gcsfs, pyarrow._s3fs, pyarrow._parquet, torch._C, torch._C._dynamo.autograd_compiler, torch._C._dynamo.eval_frame, torch._C._dynamo.guards, torch._C._dynamo.utils, torch._C._fft, torch._C._linalg, torch._C._nested, torch._C._nn, torch._C._sparse, torch._C._special, markupsafe._speedups, PIL._imaging, scipy._lib._ccallback_c, scipy.linalg._fblas, scipy.linalg._flapack, scipy.linalg.cython_lapack, scipy.linalg._cythonized_array_utils, scipy.linalg._solve_toeplitz, scipy.linalg._decomp_lu_cython, scipy.linalg._matfuncs_sqrtm_triu, scipy.linalg._matfuncs_expm, scipy.linalg._linalg_pythran, scipy.linalg.cython_blas, scipy.linalg._decomp_update, scipy.sparse._sparsetools, _csparsetools, scipy.sparse._csparsetools, scipy.sparse.linalg._dsolve._superlu, scipy.sparse.linalg._eigen.arpack._arpack, scipy.sparse.linalg._propack._spropack, scipy.sparse.linalg._propack._dpropack, scipy.sparse.linalg._propack._cpropack, scipy.sparse.linalg._propack._zpropack, scipy.sparse.csgraph._tools, scipy.sparse.csgraph._shortest_path, scipy.sparse.csgraph._traversal, scipy.sparse.csgraph._min_spanning_tree, scipy.sparse.csgraph._flow, scipy.sparse.csgraph._matching, scipy.sparse.csgraph._reordering, scipy.optimize._group_columns, scipy._lib.messagestream, scipy.optimize._trlib._trlib, scipy.optimize._lbfgsb, _moduleTNC, scipy.optimize._moduleTNC, scipy.optimize._cobyla, scipy.optimize._slsqp, scipy.optimize._minpack, scipy.optimize._lsq.givens_elimination, scipy.optimize._zeros, scipy.optimize._cython_nnls, scipy._lib._uarray._uarray, scipy.special._ufuncs_cxx, scipy.special._ufuncs, scipy.special._specfun, scipy.special._comb, scipy.special._ellip_harm_2, scipy.linalg._decomp_interpolative, scipy.optimize._bglu_dense, scipy.optimize._lsap, scipy.spatial._ckdtree, scipy.spatial._qhull, scipy.spatial._voronoi, scipy.spatial._distance_wrap, scipy.spatial._hausdorff, scipy.spatial.transform._rotation, scipy.optimize._direct, greenlet._greenlet, pyarrow._json (total: 140)\n",
      "\u001b[33m(raylet)\u001b[0m [2025-03-26 01:23:35,615 E 907034 907067] (raylet) file_system_monitor.cc:116: /var/tmp/ray/session_2025-03-26_01-22-13_421315_893989 is over 95% full, available space: 72.5907 GB; capacity: 2558.08 GB. Object creation will fail if spilling is required.\n",
      "\u001b[36m(train_pbt pid=931856)\u001b[0m /home/alinashutova/anaconda3/envs/aquakv/lib/python3.11/site-packages/torch/nn/modules/rnn.py:123: UserWarning: dropout option adds dropout after all but last recurrent layer, so non-zero dropout expects num_layers greater than 1, but got dropout=0.3 and num_layers=1\n",
      "\u001b[36m(train_pbt pid=931856)\u001b[0m   warnings.warn(\n",
      "\u001b[33m(raylet)\u001b[0m [2025-03-26 01:23:45,639 E 907034 907067] (raylet) file_system_monitor.cc:116: /var/tmp/ray/session_2025-03-26_01-22-13_421315_893989 is over 95% full, available space: 72.5906 GB; capacity: 2558.08 GB. Object creation will fail if spilling is required.\n",
      "\u001b[36m(train_pbt pid=933309)\u001b[0m /home/alinashutova/anaconda3/envs/aquakv/lib/python3.11/site-packages/torch/nn/modules/rnn.py:123: UserWarning: dropout option adds dropout after all but last recurrent layer, so non-zero dropout expects num_layers greater than 1, but got dropout=0.3 and num_layers=1\n",
      "\u001b[36m(train_pbt pid=933309)\u001b[0m   warnings.warn(\n",
      "\u001b[33m(raylet)\u001b[0m [2025-03-26 01:23:55,655 E 907034 907067] (raylet) file_system_monitor.cc:116: /var/tmp/ray/session_2025-03-26_01-22-13_421315_893989 is over 95% full, available space: 72.5906 GB; capacity: 2558.08 GB. Object creation will fail if spilling is required.\n",
      "\u001b[36m(train_pbt pid=935063)\u001b[0m /home/alinashutova/anaconda3/envs/aquakv/lib/python3.11/site-packages/torch/nn/modules/rnn.py:123: UserWarning: dropout option adds dropout after all but last recurrent layer, so non-zero dropout expects num_layers greater than 1, but got dropout=0.3 and num_layers=1\n",
      "\u001b[36m(train_pbt pid=935063)\u001b[0m   warnings.warn(\n",
      "\u001b[33m(raylet)\u001b[0m [2025-03-26 01:24:05,670 E 907034 907067] (raylet) file_system_monitor.cc:116: /var/tmp/ray/session_2025-03-26_01-22-13_421315_893989 is over 95% full, available space: 72.5894 GB; capacity: 2558.08 GB. Object creation will fail if spilling is required.\n",
      "2025-03-26 01:24:10,772\tINFO pbt.py:716 -- [pbt]: no checkpoint for trial train_pbt_9cf58_00002. Skip exploit for Trial train_pbt_9cf58_00003\n",
      "\u001b[33m(raylet)\u001b[0m [2025-03-26 01:24:15,687 E 907034 907067] (raylet) file_system_monitor.cc:116: /var/tmp/ray/session_2025-03-26_01-22-13_421315_893989 is over 95% full, available space: 72.5877 GB; capacity: 2558.08 GB. Object creation will fail if spilling is required.\n",
      "\u001b[36m(train_pbt pid=936451)\u001b[0m /home/alinashutova/anaconda3/envs/aquakv/lib/python3.11/site-packages/torch/nn/modules/rnn.py:123: UserWarning: dropout option adds dropout after all but last recurrent layer, so non-zero dropout expects num_layers greater than 1, but got dropout=0.3 and num_layers=1\n",
      "\u001b[36m(train_pbt pid=936451)\u001b[0m   warnings.warn(\n",
      "\u001b[33m(raylet)\u001b[0m [2025-03-26 01:24:25,720 E 907034 907067] (raylet) file_system_monitor.cc:116: /var/tmp/ray/session_2025-03-26_01-22-13_421315_893989 is over 95% full, available space: 72.5858 GB; capacity: 2558.08 GB. Object creation will fail if spilling is required.\n",
      "2025-03-26 01:24:27,082\tINFO pbt.py:716 -- [pbt]: no checkpoint for trial train_pbt_9cf58_00000. Skip exploit for Trial train_pbt_9cf58_00004\n",
      "\u001b[36m(train_pbt pid=938230)\u001b[0m /home/alinashutova/anaconda3/envs/aquakv/lib/python3.11/site-packages/torch/nn/modules/rnn.py:123: UserWarning: dropout option adds dropout after all but last recurrent layer, so non-zero dropout expects num_layers greater than 1, but got dropout=0.3 and num_layers=1\n",
      "\u001b[36m(train_pbt pid=938230)\u001b[0m   warnings.warn(\n",
      "\u001b[33m(raylet)\u001b[0m [2025-03-26 01:24:35,759 E 907034 907067] (raylet) file_system_monitor.cc:116: /var/tmp/ray/session_2025-03-26_01-22-13_421315_893989 is over 95% full, available space: 72.5855 GB; capacity: 2558.08 GB. Object creation will fail if spilling is required.\n",
      "\u001b[33m(raylet)\u001b[0m [2025-03-26 01:24:45,776 E 907034 907067] (raylet) file_system_monitor.cc:116: /var/tmp/ray/session_2025-03-26_01-22-13_421315_893989 is over 95% full, available space: 72.5855 GB; capacity: 2558.08 GB. Object creation will fail if spilling is required.\n",
      "\u001b[33m(raylet)\u001b[0m [2025-03-26 01:24:55,793 E 907034 907067] (raylet) file_system_monitor.cc:116: /var/tmp/ray/session_2025-03-26_01-22-13_421315_893989 is over 95% full, available space: 72.5854 GB; capacity: 2558.08 GB. Object creation will fail if spilling is required.\n",
      "\u001b[36m(train_pbt pid=940544)\u001b[0m /home/alinashutova/anaconda3/envs/aquakv/lib/python3.11/site-packages/torch/nn/modules/rnn.py:123: UserWarning: dropout option adds dropout after all but last recurrent layer, so non-zero dropout expects num_layers greater than 1, but got dropout=0.3 and num_layers=1\n",
      "\u001b[36m(train_pbt pid=940544)\u001b[0m   warnings.warn(\n",
      "\u001b[33m(raylet)\u001b[0m [2025-03-26 01:25:05,809 E 907034 907067] (raylet) file_system_monitor.cc:116: /var/tmp/ray/session_2025-03-26_01-22-13_421315_893989 is over 95% full, available space: 72.5854 GB; capacity: 2558.08 GB. Object creation will fail if spilling is required.\n",
      "\u001b[36m(train_pbt pid=943662)\u001b[0m /home/alinashutova/anaconda3/envs/aquakv/lib/python3.11/site-packages/torch/nn/modules/rnn.py:123: UserWarning: dropout option adds dropout after all but last recurrent layer, so non-zero dropout expects num_layers greater than 1, but got dropout=0.3 and num_layers=1\n",
      "\u001b[36m(train_pbt pid=943662)\u001b[0m   warnings.warn(\n",
      "\u001b[33m(raylet)\u001b[0m [2025-03-26 01:25:15,850 E 907034 907067] (raylet) file_system_monitor.cc:116: /var/tmp/ray/session_2025-03-26_01-22-13_421315_893989 is over 95% full, available space: 72.5852 GB; capacity: 2558.08 GB. Object creation will fail if spilling is required.\n",
      "\u001b[33m(raylet)\u001b[0m [2025-03-26 01:25:25,869 E 907034 907067] (raylet) file_system_monitor.cc:116: /var/tmp/ray/session_2025-03-26_01-22-13_421315_893989 is over 95% full, available space: 72.5831 GB; capacity: 2558.08 GB. Object creation will fail if spilling is required.\n",
      "\u001b[33m(raylet)\u001b[0m [2025-03-26 01:25:35,950 E 907034 907067] (raylet) file_system_monitor.cc:116: /var/tmp/ray/session_2025-03-26_01-22-13_421315_893989 is over 95% full, available space: 72.583 GB; capacity: 2558.08 GB. Object creation will fail if spilling is required.\n",
      "\u001b[36m(train_pbt pid=947116)\u001b[0m /home/alinashutova/anaconda3/envs/aquakv/lib/python3.11/site-packages/torch/nn/modules/rnn.py:123: UserWarning: dropout option adds dropout after all but last recurrent layer, so non-zero dropout expects num_layers greater than 1, but got dropout=0.3 and num_layers=1\n",
      "\u001b[36m(train_pbt pid=947116)\u001b[0m   warnings.warn(\n",
      "\u001b[33m(raylet)\u001b[0m [2025-03-26 01:25:45,971 E 907034 907067] (raylet) file_system_monitor.cc:116: /var/tmp/ray/session_2025-03-26_01-22-13_421315_893989 is over 95% full, available space: 72.5829 GB; capacity: 2558.08 GB. Object creation will fail if spilling is required.\n",
      "2025-03-26 01:25:47,240\tINFO pbt.py:716 -- [pbt]: no checkpoint for trial train_pbt_9cf58_00001. Skip exploit for Trial train_pbt_9cf58_00003\n",
      "\u001b[36m(train_pbt pid=948818)\u001b[0m /home/alinashutova/anaconda3/envs/aquakv/lib/python3.11/site-packages/torch/nn/modules/rnn.py:123: UserWarning: dropout option adds dropout after all but last recurrent layer, so non-zero dropout expects num_layers greater than 1, but got dropout=0.3 and num_layers=1\n",
      "\u001b[36m(train_pbt pid=948818)\u001b[0m   warnings.warn(\n",
      "\u001b[33m(raylet)\u001b[0m [2025-03-26 01:25:55,988 E 907034 907067] (raylet) file_system_monitor.cc:116: /var/tmp/ray/session_2025-03-26_01-22-13_421315_893989 is over 95% full, available space: 72.5829 GB; capacity: 2558.08 GB. Object creation will fail if spilling is required.\n",
      "\u001b[33m(raylet)\u001b[0m [2025-03-26 01:26:06,006 E 907034 907067] (raylet) file_system_monitor.cc:116: /var/tmp/ray/session_2025-03-26_01-22-13_421315_893989 is over 95% full, available space: 72.5829 GB; capacity: 2558.08 GB. Object creation will fail if spilling is required.\n",
      "2025-03-26 01:26:10,390\tINFO pbt.py:716 -- [pbt]: no checkpoint for trial train_pbt_9cf58_00002. Skip exploit for Trial train_pbt_9cf58_00004\n",
      "\u001b[33m(raylet)\u001b[0m [2025-03-26 01:26:16,023 E 907034 907067] (raylet) file_system_monitor.cc:116: /var/tmp/ray/session_2025-03-26_01-22-13_421315_893989 is over 95% full, available space: 72.5828 GB; capacity: 2558.08 GB. Object creation will fail if spilling is required.\n",
      "\u001b[36m(train_pbt pid=951310)\u001b[0m /home/alinashutova/anaconda3/envs/aquakv/lib/python3.11/site-packages/torch/nn/modules/rnn.py:123: UserWarning: dropout option adds dropout after all but last recurrent layer, so non-zero dropout expects num_layers greater than 1, but got dropout=0.3 and num_layers=1\n",
      "\u001b[36m(train_pbt pid=951310)\u001b[0m   warnings.warn(\n",
      "\u001b[33m(raylet)\u001b[0m [2025-03-26 01:26:26,045 E 907034 907067] (raylet) file_system_monitor.cc:116: /var/tmp/ray/session_2025-03-26_01-22-13_421315_893989 is over 95% full, available space: 72.5798 GB; capacity: 2558.08 GB. Object creation will fail if spilling is required.\n",
      "\u001b[33m(raylet)\u001b[0m [2025-03-26 01:26:36,083 E 907034 907067] (raylet) file_system_monitor.cc:116: /var/tmp/ray/session_2025-03-26_01-22-13_421315_893989 is over 95% full, available space: 72.5793 GB; capacity: 2558.08 GB. Object creation will fail if spilling is required.\n",
      "\u001b[36m(train_pbt pid=953800)\u001b[0m /home/alinashutova/anaconda3/envs/aquakv/lib/python3.11/site-packages/torch/nn/modules/rnn.py:123: UserWarning: dropout option adds dropout after all but last recurrent layer, so non-zero dropout expects num_layers greater than 1, but got dropout=0.3 and num_layers=1\n",
      "\u001b[36m(train_pbt pid=953800)\u001b[0m   warnings.warn(\n",
      "\u001b[33m(raylet)\u001b[0m [2025-03-26 01:26:46,108 E 907034 907067] (raylet) file_system_monitor.cc:116: /var/tmp/ray/session_2025-03-26_01-22-13_421315_893989 is over 95% full, available space: 72.5793 GB; capacity: 2558.08 GB. Object creation will fail if spilling is required.\n",
      "\u001b[33m(raylet)\u001b[0m [2025-03-26 01:26:56,127 E 907034 907067] (raylet) file_system_monitor.cc:116: /var/tmp/ray/session_2025-03-26_01-22-13_421315_893989 is over 95% full, available space: 72.5772 GB; capacity: 2558.08 GB. Object creation will fail if spilling is required.\n",
      "2025-03-26 01:27:00,692\tINFO pbt.py:716 -- [pbt]: no checkpoint for trial train_pbt_9cf58_00002. Skip exploit for Trial train_pbt_9cf58_00001\n",
      "\u001b[33m(raylet)\u001b[0m [2025-03-26 01:27:06,146 E 907034 907067] (raylet) file_system_monitor.cc:116: /var/tmp/ray/session_2025-03-26_01-22-13_421315_893989 is over 95% full, available space: 72.5771 GB; capacity: 2558.08 GB. Object creation will fail if spilling is required.\n",
      "\u001b[36m(train_pbt pid=956059)\u001b[0m /home/alinashutova/anaconda3/envs/aquakv/lib/python3.11/site-packages/torch/nn/modules/rnn.py:123: UserWarning: dropout option adds dropout after all but last recurrent layer, so non-zero dropout expects num_layers greater than 1, but got dropout=0.3 and num_layers=1\n",
      "\u001b[36m(train_pbt pid=956059)\u001b[0m   warnings.warn(\n",
      "\u001b[33m(raylet)\u001b[0m [2025-03-26 01:27:16,166 E 907034 907067] (raylet) file_system_monitor.cc:116: /var/tmp/ray/session_2025-03-26_01-22-13_421315_893989 is over 95% full, available space: 72.5771 GB; capacity: 2558.08 GB. Object creation will fail if spilling is required.\n",
      "\u001b[33m(raylet)\u001b[0m [2025-03-26 01:27:26,185 E 907034 907067] (raylet) file_system_monitor.cc:116: /var/tmp/ray/session_2025-03-26_01-22-13_421315_893989 is over 95% full, available space: 72.576 GB; capacity: 2558.08 GB. Object creation will fail if spilling is required.\n",
      "\u001b[36m(train_pbt pid=953800)\u001b[0m *** SIGSEGV received at time=1742941647 on cpu 93 ***\n",
      "\u001b[36m(train_pbt pid=953800)\u001b[0m PC: @     0x7f73cbbed5de  (unknown)  ray::gcs::TaskInfoAccessor::AsyncAddTaskEventData()\n",
      "\u001b[36m(train_pbt pid=953800)\u001b[0m     @     0x7f73cddd8980       1792  (unknown)\n",
      "\u001b[36m(train_pbt pid=953800)\u001b[0m     @     0x7f73cbacbce5       1392  ray::core::worker::TaskEventBufferImpl::FlushEvents()\n",
      "\u001b[36m(train_pbt pid=953800)\u001b[0m     @     0x7f73cba5218c       1488  ray::core::CoreWorker::Disconnect()\n",
      "\u001b[36m(train_pbt pid=953800)\u001b[0m     @     0x7f73cba526bd       1152  ray::core::CoreWorker::ForceExit()\n",
      "\u001b[36m(train_pbt pid=953800)\u001b[0m     @     0x7f73cba52aef       1680  ray::core::CoreWorker::HandleKillActor()\n",
      "\u001b[36m(train_pbt pid=953800)\u001b[0m     @     0x7f73cba49e74        192  ray::rpc::ServerCallImpl<>::HandleRequestImpl()\n",
      "\u001b[36m(train_pbt pid=953800)\u001b[0m     @     0x7f73cbe205d8       1168  EventTracker::RecordExecution()\n",
      "\u001b[36m(train_pbt pid=953800)\u001b[0m     @     0x7f73cbe1b5ae         48  std::_Function_handler<>::_M_invoke()\n",
      "\u001b[36m(train_pbt pid=953800)\u001b[0m     @     0x7f73cbe1ba26        112  boost::asio::detail::completion_handler<>::do_complete()\n",
      "\u001b[36m(train_pbt pid=953800)\u001b[0m     @     0x7f73cc49ff4b        128  boost::asio::detail::scheduler::do_run_one()\n",
      "\u001b[36m(train_pbt pid=953800)\u001b[0m     @     0x7f73cc4a18c9        288  boost::asio::detail::scheduler::run()\n",
      "\u001b[36m(train_pbt pid=953800)\u001b[0m     @     0x7f73cc4a1fd2         96  boost::asio::io_context::run()\n",
      "\u001b[36m(train_pbt pid=953800)\u001b[0m     @     0x7f73cb9aa751       1280  ray::core::CoreWorker::RunIOService()\n",
      "\u001b[36m(train_pbt pid=953800)\u001b[0m     @     0x7f73cbebaf90         64  thread_proxy\n",
      "\u001b[36m(train_pbt pid=953800)\u001b[0m     @     0x7f73cddcd6db  (unknown)  start_thread\n",
      "\u001b[36m(train_pbt pid=953800)\u001b[0m [2025-03-26 01:27:28,013 E 953800 953917] logging.cc:497: *** SIGSEGV received at time=1742941648 on cpu 93 ***\n",
      "\u001b[36m(train_pbt pid=953800)\u001b[0m [2025-03-26 01:27:28,013 E 953800 953917] logging.cc:497: PC: @     0x7f73cbbed5de  (unknown)  ray::gcs::TaskInfoAccessor::AsyncAddTaskEventData()\n",
      "\u001b[36m(train_pbt pid=953800)\u001b[0m [2025-03-26 01:27:28,013 E 953800 953917] logging.cc:497:     @     0x7f73cddd8980       1792  (unknown)\n",
      "\u001b[36m(train_pbt pid=953800)\u001b[0m [2025-03-26 01:27:28,013 E 953800 953917] logging.cc:497:     @     0x7f73cbacbce5       1392  ray::core::worker::TaskEventBufferImpl::FlushEvents()\n",
      "\u001b[36m(train_pbt pid=953800)\u001b[0m [2025-03-26 01:27:28,013 E 953800 953917] logging.cc:497:     @     0x7f73cba5218c       1488  ray::core::CoreWorker::Disconnect()\n",
      "\u001b[36m(train_pbt pid=953800)\u001b[0m [2025-03-26 01:27:28,013 E 953800 953917] logging.cc:497:     @     0x7f73cba526bd       1152  ray::core::CoreWorker::ForceExit()\n",
      "\u001b[36m(train_pbt pid=953800)\u001b[0m [2025-03-26 01:27:28,013 E 953800 953917] logging.cc:497:     @     0x7f73cba52aef       1680  ray::core::CoreWorker::HandleKillActor()\n",
      "\u001b[36m(train_pbt pid=953800)\u001b[0m [2025-03-26 01:27:28,013 E 953800 953917] logging.cc:497:     @     0x7f73cba49e74        192  ray::rpc::ServerCallImpl<>::HandleRequestImpl()\n",
      "\u001b[36m(train_pbt pid=953800)\u001b[0m [2025-03-26 01:27:28,013 E 953800 953917] logging.cc:497:     @     0x7f73cbe205d8       1168  EventTracker::RecordExecution()\n",
      "\u001b[36m(train_pbt pid=953800)\u001b[0m [2025-03-26 01:27:28,013 E 953800 953917] logging.cc:497:     @     0x7f73cbe1b5ae         48  std::_Function_handler<>::_M_invoke()\n",
      "\u001b[36m(train_pbt pid=953800)\u001b[0m [2025-03-26 01:27:28,013 E 953800 953917] logging.cc:497:     @     0x7f73cbe1ba26        112  boost::asio::detail::completion_handler<>::do_complete()\n",
      "\u001b[36m(train_pbt pid=953800)\u001b[0m [2025-03-26 01:27:28,013 E 953800 953917] logging.cc:497:     @     0x7f73cc49ff4b        128  boost::asio::detail::scheduler::do_run_one()\n",
      "\u001b[36m(train_pbt pid=953800)\u001b[0m [2025-03-26 01:27:28,013 E 953800 953917] logging.cc:497:     @     0x7f73cc4a18c9        288  boost::asio::detail::scheduler::run()\n",
      "\u001b[36m(train_pbt pid=953800)\u001b[0m [2025-03-26 01:27:28,013 E 953800 953917] logging.cc:497:     @     0x7f73cc4a1fd2         96  boost::asio::io_context::run()\n",
      "\u001b[36m(train_pbt pid=953800)\u001b[0m [2025-03-26 01:27:28,013 E 953800 953917] logging.cc:497:     @     0x7f73cb9aa751       1280  ray::core::CoreWorker::RunIOService()\n",
      "\u001b[36m(train_pbt pid=953800)\u001b[0m [2025-03-26 01:27:28,013 E 953800 953917] logging.cc:497:     @     0x7f73cbebaf90         64  thread_proxy\n",
      "\u001b[36m(train_pbt pid=953800)\u001b[0m [2025-03-26 01:27:28,013 E 953800 953917] logging.cc:497:     @     0x7f73cddcd6db  (unknown)  start_thread\n",
      "\u001b[36m(train_pbt pid=953800)\u001b[0m Fatal Python error: Segmentation fault\n",
      "\u001b[36m(train_pbt pid=953800)\u001b[0m \n",
      "\u001b[36m(train_pbt pid=953800)\u001b[0m \n",
      "\u001b[36m(train_pbt pid=953800)\u001b[0m Extension modules: msgpack._cmsgpack, google._upb._message, psutil._psutil_linux, psutil._psutil_posix, setproctitle, yaml._yaml, charset_normalizer.md, requests.packages.charset_normalizer.md, requests.packages.chardet.md, ray._raylet, numpy._core._multiarray_umath, numpy.linalg._umath_linalg, pyarrow.lib, numpy.random._common, numpy.random.bit_generator, numpy.random._bounded_integers, numpy.random._mt19937, numpy.random.mtrand, numpy.random._philox, numpy.random._pcg64, numpy.random._sfc64, numpy.random._generator, pandas._libs.tslibs.ccalendar, pandas._libs.tslibs.np_datetime, pandas._libs.tslibs.dtypes, pandas._libs.tslibs.base, pandas._libs.tslibs.nattype, pandas._libs.tslibs.timezones, pandas._libs.tslibs.fields, pandas._libs.tslibs.timedeltas, pandas._libs.tslibs.tzconversion, pandas._libs.tslibs.timestamps, pandas._libs.properties, pandas._libs.tslibs.offsets, pandas._libs.tslibs.strptime, pandas._libs.tslibs.parsing, pandas._libs.tslibs.conversion, pandas._libs.tslibs.period, pandas._libs.tslibs.vectorized, pandas._libs.ops_dispatch, pandas._libs.missing, pandas._libs.hashtable, pandas._libs.algos, pandas._libs.interval, pandas._libs.lib, pyarrow._compute, pandas._libs.ops, pandas._libs.hashing, pandas._libs.arrays, pandas._libs.tslib, pandas._libs.sparse, pandas._libs.internals, pandas._libs.indexing, pandas._libs.index, pandas._libs.writers, pandas._libs.join, pandas._libs.window.aggregations, pandas._libs.window.indexers, pandas._libs.reshape, pandas._libs.groupby, pandas._libs.json, pandas._libs.parsers, pandas._libs.testing, pyarrow._fs, pyarrow._azurefs, pyarrow._hdfs, pyarrow._gcsfs, pyarrow._s3fs, pyarrow._parquet, torch._C, torch._C._dynamo.autograd_compiler, torch._C._dynamo.eval_frame, torch._C._dynamo.guards, torch._C._dynamo.utils, torch._C._fft, torch._C._linalg, torch._C._nested, torch._C._nn, torch._C._sparse, torch._C._special, markupsafe._speedups, PIL._imaging, scipy._lib._ccallback_c, scipy.linalg._fblas, scipy.linalg._flapack, scipy.linalg.cython_lapack, scipy.linalg._cythonized_array_utils, scipy.linalg._solve_toeplitz, scipy.linalg._decomp_lu_cython, scipy.linalg._matfuncs_sqrtm_triu, scipy.linalg._matfuncs_expm, scipy.linalg._linalg_pythran, scipy.linalg.cython_blas, scipy.linalg._decomp_update, scipy.sparse._sparsetools, _csparsetools, scipy.sparse._csparsetools, scipy.sparse.linalg._dsolve._superlu, scipy.sparse.linalg._eigen.arpack._arpack, scipy.sparse.linalg._propack._spropack, scipy.sparse.linalg._propack._dpropack, scipy.sparse.linalg._propack._cpropack, scipy.sparse.linalg._propack._zpropack, scipy.sparse.csgraph._tools, scipy.sparse.csgraph._shortest_path, scipy.sparse.csgraph._traversal, scipy.sparse.csgraph._min_spanning_tree, scipy.sparse.csgraph._flow, scipy.sparse.csgraph._matching, scipy.sparse.csgraph._reordering, scipy.optimize._group_columns, scipy._lib.messagestream, scipy.optimize._trlib._trlib, scipy.optimize._lbfgsb, _moduleTNC, scipy.optimize._moduleTNC, scipy.optimize._cobyla, scipy.optimize._slsqp, scipy.optimize._minpack, scipy.optimize._lsq.givens_elimination, scipy.optimize._zeros, scipy.optimize._cython_nnls, scipy._lib._uarray._uarray, scipy.special._ufuncs_cxx, scipy.special._ufuncs, scipy.special._specfun, scipy.special._comb, scipy.special._ellip_harm_2, scipy.linalg._decomp_interpolative, scipy.optimize._bglu_dense, scipy.optimize._lsap, scipy.spatial._ckdtree, scipy.spatial._qhull, scipy.spatial._voronoi, scipy.spatial._distance_wrap, scipy.spatial._hausdorff, scipy.spatial.transform._rotation, scipy.optimize._direct, greenlet._greenlet, pyarrow._json (total: 140)\n",
      "\u001b[36m(train_pbt pid=958784)\u001b[0m /home/alinashutova/anaconda3/envs/aquakv/lib/python3.11/site-packages/torch/nn/modules/rnn.py:123: UserWarning: dropout option adds dropout after all but last recurrent layer, so non-zero dropout expects num_layers greater than 1, but got dropout=0.3 and num_layers=1\n",
      "\u001b[36m(train_pbt pid=958784)\u001b[0m   warnings.warn(\n",
      "\u001b[33m(raylet)\u001b[0m [2025-03-26 01:27:36,204 E 907034 907067] (raylet) file_system_monitor.cc:116: /var/tmp/ray/session_2025-03-26_01-22-13_421315_893989 is over 95% full, available space: 72.5758 GB; capacity: 2558.08 GB. Object creation will fail if spilling is required.\n",
      "\u001b[33m(raylet)\u001b[0m [2025-03-26 01:27:46,228 E 907034 907067] (raylet) file_system_monitor.cc:116: /var/tmp/ray/session_2025-03-26_01-22-13_421315_893989 is over 95% full, available space: 72.5757 GB; capacity: 2558.08 GB. Object creation will fail if spilling is required.\n",
      "\u001b[33m(raylet)\u001b[0m [2025-03-26 01:27:56,245 E 907034 907067] (raylet) file_system_monitor.cc:116: /var/tmp/ray/session_2025-03-26_01-22-13_421315_893989 is over 95% full, available space: 72.5757 GB; capacity: 2558.08 GB. Object creation will fail if spilling is required.\n",
      "\u001b[36m(train_pbt pid=961258)\u001b[0m /home/alinashutova/anaconda3/envs/aquakv/lib/python3.11/site-packages/torch/nn/modules/rnn.py:123: UserWarning: dropout option adds dropout after all but last recurrent layer, so non-zero dropout expects num_layers greater than 1, but got dropout=0.3 and num_layers=1\n",
      "\u001b[36m(train_pbt pid=961258)\u001b[0m   warnings.warn(\n",
      "\u001b[33m(raylet)\u001b[0m [2025-03-26 01:28:06,272 E 907034 907067] (raylet) file_system_monitor.cc:116: /var/tmp/ray/session_2025-03-26_01-22-13_421315_893989 is over 95% full, available space: 72.5756 GB; capacity: 2558.08 GB. Object creation will fail if spilling is required.\n",
      "\u001b[33m(raylet)\u001b[0m [2025-03-26 01:28:16,289 E 907034 907067] (raylet) file_system_monitor.cc:116: /var/tmp/ray/session_2025-03-26_01-22-13_421315_893989 is over 95% full, available space: 72.5756 GB; capacity: 2558.08 GB. Object creation will fail if spilling is required.\n",
      "\u001b[36m(train_pbt pid=965804)\u001b[0m /home/alinashutova/anaconda3/envs/aquakv/lib/python3.11/site-packages/torch/nn/modules/rnn.py:123: UserWarning: dropout option adds dropout after all but last recurrent layer, so non-zero dropout expects num_layers greater than 1, but got dropout=0.3 and num_layers=1\n",
      "\u001b[36m(train_pbt pid=965804)\u001b[0m   warnings.warn(\n",
      "\u001b[33m(raylet)\u001b[0m [2025-03-26 01:28:26,307 E 907034 907067] (raylet) file_system_monitor.cc:116: /var/tmp/ray/session_2025-03-26_01-22-13_421315_893989 is over 95% full, available space: 72.5742 GB; capacity: 2558.08 GB. Object creation will fail if spilling is required.\n",
      "\u001b[33m(raylet)\u001b[0m [2025-03-26 01:28:36,333 E 907034 907067] (raylet) file_system_monitor.cc:116: /var/tmp/ray/session_2025-03-26_01-22-13_421315_893989 is over 95% full, available space: 72.573 GB; capacity: 2558.08 GB. Object creation will fail if spilling is required.\n",
      "\u001b[33m(raylet)\u001b[0m [2025-03-26 01:28:46,351 E 907034 907067] (raylet) file_system_monitor.cc:116: /var/tmp/ray/session_2025-03-26_01-22-13_421315_893989 is over 95% full, available space: 72.573 GB; capacity: 2558.08 GB. Object creation will fail if spilling is required.\n",
      "\u001b[33m(raylet)\u001b[0m [2025-03-26 01:28:56,393 E 907034 907067] (raylet) file_system_monitor.cc:116: /var/tmp/ray/session_2025-03-26_01-22-13_421315_893989 is over 95% full, available space: 72.5713 GB; capacity: 2558.08 GB. Object creation will fail if spilling is required.\n",
      "\u001b[36m(train_pbt pid=969538)\u001b[0m /home/alinashutova/anaconda3/envs/aquakv/lib/python3.11/site-packages/torch/nn/modules/rnn.py:123: UserWarning: dropout option adds dropout after all but last recurrent layer, so non-zero dropout expects num_layers greater than 1, but got dropout=0.3 and num_layers=1\n",
      "\u001b[36m(train_pbt pid=969538)\u001b[0m   warnings.warn(\n",
      "\u001b[33m(raylet)\u001b[0m [2025-03-26 01:29:06,410 E 907034 907067] (raylet) file_system_monitor.cc:116: /var/tmp/ray/session_2025-03-26_01-22-13_421315_893989 is over 95% full, available space: 72.5712 GB; capacity: 2558.08 GB. Object creation will fail if spilling is required.\n",
      "\u001b[33m(raylet)\u001b[0m [2025-03-26 01:29:16,432 E 907034 907067] (raylet) file_system_monitor.cc:116: /var/tmp/ray/session_2025-03-26_01-22-13_421315_893989 is over 95% full, available space: 72.5701 GB; capacity: 2558.08 GB. Object creation will fail if spilling is required.\n",
      "\u001b[36m(train_pbt pid=972022)\u001b[0m /home/alinashutova/anaconda3/envs/aquakv/lib/python3.11/site-packages/torch/nn/modules/rnn.py:123: UserWarning: dropout option adds dropout after all but last recurrent layer, so non-zero dropout expects num_layers greater than 1, but got dropout=0.3 and num_layers=1\n",
      "\u001b[36m(train_pbt pid=972022)\u001b[0m   warnings.warn(\n",
      "\u001b[33m(raylet)\u001b[0m [2025-03-26 01:29:26,451 E 907034 907067] (raylet) file_system_monitor.cc:116: /var/tmp/ray/session_2025-03-26_01-22-13_421315_893989 is over 95% full, available space: 72.5685 GB; capacity: 2558.08 GB. Object creation will fail if spilling is required.\n",
      "\u001b[33m(raylet)\u001b[0m [2025-03-26 01:29:36,484 E 907034 907067] (raylet) file_system_monitor.cc:116: /var/tmp/ray/session_2025-03-26_01-22-13_421315_893989 is over 95% full, available space: 72.5685 GB; capacity: 2558.08 GB. Object creation will fail if spilling is required.\n",
      "\u001b[33m(raylet)\u001b[0m [2025-03-26 01:29:46,512 E 907034 907067] (raylet) file_system_monitor.cc:116: /var/tmp/ray/session_2025-03-26_01-22-13_421315_893989 is over 95% full, available space: 72.5684 GB; capacity: 2558.08 GB. Object creation will fail if spilling is required.\n",
      "2025-03-26 01:29:53,781\tINFO pbt.py:716 -- [pbt]: no checkpoint for trial train_pbt_9cf58_00001. Skip exploit for Trial train_pbt_9cf58_00002\n",
      "\u001b[33m(raylet)\u001b[0m [2025-03-26 01:29:56,528 E 907034 907067] (raylet) file_system_monitor.cc:116: /var/tmp/ray/session_2025-03-26_01-22-13_421315_893989 is over 95% full, available space: 72.5673 GB; capacity: 2558.08 GB. Object creation will fail if spilling is required.\n",
      "\u001b[36m(train_pbt pid=975371)\u001b[0m /home/alinashutova/anaconda3/envs/aquakv/lib/python3.11/site-packages/torch/nn/modules/rnn.py:123: UserWarning: dropout option adds dropout after all but last recurrent layer, so non-zero dropout expects num_layers greater than 1, but got dropout=0.3 and num_layers=1\n",
      "\u001b[36m(train_pbt pid=975371)\u001b[0m   warnings.warn(\n",
      "\u001b[33m(raylet)\u001b[0m [2025-03-26 01:30:06,545 E 907034 907067] (raylet) file_system_monitor.cc:116: /var/tmp/ray/session_2025-03-26_01-22-13_421315_893989 is over 95% full, available space: 72.5672 GB; capacity: 2558.08 GB. Object creation will fail if spilling is required.\n",
      "\u001b[33m(raylet)\u001b[0m [2025-03-26 01:30:16,565 E 907034 907067] (raylet) file_system_monitor.cc:116: /var/tmp/ray/session_2025-03-26_01-22-13_421315_893989 is over 95% full, available space: 72.5672 GB; capacity: 2558.08 GB. Object creation will fail if spilling is required.\n",
      "2025-03-26 01:30:20,195\tINFO pbt.py:716 -- [pbt]: no checkpoint for trial train_pbt_9cf58_00001. Skip exploit for Trial train_pbt_9cf58_00003\n",
      "\u001b[33m(raylet)\u001b[0m [2025-03-26 01:30:26,589 E 907034 907067] (raylet) file_system_monitor.cc:116: /var/tmp/ray/session_2025-03-26_01-22-13_421315_893989 is over 95% full, available space: 72.5658 GB; capacity: 2558.08 GB. Object creation will fail if spilling is required.\n",
      "\u001b[36m(train_pbt pid=978388)\u001b[0m /home/alinashutova/anaconda3/envs/aquakv/lib/python3.11/site-packages/torch/nn/modules/rnn.py:123: UserWarning: dropout option adds dropout after all but last recurrent layer, so non-zero dropout expects num_layers greater than 1, but got dropout=0.3 and num_layers=1\n",
      "\u001b[36m(train_pbt pid=978388)\u001b[0m   warnings.warn(\n",
      "\u001b[33m(raylet)\u001b[0m [2025-03-26 01:30:36,612 E 907034 907067] (raylet) file_system_monitor.cc:116: /var/tmp/ray/session_2025-03-26_01-22-13_421315_893989 is over 95% full, available space: 72.5658 GB; capacity: 2558.08 GB. Object creation will fail if spilling is required.\n",
      "\u001b[33m(raylet)\u001b[0m [2025-03-26 01:30:46,630 E 907034 907067] (raylet) file_system_monitor.cc:116: /var/tmp/ray/session_2025-03-26_01-22-13_421315_893989 is over 95% full, available space: 72.5672 GB; capacity: 2558.08 GB. Object creation will fail if spilling is required.\n",
      "\u001b[33m(raylet)\u001b[0m [2025-03-26 01:30:56,650 E 907034 907067] (raylet) file_system_monitor.cc:116: /var/tmp/ray/session_2025-03-26_01-22-13_421315_893989 is over 95% full, available space: 72.5671 GB; capacity: 2558.08 GB. Object creation will fail if spilling is required.\n",
      "\u001b[36m(train_pbt pid=982828)\u001b[0m /home/alinashutova/anaconda3/envs/aquakv/lib/python3.11/site-packages/torch/nn/modules/rnn.py:123: UserWarning: dropout option adds dropout after all but last recurrent layer, so non-zero dropout expects num_layers greater than 1, but got dropout=0.3 and num_layers=1\n",
      "\u001b[36m(train_pbt pid=982828)\u001b[0m   warnings.warn(\n",
      "\u001b[33m(raylet)\u001b[0m [2025-03-26 01:31:06,674 E 907034 907067] (raylet) file_system_monitor.cc:116: /var/tmp/ray/session_2025-03-26_01-22-13_421315_893989 is over 95% full, available space: 72.5671 GB; capacity: 2558.08 GB. Object creation will fail if spilling is required.\n",
      "\u001b[33m(raylet)\u001b[0m [2025-03-26 01:31:16,696 E 907034 907067] (raylet) file_system_monitor.cc:116: /var/tmp/ray/session_2025-03-26_01-22-13_421315_893989 is over 95% full, available space: 72.5659 GB; capacity: 2558.08 GB. Object creation will fail if spilling is required.\n",
      "\u001b[33m(raylet)\u001b[0m [2025-03-26 01:31:26,733 E 907034 907067] (raylet) file_system_monitor.cc:116: /var/tmp/ray/session_2025-03-26_01-22-13_421315_893989 is over 95% full, available space: 72.5643 GB; capacity: 2558.08 GB. Object creation will fail if spilling is required.\n",
      "\u001b[33m(raylet)\u001b[0m [2025-03-26 01:31:36,763 E 907034 907067] (raylet) file_system_monitor.cc:116: /var/tmp/ray/session_2025-03-26_01-22-13_421315_893989 is over 95% full, available space: 72.5643 GB; capacity: 2558.08 GB. Object creation will fail if spilling is required.\n",
      "\u001b[36m(train_pbt pid=987619)\u001b[0m /home/alinashutova/anaconda3/envs/aquakv/lib/python3.11/site-packages/torch/nn/modules/rnn.py:123: UserWarning: dropout option adds dropout after all but last recurrent layer, so non-zero dropout expects num_layers greater than 1, but got dropout=0.3 and num_layers=1\n",
      "\u001b[36m(train_pbt pid=987619)\u001b[0m   warnings.warn(\n",
      "\u001b[33m(raylet)\u001b[0m [2025-03-26 01:31:46,782 E 907034 907067] (raylet) file_system_monitor.cc:116: /var/tmp/ray/session_2025-03-26_01-22-13_421315_893989 is over 95% full, available space: 72.5632 GB; capacity: 2558.08 GB. Object creation will fail if spilling is required.\n",
      "\u001b[33m(raylet)\u001b[0m [2025-03-26 01:31:56,796 E 907034 907067] (raylet) file_system_monitor.cc:116: /var/tmp/ray/session_2025-03-26_01-22-13_421315_893989 is over 95% full, available space: 72.5631 GB; capacity: 2558.08 GB. Object creation will fail if spilling is required.\n",
      "\u001b[33m(raylet)\u001b[0m [2025-03-26 01:32:06,815 E 907034 907067] (raylet) file_system_monitor.cc:116: /var/tmp/ray/session_2025-03-26_01-22-13_421315_893989 is over 95% full, available space: 72.5631 GB; capacity: 2558.08 GB. Object creation will fail if spilling is required.\n",
      "\u001b[36m(train_pbt pid=991731)\u001b[0m /home/alinashutova/anaconda3/envs/aquakv/lib/python3.11/site-packages/torch/nn/modules/rnn.py:123: UserWarning: dropout option adds dropout after all but last recurrent layer, so non-zero dropout expects num_layers greater than 1, but got dropout=0.3 and num_layers=1\n",
      "\u001b[36m(train_pbt pid=991731)\u001b[0m   warnings.warn(\n",
      "\u001b[33m(raylet)\u001b[0m [2025-03-26 01:32:16,835 E 907034 907067] (raylet) file_system_monitor.cc:116: /var/tmp/ray/session_2025-03-26_01-22-13_421315_893989 is over 95% full, available space: 72.563 GB; capacity: 2558.08 GB. Object creation will fail if spilling is required.\n",
      "\u001b[33m(raylet)\u001b[0m [2025-03-26 01:32:26,865 E 907034 907067] (raylet) file_system_monitor.cc:116: /var/tmp/ray/session_2025-03-26_01-22-13_421315_893989 is over 95% full, available space: 72.5606 GB; capacity: 2558.08 GB. Object creation will fail if spilling is required.\n",
      "\u001b[33m(raylet)\u001b[0m [2025-03-26 01:32:36,882 E 907034 907067] (raylet) file_system_monitor.cc:116: /var/tmp/ray/session_2025-03-26_01-22-13_421315_893989 is over 95% full, available space: 72.6109 GB; capacity: 2558.08 GB. Object creation will fail if spilling is required.\n",
      "\u001b[33m(raylet)\u001b[0m [2025-03-26 01:32:46,900 E 907034 907067] (raylet) file_system_monitor.cc:116: /var/tmp/ray/session_2025-03-26_01-22-13_421315_893989 is over 95% full, available space: 72.6109 GB; capacity: 2558.08 GB. Object creation will fail if spilling is required.\n",
      "\u001b[36m(train_pbt pid=995575)\u001b[0m /home/alinashutova/anaconda3/envs/aquakv/lib/python3.11/site-packages/torch/nn/modules/rnn.py:123: UserWarning: dropout option adds dropout after all but last recurrent layer, so non-zero dropout expects num_layers greater than 1, but got dropout=0.3 and num_layers=1\n",
      "\u001b[36m(train_pbt pid=995575)\u001b[0m   warnings.warn(\n",
      "\u001b[33m(raylet)\u001b[0m [2025-03-26 01:32:56,917 E 907034 907067] (raylet) file_system_monitor.cc:116: /var/tmp/ray/session_2025-03-26_01-22-13_421315_893989 is over 95% full, available space: 72.6108 GB; capacity: 2558.08 GB. Object creation will fail if spilling is required.\n",
      "\u001b[33m(raylet)\u001b[0m [2025-03-26 01:33:06,940 E 907034 907067] (raylet) file_system_monitor.cc:116: /var/tmp/ray/session_2025-03-26_01-22-13_421315_893989 is over 95% full, available space: 72.6107 GB; capacity: 2558.08 GB. Object creation will fail if spilling is required.\n",
      "\u001b[33m(raylet)\u001b[0m [2025-03-26 01:33:16,962 E 907034 907067] (raylet) file_system_monitor.cc:116: /var/tmp/ray/session_2025-03-26_01-22-13_421315_893989 is over 95% full, available space: 72.6106 GB; capacity: 2558.08 GB. Object creation will fail if spilling is required.\n",
      "2025-03-26 01:33:21,652\tINFO pbt.py:716 -- [pbt]: no checkpoint for trial train_pbt_9cf58_00002. Skip exploit for Trial train_pbt_9cf58_00003\n",
      "\u001b[33m(raylet)\u001b[0m [2025-03-26 01:33:26,991 E 907034 907067] (raylet) file_system_monitor.cc:116: /var/tmp/ray/session_2025-03-26_01-22-13_421315_893989 is over 95% full, available space: 72.609 GB; capacity: 2558.08 GB. Object creation will fail if spilling is required.\n",
      "\u001b[36m(train_pbt pid=998989)\u001b[0m /home/alinashutova/anaconda3/envs/aquakv/lib/python3.11/site-packages/torch/nn/modules/rnn.py:123: UserWarning: dropout option adds dropout after all but last recurrent layer, so non-zero dropout expects num_layers greater than 1, but got dropout=0.3 and num_layers=1\n",
      "\u001b[36m(train_pbt pid=998989)\u001b[0m   warnings.warn(\n",
      "\u001b[33m(raylet)\u001b[0m [2025-03-26 01:33:37,019 E 907034 907067] (raylet) file_system_monitor.cc:116: /var/tmp/ray/session_2025-03-26_01-22-13_421315_893989 is over 95% full, available space: 72.6064 GB; capacity: 2558.08 GB. Object creation will fail if spilling is required.\n",
      "\u001b[33m(raylet)\u001b[0m [2025-03-26 01:33:47,036 E 907034 907067] (raylet) file_system_monitor.cc:116: /var/tmp/ray/session_2025-03-26_01-22-13_421315_893989 is over 95% full, available space: 72.6064 GB; capacity: 2558.08 GB. Object creation will fail if spilling is required.\n",
      "\u001b[33m(raylet)\u001b[0m [2025-03-26 01:33:57,066 E 907034 907067] (raylet) file_system_monitor.cc:116: /var/tmp/ray/session_2025-03-26_01-22-13_421315_893989 is over 95% full, available space: 72.6063 GB; capacity: 2558.08 GB. Object creation will fail if spilling is required.\n",
      "\u001b[36m(train_pbt pid=1005349)\u001b[0m /home/alinashutova/anaconda3/envs/aquakv/lib/python3.11/site-packages/torch/nn/modules/rnn.py:123: UserWarning: dropout option adds dropout after all but last recurrent layer, so non-zero dropout expects num_layers greater than 1, but got dropout=0.3 and num_layers=1\n",
      "\u001b[36m(train_pbt pid=1005349)\u001b[0m   warnings.warn(\n",
      "\u001b[33m(raylet)\u001b[0m [2025-03-26 01:34:07,085 E 907034 907067] (raylet) file_system_monitor.cc:116: /var/tmp/ray/session_2025-03-26_01-22-13_421315_893989 is over 95% full, available space: 72.6063 GB; capacity: 2558.08 GB. Object creation will fail if spilling is required.\n",
      "\u001b[33m(raylet)\u001b[0m [2025-03-26 01:34:17,105 E 907034 907067] (raylet) file_system_monitor.cc:116: /var/tmp/ray/session_2025-03-26_01-22-13_421315_893989 is over 95% full, available space: 72.6051 GB; capacity: 2558.08 GB. Object creation will fail if spilling is required.\n",
      "\u001b[33m(raylet)\u001b[0m [2025-03-26 01:34:27,123 E 907034 907067] (raylet) file_system_monitor.cc:116: /var/tmp/ray/session_2025-03-26_01-22-13_421315_893989 is over 95% full, available space: 72.6037 GB; capacity: 2558.08 GB. Object creation will fail if spilling is required.\n",
      "\u001b[33m(raylet)\u001b[0m [2025-03-26 01:34:37,146 E 907034 907067] (raylet) file_system_monitor.cc:116: /var/tmp/ray/session_2025-03-26_01-22-13_421315_893989 is over 95% full, available space: 72.6037 GB; capacity: 2558.08 GB. Object creation will fail if spilling is required.\n",
      "\u001b[33m(raylet)\u001b[0m [2025-03-26 01:34:47,162 E 907034 907067] (raylet) file_system_monitor.cc:116: /var/tmp/ray/session_2025-03-26_01-22-13_421315_893989 is over 95% full, available space: 72.6037 GB; capacity: 2558.08 GB. Object creation will fail if spilling is required.\n",
      "\u001b[36m(train_pbt pid=1010566)\u001b[0m /home/alinashutova/anaconda3/envs/aquakv/lib/python3.11/site-packages/torch/nn/modules/rnn.py:123: UserWarning: dropout option adds dropout after all but last recurrent layer, so non-zero dropout expects num_layers greater than 1, but got dropout=0.3 and num_layers=1\n",
      "\u001b[36m(train_pbt pid=1010566)\u001b[0m   warnings.warn(\n",
      "\u001b[33m(raylet)\u001b[0m [2025-03-26 01:34:57,179 E 907034 907067] (raylet) file_system_monitor.cc:116: /var/tmp/ray/session_2025-03-26_01-22-13_421315_893989 is over 95% full, available space: 72.6025 GB; capacity: 2558.08 GB. Object creation will fail if spilling is required.\n",
      "\u001b[33m(raylet)\u001b[0m [2025-03-26 01:35:07,201 E 907034 907067] (raylet) file_system_monitor.cc:116: /var/tmp/ray/session_2025-03-26_01-22-13_421315_893989 is over 95% full, available space: 72.6025 GB; capacity: 2558.08 GB. Object creation will fail if spilling is required.\n",
      "\u001b[33m(raylet)\u001b[0m [2025-03-26 01:35:17,233 E 907034 907067] (raylet) file_system_monitor.cc:116: /var/tmp/ray/session_2025-03-26_01-22-13_421315_893989 is over 95% full, available space: 72.6024 GB; capacity: 2558.08 GB. Object creation will fail if spilling is required.\n",
      "\u001b[36m(train_pbt pid=1013973)\u001b[0m /home/alinashutova/anaconda3/envs/aquakv/lib/python3.11/site-packages/torch/nn/modules/rnn.py:123: UserWarning: dropout option adds dropout after all but last recurrent layer, so non-zero dropout expects num_layers greater than 1, but got dropout=0.3 and num_layers=1\n",
      "\u001b[36m(train_pbt pid=1013973)\u001b[0m   warnings.warn(\n",
      "\u001b[33m(raylet)\u001b[0m [2025-03-26 01:35:27,256 E 907034 907067] (raylet) file_system_monitor.cc:116: /var/tmp/ray/session_2025-03-26_01-22-13_421315_893989 is over 95% full, available space: 72.71 GB; capacity: 2558.08 GB. Object creation will fail if spilling is required.\n",
      "\u001b[33m(raylet)\u001b[0m [2025-03-26 01:35:37,274 E 907034 907067] (raylet) file_system_monitor.cc:116: /var/tmp/ray/session_2025-03-26_01-22-13_421315_893989 is over 95% full, available space: 72.7102 GB; capacity: 2558.08 GB. Object creation will fail if spilling is required.\n",
      "\u001b[33m(raylet)\u001b[0m [2025-03-26 01:35:47,293 E 907034 907067] (raylet) file_system_monitor.cc:116: /var/tmp/ray/session_2025-03-26_01-22-13_421315_893989 is over 95% full, available space: 72.7106 GB; capacity: 2558.08 GB. Object creation will fail if spilling is required.\n",
      "\u001b[33m(raylet)\u001b[0m [2025-03-26 01:35:57,325 E 907034 907067] (raylet) file_system_monitor.cc:116: /var/tmp/ray/session_2025-03-26_01-22-13_421315_893989 is over 95% full, available space: 72.7105 GB; capacity: 2558.08 GB. Object creation will fail if spilling is required.\n",
      "\u001b[33m(raylet)\u001b[0m [2025-03-26 01:36:07,342 E 907034 907067] (raylet) file_system_monitor.cc:116: /var/tmp/ray/session_2025-03-26_01-22-13_421315_893989 is over 95% full, available space: 72.71 GB; capacity: 2558.08 GB. Object creation will fail if spilling is required.\n",
      "\u001b[36m(train_pbt pid=1018962)\u001b[0m /home/alinashutova/anaconda3/envs/aquakv/lib/python3.11/site-packages/torch/nn/modules/rnn.py:123: UserWarning: dropout option adds dropout after all but last recurrent layer, so non-zero dropout expects num_layers greater than 1, but got dropout=0.3 and num_layers=1\n",
      "\u001b[36m(train_pbt pid=1018962)\u001b[0m   warnings.warn(\n",
      "\u001b[33m(raylet)\u001b[0m [2025-03-26 01:36:17,367 E 907034 907067] (raylet) file_system_monitor.cc:116: /var/tmp/ray/session_2025-03-26_01-22-13_421315_893989 is over 95% full, available space: 72.7099 GB; capacity: 2558.08 GB. Object creation will fail if spilling is required.\n",
      "\u001b[33m(raylet)\u001b[0m [2025-03-26 01:36:27,385 E 907034 907067] (raylet) file_system_monitor.cc:116: /var/tmp/ray/session_2025-03-26_01-22-13_421315_893989 is over 95% full, available space: 72.7081 GB; capacity: 2558.08 GB. Object creation will fail if spilling is required.\n",
      "\u001b[33m(raylet)\u001b[0m [2025-03-26 01:36:37,410 E 907034 907067] (raylet) file_system_monitor.cc:116: /var/tmp/ray/session_2025-03-26_01-22-13_421315_893989 is over 95% full, available space: 72.7069 GB; capacity: 2558.08 GB. Object creation will fail if spilling is required.\n",
      "2025-03-26 01:36:43,975\tINFO pbt.py:716 -- [pbt]: no checkpoint for trial train_pbt_9cf58_00004. Skip exploit for Trial train_pbt_9cf58_00003\n",
      "\u001b[33m(raylet)\u001b[0m [2025-03-26 01:36:47,430 E 907034 907067] (raylet) file_system_monitor.cc:116: /var/tmp/ray/session_2025-03-26_01-22-13_421315_893989 is over 95% full, available space: 72.7069 GB; capacity: 2558.08 GB. Object creation will fail if spilling is required.\n",
      "\u001b[36m(train_pbt pid=1022785)\u001b[0m /home/alinashutova/anaconda3/envs/aquakv/lib/python3.11/site-packages/torch/nn/modules/rnn.py:123: UserWarning: dropout option adds dropout after all but last recurrent layer, so non-zero dropout expects num_layers greater than 1, but got dropout=0.3 and num_layers=1\n",
      "\u001b[36m(train_pbt pid=1022785)\u001b[0m   warnings.warn(\n",
      "\u001b[33m(raylet)\u001b[0m [2025-03-26 01:36:57,449 E 907034 907067] (raylet) file_system_monitor.cc:116: /var/tmp/ray/session_2025-03-26_01-22-13_421315_893989 is over 95% full, available space: 72.7068 GB; capacity: 2558.08 GB. Object creation will fail if spilling is required.\n",
      "\u001b[33m(raylet)\u001b[0m [2025-03-26 01:37:07,473 E 907034 907067] (raylet) file_system_monitor.cc:116: /var/tmp/ray/session_2025-03-26_01-22-13_421315_893989 is over 95% full, available space: 72.7068 GB; capacity: 2558.08 GB. Object creation will fail if spilling is required.\n",
      "\u001b[33m(raylet)\u001b[0m [2025-03-26 01:37:17,489 E 907034 907067] (raylet) file_system_monitor.cc:116: /var/tmp/ray/session_2025-03-26_01-22-13_421315_893989 is over 95% full, available space: 72.7055 GB; capacity: 2558.08 GB. Object creation will fail if spilling is required.\n",
      "\u001b[33m(raylet)\u001b[0m [2025-03-26 01:37:27,507 E 907034 907067] (raylet) file_system_monitor.cc:116: /var/tmp/ray/session_2025-03-26_01-22-13_421315_893989 is over 95% full, available space: 72.7046 GB; capacity: 2558.08 GB. Object creation will fail if spilling is required.\n",
      "\u001b[33m(raylet)\u001b[0m [2025-03-26 01:37:37,533 E 907034 907067] (raylet) file_system_monitor.cc:116: /var/tmp/ray/session_2025-03-26_01-22-13_421315_893989 is over 95% full, available space: 72.7045 GB; capacity: 2558.08 GB. Object creation will fail if spilling is required.\n",
      "\u001b[36m(train_pbt pid=1029433)\u001b[0m /home/alinashutova/anaconda3/envs/aquakv/lib/python3.11/site-packages/torch/nn/modules/rnn.py:123: UserWarning: dropout option adds dropout after all but last recurrent layer, so non-zero dropout expects num_layers greater than 1, but got dropout=0.3 and num_layers=1\n",
      "\u001b[36m(train_pbt pid=1029433)\u001b[0m   warnings.warn(\n",
      "\u001b[33m(raylet)\u001b[0m [2025-03-26 01:37:47,549 E 907034 907067] (raylet) file_system_monitor.cc:116: /var/tmp/ray/session_2025-03-26_01-22-13_421315_893989 is over 95% full, available space: 72.7045 GB; capacity: 2558.08 GB. Object creation will fail if spilling is required.\n",
      "\u001b[33m(raylet)\u001b[0m [2025-03-26 01:37:57,574 E 907034 907067] (raylet) file_system_monitor.cc:116: /var/tmp/ray/session_2025-03-26_01-22-13_421315_893989 is over 95% full, available space: 72.7044 GB; capacity: 2558.08 GB. Object creation will fail if spilling is required.\n",
      "\u001b[33m(raylet)\u001b[0m [2025-03-26 01:38:07,591 E 907034 907067] (raylet) file_system_monitor.cc:116: /var/tmp/ray/session_2025-03-26_01-22-13_421315_893989 is over 95% full, available space: 72.7033 GB; capacity: 2558.08 GB. Object creation will fail if spilling is required.\n",
      "\u001b[33m(raylet)\u001b[0m [2025-03-26 01:38:17,617 E 907034 907067] (raylet) file_system_monitor.cc:116: /var/tmp/ray/session_2025-03-26_01-22-13_421315_893989 is over 95% full, available space: 72.7018 GB; capacity: 2558.08 GB. Object creation will fail if spilling is required.\n",
      "\u001b[36m(train_pbt pid=1034456)\u001b[0m /home/alinashutova/anaconda3/envs/aquakv/lib/python3.11/site-packages/torch/nn/modules/rnn.py:123: UserWarning: dropout option adds dropout after all but last recurrent layer, so non-zero dropout expects num_layers greater than 1, but got dropout=0.3 and num_layers=1\n",
      "\u001b[36m(train_pbt pid=1034456)\u001b[0m   warnings.warn(\n",
      "\u001b[33m(raylet)\u001b[0m [2025-03-26 01:38:27,634 E 907034 907067] (raylet) file_system_monitor.cc:116: /var/tmp/ray/session_2025-03-26_01-22-13_421315_893989 is over 95% full, available space: 72.6996 GB; capacity: 2558.08 GB. Object creation will fail if spilling is required.\n",
      "\u001b[33m(raylet)\u001b[0m [2025-03-26 01:38:37,658 E 907034 907067] (raylet) file_system_monitor.cc:116: /var/tmp/ray/session_2025-03-26_01-22-13_421315_893989 is over 95% full, available space: 72.6996 GB; capacity: 2558.08 GB. Object creation will fail if spilling is required.\n",
      "\u001b[33m(raylet)\u001b[0m [2025-03-26 01:38:47,677 E 907034 907067] (raylet) file_system_monitor.cc:116: /var/tmp/ray/session_2025-03-26_01-22-13_421315_893989 is over 95% full, available space: 72.6995 GB; capacity: 2558.08 GB. Object creation will fail if spilling is required.\n",
      "\u001b[33m(raylet)\u001b[0m [2025-03-26 01:38:57,693 E 907034 907067] (raylet) file_system_monitor.cc:116: /var/tmp/ray/session_2025-03-26_01-22-13_421315_893989 is over 95% full, available space: 72.7007 GB; capacity: 2558.08 GB. Object creation will fail if spilling is required.\n",
      "\u001b[33m(raylet)\u001b[0m [2025-03-26 01:39:07,710 E 907034 907067] (raylet) file_system_monitor.cc:116: /var/tmp/ray/session_2025-03-26_01-22-13_421315_893989 is over 95% full, available space: 72.6996 GB; capacity: 2558.08 GB. Object creation will fail if spilling is required.\n",
      "\u001b[36m(train_pbt pid=1039138)\u001b[0m /home/alinashutova/anaconda3/envs/aquakv/lib/python3.11/site-packages/torch/nn/modules/rnn.py:123: UserWarning: dropout option adds dropout after all but last recurrent layer, so non-zero dropout expects num_layers greater than 1, but got dropout=0.3 and num_layers=1\n",
      "\u001b[36m(train_pbt pid=1039138)\u001b[0m   warnings.warn(\n",
      "\u001b[33m(raylet)\u001b[0m [2025-03-26 01:39:17,728 E 907034 907067] (raylet) file_system_monitor.cc:116: /var/tmp/ray/session_2025-03-26_01-22-13_421315_893989 is over 95% full, available space: 72.6992 GB; capacity: 2558.08 GB. Object creation will fail if spilling is required.\n",
      "\u001b[33m(raylet)\u001b[0m [2025-03-26 01:39:27,766 E 907034 907067] (raylet) file_system_monitor.cc:116: /var/tmp/ray/session_2025-03-26_01-22-13_421315_893989 is over 95% full, available space: 72.6984 GB; capacity: 2558.08 GB. Object creation will fail if spilling is required.\n",
      "\u001b[33m(raylet)\u001b[0m [2025-03-26 01:39:37,784 E 907034 907067] (raylet) file_system_monitor.cc:116: /var/tmp/ray/session_2025-03-26_01-22-13_421315_893989 is over 95% full, available space: 72.6983 GB; capacity: 2558.08 GB. Object creation will fail if spilling is required.\n",
      "\u001b[33m(raylet)\u001b[0m [2025-03-26 01:39:47,832 E 907034 907067] (raylet) file_system_monitor.cc:116: /var/tmp/ray/session_2025-03-26_01-22-13_421315_893989 is over 95% full, available space: 72.6972 GB; capacity: 2558.08 GB. Object creation will fail if spilling is required.\n",
      "2025-03-26 01:39:54,518\tINFO pbt.py:716 -- [pbt]: no checkpoint for trial train_pbt_9cf58_00000. Skip exploit for Trial train_pbt_9cf58_00002\n",
      "\u001b[33m(raylet)\u001b[0m [2025-03-26 01:39:57,853 E 907034 907067] (raylet) file_system_monitor.cc:116: /var/tmp/ray/session_2025-03-26_01-22-13_421315_893989 is over 95% full, available space: 72.6972 GB; capacity: 2558.08 GB. Object creation will fail if spilling is required.\n",
      "\u001b[36m(train_pbt pid=1044414)\u001b[0m /home/alinashutova/anaconda3/envs/aquakv/lib/python3.11/site-packages/torch/nn/modules/rnn.py:123: UserWarning: dropout option adds dropout after all but last recurrent layer, so non-zero dropout expects num_layers greater than 1, but got dropout=0.3 and num_layers=1\n",
      "\u001b[36m(train_pbt pid=1044414)\u001b[0m   warnings.warn(\n",
      "\u001b[33m(raylet)\u001b[0m [2025-03-26 01:40:07,874 E 907034 907067] (raylet) file_system_monitor.cc:116: /var/tmp/ray/session_2025-03-26_01-22-13_421315_893989 is over 95% full, available space: 72.6971 GB; capacity: 2558.08 GB. Object creation will fail if spilling is required.\n",
      "\u001b[33m(raylet)\u001b[0m [2025-03-26 01:40:17,898 E 907034 907067] (raylet) file_system_monitor.cc:116: /var/tmp/ray/session_2025-03-26_01-22-13_421315_893989 is over 95% full, available space: 72.6957 GB; capacity: 2558.08 GB. Object creation will fail if spilling is required.\n",
      "\u001b[33m(raylet)\u001b[0m [2025-03-26 01:40:27,925 E 907034 907067] (raylet) file_system_monitor.cc:116: /var/tmp/ray/session_2025-03-26_01-22-13_421315_893989 is over 95% full, available space: 72.6951 GB; capacity: 2558.08 GB. Object creation will fail if spilling is required.\n",
      "\u001b[33m(raylet)\u001b[0m [2025-03-26 01:40:37,944 E 907034 907067] (raylet) file_system_monitor.cc:116: /var/tmp/ray/session_2025-03-26_01-22-13_421315_893989 is over 95% full, available space: 72.6951 GB; capacity: 2558.08 GB. Object creation will fail if spilling is required.\n",
      "\u001b[33m(raylet)\u001b[0m [2025-03-26 01:40:47,972 E 907034 907067] (raylet) file_system_monitor.cc:116: /var/tmp/ray/session_2025-03-26_01-22-13_421315_893989 is over 95% full, available space: 72.6939 GB; capacity: 2558.08 GB. Object creation will fail if spilling is required.\n",
      "\u001b[36m(train_pbt pid=3937)\u001b[0m /home/alinashutova/anaconda3/envs/aquakv/lib/python3.11/site-packages/torch/nn/modules/rnn.py:123: UserWarning: dropout option adds dropout after all but last recurrent layer, so non-zero dropout expects num_layers greater than 1, but got dropout=0.3 and num_layers=1\n",
      "\u001b[36m(train_pbt pid=3937)\u001b[0m   warnings.warn(\n",
      "\u001b[33m(raylet)\u001b[0m [2025-03-26 01:40:58,003 E 907034 907067] (raylet) file_system_monitor.cc:116: /var/tmp/ray/session_2025-03-26_01-22-13_421315_893989 is over 95% full, available space: 72.6939 GB; capacity: 2558.08 GB. Object creation will fail if spilling is required.\n",
      "\u001b[33m(raylet)\u001b[0m [2025-03-26 01:41:08,022 E 907034 907067] (raylet) file_system_monitor.cc:116: /var/tmp/ray/session_2025-03-26_01-22-13_421315_893989 is over 95% full, available space: 72.6938 GB; capacity: 2558.08 GB. Object creation will fail if spilling is required.\n",
      "\u001b[33m(raylet)\u001b[0m [2025-03-26 01:41:18,040 E 907034 907067] (raylet) file_system_monitor.cc:116: /var/tmp/ray/session_2025-03-26_01-22-13_421315_893989 is over 95% full, available space: 72.6918 GB; capacity: 2558.08 GB. Object creation will fail if spilling is required.\n",
      "\u001b[33m(raylet)\u001b[0m [2025-03-26 01:41:28,059 E 907034 907067] (raylet) file_system_monitor.cc:116: /var/tmp/ray/session_2025-03-26_01-22-13_421315_893989 is over 95% full, available space: 72.6917 GB; capacity: 2558.08 GB. Object creation will fail if spilling is required.\n",
      "2025-03-26 01:41:30,564\tINFO pbt.py:716 -- [pbt]: no checkpoint for trial train_pbt_9cf58_00001. Skip exploit for Trial train_pbt_9cf58_00004\n",
      "\u001b[36m(train_pbt pid=8741)\u001b[0m /home/alinashutova/anaconda3/envs/aquakv/lib/python3.11/site-packages/torch/nn/modules/rnn.py:123: UserWarning: dropout option adds dropout after all but last recurrent layer, so non-zero dropout expects num_layers greater than 1, but got dropout=0.3 and num_layers=1\n",
      "\u001b[36m(train_pbt pid=8741)\u001b[0m   warnings.warn(\n",
      "\u001b[33m(raylet)\u001b[0m [2025-03-26 01:41:38,076 E 907034 907067] (raylet) file_system_monitor.cc:116: /var/tmp/ray/session_2025-03-26_01-22-13_421315_893989 is over 95% full, available space: 72.6916 GB; capacity: 2558.08 GB. Object creation will fail if spilling is required.\n",
      "\u001b[33m(raylet)\u001b[0m [2025-03-26 01:41:48,095 E 907034 907067] (raylet) file_system_monitor.cc:116: /var/tmp/ray/session_2025-03-26_01-22-13_421315_893989 is over 95% full, available space: 72.6916 GB; capacity: 2558.08 GB. Object creation will fail if spilling is required.\n",
      "\u001b[33m(raylet)\u001b[0m [2025-03-26 01:41:58,113 E 907034 907067] (raylet) file_system_monitor.cc:116: /var/tmp/ray/session_2025-03-26_01-22-13_421315_893989 is over 95% full, available space: 72.692 GB; capacity: 2558.08 GB. Object creation will fail if spilling is required.\n",
      "\u001b[33m(raylet)\u001b[0m [2025-03-26 01:42:08,132 E 907034 907067] (raylet) file_system_monitor.cc:116: /var/tmp/ray/session_2025-03-26_01-22-13_421315_893989 is over 95% full, available space: 72.692 GB; capacity: 2558.08 GB. Object creation will fail if spilling is required.\n",
      "\u001b[33m(raylet)\u001b[0m [2025-03-26 01:42:18,151 E 907034 907067] (raylet) file_system_monitor.cc:116: /var/tmp/ray/session_2025-03-26_01-22-13_421315_893989 is over 95% full, available space: 72.6901 GB; capacity: 2558.08 GB. Object creation will fail if spilling is required.\n",
      "\u001b[33m(raylet)\u001b[0m [2025-03-26 01:42:28,174 E 907034 907067] (raylet) file_system_monitor.cc:116: /var/tmp/ray/session_2025-03-26_01-22-13_421315_893989 is over 95% full, available space: 72.69 GB; capacity: 2558.08 GB. Object creation will fail if spilling is required.\n",
      "2025-03-26 01:42:30,719\tINFO pbt.py:716 -- [pbt]: no checkpoint for trial train_pbt_9cf58_00001. Skip exploit for Trial train_pbt_9cf58_00000\n",
      "\u001b[36m(train_pbt pid=3937)\u001b[0m *** SIGSEGV received at time=1742942551 on cpu 247 ***\n",
      "\u001b[36m(train_pbt pid=3937)\u001b[0m PC: @     0x7f067384c5de  (unknown)  ray::gcs::TaskInfoAccessor::AsyncAddTaskEventData()\n",
      "\u001b[36m(train_pbt pid=3937)\u001b[0m     @     0x7f0675a37980       1792  (unknown)\n",
      "\u001b[36m(train_pbt pid=3937)\u001b[0m     @     0x7f067372ace5       1392  ray::core::worker::TaskEventBufferImpl::FlushEvents()\n",
      "\u001b[36m(train_pbt pid=3937)\u001b[0m     @     0x7f06736b118c       1488  ray::core::CoreWorker::Disconnect()\n",
      "\u001b[36m(train_pbt pid=3937)\u001b[0m     @     0x7f06736b16bd       1152  ray::core::CoreWorker::ForceExit()\n",
      "\u001b[36m(train_pbt pid=3937)\u001b[0m     @     0x7f06736b1aef       1680  ray::core::CoreWorker::HandleKillActor()\n",
      "\u001b[36m(train_pbt pid=3937)\u001b[0m     @     0x7f06736a8e74        192  ray::rpc::ServerCallImpl<>::HandleRequestImpl()\n",
      "\u001b[36m(train_pbt pid=3937)\u001b[0m     @     0x7f0673a7f5d8       1168  EventTracker::RecordExecution()\n",
      "\u001b[36m(train_pbt pid=3937)\u001b[0m     @     0x7f0673a7a5ae         48  std::_Function_handler<>::_M_invoke()\n",
      "\u001b[36m(train_pbt pid=3937)\u001b[0m     @     0x7f0673a7aa26        112  boost::asio::detail::completion_handler<>::do_complete()\n",
      "\u001b[36m(train_pbt pid=3937)\u001b[0m     @     0x7f06740fef4b        128  boost::asio::detail::scheduler::do_run_one()\n",
      "\u001b[36m(train_pbt pid=3937)\u001b[0m     @     0x7f06741008c9        288  boost::asio::detail::scheduler::run()\n",
      "\u001b[36m(train_pbt pid=3937)\u001b[0m     @     0x7f0674100fd2         96  boost::asio::io_context::run()\n",
      "\u001b[36m(train_pbt pid=3937)\u001b[0m     @     0x7f0673609751       1280  ray::core::CoreWorker::RunIOService()\n",
      "\u001b[36m(train_pbt pid=3937)\u001b[0m     @     0x7f0673b19f90         64  thread_proxy\n",
      "\u001b[36m(train_pbt pid=3937)\u001b[0m     @     0x7f0675a2c6db  (unknown)  start_thread\n",
      "\u001b[36m(train_pbt pid=3937)\u001b[0m [2025-03-26 01:42:31,225 E 3937 4101] logging.cc:497: *** SIGSEGV received at time=1742942551 on cpu 247 ***\n",
      "\u001b[36m(train_pbt pid=3937)\u001b[0m [2025-03-26 01:42:31,225 E 3937 4101] logging.cc:497: PC: @     0x7f067384c5de  (unknown)  ray::gcs::TaskInfoAccessor::AsyncAddTaskEventData()\n",
      "\u001b[36m(train_pbt pid=3937)\u001b[0m [2025-03-26 01:42:31,225 E 3937 4101] logging.cc:497:     @     0x7f0675a37980       1792  (unknown)\n",
      "\u001b[36m(train_pbt pid=3937)\u001b[0m [2025-03-26 01:42:31,225 E 3937 4101] logging.cc:497:     @     0x7f067372ace5       1392  ray::core::worker::TaskEventBufferImpl::FlushEvents()\n",
      "\u001b[36m(train_pbt pid=3937)\u001b[0m [2025-03-26 01:42:31,225 E 3937 4101] logging.cc:497:     @     0x7f06736b118c       1488  ray::core::CoreWorker::Disconnect()\n",
      "\u001b[36m(train_pbt pid=3937)\u001b[0m [2025-03-26 01:42:31,225 E 3937 4101] logging.cc:497:     @     0x7f06736b16bd       1152  ray::core::CoreWorker::ForceExit()\n",
      "\u001b[36m(train_pbt pid=3937)\u001b[0m [2025-03-26 01:42:31,225 E 3937 4101] logging.cc:497:     @     0x7f06736b1aef       1680  ray::core::CoreWorker::HandleKillActor()\n",
      "\u001b[36m(train_pbt pid=3937)\u001b[0m [2025-03-26 01:42:31,225 E 3937 4101] logging.cc:497:     @     0x7f06736a8e74        192  ray::rpc::ServerCallImpl<>::HandleRequestImpl()\n",
      "\u001b[36m(train_pbt pid=3937)\u001b[0m [2025-03-26 01:42:31,225 E 3937 4101] logging.cc:497:     @     0x7f0673a7f5d8       1168  EventTracker::RecordExecution()\n",
      "\u001b[36m(train_pbt pid=3937)\u001b[0m [2025-03-26 01:42:31,225 E 3937 4101] logging.cc:497:     @     0x7f0673a7a5ae         48  std::_Function_handler<>::_M_invoke()\n",
      "\u001b[36m(train_pbt pid=3937)\u001b[0m [2025-03-26 01:42:31,225 E 3937 4101] logging.cc:497:     @     0x7f0673a7aa26        112  boost::asio::detail::completion_handler<>::do_complete()\n",
      "\u001b[36m(train_pbt pid=3937)\u001b[0m [2025-03-26 01:42:31,225 E 3937 4101] logging.cc:497:     @     0x7f06740fef4b        128  boost::asio::detail::scheduler::do_run_one()\n",
      "\u001b[36m(train_pbt pid=3937)\u001b[0m [2025-03-26 01:42:31,225 E 3937 4101] logging.cc:497:     @     0x7f06741008c9        288  boost::asio::detail::scheduler::run()\n",
      "\u001b[36m(train_pbt pid=3937)\u001b[0m [2025-03-26 01:42:31,225 E 3937 4101] logging.cc:497:     @     0x7f0674100fd2         96  boost::asio::io_context::run()\n",
      "\u001b[36m(train_pbt pid=3937)\u001b[0m [2025-03-26 01:42:31,225 E 3937 4101] logging.cc:497:     @     0x7f0673609751       1280  ray::core::CoreWorker::RunIOService()\n",
      "\u001b[36m(train_pbt pid=3937)\u001b[0m [2025-03-26 01:42:31,225 E 3937 4101] logging.cc:497:     @     0x7f0673b19f90         64  thread_proxy\n",
      "\u001b[36m(train_pbt pid=3937)\u001b[0m [2025-03-26 01:42:31,225 E 3937 4101] logging.cc:497:     @     0x7f0675a2c6db  (unknown)  start_thread\n",
      "\u001b[36m(train_pbt pid=3937)\u001b[0m Fatal Python error: Segmentation fault\n",
      "\u001b[36m(train_pbt pid=3937)\u001b[0m \n",
      "\u001b[36m(train_pbt pid=3937)\u001b[0m \n",
      "\u001b[36m(train_pbt pid=3937)\u001b[0m Extension modules: msgpack._cmsgpack, google._upb._message, psutil._psutil_linux, psutil._psutil_posix, setproctitle, yaml._yaml, charset_normalizer.md, requests.packages.charset_normalizer.md, requests.packages.chardet.md, ray._raylet, numpy._core._multiarray_umath, numpy.linalg._umath_linalg, pyarrow.lib, numpy.random._common, numpy.random.bit_generator, numpy.random._bounded_integers, numpy.random._mt19937, numpy.random.mtrand, numpy.random._philox, numpy.random._pcg64, numpy.random._sfc64, numpy.random._generator, pandas._libs.tslibs.ccalendar, pandas._libs.tslibs.np_datetime, pandas._libs.tslibs.dtypes, pandas._libs.tslibs.base, pandas._libs.tslibs.nattype, pandas._libs.tslibs.timezones, pandas._libs.tslibs.fields, pandas._libs.tslibs.timedeltas, pandas._libs.tslibs.tzconversion, pandas._libs.tslibs.timestamps, pandas._libs.properties, pandas._libs.tslibs.offsets, pandas._libs.tslibs.strptime, pandas._libs.tslibs.parsing, pandas._libs.tslibs.conversion, pandas._libs.tslibs.period, pandas._libs.tslibs.vectorized, pandas._libs.ops_dispatch, pandas._libs.missing, pandas._libs.hashtable, pandas._libs.algos, pandas._libs.interval, pandas._libs.lib, pyarrow._compute, pandas._libs.ops, pandas._libs.hashing, pandas._libs.arrays, pandas._libs.tslib, pandas._libs.sparse, pandas._libs.internals, pandas._libs.indexing, pandas._libs.index, pandas._libs.writers, pandas._libs.join, pandas._libs.window.aggregations, pandas._libs.window.indexers, pandas._libs.reshape, pandas._libs.groupby, pandas._libs.json, pandas._libs.parsers, pandas._libs.testing, pyarrow._fs, pyarrow._azurefs, pyarrow._hdfs, pyarrow._gcsfs, pyarrow._s3fs, pyarrow._parquet, torch._C, torch._C._dynamo.autograd_compiler, torch._C._dynamo.eval_frame, torch._C._dynamo.guards, torch._C._dynamo.utils, torch._C._fft, torch._C._linalg, torch._C._nested, torch._C._nn, torch._C._sparse, torch._C._special, markupsafe._speedups, PIL._imaging, scipy._lib._ccallback_c, scipy.linalg._fblas, scipy.linalg._flapack, scipy.linalg.cython_lapack, scipy.linalg._cythonized_array_utils, scipy.linalg._solve_toeplitz, scipy.linalg._decomp_lu_cython, scipy.linalg._matfuncs_sqrtm_triu, scipy.linalg._matfuncs_expm, scipy.linalg._linalg_pythran, scipy.linalg.cython_blas, scipy.linalg._decomp_update, scipy.sparse._sparsetools, _csparsetools, scipy.sparse._csparsetools, scipy.sparse.linalg._dsolve._superlu, scipy.sparse.linalg._eigen.arpack._arpack, scipy.sparse.linalg._propack._spropack, scipy.sparse.linalg._propack._dpropack, scipy.sparse.linalg._propack._cpropack, scipy.sparse.linalg._propack._zpropack, scipy.sparse.csgraph._tools, scipy.sparse.csgraph._shortest_path, scipy.sparse.csgraph._traversal, scipy.sparse.csgraph._min_spanning_tree, scipy.sparse.csgraph._flow, scipy.sparse.csgraph._matching, scipy.sparse.csgraph._reordering, scipy.optimize._group_columns, scipy._lib.messagestream, scipy.optimize._trlib._trlib, scipy.optimize._lbfgsb, _moduleTNC, scipy.optimize._moduleTNC, scipy.optimize._cobyla, scipy.optimize._slsqp, scipy.optimize._minpack, scipy.optimize._lsq.givens_elimination, scipy.optimize._zeros, scipy.optimize._cython_nnls, scipy._lib._uarray._uarray, scipy.special._ufuncs_cxx, scipy.special._ufuncs, scipy.special._specfun, scipy.special._comb, scipy.special._ellip_harm_2, scipy.linalg._decomp_interpolative, scipy.optimize._bglu_dense, scipy.optimize._lsap, scipy.spatial._ckdtree, scipy.spatial._qhull, scipy.spatial._voronoi, scipy.spatial._distance_wrap, scipy.spatial._hausdorff, scipy.spatial.transform._rotation, scipy.optimize._direct, greenlet._greenlet, pyarrow._json (total: 140)\n",
      "\u001b[36m(train_pbt pid=14567)\u001b[0m /home/alinashutova/anaconda3/envs/aquakv/lib/python3.11/site-packages/torch/nn/modules/rnn.py:123: UserWarning: dropout option adds dropout after all but last recurrent layer, so non-zero dropout expects num_layers greater than 1, but got dropout=0.3 and num_layers=1\n",
      "\u001b[36m(train_pbt pid=14567)\u001b[0m   warnings.warn(\n",
      "\u001b[33m(raylet)\u001b[0m [2025-03-26 01:42:38,195 E 907034 907067] (raylet) file_system_monitor.cc:116: /var/tmp/ray/session_2025-03-26_01-22-13_421315_893989 is over 95% full, available space: 72.6888 GB; capacity: 2558.08 GB. Object creation will fail if spilling is required.\n",
      "\u001b[33m(raylet)\u001b[0m [2025-03-26 01:42:48,216 E 907034 907067] (raylet) file_system_monitor.cc:116: /var/tmp/ray/session_2025-03-26_01-22-13_421315_893989 is over 95% full, available space: 72.6888 GB; capacity: 2558.08 GB. Object creation will fail if spilling is required.\n",
      "\u001b[33m(raylet)\u001b[0m [2025-03-26 01:42:58,251 E 907034 907067] (raylet) file_system_monitor.cc:116: /var/tmp/ray/session_2025-03-26_01-22-13_421315_893989 is over 95% full, available space: 72.6888 GB; capacity: 2558.08 GB. Object creation will fail if spilling is required.\n",
      "\u001b[33m(raylet)\u001b[0m [2025-03-26 01:43:08,269 E 907034 907067] (raylet) file_system_monitor.cc:116: /var/tmp/ray/session_2025-03-26_01-22-13_421315_893989 is over 95% full, available space: 72.687 GB; capacity: 2558.08 GB. Object creation will fail if spilling is required.\n",
      "\u001b[33m(raylet)\u001b[0m [2025-03-26 01:43:18,287 E 907034 907067] (raylet) file_system_monitor.cc:116: /var/tmp/ray/session_2025-03-26_01-22-13_421315_893989 is over 95% full, available space: 72.6848 GB; capacity: 2558.08 GB. Object creation will fail if spilling is required.\n",
      "\u001b[36m(train_pbt pid=20666)\u001b[0m /home/alinashutova/anaconda3/envs/aquakv/lib/python3.11/site-packages/torch/nn/modules/rnn.py:123: UserWarning: dropout option adds dropout after all but last recurrent layer, so non-zero dropout expects num_layers greater than 1, but got dropout=0.3 and num_layers=1\n",
      "\u001b[36m(train_pbt pid=20666)\u001b[0m   warnings.warn(\n",
      "\u001b[33m(raylet)\u001b[0m [2025-03-26 01:43:28,304 E 907034 907067] (raylet) file_system_monitor.cc:116: /var/tmp/ray/session_2025-03-26_01-22-13_421315_893989 is over 95% full, available space: 72.6847 GB; capacity: 2558.08 GB. Object creation will fail if spilling is required.\n",
      "\u001b[33m(raylet)\u001b[0m [2025-03-26 01:43:38,322 E 907034 907067] (raylet) file_system_monitor.cc:116: /var/tmp/ray/session_2025-03-26_01-22-13_421315_893989 is over 95% full, available space: 72.6847 GB; capacity: 2558.08 GB. Object creation will fail if spilling is required.\n",
      "\u001b[33m(raylet)\u001b[0m [2025-03-26 01:43:48,340 E 907034 907067] (raylet) file_system_monitor.cc:116: /var/tmp/ray/session_2025-03-26_01-22-13_421315_893989 is over 95% full, available space: 72.6846 GB; capacity: 2558.08 GB. Object creation will fail if spilling is required.\n",
      "\u001b[33m(raylet)\u001b[0m [2025-03-26 01:43:58,372 E 907034 907067] (raylet) file_system_monitor.cc:116: /var/tmp/ray/session_2025-03-26_01-22-13_421315_893989 is over 95% full, available space: 72.674 GB; capacity: 2558.08 GB. Object creation will fail if spilling is required.\n",
      "\u001b[33m(raylet)\u001b[0m [2025-03-26 01:44:08,389 E 907034 907067] (raylet) file_system_monitor.cc:116: /var/tmp/ray/session_2025-03-26_01-22-13_421315_893989 is over 95% full, available space: 72.6729 GB; capacity: 2558.08 GB. Object creation will fail if spilling is required.\n",
      "\u001b[33m(raylet)\u001b[0m [2025-03-26 01:44:18,410 E 907034 907067] (raylet) file_system_monitor.cc:116: /var/tmp/ray/session_2025-03-26_01-22-13_421315_893989 is over 95% full, available space: 72.6711 GB; capacity: 2558.08 GB. Object creation will fail if spilling is required.\n",
      "\u001b[36m(train_pbt pid=27427)\u001b[0m /home/alinashutova/anaconda3/envs/aquakv/lib/python3.11/site-packages/torch/nn/modules/rnn.py:123: UserWarning: dropout option adds dropout after all but last recurrent layer, so non-zero dropout expects num_layers greater than 1, but got dropout=0.3 and num_layers=1\n",
      "\u001b[36m(train_pbt pid=27427)\u001b[0m   warnings.warn(\n",
      "\u001b[33m(raylet)\u001b[0m [2025-03-26 01:44:28,429 E 907034 907067] (raylet) file_system_monitor.cc:116: /var/tmp/ray/session_2025-03-26_01-22-13_421315_893989 is over 95% full, available space: 72.671 GB; capacity: 2558.08 GB. Object creation will fail if spilling is required.\n",
      "\u001b[33m(raylet)\u001b[0m [2025-03-26 01:44:38,445 E 907034 907067] (raylet) file_system_monitor.cc:116: /var/tmp/ray/session_2025-03-26_01-22-13_421315_893989 is over 95% full, available space: 72.671 GB; capacity: 2558.08 GB. Object creation will fail if spilling is required.\n",
      "\u001b[33m(raylet)\u001b[0m [2025-03-26 01:44:48,465 E 907034 907067] (raylet) file_system_monitor.cc:116: /var/tmp/ray/session_2025-03-26_01-22-13_421315_893989 is over 95% full, available space: 72.6833 GB; capacity: 2558.08 GB. Object creation will fail if spilling is required.\n",
      "\u001b[33m(raylet)\u001b[0m [2025-03-26 01:44:58,488 E 907034 907067] (raylet) file_system_monitor.cc:116: /var/tmp/ray/session_2025-03-26_01-22-13_421315_893989 is over 95% full, available space: 72.6833 GB; capacity: 2558.08 GB. Object creation will fail if spilling is required.\n",
      "\u001b[33m(raylet)\u001b[0m [2025-03-26 01:45:08,508 E 907034 907067] (raylet) file_system_monitor.cc:116: /var/tmp/ray/session_2025-03-26_01-22-13_421315_893989 is over 95% full, available space: 72.6832 GB; capacity: 2558.08 GB. Object creation will fail if spilling is required.\n",
      "\u001b[36m(train_pbt pid=31775)\u001b[0m /home/alinashutova/anaconda3/envs/aquakv/lib/python3.11/site-packages/torch/nn/modules/rnn.py:123: UserWarning: dropout option adds dropout after all but last recurrent layer, so non-zero dropout expects num_layers greater than 1, but got dropout=0.3 and num_layers=1\n",
      "\u001b[36m(train_pbt pid=31775)\u001b[0m   warnings.warn(\n",
      "\u001b[33m(raylet)\u001b[0m [2025-03-26 01:45:18,533 E 907034 907067] (raylet) file_system_monitor.cc:116: /var/tmp/ray/session_2025-03-26_01-22-13_421315_893989 is over 95% full, available space: 72.6819 GB; capacity: 2558.08 GB. Object creation will fail if spilling is required.\n",
      "\u001b[33m(raylet)\u001b[0m [2025-03-26 01:45:28,572 E 907034 907067] (raylet) file_system_monitor.cc:116: /var/tmp/ray/session_2025-03-26_01-22-13_421315_893989 is over 95% full, available space: 72.6814 GB; capacity: 2558.08 GB. Object creation will fail if spilling is required.\n",
      "\u001b[33m(raylet)\u001b[0m [2025-03-26 01:45:38,606 E 907034 907067] (raylet) file_system_monitor.cc:116: /var/tmp/ray/session_2025-03-26_01-22-13_421315_893989 is over 95% full, available space: 72.6803 GB; capacity: 2558.08 GB. Object creation will fail if spilling is required.\n",
      "\u001b[33m(raylet)\u001b[0m [2025-03-26 01:45:48,641 E 907034 907067] (raylet) file_system_monitor.cc:116: /var/tmp/ray/session_2025-03-26_01-22-13_421315_893989 is over 95% full, available space: 72.6803 GB; capacity: 2558.08 GB. Object creation will fail if spilling is required.\n",
      "\u001b[33m(raylet)\u001b[0m [2025-03-26 01:45:58,686 E 907034 907067] (raylet) file_system_monitor.cc:116: /var/tmp/ray/session_2025-03-26_01-22-13_421315_893989 is over 95% full, available space: 72.6802 GB; capacity: 2558.08 GB. Object creation will fail if spilling is required.\n",
      "\u001b[36m(train_pbt pid=38720)\u001b[0m /home/alinashutova/anaconda3/envs/aquakv/lib/python3.11/site-packages/torch/nn/modules/rnn.py:123: UserWarning: dropout option adds dropout after all but last recurrent layer, so non-zero dropout expects num_layers greater than 1, but got dropout=0.3 and num_layers=1\n",
      "\u001b[36m(train_pbt pid=38720)\u001b[0m   warnings.warn(\n",
      "\u001b[33m(raylet)\u001b[0m [2025-03-26 01:46:08,713 E 907034 907067] (raylet) file_system_monitor.cc:116: /var/tmp/ray/session_2025-03-26_01-22-13_421315_893989 is over 95% full, available space: 72.6802 GB; capacity: 2558.08 GB. Object creation will fail if spilling is required.\n",
      "\u001b[33m(raylet)\u001b[0m [2025-03-26 01:46:18,731 E 907034 907067] (raylet) file_system_monitor.cc:116: /var/tmp/ray/session_2025-03-26_01-22-13_421315_893989 is over 95% full, available space: 72.6785 GB; capacity: 2558.08 GB. Object creation will fail if spilling is required.\n",
      "\u001b[33m(raylet)\u001b[0m [2025-03-26 01:46:28,748 E 907034 907067] (raylet) file_system_monitor.cc:116: /var/tmp/ray/session_2025-03-26_01-22-13_421315_893989 is over 95% full, available space: 72.6785 GB; capacity: 2558.08 GB. Object creation will fail if spilling is required.\n",
      "\u001b[33m(raylet)\u001b[0m [2025-03-26 01:46:38,768 E 907034 907067] (raylet) file_system_monitor.cc:116: /var/tmp/ray/session_2025-03-26_01-22-13_421315_893989 is over 95% full, available space: 72.6773 GB; capacity: 2558.08 GB. Object creation will fail if spilling is required.\n",
      "\u001b[33m(raylet)\u001b[0m [2025-03-26 01:46:48,785 E 907034 907067] (raylet) file_system_monitor.cc:116: /var/tmp/ray/session_2025-03-26_01-22-13_421315_893989 is over 95% full, available space: 72.6773 GB; capacity: 2558.08 GB. Object creation will fail if spilling is required.\n",
      "\u001b[33m(raylet)\u001b[0m [2025-03-26 01:46:58,809 E 907034 907067] (raylet) file_system_monitor.cc:116: /var/tmp/ray/session_2025-03-26_01-22-13_421315_893989 is over 95% full, available space: 72.6773 GB; capacity: 2558.08 GB. Object creation will fail if spilling is required.\n",
      "2025-03-26 01:47:00,886\tINFO pbt.py:716 -- [pbt]: no checkpoint for trial train_pbt_9cf58_00003. Skip exploit for Trial train_pbt_9cf58_00000\n",
      "\u001b[36m(train_pbt pid=45352)\u001b[0m /home/alinashutova/anaconda3/envs/aquakv/lib/python3.11/site-packages/torch/nn/modules/rnn.py:123: UserWarning: dropout option adds dropout after all but last recurrent layer, so non-zero dropout expects num_layers greater than 1, but got dropout=0.3 and num_layers=1\n",
      "\u001b[36m(train_pbt pid=45352)\u001b[0m   warnings.warn(\n",
      "\u001b[33m(raylet)\u001b[0m [2025-03-26 01:47:08,827 E 907034 907067] (raylet) file_system_monitor.cc:116: /var/tmp/ray/session_2025-03-26_01-22-13_421315_893989 is over 95% full, available space: 72.6772 GB; capacity: 2558.08 GB. Object creation will fail if spilling is required.\n",
      "\u001b[33m(raylet)\u001b[0m [2025-03-26 01:47:18,848 E 907034 907067] (raylet) file_system_monitor.cc:116: /var/tmp/ray/session_2025-03-26_01-22-13_421315_893989 is over 95% full, available space: 72.6747 GB; capacity: 2558.08 GB. Object creation will fail if spilling is required.\n",
      "\u001b[33m(raylet)\u001b[0m [2025-03-26 01:47:28,866 E 907034 907067] (raylet) file_system_monitor.cc:116: /var/tmp/ray/session_2025-03-26_01-22-13_421315_893989 is over 95% full, available space: 72.6747 GB; capacity: 2558.08 GB. Object creation will fail if spilling is required.\n",
      "\u001b[33m(raylet)\u001b[0m [2025-03-26 01:47:38,897 E 907034 907067] (raylet) file_system_monitor.cc:116: /var/tmp/ray/session_2025-03-26_01-22-13_421315_893989 is over 95% full, available space: 72.6747 GB; capacity: 2558.08 GB. Object creation will fail if spilling is required.\n",
      "\u001b[33m(raylet)\u001b[0m [2025-03-26 01:47:48,916 E 907034 907067] (raylet) file_system_monitor.cc:116: /var/tmp/ray/session_2025-03-26_01-22-13_421315_893989 is over 95% full, available space: 72.6731 GB; capacity: 2558.08 GB. Object creation will fail if spilling is required.\n",
      "\u001b[33m(raylet)\u001b[0m [2025-03-26 01:47:58,934 E 907034 907067] (raylet) file_system_monitor.cc:116: /var/tmp/ray/session_2025-03-26_01-22-13_421315_893989 is over 95% full, available space: 72.6731 GB; capacity: 2558.08 GB. Object creation will fail if spilling is required.\n",
      "\u001b[36m(train_pbt pid=51274)\u001b[0m /home/alinashutova/anaconda3/envs/aquakv/lib/python3.11/site-packages/torch/nn/modules/rnn.py:123: UserWarning: dropout option adds dropout after all but last recurrent layer, so non-zero dropout expects num_layers greater than 1, but got dropout=0.3 and num_layers=1\n",
      "\u001b[36m(train_pbt pid=51274)\u001b[0m   warnings.warn(\n",
      "\u001b[33m(raylet)\u001b[0m [2025-03-26 01:48:08,956 E 907034 907067] (raylet) file_system_monitor.cc:116: /var/tmp/ray/session_2025-03-26_01-22-13_421315_893989 is over 95% full, available space: 72.6742 GB; capacity: 2558.08 GB. Object creation will fail if spilling is required.\n",
      "\u001b[33m(raylet)\u001b[0m [2025-03-26 01:48:18,973 E 907034 907067] (raylet) file_system_monitor.cc:116: /var/tmp/ray/session_2025-03-26_01-22-13_421315_893989 is over 95% full, available space: 72.6715 GB; capacity: 2558.08 GB. Object creation will fail if spilling is required.\n",
      "\u001b[33m(raylet)\u001b[0m [2025-03-26 01:48:28,990 E 907034 907067] (raylet) file_system_monitor.cc:116: /var/tmp/ray/session_2025-03-26_01-22-13_421315_893989 is over 95% full, available space: 72.6714 GB; capacity: 2558.08 GB. Object creation will fail if spilling is required.\n",
      "\u001b[33m(raylet)\u001b[0m [2025-03-26 01:48:39,009 E 907034 907067] (raylet) file_system_monitor.cc:116: /var/tmp/ray/session_2025-03-26_01-22-13_421315_893989 is over 95% full, available space: 72.6714 GB; capacity: 2558.08 GB. Object creation will fail if spilling is required.\n",
      "\u001b[33m(raylet)\u001b[0m [2025-03-26 01:48:49,041 E 907034 907067] (raylet) file_system_monitor.cc:116: /var/tmp/ray/session_2025-03-26_01-22-13_421315_893989 is over 95% full, available space: 72.6714 GB; capacity: 2558.08 GB. Object creation will fail if spilling is required.\n",
      "\u001b[33m(raylet)\u001b[0m [2025-03-26 01:48:59,062 E 907034 907067] (raylet) file_system_monitor.cc:116: /var/tmp/ray/session_2025-03-26_01-22-13_421315_893989 is over 95% full, available space: 72.6703 GB; capacity: 2558.08 GB. Object creation will fail if spilling is required.\n",
      "2025-03-26 01:48:59,760\tINFO pbt.py:716 -- [pbt]: no checkpoint for trial train_pbt_9cf58_00001. Skip exploit for Trial train_pbt_9cf58_00002\n",
      "\u001b[36m(train_pbt pid=59793)\u001b[0m /home/alinashutova/anaconda3/envs/aquakv/lib/python3.11/site-packages/torch/nn/modules/rnn.py:123: UserWarning: dropout option adds dropout after all but last recurrent layer, so non-zero dropout expects num_layers greater than 1, but got dropout=0.3 and num_layers=1\n",
      "\u001b[36m(train_pbt pid=59793)\u001b[0m   warnings.warn(\n",
      "\u001b[33m(raylet)\u001b[0m [2025-03-26 01:49:09,082 E 907034 907067] (raylet) file_system_monitor.cc:116: /var/tmp/ray/session_2025-03-26_01-22-13_421315_893989 is over 95% full, available space: 72.6702 GB; capacity: 2558.08 GB. Object creation will fail if spilling is required.\n",
      "\u001b[33m(raylet)\u001b[0m [2025-03-26 01:49:19,099 E 907034 907067] (raylet) file_system_monitor.cc:116: /var/tmp/ray/session_2025-03-26_01-22-13_421315_893989 is over 95% full, available space: 72.6687 GB; capacity: 2558.08 GB. Object creation will fail if spilling is required.\n",
      "\u001b[33m(raylet)\u001b[0m [2025-03-26 01:49:29,119 E 907034 907067] (raylet) file_system_monitor.cc:116: /var/tmp/ray/session_2025-03-26_01-22-13_421315_893989 is over 95% full, available space: 72.6687 GB; capacity: 2558.08 GB. Object creation will fail if spilling is required.\n",
      "\u001b[33m(raylet)\u001b[0m [2025-03-26 01:49:39,137 E 907034 907067] (raylet) file_system_monitor.cc:116: /var/tmp/ray/session_2025-03-26_01-22-13_421315_893989 is over 95% full, available space: 72.6687 GB; capacity: 2558.08 GB. Object creation will fail if spilling is required.\n",
      "\u001b[33m(raylet)\u001b[0m [2025-03-26 01:49:49,155 E 907034 907067] (raylet) file_system_monitor.cc:116: /var/tmp/ray/session_2025-03-26_01-22-13_421315_893989 is over 95% full, available space: 72.6676 GB; capacity: 2558.08 GB. Object creation will fail if spilling is required.\n",
      "\u001b[33m(raylet)\u001b[0m [2025-03-26 01:49:59,172 E 907034 907067] (raylet) file_system_monitor.cc:116: /var/tmp/ray/session_2025-03-26_01-22-13_421315_893989 is over 95% full, available space: 72.6597 GB; capacity: 2558.08 GB. Object creation will fail if spilling is required.\n",
      "\u001b[36m(train_pbt pid=65746)\u001b[0m /home/alinashutova/anaconda3/envs/aquakv/lib/python3.11/site-packages/torch/nn/modules/rnn.py:123: UserWarning: dropout option adds dropout after all but last recurrent layer, so non-zero dropout expects num_layers greater than 1, but got dropout=0.3 and num_layers=1\n",
      "\u001b[36m(train_pbt pid=65746)\u001b[0m   warnings.warn(\n",
      "\u001b[33m(raylet)\u001b[0m [2025-03-26 01:50:09,191 E 907034 907067] (raylet) file_system_monitor.cc:116: /var/tmp/ray/session_2025-03-26_01-22-13_421315_893989 is over 95% full, available space: 72.6597 GB; capacity: 2558.08 GB. Object creation will fail if spilling is required.\n",
      "\u001b[33m(raylet)\u001b[0m [2025-03-26 01:50:19,215 E 907034 907067] (raylet) file_system_monitor.cc:116: /var/tmp/ray/session_2025-03-26_01-22-13_421315_893989 is over 95% full, available space: 72.6581 GB; capacity: 2558.08 GB. Object creation will fail if spilling is required.\n",
      "\u001b[33m(raylet)\u001b[0m [2025-03-26 01:50:29,233 E 907034 907067] (raylet) file_system_monitor.cc:116: /var/tmp/ray/session_2025-03-26_01-22-13_421315_893989 is over 95% full, available space: 72.657 GB; capacity: 2558.08 GB. Object creation will fail if spilling is required.\n",
      "\u001b[33m(raylet)\u001b[0m [2025-03-26 01:50:39,258 E 907034 907067] (raylet) file_system_monitor.cc:116: /var/tmp/ray/session_2025-03-26_01-22-13_421315_893989 is over 95% full, available space: 72.6569 GB; capacity: 2558.08 GB. Object creation will fail if spilling is required.\n",
      "\u001b[33m(raylet)\u001b[0m [2025-03-26 01:50:49,279 E 907034 907067] (raylet) file_system_monitor.cc:116: /var/tmp/ray/session_2025-03-26_01-22-13_421315_893989 is over 95% full, available space: 72.6569 GB; capacity: 2558.08 GB. Object creation will fail if spilling is required.\n",
      "2025-03-26 01:50:54,795\tINFO pbt.py:716 -- [pbt]: no checkpoint for trial train_pbt_9cf58_00001. Skip exploit for Trial train_pbt_9cf58_00004\n",
      "\u001b[33m(raylet)\u001b[0m [2025-03-26 01:50:59,308 E 907034 907067] (raylet) file_system_monitor.cc:116: /var/tmp/ray/session_2025-03-26_01-22-13_421315_893989 is over 95% full, available space: 72.6569 GB; capacity: 2558.08 GB. Object creation will fail if spilling is required.\n",
      "\u001b[36m(train_pbt pid=71412)\u001b[0m /home/alinashutova/anaconda3/envs/aquakv/lib/python3.11/site-packages/torch/nn/modules/rnn.py:123: UserWarning: dropout option adds dropout after all but last recurrent layer, so non-zero dropout expects num_layers greater than 1, but got dropout=0.3 and num_layers=1\n",
      "\u001b[36m(train_pbt pid=71412)\u001b[0m   warnings.warn(\n",
      "\u001b[33m(raylet)\u001b[0m [2025-03-26 01:51:09,336 E 907034 907067] (raylet) file_system_monitor.cc:116: /var/tmp/ray/session_2025-03-26_01-22-13_421315_893989 is over 95% full, available space: 72.6568 GB; capacity: 2558.08 GB. Object creation will fail if spilling is required.\n",
      "\u001b[33m(raylet)\u001b[0m [2025-03-26 01:51:19,355 E 907034 907067] (raylet) file_system_monitor.cc:116: /var/tmp/ray/session_2025-03-26_01-22-13_421315_893989 is over 95% full, available space: 72.6552 GB; capacity: 2558.08 GB. Object creation will fail if spilling is required.\n",
      "\u001b[33m(raylet)\u001b[0m [2025-03-26 01:51:29,375 E 907034 907067] (raylet) file_system_monitor.cc:116: /var/tmp/ray/session_2025-03-26_01-22-13_421315_893989 is over 95% full, available space: 72.6551 GB; capacity: 2558.08 GB. Object creation will fail if spilling is required.\n",
      "\u001b[33m(raylet)\u001b[0m [2025-03-26 01:51:39,393 E 907034 907067] (raylet) file_system_monitor.cc:116: /var/tmp/ray/session_2025-03-26_01-22-13_421315_893989 is over 95% full, available space: 72.6551 GB; capacity: 2558.08 GB. Object creation will fail if spilling is required.\n",
      "\u001b[33m(raylet)\u001b[0m [2025-03-26 01:51:49,410 E 907034 907067] (raylet) file_system_monitor.cc:116: /var/tmp/ray/session_2025-03-26_01-22-13_421315_893989 is over 95% full, available space: 72.6551 GB; capacity: 2558.08 GB. Object creation will fail if spilling is required.\n",
      "\u001b[33m(raylet)\u001b[0m [2025-03-26 01:51:59,429 E 907034 907067] (raylet) file_system_monitor.cc:116: /var/tmp/ray/session_2025-03-26_01-22-13_421315_893989 is over 95% full, available space: 72.655 GB; capacity: 2558.08 GB. Object creation will fail if spilling is required.\n",
      "\u001b[36m(train_pbt pid=77689)\u001b[0m /home/alinashutova/anaconda3/envs/aquakv/lib/python3.11/site-packages/torch/nn/modules/rnn.py:123: UserWarning: dropout option adds dropout after all but last recurrent layer, so non-zero dropout expects num_layers greater than 1, but got dropout=0.3 and num_layers=1\n",
      "\u001b[36m(train_pbt pid=77689)\u001b[0m   warnings.warn(\n",
      "\u001b[33m(raylet)\u001b[0m [2025-03-26 01:52:09,446 E 907034 907067] (raylet) file_system_monitor.cc:116: /var/tmp/ray/session_2025-03-26_01-22-13_421315_893989 is over 95% full, available space: 72.6549 GB; capacity: 2558.08 GB. Object creation will fail if spilling is required.\n",
      "\u001b[33m(raylet)\u001b[0m [2025-03-26 01:52:19,465 E 907034 907067] (raylet) file_system_monitor.cc:116: /var/tmp/ray/session_2025-03-26_01-22-13_421315_893989 is over 95% full, available space: 72.6526 GB; capacity: 2558.08 GB. Object creation will fail if spilling is required.\n",
      "\u001b[33m(raylet)\u001b[0m [2025-03-26 01:52:29,484 E 907034 907067] (raylet) file_system_monitor.cc:116: /var/tmp/ray/session_2025-03-26_01-22-13_421315_893989 is over 95% full, available space: 72.6509 GB; capacity: 2558.08 GB. Object creation will fail if spilling is required.\n",
      "\u001b[33m(raylet)\u001b[0m [2025-03-26 01:52:39,504 E 907034 907067] (raylet) file_system_monitor.cc:116: /var/tmp/ray/session_2025-03-26_01-22-13_421315_893989 is over 95% full, available space: 72.6509 GB; capacity: 2558.08 GB. Object creation will fail if spilling is required.\n",
      "\u001b[33m(raylet)\u001b[0m [2025-03-26 01:52:49,576 E 907034 907067] (raylet) file_system_monitor.cc:116: /var/tmp/ray/session_2025-03-26_01-22-13_421315_893989 is over 95% full, available space: 72.6509 GB; capacity: 2558.08 GB. Object creation will fail if spilling is required.\n",
      "\u001b[36m(train_pbt pid=85349)\u001b[0m /home/alinashutova/anaconda3/envs/aquakv/lib/python3.11/site-packages/torch/nn/modules/rnn.py:123: UserWarning: dropout option adds dropout after all but last recurrent layer, so non-zero dropout expects num_layers greater than 1, but got dropout=0.3 and num_layers=1\n",
      "\u001b[36m(train_pbt pid=85349)\u001b[0m   warnings.warn(\n",
      "\u001b[33m(raylet)\u001b[0m [2025-03-26 01:52:59,595 E 907034 907067] (raylet) file_system_monitor.cc:116: /var/tmp/ray/session_2025-03-26_01-22-13_421315_893989 is over 95% full, available space: 72.651 GB; capacity: 2558.08 GB. Object creation will fail if spilling is required.\n",
      "\u001b[33m(raylet)\u001b[0m [2025-03-26 01:53:09,620 E 907034 907067] (raylet) file_system_monitor.cc:116: /var/tmp/ray/session_2025-03-26_01-22-13_421315_893989 is over 95% full, available space: 72.6499 GB; capacity: 2558.08 GB. Object creation will fail if spilling is required.\n",
      "\u001b[33m(raylet)\u001b[0m [2025-03-26 01:53:19,640 E 907034 907067] (raylet) file_system_monitor.cc:116: /var/tmp/ray/session_2025-03-26_01-22-13_421315_893989 is over 95% full, available space: 72.648 GB; capacity: 2558.08 GB. Object creation will fail if spilling is required.\n",
      "\u001b[33m(raylet)\u001b[0m [2025-03-26 01:53:29,671 E 907034 907067] (raylet) file_system_monitor.cc:116: /var/tmp/ray/session_2025-03-26_01-22-13_421315_893989 is over 95% full, available space: 72.6479 GB; capacity: 2558.08 GB. Object creation will fail if spilling is required.\n",
      "\u001b[33m(raylet)\u001b[0m [2025-03-26 01:53:39,705 E 907034 907067] (raylet) file_system_monitor.cc:116: /var/tmp/ray/session_2025-03-26_01-22-13_421315_893989 is over 95% full, available space: 72.6478 GB; capacity: 2558.08 GB. Object creation will fail if spilling is required.\n",
      "\u001b[33m(raylet)\u001b[0m [2025-03-26 01:53:49,724 E 907034 907067] (raylet) file_system_monitor.cc:116: /var/tmp/ray/session_2025-03-26_01-22-13_421315_893989 is over 95% full, available space: 72.6467 GB; capacity: 2558.08 GB. Object creation will fail if spilling is required.\n",
      "\u001b[36m(train_pbt pid=91006)\u001b[0m /home/alinashutova/anaconda3/envs/aquakv/lib/python3.11/site-packages/torch/nn/modules/rnn.py:123: UserWarning: dropout option adds dropout after all but last recurrent layer, so non-zero dropout expects num_layers greater than 1, but got dropout=0.3 and num_layers=1\n",
      "\u001b[36m(train_pbt pid=91006)\u001b[0m   warnings.warn(\n",
      "\u001b[33m(raylet)\u001b[0m [2025-03-26 01:53:59,782 E 907034 907067] (raylet) file_system_monitor.cc:116: /var/tmp/ray/session_2025-03-26_01-22-13_421315_893989 is over 95% full, available space: 72.6466 GB; capacity: 2558.08 GB. Object creation will fail if spilling is required.\n",
      "\u001b[33m(raylet)\u001b[0m [2025-03-26 01:54:09,811 E 907034 907067] (raylet) file_system_monitor.cc:116: /var/tmp/ray/session_2025-03-26_01-22-13_421315_893989 is over 95% full, available space: 72.6466 GB; capacity: 2558.08 GB. Object creation will fail if spilling is required.\n",
      "\u001b[33m(raylet)\u001b[0m [2025-03-26 01:54:19,833 E 907034 907067] (raylet) file_system_monitor.cc:116: /var/tmp/ray/session_2025-03-26_01-22-13_421315_893989 is over 95% full, available space: 72.6455 GB; capacity: 2558.08 GB. Object creation will fail if spilling is required.\n",
      "\u001b[33m(raylet)\u001b[0m [2025-03-26 01:54:29,855 E 907034 907067] (raylet) file_system_monitor.cc:116: /var/tmp/ray/session_2025-03-26_01-22-13_421315_893989 is over 95% full, available space: 72.6456 GB; capacity: 2558.08 GB. Object creation will fail if spilling is required.\n",
      "\u001b[33m(raylet)\u001b[0m [2025-03-26 01:54:39,874 E 907034 907067] (raylet) file_system_monitor.cc:116: /var/tmp/ray/session_2025-03-26_01-22-13_421315_893989 is over 95% full, available space: 72.6456 GB; capacity: 2558.08 GB. Object creation will fail if spilling is required.\n",
      "\u001b[36m(train_pbt pid=85349)\u001b[0m *** SIGSEGV received at time=1742943289 on cpu 85 ***\n",
      "\u001b[36m(train_pbt pid=85349)\u001b[0m PC: @     0x7fa85c1585de  (unknown)  ray::gcs::TaskInfoAccessor::AsyncAddTaskEventData()\n",
      "\u001b[36m(train_pbt pid=85349)\u001b[0m     @     0x7fa85e343980       1792  (unknown)\n",
      "\u001b[36m(train_pbt pid=85349)\u001b[0m     @     0x7fa85c036ce5       1392  ray::core::worker::TaskEventBufferImpl::FlushEvents()\n",
      "\u001b[36m(train_pbt pid=85349)\u001b[0m     @     0x7fa85bfbd18c       1488  ray::core::CoreWorker::Disconnect()\n",
      "\u001b[36m(train_pbt pid=85349)\u001b[0m     @     0x7fa85bfbd6bd       1152  ray::core::CoreWorker::ForceExit()\n",
      "\u001b[36m(train_pbt pid=85349)\u001b[0m     @     0x7fa85bfbdaef       1680  ray::core::CoreWorker::HandleKillActor()\n",
      "\u001b[36m(train_pbt pid=85349)\u001b[0m     @     0x7fa85bfb4e74        192  ray::rpc::ServerCallImpl<>::HandleRequestImpl()\n",
      "\u001b[36m(train_pbt pid=85349)\u001b[0m     @     0x7fa85c38b5d8       1168  EventTracker::RecordExecution()\n",
      "\u001b[36m(train_pbt pid=85349)\u001b[0m     @     0x7fa85c3865ae         48  std::_Function_handler<>::_M_invoke()\n",
      "\u001b[36m(train_pbt pid=85349)\u001b[0m     @     0x7fa85c386a26        112  boost::asio::detail::completion_handler<>::do_complete()\n",
      "\u001b[36m(train_pbt pid=85349)\u001b[0m     @     0x7fa85ca0af4b        128  boost::asio::detail::scheduler::do_run_one()\n",
      "\u001b[36m(train_pbt pid=85349)\u001b[0m     @     0x7fa85ca0c8c9        288  boost::asio::detail::scheduler::run()\n",
      "\u001b[36m(train_pbt pid=85349)\u001b[0m     @     0x7fa85ca0cfd2         96  boost::asio::io_context::run()\n",
      "\u001b[36m(train_pbt pid=85349)\u001b[0m     @     0x7fa85bf15751       1280  ray::core::CoreWorker::RunIOService()\n",
      "\u001b[36m(train_pbt pid=85349)\u001b[0m     @     0x7fa85c425f90         64  thread_proxy\n",
      "\u001b[36m(train_pbt pid=85349)\u001b[0m     @     0x7fa85e3386db  (unknown)  start_thread\n",
      "\u001b[36m(train_pbt pid=85349)\u001b[0m [2025-03-26 01:54:49,469 E 85349 85477] logging.cc:497: *** SIGSEGV received at time=1742943289 on cpu 85 ***\n",
      "\u001b[36m(train_pbt pid=85349)\u001b[0m [2025-03-26 01:54:49,469 E 85349 85477] logging.cc:497: PC: @     0x7fa85c1585de  (unknown)  ray::gcs::TaskInfoAccessor::AsyncAddTaskEventData()\n",
      "\u001b[36m(train_pbt pid=85349)\u001b[0m [2025-03-26 01:54:49,469 E 85349 85477] logging.cc:497:     @     0x7fa85e343980       1792  (unknown)\n",
      "\u001b[36m(train_pbt pid=85349)\u001b[0m [2025-03-26 01:54:49,469 E 85349 85477] logging.cc:497:     @     0x7fa85c036ce5       1392  ray::core::worker::TaskEventBufferImpl::FlushEvents()\n",
      "\u001b[36m(train_pbt pid=85349)\u001b[0m [2025-03-26 01:54:49,469 E 85349 85477] logging.cc:497:     @     0x7fa85bfbd18c       1488  ray::core::CoreWorker::Disconnect()\n",
      "\u001b[36m(train_pbt pid=85349)\u001b[0m [2025-03-26 01:54:49,469 E 85349 85477] logging.cc:497:     @     0x7fa85bfbd6bd       1152  ray::core::CoreWorker::ForceExit()\n",
      "\u001b[36m(train_pbt pid=85349)\u001b[0m [2025-03-26 01:54:49,469 E 85349 85477] logging.cc:497:     @     0x7fa85bfbdaef       1680  ray::core::CoreWorker::HandleKillActor()\n",
      "\u001b[36m(train_pbt pid=85349)\u001b[0m [2025-03-26 01:54:49,469 E 85349 85477] logging.cc:497:     @     0x7fa85bfb4e74        192  ray::rpc::ServerCallImpl<>::HandleRequestImpl()\n",
      "\u001b[36m(train_pbt pid=85349)\u001b[0m [2025-03-26 01:54:49,469 E 85349 85477] logging.cc:497:     @     0x7fa85c38b5d8       1168  EventTracker::RecordExecution()\n",
      "\u001b[36m(train_pbt pid=85349)\u001b[0m [2025-03-26 01:54:49,469 E 85349 85477] logging.cc:497:     @     0x7fa85c3865ae         48  std::_Function_handler<>::_M_invoke()\n",
      "\u001b[36m(train_pbt pid=85349)\u001b[0m [2025-03-26 01:54:49,469 E 85349 85477] logging.cc:497:     @     0x7fa85c386a26        112  boost::asio::detail::completion_handler<>::do_complete()\n",
      "\u001b[36m(train_pbt pid=85349)\u001b[0m [2025-03-26 01:54:49,469 E 85349 85477] logging.cc:497:     @     0x7fa85ca0af4b        128  boost::asio::detail::scheduler::do_run_one()\n",
      "\u001b[36m(train_pbt pid=85349)\u001b[0m [2025-03-26 01:54:49,469 E 85349 85477] logging.cc:497:     @     0x7fa85ca0c8c9        288  boost::asio::detail::scheduler::run()\n",
      "\u001b[36m(train_pbt pid=85349)\u001b[0m [2025-03-26 01:54:49,469 E 85349 85477] logging.cc:497:     @     0x7fa85ca0cfd2         96  boost::asio::io_context::run()\n",
      "\u001b[36m(train_pbt pid=85349)\u001b[0m [2025-03-26 01:54:49,469 E 85349 85477] logging.cc:497:     @     0x7fa85bf15751       1280  ray::core::CoreWorker::RunIOService()\n",
      "\u001b[36m(train_pbt pid=85349)\u001b[0m [2025-03-26 01:54:49,469 E 85349 85477] logging.cc:497:     @     0x7fa85c425f90         64  thread_proxy\n",
      "\u001b[36m(train_pbt pid=85349)\u001b[0m [2025-03-26 01:54:49,469 E 85349 85477] logging.cc:497:     @     0x7fa85e3386db  (unknown)  start_thread\n",
      "\u001b[36m(train_pbt pid=85349)\u001b[0m Fatal Python error: Segmentation fault\n",
      "\u001b[36m(train_pbt pid=85349)\u001b[0m \n",
      "\u001b[36m(train_pbt pid=85349)\u001b[0m \n",
      "\u001b[36m(train_pbt pid=85349)\u001b[0m Extension modules: msgpack._cmsgpack, google._upb._message, psutil._psutil_linux, psutil._psutil_posix, setproctitle, yaml._yaml, charset_normalizer.md, requests.packages.charset_normalizer.md, requests.packages.chardet.md, ray._raylet, numpy._core._multiarray_umath, numpy.linalg._umath_linalg, pyarrow.lib, numpy.random._common, numpy.random.bit_generator, numpy.random._bounded_integers, numpy.random._mt19937, numpy.random.mtrand, numpy.random._philox, numpy.random._pcg64, numpy.random._sfc64, numpy.random._generator, pandas._libs.tslibs.ccalendar, pandas._libs.tslibs.np_datetime, pandas._libs.tslibs.dtypes, pandas._libs.tslibs.base, pandas._libs.tslibs.nattype, pandas._libs.tslibs.timezones, pandas._libs.tslibs.fields, pandas._libs.tslibs.timedeltas, pandas._libs.tslibs.tzconversion, pandas._libs.tslibs.timestamps, pandas._libs.properties, pandas._libs.tslibs.offsets, pandas._libs.tslibs.strptime, pandas._libs.tslibs.parsing, pandas._libs.tslibs.conversion, pandas._libs.tslibs.period, pandas._libs.tslibs.vectorized, pandas._libs.ops_dispatch, pandas._libs.missing, pandas._libs.hashtable, pandas._libs.algos, pandas._libs.interval, pandas._libs.lib, pyarrow._compute, pandas._libs.ops, pandas._libs.hashing, pandas._libs.arrays, pandas._libs.tslib, pandas._libs.sparse, pandas._libs.internals, pandas._libs.indexing, pandas._libs.index, pandas._libs.writers, pandas._libs.join, pandas._libs.window.aggregations, pandas._libs.window.indexers, pandas._libs.reshape, pandas._libs.groupby, pandas._libs.json, pandas._libs.parsers, pandas._libs.testing, pyarrow._fs, pyarrow._azurefs, pyarrow._hdfs, pyarrow._gcsfs, pyarrow._s3fs, pyarrow._parquet, torch._C, torch._C._dynamo.autograd_compiler, torch._C._dynamo.eval_frame, torch._C._dynamo.guards, torch._C._dynamo.utils, torch._C._fft, torch._C._linalg, torch._C._nested, torch._C._nn, torch._C._sparse, torch._C._special, markupsafe._speedups, PIL._imaging, scipy._lib._ccallback_c, scipy.linalg._fblas, scipy.linalg._flapack, scipy.linalg.cython_lapack, scipy.linalg._cythonized_array_utils, scipy.linalg._solve_toeplitz, scipy.linalg._decomp_lu_cython, scipy.linalg._matfuncs_sqrtm_triu, scipy.linalg._matfuncs_expm, scipy.linalg._linalg_pythran, scipy.linalg.cython_blas, scipy.linalg._decomp_update, scipy.sparse._sparsetools, _csparsetools, scipy.sparse._csparsetools, scipy.sparse.linalg._dsolve._superlu, scipy.sparse.linalg._eigen.arpack._arpack, scipy.sparse.linalg._propack._spropack, scipy.sparse.linalg._propack._dpropack, scipy.sparse.linalg._propack._cpropack, scipy.sparse.linalg._propack._zpropack, scipy.sparse.csgraph._tools, scipy.sparse.csgraph._shortest_path, scipy.sparse.csgraph._traversal, scipy.sparse.csgraph._min_spanning_tree, scipy.sparse.csgraph._flow, scipy.sparse.csgraph._matching, scipy.sparse.csgraph._reordering, scipy.optimize._group_columns, scipy._lib.messagestream, scipy.optimize._trlib._trlib, scipy.optimize._lbfgsb, _moduleTNC, scipy.optimize._moduleTNC, scipy.optimize._cobyla, scipy.optimize._slsqp, scipy.optimize._minpack, scipy.optimize._lsq.givens_elimination, scipy.optimize._zeros, scipy.optimize._cython_nnls, scipy._lib._uarray._uarray, scipy.special._ufuncs_cxx, scipy.special._ufuncs, scipy.special._specfun, scipy.special._comb, scipy.special._ellip_harm_2, scipy.linalg._decomp_interpolative, scipy.optimize._bglu_dense, scipy.optimize._lsap, scipy.spatial._ckdtree, scipy.spatial._qhull, scipy.spatial._voronoi, scipy.spatial._distance_wrap, scipy.spatial._hausdorff, scipy.spatial.transform._rotation, scipy.optimize._direct, greenlet._greenlet, pyarrow._json (total: 140)\n",
      "\u001b[33m(raylet)\u001b[0m [2025-03-26 01:54:49,892 E 907034 907067] (raylet) file_system_monitor.cc:116: /var/tmp/ray/session_2025-03-26_01-22-13_421315_893989 is over 95% full, available space: 72.6451 GB; capacity: 2558.08 GB. Object creation will fail if spilling is required.\n",
      "\u001b[33m(raylet)\u001b[0m [2025-03-26 01:54:59,911 E 907034 907067] (raylet) file_system_monitor.cc:116: /var/tmp/ray/session_2025-03-26_01-22-13_421315_893989 is over 95% full, available space: 72.645 GB; capacity: 2558.08 GB. Object creation will fail if spilling is required.\n",
      "\u001b[33m(raylet)\u001b[0m [2025-03-26 01:55:09,930 E 907034 907067] (raylet) file_system_monitor.cc:116: /var/tmp/ray/session_2025-03-26_01-22-13_421315_893989 is over 95% full, available space: 72.645 GB; capacity: 2558.08 GB. Object creation will fail if spilling is required.\n",
      "\u001b[33m(raylet)\u001b[0m [2025-03-26 01:55:19,951 E 907034 907067] (raylet) file_system_monitor.cc:116: /var/tmp/ray/session_2025-03-26_01-22-13_421315_893989 is over 95% full, available space: 72.642 GB; capacity: 2558.08 GB. Object creation will fail if spilling is required.\n",
      "\u001b[33m(raylet)\u001b[0m [2025-03-26 01:55:29,999 E 907034 907067] (raylet) file_system_monitor.cc:116: /var/tmp/ray/session_2025-03-26_01-22-13_421315_893989 is over 95% full, available space: 72.6419 GB; capacity: 2558.08 GB. Object creation will fail if spilling is required.\n",
      "\u001b[33m(raylet)\u001b[0m [2025-03-26 01:55:40,054 E 907034 907067] (raylet) file_system_monitor.cc:116: /var/tmp/ray/session_2025-03-26_01-22-13_421315_893989 is over 95% full, available space: 72.6419 GB; capacity: 2558.08 GB. Object creation will fail if spilling is required.\n",
      "\u001b[33m(raylet)\u001b[0m [2025-03-26 01:55:50,129 E 907034 907067] (raylet) file_system_monitor.cc:116: /var/tmp/ray/session_2025-03-26_01-22-13_421315_893989 is over 95% full, available space: 72.6419 GB; capacity: 2558.08 GB. Object creation will fail if spilling is required.\n",
      "\u001b[33m(raylet)\u001b[0m [2025-03-26 01:56:00,179 E 907034 907067] (raylet) file_system_monitor.cc:116: /var/tmp/ray/session_2025-03-26_01-22-13_421315_893989 is over 95% full, available space: 72.6418 GB; capacity: 2558.08 GB. Object creation will fail if spilling is required.\n",
      "\u001b[33m(raylet)\u001b[0m [2025-03-26 01:56:10,240 E 907034 907067] (raylet) file_system_monitor.cc:116: /var/tmp/ray/session_2025-03-26_01-22-13_421315_893989 is over 95% full, available space: 72.6407 GB; capacity: 2558.08 GB. Object creation will fail if spilling is required.\n",
      "\u001b[33m(raylet)\u001b[0m [2025-03-26 01:56:20,306 E 907034 907067] (raylet) file_system_monitor.cc:116: /var/tmp/ray/session_2025-03-26_01-22-13_421315_893989 is over 95% full, available space: 72.6396 GB; capacity: 2558.08 GB. Object creation will fail if spilling is required.\n",
      "\u001b[33m(raylet)\u001b[0m [2025-03-26 01:56:30,350 E 907034 907067] (raylet) file_system_monitor.cc:116: /var/tmp/ray/session_2025-03-26_01-22-13_421315_893989 is over 95% full, available space: 72.6396 GB; capacity: 2558.08 GB. Object creation will fail if spilling is required.\n",
      "\u001b[33m(raylet)\u001b[0m [2025-03-26 01:56:40,404 E 907034 907067] (raylet) file_system_monitor.cc:116: /var/tmp/ray/session_2025-03-26_01-22-13_421315_893989 is over 95% full, available space: 72.6396 GB; capacity: 2558.08 GB. Object creation will fail if spilling is required.\n",
      "\u001b[33m(raylet)\u001b[0m [2025-03-26 01:56:50,482 E 907034 907067] (raylet) file_system_monitor.cc:116: /var/tmp/ray/session_2025-03-26_01-22-13_421315_893989 is over 95% full, available space: 72.6396 GB; capacity: 2558.08 GB. Object creation will fail if spilling is required.\n",
      "2025-03-26 01:56:56,229\tINFO tune.py:1009 -- Wrote the latest version of all result files and experiment state to '/home/alinashutova/ray_results/train_pbt_2025-03-26_01-22-18' in 0.0230s.\n",
      "2025-03-26 01:56:56,241\tINFO tune.py:1041 -- Total run time: 2077.82 seconds (2077.69 seconds for the tuning loop).\n"
     ]
    },
    {
     "data": {
      "text/plain": [
       "<ray.tune.analysis.experiment_analysis.ExperimentAnalysis at 0x7f11a40f7d50>"
      ]
     },
     "execution_count": 9,
     "metadata": {},
     "output_type": "execute_result"
    },
    {
     "name": "stderr",
     "output_type": "stream",
     "text": [
      "\u001b[33m(raylet)\u001b[0m [2025-03-26 01:57:00,538 E 907034 907067] (raylet) file_system_monitor.cc:116: /var/tmp/ray/session_2025-03-26_01-22-13_421315_893989 is over 95% full, available space: 72.6379 GB; capacity: 2558.08 GB. Object creation will fail if spilling is required.\n",
      "\u001b[33m(raylet)\u001b[0m [2025-03-26 01:57:10,610 E 907034 907067] (raylet) file_system_monitor.cc:116: /var/tmp/ray/session_2025-03-26_01-22-13_421315_893989 is over 95% full, available space: 72.6368 GB; capacity: 2558.08 GB. Object creation will fail if spilling is required.\n",
      "\u001b[33m(raylet)\u001b[0m [2025-03-26 01:57:20,708 E 907034 907067] (raylet) file_system_monitor.cc:116: /var/tmp/ray/session_2025-03-26_01-22-13_421315_893989 is over 95% full, available space: 72.6349 GB; capacity: 2558.08 GB. Object creation will fail if spilling is required.\n",
      "\u001b[33m(raylet)\u001b[0m [2025-03-26 01:57:30,753 E 907034 907067] (raylet) file_system_monitor.cc:116: /var/tmp/ray/session_2025-03-26_01-22-13_421315_893989 is over 95% full, available space: 72.6349 GB; capacity: 2558.08 GB. Object creation will fail if spilling is required.\n",
      "\u001b[33m(raylet)\u001b[0m [2025-03-26 01:57:40,806 E 907034 907067] (raylet) file_system_monitor.cc:116: /var/tmp/ray/session_2025-03-26_01-22-13_421315_893989 is over 95% full, available space: 72.6348 GB; capacity: 2558.08 GB. Object creation will fail if spilling is required.\n",
      "\u001b[33m(raylet)\u001b[0m [2025-03-26 01:57:50,849 E 907034 907067] (raylet) file_system_monitor.cc:116: /var/tmp/ray/session_2025-03-26_01-22-13_421315_893989 is over 95% full, available space: 72.6461 GB; capacity: 2558.08 GB. Object creation will fail if spilling is required.\n",
      "\u001b[33m(raylet)\u001b[0m [2025-03-26 01:58:00,908 E 907034 907067] (raylet) file_system_monitor.cc:116: /var/tmp/ray/session_2025-03-26_01-22-13_421315_893989 is over 95% full, available space: 72.646 GB; capacity: 2558.08 GB. Object creation will fail if spilling is required.\n",
      "\u001b[33m(raylet)\u001b[0m [2025-03-26 01:58:10,958 E 907034 907067] (raylet) file_system_monitor.cc:116: /var/tmp/ray/session_2025-03-26_01-22-13_421315_893989 is over 95% full, available space: 72.646 GB; capacity: 2558.08 GB. Object creation will fail if spilling is required.\n",
      "\u001b[33m(raylet)\u001b[0m [2025-03-26 01:58:21,002 E 907034 907067] (raylet) file_system_monitor.cc:116: /var/tmp/ray/session_2025-03-26_01-22-13_421315_893989 is over 95% full, available space: 72.6448 GB; capacity: 2558.08 GB. Object creation will fail if spilling is required.\n",
      "\u001b[33m(raylet)\u001b[0m [2025-03-26 01:58:31,041 E 907034 907067] (raylet) file_system_monitor.cc:116: /var/tmp/ray/session_2025-03-26_01-22-13_421315_893989 is over 95% full, available space: 72.6448 GB; capacity: 2558.08 GB. Object creation will fail if spilling is required.\n",
      "\u001b[33m(raylet)\u001b[0m [2025-03-26 01:58:41,107 E 907034 907067] (raylet) file_system_monitor.cc:116: /var/tmp/ray/session_2025-03-26_01-22-13_421315_893989 is over 95% full, available space: 72.6437 GB; capacity: 2558.08 GB. Object creation will fail if spilling is required.\n",
      "\u001b[33m(raylet)\u001b[0m [2025-03-26 01:58:51,167 E 907034 907067] (raylet) file_system_monitor.cc:116: /var/tmp/ray/session_2025-03-26_01-22-13_421315_893989 is over 95% full, available space: 72.6437 GB; capacity: 2558.08 GB. Object creation will fail if spilling is required.\n",
      "\u001b[33m(raylet)\u001b[0m [2025-03-26 01:59:01,208 E 907034 907067] (raylet) file_system_monitor.cc:116: /var/tmp/ray/session_2025-03-26_01-22-13_421315_893989 is over 95% full, available space: 72.6436 GB; capacity: 2558.08 GB. Object creation will fail if spilling is required.\n",
      "\u001b[33m(raylet)\u001b[0m [2025-03-26 01:59:11,210 E 907034 907067] (raylet) file_system_monitor.cc:116: /var/tmp/ray/session_2025-03-26_01-22-13_421315_893989 is over 95% full, available space: 72.6436 GB; capacity: 2558.08 GB. Object creation will fail if spilling is required.\n",
      "\u001b[33m(raylet)\u001b[0m [2025-03-26 01:59:21,280 E 907034 907067] (raylet) file_system_monitor.cc:116: /var/tmp/ray/session_2025-03-26_01-22-13_421315_893989 is over 95% full, available space: 72.6418 GB; capacity: 2558.08 GB. Object creation will fail if spilling is required.\n",
      "\u001b[33m(raylet)\u001b[0m [2025-03-26 01:59:31,313 E 907034 907067] (raylet) file_system_monitor.cc:116: /var/tmp/ray/session_2025-03-26_01-22-13_421315_893989 is over 95% full, available space: 72.6407 GB; capacity: 2558.08 GB. Object creation will fail if spilling is required.\n",
      "\u001b[33m(raylet)\u001b[0m [2025-03-26 01:59:41,342 E 907034 907067] (raylet) file_system_monitor.cc:116: /var/tmp/ray/session_2025-03-26_01-22-13_421315_893989 is over 95% full, available space: 72.6407 GB; capacity: 2558.08 GB. Object creation will fail if spilling is required.\n",
      "\u001b[33m(raylet)\u001b[0m [2025-03-26 01:59:51,361 E 907034 907067] (raylet) file_system_monitor.cc:116: /var/tmp/ray/session_2025-03-26_01-22-13_421315_893989 is over 95% full, available space: 72.6407 GB; capacity: 2558.08 GB. Object creation will fail if spilling is required.\n",
      "\u001b[33m(raylet)\u001b[0m [2025-03-26 02:00:01,383 E 907034 907067] (raylet) file_system_monitor.cc:116: /var/tmp/ray/session_2025-03-26_01-22-13_421315_893989 is over 95% full, available space: 72.6406 GB; capacity: 2558.08 GB. Object creation will fail if spilling is required.\n"
     ]
    }
   ],
   "source": [
    "import torch.optim as optim\n",
    "\n",
    "\n",
    "def train_pbt(config):\n",
    "    model = Baseline(embed_dim=64, hidden_size=64, output_size=7, use_rnn=False, num_layers=1, dropout=config[\"dropout\"]).to(device)\n",
    "    criterion = nn.CrossEntropyLoss(ignore_index=-1)\n",
    "    optimizer = optim.RMSprop(model.parameters(), lr=config[\"lr\"])\n",
    "\n",
    "    for epoch in range(20):\n",
    "        model.train()\n",
    "        running_loss = 0.0\n",
    "        for i, (inputs, labels, extra, lengths) in enumerate(train_loader):\n",
    "            inputs, labels = inputs.to(device), labels.to(device)\n",
    "            outputs = model(inputs, lengths)\n",
    "            loss = criterion(outputs, labels)\n",
    "            loss.backward()\n",
    "            optimizer.step()\n",
    "            running_loss += loss.item()\n",
    "        model.eval()\n",
    "        val_f1, val_recall_n = calculate_metrics(test_loader, model, device, 1, 7, pretrained=False)\n",
    "        train_f1, train_recall_n = calculate_metrics(train_loader, model, device, 1, 7, pretrained=False)\n",
    "        tune.report({\n",
    "            \"epoch\": float(epoch),\n",
    "            \"train_loss\": float(running_loss / len(train_loader)),\n",
    "            \"train_recall_n\": float(train_recall_n),\n",
    "            \"train_f1\": float(train_f1),\n",
    "            \"val_recall_n\": float(val_recall_n),\n",
    "            \"val_f1\": float(val_f1),\n",
    "        })\n",
    "        \n",
    "        \n",
    "\n",
    "pbt_scheduler = PopulationBasedTraining(\n",
    "    time_attr=\"training_iteration\",\n",
    "    metric=\"val_f1\",\n",
    "    mode=\"max\",\n",
    "    perturbation_interval=2,\n",
    "    hyperparam_mutations={\n",
    "        \"lr\": tune.loguniform(1e-5, 1e-3),\n",
    "        \"dropout\": tune.uniform(0.1, 0.5),\n",
    "    }\n",
    ")\n",
    "\n",
    "tune.run(\n",
    "    train_pbt,\n",
    "    config={\n",
    "        \"lr\": 1e-4,\n",
    "        \"dropout\": 0.3,\n",
    "    },\n",
    "    scheduler=pbt_scheduler,\n",
    "    num_samples=5,\n",
    "    resources_per_trial={\n",
    "        \"cpu\": 4,\n",
    "        \"gpu\": 0.5 if torch.cuda.is_available() else 0\n",
    "    }\n",
    ")"
   ]
  },
  {
   "cell_type": "markdown",
   "metadata": {},
   "source": [
    "Видно, что результаты PopulationBasedTraining строго хуже"
   ]
  },
  {
   "cell_type": "markdown",
   "metadata": {},
   "source": [
    "То же самое для CNN"
   ]
  },
  {
   "cell_type": "code",
   "execution_count": 16,
   "metadata": {},
   "outputs": [
    {
     "name": "stderr",
     "output_type": "stream",
     "text": [
      "[I 2025-03-25 23:35:23,653] A new study created in memory with name: no-name-a20f00a2-b78a-44b0-8914-b6eaef0976aa\n"
     ]
    },
    {
     "data": {
      "text/html": [
       "Tracking run with wandb version 0.19.8"
      ],
      "text/plain": [
       "<IPython.core.display.HTML object>"
      ]
     },
     "metadata": {},
     "output_type": "display_data"
    },
    {
     "data": {
      "text/html": [
       "Run data is saved locally in <code>/extra_disk_1/alinashutova/last_hse/wandb/run-20250325_233523-g70qkw6p</code>"
      ],
      "text/plain": [
       "<IPython.core.display.HTML object>"
      ]
     },
     "metadata": {},
     "output_type": "display_data"
    },
    {
     "data": {
      "text/html": [
       "Syncing run <strong><a href='https://wandb.ai/goodevening13/ml_sys_design/runs/g70qkw6p' target=\"_blank\">CNN</a></strong> to <a href='https://wandb.ai/goodevening13/ml_sys_design' target=\"_blank\">Weights & Biases</a> (<a href='https://wandb.me/developer-guide' target=\"_blank\">docs</a>)<br>"
      ],
      "text/plain": [
       "<IPython.core.display.HTML object>"
      ]
     },
     "metadata": {},
     "output_type": "display_data"
    },
    {
     "data": {
      "text/html": [
       " View project at <a href='https://wandb.ai/goodevening13/ml_sys_design' target=\"_blank\">https://wandb.ai/goodevening13/ml_sys_design</a>"
      ],
      "text/plain": [
       "<IPython.core.display.HTML object>"
      ]
     },
     "metadata": {},
     "output_type": "display_data"
    },
    {
     "data": {
      "text/html": [
       " View run at <a href='https://wandb.ai/goodevening13/ml_sys_design/runs/g70qkw6p' target=\"_blank\">https://wandb.ai/goodevening13/ml_sys_design/runs/g70qkw6p</a>"
      ],
      "text/plain": [
       "<IPython.core.display.HTML object>"
      ]
     },
     "metadata": {},
     "output_type": "display_data"
    },
    {
     "name": "stderr",
     "output_type": "stream",
     "text": [
      "100%|██████████| 20/20 [04:36<00:00, 13.83s/it]\n"
     ]
    },
    {
     "data": {
      "text/html": [],
      "text/plain": [
       "<IPython.core.display.HTML object>"
      ]
     },
     "metadata": {},
     "output_type": "display_data"
    },
    {
     "data": {
      "text/html": [
       "<br>    <style><br>        .wandb-row {<br>            display: flex;<br>            flex-direction: row;<br>            flex-wrap: wrap;<br>            justify-content: flex-start;<br>            width: 100%;<br>        }<br>        .wandb-col {<br>            display: flex;<br>            flex-direction: column;<br>            flex-basis: 100%;<br>            flex: 1;<br>            padding: 10px;<br>        }<br>    </style><br><div class=\"wandb-row\"><div class=\"wandb-col\"><h3>Run history:</h3><br/><table class=\"wandb\"><tr><td>epoch</td><td>▁▁▂▂▂▃▃▄▄▄▅▅▅▆▆▇▇▇██</td></tr><tr><td>test_f1</td><td>▂▁▅▅▆▅▇▇▇█▇██▇▇▇▄█▇▇</td></tr><tr><td>test_recall_n</td><td>▇▅▆█▆▇▆▅▆▆▆▆▆▅▅▆▁▆▄▅</td></tr><tr><td>train_f1</td><td>▁▁▂▂▃▃▄▄▅▆▆▆▆▆▇▇▇███</td></tr><tr><td>train_loss</td><td>█▇▆▅▅▅▄▄▄▄▃▃▃▂▂▂▂▁▁▁</td></tr><tr><td>train_recall_n</td><td>█▆▇█▇▇▅▆▆▅▆▆▇▇▆▇▁▇▆▆</td></tr></table><br/></div><div class=\"wandb-col\"><h3>Run summary:</h3><br/><table class=\"wandb\"><tr><td>epoch</td><td>19</td></tr><tr><td>test_f1</td><td>0.74704</td></tr><tr><td>test_recall_n</td><td>0.87135</td></tr><tr><td>train_f1</td><td>0.89788</td></tr><tr><td>train_loss</td><td>0.34612</td></tr><tr><td>train_recall_n</td><td>0.9647</td></tr></table><br/></div></div>"
      ],
      "text/plain": [
       "<IPython.core.display.HTML object>"
      ]
     },
     "metadata": {},
     "output_type": "display_data"
    },
    {
     "data": {
      "text/html": [
       " View run <strong style=\"color:#cdcd00\">CNN</strong> at: <a href='https://wandb.ai/goodevening13/ml_sys_design/runs/g70qkw6p' target=\"_blank\">https://wandb.ai/goodevening13/ml_sys_design/runs/g70qkw6p</a><br> View project at: <a href='https://wandb.ai/goodevening13/ml_sys_design' target=\"_blank\">https://wandb.ai/goodevening13/ml_sys_design</a><br>Synced 5 W&B file(s), 0 media file(s), 0 artifact file(s) and 0 other file(s)"
      ],
      "text/plain": [
       "<IPython.core.display.HTML object>"
      ]
     },
     "metadata": {},
     "output_type": "display_data"
    },
    {
     "data": {
      "text/html": [
       "Find logs at: <code>./wandb/run-20250325_233523-g70qkw6p/logs</code>"
      ],
      "text/plain": [
       "<IPython.core.display.HTML object>"
      ]
     },
     "metadata": {},
     "output_type": "display_data"
    },
    {
     "name": "stderr",
     "output_type": "stream",
     "text": [
      "[I 2025-03-25 23:40:02,650] Trial 0 finished with value: 0.7470376491546631 and parameters: {'embed_dim': 32, 'num_convs': 3, 'dropout': 0.15071331742827523}. Best is trial 0 with value: 0.7470376491546631.\n"
     ]
    },
    {
     "data": {
      "text/html": [
       "Tracking run with wandb version 0.19.8"
      ],
      "text/plain": [
       "<IPython.core.display.HTML object>"
      ]
     },
     "metadata": {},
     "output_type": "display_data"
    },
    {
     "data": {
      "text/html": [
       "Run data is saved locally in <code>/extra_disk_1/alinashutova/last_hse/wandb/run-20250325_234002-empsqh1v</code>"
      ],
      "text/plain": [
       "<IPython.core.display.HTML object>"
      ]
     },
     "metadata": {},
     "output_type": "display_data"
    },
    {
     "data": {
      "text/html": [
       "Syncing run <strong><a href='https://wandb.ai/goodevening13/ml_sys_design/runs/empsqh1v' target=\"_blank\">CNN</a></strong> to <a href='https://wandb.ai/goodevening13/ml_sys_design' target=\"_blank\">Weights & Biases</a> (<a href='https://wandb.me/developer-guide' target=\"_blank\">docs</a>)<br>"
      ],
      "text/plain": [
       "<IPython.core.display.HTML object>"
      ]
     },
     "metadata": {},
     "output_type": "display_data"
    },
    {
     "data": {
      "text/html": [
       " View project at <a href='https://wandb.ai/goodevening13/ml_sys_design' target=\"_blank\">https://wandb.ai/goodevening13/ml_sys_design</a>"
      ],
      "text/plain": [
       "<IPython.core.display.HTML object>"
      ]
     },
     "metadata": {},
     "output_type": "display_data"
    },
    {
     "data": {
      "text/html": [
       " View run at <a href='https://wandb.ai/goodevening13/ml_sys_design/runs/empsqh1v' target=\"_blank\">https://wandb.ai/goodevening13/ml_sys_design/runs/empsqh1v</a>"
      ],
      "text/plain": [
       "<IPython.core.display.HTML object>"
      ]
     },
     "metadata": {},
     "output_type": "display_data"
    },
    {
     "name": "stderr",
     "output_type": "stream",
     "text": [
      "100%|██████████| 20/20 [04:28<00:00, 13.42s/it]\n"
     ]
    },
    {
     "data": {
      "text/html": [],
      "text/plain": [
       "<IPython.core.display.HTML object>"
      ]
     },
     "metadata": {},
     "output_type": "display_data"
    },
    {
     "data": {
      "text/html": [
       "<br>    <style><br>        .wandb-row {<br>            display: flex;<br>            flex-direction: row;<br>            flex-wrap: wrap;<br>            justify-content: flex-start;<br>            width: 100%;<br>        }<br>        .wandb-col {<br>            display: flex;<br>            flex-direction: column;<br>            flex-basis: 100%;<br>            flex: 1;<br>            padding: 10px;<br>        }<br>    </style><br><div class=\"wandb-row\"><div class=\"wandb-col\"><h3>Run history:</h3><br/><table class=\"wandb\"><tr><td>epoch</td><td>▁▁▂▂▂▃▃▄▄▄▅▅▅▆▆▇▇▇██</td></tr><tr><td>test_f1</td><td>▁▂▅▇▇▂▇█▇█▆▆▆▇█▆▆▆▆▆</td></tr><tr><td>test_recall_n</td><td>▇▃▆█▆▇▅▇▅▅▄▆▁▅▅▃▃▂▁▁</td></tr><tr><td>train_f1</td><td>▁▁▂▂▃▂▄▄▅▅▅▅▆▇▇▇████</td></tr><tr><td>train_loss</td><td>█▇▆▆▅▅▅▄▄▄▃▃▃▃▂▂▂▁▁▁</td></tr><tr><td>train_recall_n</td><td>▇▅▆█▇▇▁▆▄▅▆█▁▇▇▅▅▅▆▅</td></tr></table><br/></div><div class=\"wandb-col\"><h3>Run summary:</h3><br/><table class=\"wandb\"><tr><td>epoch</td><td>19</td></tr><tr><td>test_f1</td><td>0.73967</td></tr><tr><td>test_recall_n</td><td>0.82359</td></tr><tr><td>train_f1</td><td>0.92219</td></tr><tr><td>train_loss</td><td>0.28821</td></tr><tr><td>train_recall_n</td><td>0.96285</td></tr></table><br/></div></div>"
      ],
      "text/plain": [
       "<IPython.core.display.HTML object>"
      ]
     },
     "metadata": {},
     "output_type": "display_data"
    },
    {
     "data": {
      "text/html": [
       " View run <strong style=\"color:#cdcd00\">CNN</strong> at: <a href='https://wandb.ai/goodevening13/ml_sys_design/runs/empsqh1v' target=\"_blank\">https://wandb.ai/goodevening13/ml_sys_design/runs/empsqh1v</a><br> View project at: <a href='https://wandb.ai/goodevening13/ml_sys_design' target=\"_blank\">https://wandb.ai/goodevening13/ml_sys_design</a><br>Synced 5 W&B file(s), 0 media file(s), 0 artifact file(s) and 0 other file(s)"
      ],
      "text/plain": [
       "<IPython.core.display.HTML object>"
      ]
     },
     "metadata": {},
     "output_type": "display_data"
    },
    {
     "data": {
      "text/html": [
       "Find logs at: <code>./wandb/run-20250325_234002-empsqh1v/logs</code>"
      ],
      "text/plain": [
       "<IPython.core.display.HTML object>"
      ]
     },
     "metadata": {},
     "output_type": "display_data"
    },
    {
     "name": "stderr",
     "output_type": "stream",
     "text": [
      "[I 2025-03-25 23:44:32,906] Trial 1 finished with value: 0.7396743297576904 and parameters: {'embed_dim': 64, 'num_convs': 2, 'dropout': 0.39229083512627383}. Best is trial 0 with value: 0.7470376491546631.\n"
     ]
    },
    {
     "data": {
      "text/html": [
       "Tracking run with wandb version 0.19.8"
      ],
      "text/plain": [
       "<IPython.core.display.HTML object>"
      ]
     },
     "metadata": {},
     "output_type": "display_data"
    },
    {
     "data": {
      "text/html": [
       "Run data is saved locally in <code>/extra_disk_1/alinashutova/last_hse/wandb/run-20250325_234432-bdii47z4</code>"
      ],
      "text/plain": [
       "<IPython.core.display.HTML object>"
      ]
     },
     "metadata": {},
     "output_type": "display_data"
    },
    {
     "data": {
      "text/html": [
       "Syncing run <strong><a href='https://wandb.ai/goodevening13/ml_sys_design/runs/bdii47z4' target=\"_blank\">CNN</a></strong> to <a href='https://wandb.ai/goodevening13/ml_sys_design' target=\"_blank\">Weights & Biases</a> (<a href='https://wandb.me/developer-guide' target=\"_blank\">docs</a>)<br>"
      ],
      "text/plain": [
       "<IPython.core.display.HTML object>"
      ]
     },
     "metadata": {},
     "output_type": "display_data"
    },
    {
     "data": {
      "text/html": [
       " View project at <a href='https://wandb.ai/goodevening13/ml_sys_design' target=\"_blank\">https://wandb.ai/goodevening13/ml_sys_design</a>"
      ],
      "text/plain": [
       "<IPython.core.display.HTML object>"
      ]
     },
     "metadata": {},
     "output_type": "display_data"
    },
    {
     "data": {
      "text/html": [
       " View run at <a href='https://wandb.ai/goodevening13/ml_sys_design/runs/bdii47z4' target=\"_blank\">https://wandb.ai/goodevening13/ml_sys_design/runs/bdii47z4</a>"
      ],
      "text/plain": [
       "<IPython.core.display.HTML object>"
      ]
     },
     "metadata": {},
     "output_type": "display_data"
    },
    {
     "name": "stderr",
     "output_type": "stream",
     "text": [
      "100%|██████████| 20/20 [04:49<00:00, 14.47s/it]\n"
     ]
    },
    {
     "data": {
      "text/html": [],
      "text/plain": [
       "<IPython.core.display.HTML object>"
      ]
     },
     "metadata": {},
     "output_type": "display_data"
    },
    {
     "data": {
      "text/html": [
       "<br>    <style><br>        .wandb-row {<br>            display: flex;<br>            flex-direction: row;<br>            flex-wrap: wrap;<br>            justify-content: flex-start;<br>            width: 100%;<br>        }<br>        .wandb-col {<br>            display: flex;<br>            flex-direction: column;<br>            flex-basis: 100%;<br>            flex: 1;<br>            padding: 10px;<br>        }<br>    </style><br><div class=\"wandb-row\"><div class=\"wandb-col\"><h3>Run history:</h3><br/><table class=\"wandb\"><tr><td>epoch</td><td>▁▁▂▂▂▃▃▄▄▄▅▅▅▆▆▇▇▇██</td></tr><tr><td>test_f1</td><td>▃▅▄▆▁▅▄▇█▇▇▇▇▇█▆▅▇▇▇</td></tr><tr><td>test_recall_n</td><td>▆█▁▅▃▇▇▆▄▇▆▅▅▆▆▇▂▃▁▄</td></tr><tr><td>train_f1</td><td>▁▂▂▃▃▃▃▅▅▅▅▆▆▆▇▆▇███</td></tr><tr><td>train_loss</td><td>█▇▆▆▅▅▅▄▄▄▃▃▃▃▂▂▂▂▁▁</td></tr><tr><td>train_recall_n</td><td>▇█▁▇▅▇█▇▆▇▇▇▇▇▇█▇▇▆█</td></tr></table><br/></div><div class=\"wandb-col\"><h3>Run summary:</h3><br/><table class=\"wandb\"><tr><td>epoch</td><td>19</td></tr><tr><td>test_f1</td><td>0.75031</td></tr><tr><td>test_recall_n</td><td>0.87817</td></tr><tr><td>train_f1</td><td>0.91061</td></tr><tr><td>train_loss</td><td>0.30432</td></tr><tr><td>train_recall_n</td><td>0.98762</td></tr></table><br/></div></div>"
      ],
      "text/plain": [
       "<IPython.core.display.HTML object>"
      ]
     },
     "metadata": {},
     "output_type": "display_data"
    },
    {
     "data": {
      "text/html": [
       " View run <strong style=\"color:#cdcd00\">CNN</strong> at: <a href='https://wandb.ai/goodevening13/ml_sys_design/runs/bdii47z4' target=\"_blank\">https://wandb.ai/goodevening13/ml_sys_design/runs/bdii47z4</a><br> View project at: <a href='https://wandb.ai/goodevening13/ml_sys_design' target=\"_blank\">https://wandb.ai/goodevening13/ml_sys_design</a><br>Synced 5 W&B file(s), 0 media file(s), 0 artifact file(s) and 0 other file(s)"
      ],
      "text/plain": [
       "<IPython.core.display.HTML object>"
      ]
     },
     "metadata": {},
     "output_type": "display_data"
    },
    {
     "data": {
      "text/html": [
       "Find logs at: <code>./wandb/run-20250325_234432-bdii47z4/logs</code>"
      ],
      "text/plain": [
       "<IPython.core.display.HTML object>"
      ]
     },
     "metadata": {},
     "output_type": "display_data"
    },
    {
     "name": "stderr",
     "output_type": "stream",
     "text": [
      "[I 2025-03-25 23:49:24,868] Trial 2 finished with value: 0.7503054738044739 and parameters: {'embed_dim': 32, 'num_convs': 5, 'dropout': 0.10028882933049982}. Best is trial 2 with value: 0.7503054738044739.\n"
     ]
    },
    {
     "data": {
      "text/html": [
       "Tracking run with wandb version 0.19.8"
      ],
      "text/plain": [
       "<IPython.core.display.HTML object>"
      ]
     },
     "metadata": {},
     "output_type": "display_data"
    },
    {
     "data": {
      "text/html": [
       "Run data is saved locally in <code>/extra_disk_1/alinashutova/last_hse/wandb/run-20250325_234925-tnyrnwqc</code>"
      ],
      "text/plain": [
       "<IPython.core.display.HTML object>"
      ]
     },
     "metadata": {},
     "output_type": "display_data"
    },
    {
     "data": {
      "text/html": [
       "Syncing run <strong><a href='https://wandb.ai/goodevening13/ml_sys_design/runs/tnyrnwqc' target=\"_blank\">CNN</a></strong> to <a href='https://wandb.ai/goodevening13/ml_sys_design' target=\"_blank\">Weights & Biases</a> (<a href='https://wandb.me/developer-guide' target=\"_blank\">docs</a>)<br>"
      ],
      "text/plain": [
       "<IPython.core.display.HTML object>"
      ]
     },
     "metadata": {},
     "output_type": "display_data"
    },
    {
     "data": {
      "text/html": [
       " View project at <a href='https://wandb.ai/goodevening13/ml_sys_design' target=\"_blank\">https://wandb.ai/goodevening13/ml_sys_design</a>"
      ],
      "text/plain": [
       "<IPython.core.display.HTML object>"
      ]
     },
     "metadata": {},
     "output_type": "display_data"
    },
    {
     "data": {
      "text/html": [
       " View run at <a href='https://wandb.ai/goodevening13/ml_sys_design/runs/tnyrnwqc' target=\"_blank\">https://wandb.ai/goodevening13/ml_sys_design/runs/tnyrnwqc</a>"
      ],
      "text/plain": [
       "<IPython.core.display.HTML object>"
      ]
     },
     "metadata": {},
     "output_type": "display_data"
    },
    {
     "name": "stderr",
     "output_type": "stream",
     "text": [
      "100%|██████████| 20/20 [04:38<00:00, 13.93s/it]\n"
     ]
    },
    {
     "data": {
      "text/html": [],
      "text/plain": [
       "<IPython.core.display.HTML object>"
      ]
     },
     "metadata": {},
     "output_type": "display_data"
    },
    {
     "data": {
      "text/html": [
       "<br>    <style><br>        .wandb-row {<br>            display: flex;<br>            flex-direction: row;<br>            flex-wrap: wrap;<br>            justify-content: flex-start;<br>            width: 100%;<br>        }<br>        .wandb-col {<br>            display: flex;<br>            flex-direction: column;<br>            flex-basis: 100%;<br>            flex: 1;<br>            padding: 10px;<br>        }<br>    </style><br><div class=\"wandb-row\"><div class=\"wandb-col\"><h3>Run history:</h3><br/><table class=\"wandb\"><tr><td>epoch</td><td>▁▁▂▂▂▃▃▄▄▄▅▅▅▆▆▇▇▇██</td></tr><tr><td>test_f1</td><td>▁▃█▆▇▇▅▇▅▅▃▆▇▇▇▆▇▄▇▆</td></tr><tr><td>test_recall_n</td><td>██▇▅▅▆▅▃▆▅▁▂▂▄▃▁▄▃▂▁</td></tr><tr><td>train_f1</td><td>▁▂▃▄▄▅▅▆▅▆▆▇▇▇██████</td></tr><tr><td>train_loss</td><td>█▇▆▆▅▅▄▄▃▃▃▃▂▂▂▂▁▁▁▁</td></tr><tr><td>train_recall_n</td><td>█▇▇▁▃▆▃▃▇▇▂▂▄▆▅▅█▇▆▆</td></tr></table><br/></div><div class=\"wandb-col\"><h3>Run summary:</h3><br/><table class=\"wandb\"><tr><td>epoch</td><td>19</td></tr><tr><td>test_f1</td><td>0.74914</td></tr><tr><td>test_recall_n</td><td>0.83821</td></tr><tr><td>train_f1</td><td>0.96251</td></tr><tr><td>train_loss</td><td>0.17022</td></tr><tr><td>train_recall_n</td><td>0.97952</td></tr></table><br/></div></div>"
      ],
      "text/plain": [
       "<IPython.core.display.HTML object>"
      ]
     },
     "metadata": {},
     "output_type": "display_data"
    },
    {
     "data": {
      "text/html": [
       " View run <strong style=\"color:#cdcd00\">CNN</strong> at: <a href='https://wandb.ai/goodevening13/ml_sys_design/runs/tnyrnwqc' target=\"_blank\">https://wandb.ai/goodevening13/ml_sys_design/runs/tnyrnwqc</a><br> View project at: <a href='https://wandb.ai/goodevening13/ml_sys_design' target=\"_blank\">https://wandb.ai/goodevening13/ml_sys_design</a><br>Synced 5 W&B file(s), 0 media file(s), 0 artifact file(s) and 0 other file(s)"
      ],
      "text/plain": [
       "<IPython.core.display.HTML object>"
      ]
     },
     "metadata": {},
     "output_type": "display_data"
    },
    {
     "data": {
      "text/html": [
       "Find logs at: <code>./wandb/run-20250325_234925-tnyrnwqc/logs</code>"
      ],
      "text/plain": [
       "<IPython.core.display.HTML object>"
      ]
     },
     "metadata": {},
     "output_type": "display_data"
    },
    {
     "name": "stderr",
     "output_type": "stream",
     "text": [
      "[I 2025-03-25 23:54:05,977] Trial 3 finished with value: 0.749137818813324 and parameters: {'embed_dim': 128, 'num_convs': 3, 'dropout': 0.2009823567262941}. Best is trial 2 with value: 0.7503054738044739.\n"
     ]
    },
    {
     "data": {
      "text/html": [
       "Tracking run with wandb version 0.19.8"
      ],
      "text/plain": [
       "<IPython.core.display.HTML object>"
      ]
     },
     "metadata": {},
     "output_type": "display_data"
    },
    {
     "data": {
      "text/html": [
       "Run data is saved locally in <code>/extra_disk_1/alinashutova/last_hse/wandb/run-20250325_235406-sa7b42vi</code>"
      ],
      "text/plain": [
       "<IPython.core.display.HTML object>"
      ]
     },
     "metadata": {},
     "output_type": "display_data"
    },
    {
     "data": {
      "text/html": [
       "Syncing run <strong><a href='https://wandb.ai/goodevening13/ml_sys_design/runs/sa7b42vi' target=\"_blank\">CNN</a></strong> to <a href='https://wandb.ai/goodevening13/ml_sys_design' target=\"_blank\">Weights & Biases</a> (<a href='https://wandb.me/developer-guide' target=\"_blank\">docs</a>)<br>"
      ],
      "text/plain": [
       "<IPython.core.display.HTML object>"
      ]
     },
     "metadata": {},
     "output_type": "display_data"
    },
    {
     "data": {
      "text/html": [
       " View project at <a href='https://wandb.ai/goodevening13/ml_sys_design' target=\"_blank\">https://wandb.ai/goodevening13/ml_sys_design</a>"
      ],
      "text/plain": [
       "<IPython.core.display.HTML object>"
      ]
     },
     "metadata": {},
     "output_type": "display_data"
    },
    {
     "data": {
      "text/html": [
       " View run at <a href='https://wandb.ai/goodevening13/ml_sys_design/runs/sa7b42vi' target=\"_blank\">https://wandb.ai/goodevening13/ml_sys_design/runs/sa7b42vi</a>"
      ],
      "text/plain": [
       "<IPython.core.display.HTML object>"
      ]
     },
     "metadata": {},
     "output_type": "display_data"
    },
    {
     "name": "stderr",
     "output_type": "stream",
     "text": [
      "100%|██████████| 20/20 [04:44<00:00, 14.24s/it]\n"
     ]
    },
    {
     "data": {
      "text/html": [],
      "text/plain": [
       "<IPython.core.display.HTML object>"
      ]
     },
     "metadata": {},
     "output_type": "display_data"
    },
    {
     "data": {
      "text/html": [
       "<br>    <style><br>        .wandb-row {<br>            display: flex;<br>            flex-direction: row;<br>            flex-wrap: wrap;<br>            justify-content: flex-start;<br>            width: 100%;<br>        }<br>        .wandb-col {<br>            display: flex;<br>            flex-direction: column;<br>            flex-basis: 100%;<br>            flex: 1;<br>            padding: 10px;<br>        }<br>    </style><br><div class=\"wandb-row\"><div class=\"wandb-col\"><h3>Run history:</h3><br/><table class=\"wandb\"><tr><td>epoch</td><td>▁▁▂▂▂▃▃▄▄▄▅▅▅▆▆▇▇▇██</td></tr><tr><td>test_f1</td><td>▄▁▅▆▇▇▆▂▇▇▄▅▆▇█▆████</td></tr><tr><td>test_recall_n</td><td>▆▆▇▇██▅█▅▅▅▇▇▆▅▁▅▄▅▅</td></tr><tr><td>train_f1</td><td>▁▁▂▂▃▃▃▃▅▅▄▄▅▆▇▆▇▇██</td></tr><tr><td>train_loss</td><td>█▇▆▆▅▅▅▄▄▄▃▃▃▃▂▂▂▂▁▁</td></tr><tr><td>train_recall_n</td><td>▇▇▇███▇█▅▆▇██▇▇▁▇▆█▇</td></tr></table><br/></div><div class=\"wandb-col\"><h3>Run summary:</h3><br/><table class=\"wandb\"><tr><td>epoch</td><td>19</td></tr><tr><td>test_f1</td><td>0.75318</td></tr><tr><td>test_recall_n</td><td>0.86647</td></tr><tr><td>train_f1</td><td>0.89725</td></tr><tr><td>train_loss</td><td>0.37167</td></tr><tr><td>train_recall_n</td><td>0.95528</td></tr></table><br/></div></div>"
      ],
      "text/plain": [
       "<IPython.core.display.HTML object>"
      ]
     },
     "metadata": {},
     "output_type": "display_data"
    },
    {
     "data": {
      "text/html": [
       " View run <strong style=\"color:#cdcd00\">CNN</strong> at: <a href='https://wandb.ai/goodevening13/ml_sys_design/runs/sa7b42vi' target=\"_blank\">https://wandb.ai/goodevening13/ml_sys_design/runs/sa7b42vi</a><br> View project at: <a href='https://wandb.ai/goodevening13/ml_sys_design' target=\"_blank\">https://wandb.ai/goodevening13/ml_sys_design</a><br>Synced 5 W&B file(s), 0 media file(s), 0 artifact file(s) and 0 other file(s)"
      ],
      "text/plain": [
       "<IPython.core.display.HTML object>"
      ]
     },
     "metadata": {},
     "output_type": "display_data"
    },
    {
     "data": {
      "text/html": [
       "Find logs at: <code>./wandb/run-20250325_235406-sa7b42vi/logs</code>"
      ],
      "text/plain": [
       "<IPython.core.display.HTML object>"
      ]
     },
     "metadata": {},
     "output_type": "display_data"
    },
    {
     "name": "stderr",
     "output_type": "stream",
     "text": [
      "[I 2025-03-25 23:58:53,050] Trial 4 finished with value: 0.7531791925430298 and parameters: {'embed_dim': 32, 'num_convs': 5, 'dropout': 0.35235017826646153}. Best is trial 4 with value: 0.7531791925430298.\n"
     ]
    },
    {
     "data": {
      "text/html": [
       "Tracking run with wandb version 0.19.8"
      ],
      "text/plain": [
       "<IPython.core.display.HTML object>"
      ]
     },
     "metadata": {},
     "output_type": "display_data"
    },
    {
     "data": {
      "text/html": [
       "Run data is saved locally in <code>/extra_disk_1/alinashutova/last_hse/wandb/run-20250325_235853-bylr7wmv</code>"
      ],
      "text/plain": [
       "<IPython.core.display.HTML object>"
      ]
     },
     "metadata": {},
     "output_type": "display_data"
    },
    {
     "data": {
      "text/html": [
       "Syncing run <strong><a href='https://wandb.ai/goodevening13/ml_sys_design/runs/bylr7wmv' target=\"_blank\">CNN</a></strong> to <a href='https://wandb.ai/goodevening13/ml_sys_design' target=\"_blank\">Weights & Biases</a> (<a href='https://wandb.me/developer-guide' target=\"_blank\">docs</a>)<br>"
      ],
      "text/plain": [
       "<IPython.core.display.HTML object>"
      ]
     },
     "metadata": {},
     "output_type": "display_data"
    },
    {
     "data": {
      "text/html": [
       " View project at <a href='https://wandb.ai/goodevening13/ml_sys_design' target=\"_blank\">https://wandb.ai/goodevening13/ml_sys_design</a>"
      ],
      "text/plain": [
       "<IPython.core.display.HTML object>"
      ]
     },
     "metadata": {},
     "output_type": "display_data"
    },
    {
     "data": {
      "text/html": [
       " View run at <a href='https://wandb.ai/goodevening13/ml_sys_design/runs/bylr7wmv' target=\"_blank\">https://wandb.ai/goodevening13/ml_sys_design/runs/bylr7wmv</a>"
      ],
      "text/plain": [
       "<IPython.core.display.HTML object>"
      ]
     },
     "metadata": {},
     "output_type": "display_data"
    },
    {
     "name": "stderr",
     "output_type": "stream",
     "text": [
      "100%|██████████| 20/20 [04:40<00:00, 14.04s/it]\n"
     ]
    },
    {
     "data": {
      "text/html": [],
      "text/plain": [
       "<IPython.core.display.HTML object>"
      ]
     },
     "metadata": {},
     "output_type": "display_data"
    },
    {
     "data": {
      "text/html": [
       "<br>    <style><br>        .wandb-row {<br>            display: flex;<br>            flex-direction: row;<br>            flex-wrap: wrap;<br>            justify-content: flex-start;<br>            width: 100%;<br>        }<br>        .wandb-col {<br>            display: flex;<br>            flex-direction: column;<br>            flex-basis: 100%;<br>            flex: 1;<br>            padding: 10px;<br>        }<br>    </style><br><div class=\"wandb-row\"><div class=\"wandb-col\"><h3>Run history:</h3><br/><table class=\"wandb\"><tr><td>epoch</td><td>▁▁▂▂▂▃▃▄▄▄▅▅▅▆▆▇▇▇██</td></tr><tr><td>test_f1</td><td>▁▆▆▄▆▇▅▇█▆█▇█▇▇▇▇▇▇▇</td></tr><tr><td>test_recall_n</td><td>▇▆▃▅▂▄▅▂▅▃█▃▇▅▄▁▁▂▁▂</td></tr><tr><td>train_f1</td><td>▁▂▃▂▄▄▄▅▅▅▆▆▆▇▇▇▇███</td></tr><tr><td>train_loss</td><td>█▇▆▆▆▅▅▄▄▄▃▃▃▃▂▂▂▂▁▁</td></tr><tr><td>train_recall_n</td><td>▇▇▅▇▁▆▅▄▆▅█▅█▇▆▆▆▇▇▇</td></tr></table><br/></div><div class=\"wandb-col\"><h3>Run summary:</h3><br/><table class=\"wandb\"><tr><td>epoch</td><td>19</td></tr><tr><td>test_f1</td><td>0.7388</td></tr><tr><td>test_recall_n</td><td>0.82359</td></tr><tr><td>train_f1</td><td>0.93257</td></tr><tr><td>train_loss</td><td>0.25429</td></tr><tr><td>train_recall_n</td><td>0.96252</td></tr></table><br/></div></div>"
      ],
      "text/plain": [
       "<IPython.core.display.HTML object>"
      ]
     },
     "metadata": {},
     "output_type": "display_data"
    },
    {
     "data": {
      "text/html": [
       " View run <strong style=\"color:#cdcd00\">CNN</strong> at: <a href='https://wandb.ai/goodevening13/ml_sys_design/runs/bylr7wmv' target=\"_blank\">https://wandb.ai/goodevening13/ml_sys_design/runs/bylr7wmv</a><br> View project at: <a href='https://wandb.ai/goodevening13/ml_sys_design' target=\"_blank\">https://wandb.ai/goodevening13/ml_sys_design</a><br>Synced 5 W&B file(s), 0 media file(s), 0 artifact file(s) and 0 other file(s)"
      ],
      "text/plain": [
       "<IPython.core.display.HTML object>"
      ]
     },
     "metadata": {},
     "output_type": "display_data"
    },
    {
     "data": {
      "text/html": [
       "Find logs at: <code>./wandb/run-20250325_235853-bylr7wmv/logs</code>"
      ],
      "text/plain": [
       "<IPython.core.display.HTML object>"
      ]
     },
     "metadata": {},
     "output_type": "display_data"
    },
    {
     "name": "stderr",
     "output_type": "stream",
     "text": [
      "[I 2025-03-26 00:03:36,461] Trial 5 finished with value: 0.7387993931770325 and parameters: {'embed_dim': 64, 'num_convs': 3, 'dropout': 0.3569675213020953}. Best is trial 4 with value: 0.7531791925430298.\n"
     ]
    }
   ],
   "source": [
    "def objective_optuna(trial):\n",
    "    params = {\n",
    "        \"embed_dim\": trial.suggest_categorical(\"embed_dim\", [32, 64, 128]),\n",
    "        \"num_convs\": trial.suggest_int(\"num_convs\", 2, 5),\n",
    "        \"dropout\": trial.suggest_float(\"dropout\", 0.1, 0.5)\n",
    "    }\n",
    "    \n",
    "    model = TextCNN(embed_dim=params['embed_dim'], output_size=7, num_convs=params['num_convs'], dropout=params['dropout']).to(device)\n",
    "    \n",
    "    val_f1 = training_loop(model, 'CNN', device, train_loader, val_loader, params=params)\n",
    "    return val_f1\n",
    "\n",
    "study = optuna.create_study(direction=\"maximize\")\n",
    "study.optimize(objective_optuna, n_trials=6)"
   ]
  },
  {
   "cell_type": "code",
   "execution_count": 18,
   "metadata": {},
   "outputs": [
    {
     "data": {
      "text/html": [
       "Tracking run with wandb version 0.19.8"
      ],
      "text/plain": [
       "<IPython.core.display.HTML object>"
      ]
     },
     "metadata": {},
     "output_type": "display_data"
    },
    {
     "data": {
      "text/html": [
       "Run data is saved locally in <code>/extra_disk_1/alinashutova/last_hse/wandb/run-20250326_001409-dy4mf7sk</code>"
      ],
      "text/plain": [
       "<IPython.core.display.HTML object>"
      ]
     },
     "metadata": {},
     "output_type": "display_data"
    },
    {
     "data": {
      "text/html": [
       "Syncing run <strong><a href='https://wandb.ai/goodevening13/ml_sys_design/runs/dy4mf7sk' target=\"_blank\">CNN</a></strong> to <a href='https://wandb.ai/goodevening13/ml_sys_design' target=\"_blank\">Weights & Biases</a> (<a href='https://wandb.me/developer-guide' target=\"_blank\">docs</a>)<br>"
      ],
      "text/plain": [
       "<IPython.core.display.HTML object>"
      ]
     },
     "metadata": {},
     "output_type": "display_data"
    },
    {
     "data": {
      "text/html": [
       " View project at <a href='https://wandb.ai/goodevening13/ml_sys_design' target=\"_blank\">https://wandb.ai/goodevening13/ml_sys_design</a>"
      ],
      "text/plain": [
       "<IPython.core.display.HTML object>"
      ]
     },
     "metadata": {},
     "output_type": "display_data"
    },
    {
     "data": {
      "text/html": [
       " View run at <a href='https://wandb.ai/goodevening13/ml_sys_design/runs/dy4mf7sk' target=\"_blank\">https://wandb.ai/goodevening13/ml_sys_design/runs/dy4mf7sk</a>"
      ],
      "text/plain": [
       "<IPython.core.display.HTML object>"
      ]
     },
     "metadata": {},
     "output_type": "display_data"
    },
    {
     "name": "stderr",
     "output_type": "stream",
     "text": [
      "100%|██████████| 20/20 [06:51<00:00, 20.56s/it]\n"
     ]
    },
    {
     "data": {
      "text/html": [],
      "text/plain": [
       "<IPython.core.display.HTML object>"
      ]
     },
     "metadata": {},
     "output_type": "display_data"
    },
    {
     "data": {
      "text/html": [
       "<br>    <style><br>        .wandb-row {<br>            display: flex;<br>            flex-direction: row;<br>            flex-wrap: wrap;<br>            justify-content: flex-start;<br>            width: 100%;<br>        }<br>        .wandb-col {<br>            display: flex;<br>            flex-direction: column;<br>            flex-basis: 100%;<br>            flex: 1;<br>            padding: 10px;<br>        }<br>    </style><br><div class=\"wandb-row\"><div class=\"wandb-col\"><h3>Run history:</h3><br/><table class=\"wandb\"><tr><td>epoch</td><td>▁▁▂▂▂▃▃▄▄▄▅▅▅▆▆▇▇▇██</td></tr><tr><td>test_f1</td><td>▁▄▂▇▇▅▆▆▆▅▇▆█▇██▇▇▇▇</td></tr><tr><td>test_recall_n</td><td>▃▃▁█▅▆▂▆▇▂▆▆▅▃▅▆▄▆▃▄</td></tr><tr><td>train_f1</td><td>▁▂▂▃▃▃▄▄▄▅▅▅▇▆▇▇█▇██</td></tr><tr><td>train_loss</td><td>█▇▆▆▅▅▅▄▄▄▃▃▃▃▂▂▂▁▁▁</td></tr><tr><td>train_recall_n</td><td>▅▆▄█▇▇▄▆▇▁█▇▆▆▇█▆█▆▇</td></tr></table><br/></div><div class=\"wandb-col\"><h3>Run summary:</h3><br/><table class=\"wandb\"><tr><td>epoch</td><td>19</td></tr><tr><td>test_f1</td><td>0.74395</td></tr><tr><td>test_recall_n</td><td>0.85283</td></tr><tr><td>train_f1</td><td>0.88489</td></tr><tr><td>train_loss</td><td>0.35594</td></tr><tr><td>train_recall_n</td><td>0.95765</td></tr></table><br/></div></div>"
      ],
      "text/plain": [
       "<IPython.core.display.HTML object>"
      ]
     },
     "metadata": {},
     "output_type": "display_data"
    },
    {
     "data": {
      "text/html": [
       " View run <strong style=\"color:#cdcd00\">CNN</strong> at: <a href='https://wandb.ai/goodevening13/ml_sys_design/runs/dy4mf7sk' target=\"_blank\">https://wandb.ai/goodevening13/ml_sys_design/runs/dy4mf7sk</a><br> View project at: <a href='https://wandb.ai/goodevening13/ml_sys_design' target=\"_blank\">https://wandb.ai/goodevening13/ml_sys_design</a><br>Synced 5 W&B file(s), 0 media file(s), 0 artifact file(s) and 0 other file(s)"
      ],
      "text/plain": [
       "<IPython.core.display.HTML object>"
      ]
     },
     "metadata": {},
     "output_type": "display_data"
    },
    {
     "data": {
      "text/html": [
       "Find logs at: <code>./wandb/run-20250326_001409-dy4mf7sk/logs</code>"
      ],
      "text/plain": [
       "<IPython.core.display.HTML object>"
      ]
     },
     "metadata": {},
     "output_type": "display_data"
    },
    {
     "data": {
      "text/html": [
       "Tracking run with wandb version 0.19.8"
      ],
      "text/plain": [
       "<IPython.core.display.HTML object>"
      ]
     },
     "metadata": {},
     "output_type": "display_data"
    },
    {
     "data": {
      "text/html": [
       "Run data is saved locally in <code>/extra_disk_1/alinashutova/last_hse/wandb/run-20250326_002103-a1fd8u6a</code>"
      ],
      "text/plain": [
       "<IPython.core.display.HTML object>"
      ]
     },
     "metadata": {},
     "output_type": "display_data"
    },
    {
     "data": {
      "text/html": [
       "Syncing run <strong><a href='https://wandb.ai/goodevening13/ml_sys_design/runs/a1fd8u6a' target=\"_blank\">CNN</a></strong> to <a href='https://wandb.ai/goodevening13/ml_sys_design' target=\"_blank\">Weights & Biases</a> (<a href='https://wandb.me/developer-guide' target=\"_blank\">docs</a>)<br>"
      ],
      "text/plain": [
       "<IPython.core.display.HTML object>"
      ]
     },
     "metadata": {},
     "output_type": "display_data"
    },
    {
     "data": {
      "text/html": [
       " View project at <a href='https://wandb.ai/goodevening13/ml_sys_design' target=\"_blank\">https://wandb.ai/goodevening13/ml_sys_design</a>"
      ],
      "text/plain": [
       "<IPython.core.display.HTML object>"
      ]
     },
     "metadata": {},
     "output_type": "display_data"
    },
    {
     "data": {
      "text/html": [
       " View run at <a href='https://wandb.ai/goodevening13/ml_sys_design/runs/a1fd8u6a' target=\"_blank\">https://wandb.ai/goodevening13/ml_sys_design/runs/a1fd8u6a</a>"
      ],
      "text/plain": [
       "<IPython.core.display.HTML object>"
      ]
     },
     "metadata": {},
     "output_type": "display_data"
    },
    {
     "name": "stderr",
     "output_type": "stream",
     "text": [
      "100%|██████████| 20/20 [04:59<00:00, 14.95s/it]\n"
     ]
    },
    {
     "data": {
      "text/html": [],
      "text/plain": [
       "<IPython.core.display.HTML object>"
      ]
     },
     "metadata": {},
     "output_type": "display_data"
    },
    {
     "data": {
      "text/html": [
       "<br>    <style><br>        .wandb-row {<br>            display: flex;<br>            flex-direction: row;<br>            flex-wrap: wrap;<br>            justify-content: flex-start;<br>            width: 100%;<br>        }<br>        .wandb-col {<br>            display: flex;<br>            flex-direction: column;<br>            flex-basis: 100%;<br>            flex: 1;<br>            padding: 10px;<br>        }<br>    </style><br><div class=\"wandb-row\"><div class=\"wandb-col\"><h3>Run history:</h3><br/><table class=\"wandb\"><tr><td>epoch</td><td>▁▁▂▂▂▃▃▄▄▄▅▅▅▆▆▇▇▇██</td></tr><tr><td>test_f1</td><td>▃▆▅▂▅▁██▇▂▅▆▆▇▄▅▆▅▅▇</td></tr><tr><td>test_recall_n</td><td>▅▇▇▂█▇▇▇▇▁▆▄▇▇▄▅▅▁▆▆</td></tr><tr><td>train_f1</td><td>▄▅▅▁▅▅▆▇▇▃▆▆▇█▆▇▇▃▇█</td></tr><tr><td>train_loss</td><td>█▆▅▅▄▄▄▄▃▃▃▃▂▂▂▂▂▁▁▁</td></tr><tr><td>train_recall_n</td><td>▇▆█▁█▇█▇█▂▇▅█▇▆▇▆▁▇▇</td></tr></table><br/></div><div class=\"wandb-col\"><h3>Run summary:</h3><br/><table class=\"wandb\"><tr><td>epoch</td><td>19</td></tr><tr><td>test_f1</td><td>0.71516</td></tr><tr><td>test_recall_n</td><td>0.82651</td></tr><tr><td>train_f1</td><td>0.8295</td></tr><tr><td>train_loss</td><td>0.47988</td></tr><tr><td>train_recall_n</td><td>0.93447</td></tr></table><br/></div></div>"
      ],
      "text/plain": [
       "<IPython.core.display.HTML object>"
      ]
     },
     "metadata": {},
     "output_type": "display_data"
    },
    {
     "data": {
      "text/html": [
       " View run <strong style=\"color:#cdcd00\">CNN</strong> at: <a href='https://wandb.ai/goodevening13/ml_sys_design/runs/a1fd8u6a' target=\"_blank\">https://wandb.ai/goodevening13/ml_sys_design/runs/a1fd8u6a</a><br> View project at: <a href='https://wandb.ai/goodevening13/ml_sys_design' target=\"_blank\">https://wandb.ai/goodevening13/ml_sys_design</a><br>Synced 5 W&B file(s), 0 media file(s), 0 artifact file(s) and 0 other file(s)"
      ],
      "text/plain": [
       "<IPython.core.display.HTML object>"
      ]
     },
     "metadata": {},
     "output_type": "display_data"
    },
    {
     "data": {
      "text/html": [
       "Find logs at: <code>./wandb/run-20250326_002103-a1fd8u6a/logs</code>"
      ],
      "text/plain": [
       "<IPython.core.display.HTML object>"
      ]
     },
     "metadata": {},
     "output_type": "display_data"
    },
    {
     "data": {
      "text/html": [
       "Tracking run with wandb version 0.19.8"
      ],
      "text/plain": [
       "<IPython.core.display.HTML object>"
      ]
     },
     "metadata": {},
     "output_type": "display_data"
    },
    {
     "data": {
      "text/html": [
       "Run data is saved locally in <code>/extra_disk_1/alinashutova/last_hse/wandb/run-20250326_002604-w9atq0a2</code>"
      ],
      "text/plain": [
       "<IPython.core.display.HTML object>"
      ]
     },
     "metadata": {},
     "output_type": "display_data"
    },
    {
     "data": {
      "text/html": [
       "Syncing run <strong><a href='https://wandb.ai/goodevening13/ml_sys_design/runs/w9atq0a2' target=\"_blank\">CNN</a></strong> to <a href='https://wandb.ai/goodevening13/ml_sys_design' target=\"_blank\">Weights & Biases</a> (<a href='https://wandb.me/developer-guide' target=\"_blank\">docs</a>)<br>"
      ],
      "text/plain": [
       "<IPython.core.display.HTML object>"
      ]
     },
     "metadata": {},
     "output_type": "display_data"
    },
    {
     "data": {
      "text/html": [
       " View project at <a href='https://wandb.ai/goodevening13/ml_sys_design' target=\"_blank\">https://wandb.ai/goodevening13/ml_sys_design</a>"
      ],
      "text/plain": [
       "<IPython.core.display.HTML object>"
      ]
     },
     "metadata": {},
     "output_type": "display_data"
    },
    {
     "data": {
      "text/html": [
       " View run at <a href='https://wandb.ai/goodevening13/ml_sys_design/runs/w9atq0a2' target=\"_blank\">https://wandb.ai/goodevening13/ml_sys_design/runs/w9atq0a2</a>"
      ],
      "text/plain": [
       "<IPython.core.display.HTML object>"
      ]
     },
     "metadata": {},
     "output_type": "display_data"
    },
    {
     "name": "stderr",
     "output_type": "stream",
     "text": [
      "100%|██████████| 20/20 [04:50<00:00, 14.53s/it]\n"
     ]
    },
    {
     "data": {
      "text/html": [],
      "text/plain": [
       "<IPython.core.display.HTML object>"
      ]
     },
     "metadata": {},
     "output_type": "display_data"
    },
    {
     "data": {
      "text/html": [
       "<br>    <style><br>        .wandb-row {<br>            display: flex;<br>            flex-direction: row;<br>            flex-wrap: wrap;<br>            justify-content: flex-start;<br>            width: 100%;<br>        }<br>        .wandb-col {<br>            display: flex;<br>            flex-direction: column;<br>            flex-basis: 100%;<br>            flex: 1;<br>            padding: 10px;<br>        }<br>    </style><br><div class=\"wandb-row\"><div class=\"wandb-col\"><h3>Run history:</h3><br/><table class=\"wandb\"><tr><td>epoch</td><td>▁▁▂▂▂▃▃▄▄▄▅▅▅▆▆▇▇▇██</td></tr><tr><td>test_f1</td><td>▁▂▄▄▄▆▆▅▆▄▇▇▇▇▇██▇██</td></tr><tr><td>test_recall_n</td><td>█▆▅▄▂▅▁▂▄▂▃▅▃▅▄▆█▂▆▅</td></tr><tr><td>train_f1</td><td>▁▂▃▃▃▅▅▅▅▄▆▇▇▇▇▇▇███</td></tr><tr><td>train_loss</td><td>█▅▅▄▄▃▃▃▂▂▂▂▂▂▁▁▁▁▁▁</td></tr><tr><td>train_recall_n</td><td>█▇▆▆▅▆▄▄▅▄▄▆▄▆▅▆▇▁▆▅</td></tr></table><br/></div><div class=\"wandb-col\"><h3>Run summary:</h3><br/><table class=\"wandb\"><tr><td>epoch</td><td>19</td></tr><tr><td>test_f1</td><td>0.71986</td></tr><tr><td>test_recall_n</td><td>0.90253</td></tr><tr><td>train_f1</td><td>0.69622</td></tr><tr><td>train_loss</td><td>0.77858</td></tr><tr><td>train_recall_n</td><td>0.96555</td></tr></table><br/></div></div>"
      ],
      "text/plain": [
       "<IPython.core.display.HTML object>"
      ]
     },
     "metadata": {},
     "output_type": "display_data"
    },
    {
     "data": {
      "text/html": [
       " View run <strong style=\"color:#cdcd00\">CNN</strong> at: <a href='https://wandb.ai/goodevening13/ml_sys_design/runs/w9atq0a2' target=\"_blank\">https://wandb.ai/goodevening13/ml_sys_design/runs/w9atq0a2</a><br> View project at: <a href='https://wandb.ai/goodevening13/ml_sys_design' target=\"_blank\">https://wandb.ai/goodevening13/ml_sys_design</a><br>Synced 5 W&B file(s), 0 media file(s), 0 artifact file(s) and 0 other file(s)"
      ],
      "text/plain": [
       "<IPython.core.display.HTML object>"
      ]
     },
     "metadata": {},
     "output_type": "display_data"
    },
    {
     "data": {
      "text/html": [
       "Find logs at: <code>./wandb/run-20250326_002604-w9atq0a2/logs</code>"
      ],
      "text/plain": [
       "<IPython.core.display.HTML object>"
      ]
     },
     "metadata": {},
     "output_type": "display_data"
    },
    {
     "data": {
      "text/html": [
       "Tracking run with wandb version 0.19.8"
      ],
      "text/plain": [
       "<IPython.core.display.HTML object>"
      ]
     },
     "metadata": {},
     "output_type": "display_data"
    },
    {
     "data": {
      "text/html": [
       "Run data is saved locally in <code>/extra_disk_1/alinashutova/last_hse/wandb/run-20250326_003057-9yhxpypt</code>"
      ],
      "text/plain": [
       "<IPython.core.display.HTML object>"
      ]
     },
     "metadata": {},
     "output_type": "display_data"
    },
    {
     "data": {
      "text/html": [
       "Syncing run <strong><a href='https://wandb.ai/goodevening13/ml_sys_design/runs/9yhxpypt' target=\"_blank\">CNN</a></strong> to <a href='https://wandb.ai/goodevening13/ml_sys_design' target=\"_blank\">Weights & Biases</a> (<a href='https://wandb.me/developer-guide' target=\"_blank\">docs</a>)<br>"
      ],
      "text/plain": [
       "<IPython.core.display.HTML object>"
      ]
     },
     "metadata": {},
     "output_type": "display_data"
    },
    {
     "data": {
      "text/html": [
       " View project at <a href='https://wandb.ai/goodevening13/ml_sys_design' target=\"_blank\">https://wandb.ai/goodevening13/ml_sys_design</a>"
      ],
      "text/plain": [
       "<IPython.core.display.HTML object>"
      ]
     },
     "metadata": {},
     "output_type": "display_data"
    },
    {
     "data": {
      "text/html": [
       " View run at <a href='https://wandb.ai/goodevening13/ml_sys_design/runs/9yhxpypt' target=\"_blank\">https://wandb.ai/goodevening13/ml_sys_design/runs/9yhxpypt</a>"
      ],
      "text/plain": [
       "<IPython.core.display.HTML object>"
      ]
     },
     "metadata": {},
     "output_type": "display_data"
    },
    {
     "name": "stderr",
     "output_type": "stream",
     "text": [
      "100%|██████████| 20/20 [04:51<00:00, 14.58s/it]\n"
     ]
    },
    {
     "data": {
      "text/html": [],
      "text/plain": [
       "<IPython.core.display.HTML object>"
      ]
     },
     "metadata": {},
     "output_type": "display_data"
    },
    {
     "data": {
      "text/html": [
       "<br>    <style><br>        .wandb-row {<br>            display: flex;<br>            flex-direction: row;<br>            flex-wrap: wrap;<br>            justify-content: flex-start;<br>            width: 100%;<br>        }<br>        .wandb-col {<br>            display: flex;<br>            flex-direction: column;<br>            flex-basis: 100%;<br>            flex: 1;<br>            padding: 10px;<br>        }<br>    </style><br><div class=\"wandb-row\"><div class=\"wandb-col\"><h3>Run history:</h3><br/><table class=\"wandb\"><tr><td>epoch</td><td>▁▁▂▂▂▃▃▄▄▄▅▅▅▆▆▇▇▇██</td></tr><tr><td>test_f1</td><td>▁▂▂▅▅▅▇▄▄▅█▆▅█▇▇█▄▆▇</td></tr><tr><td>test_recall_n</td><td>▇▇▄▅▇▇▇▅▆▇▆▅▅▇█▇▃▁▃▆</td></tr><tr><td>train_f1</td><td>▁▁▂▃▃▄▅▄▄▅▆▆▅▇▆▆█▆▇▇</td></tr><tr><td>train_loss</td><td>█▆▆▅▅▄▄▃▃▃▃▂▂▂▂▂▁▁▁▁</td></tr><tr><td>train_recall_n</td><td>██▅▆███▆▇▇▇▆▅▇█▇▂▁▅▇</td></tr></table><br/></div><div class=\"wandb-col\"><h3>Run summary:</h3><br/><table class=\"wandb\"><tr><td>epoch</td><td>19</td></tr><tr><td>test_f1</td><td>0.68947</td></tr><tr><td>test_recall_n</td><td>0.90936</td></tr><tr><td>train_f1</td><td>0.68312</td></tr><tr><td>train_loss</td><td>0.78377</td></tr><tr><td>train_recall_n</td><td>0.96924</td></tr></table><br/></div></div>"
      ],
      "text/plain": [
       "<IPython.core.display.HTML object>"
      ]
     },
     "metadata": {},
     "output_type": "display_data"
    },
    {
     "data": {
      "text/html": [
       " View run <strong style=\"color:#cdcd00\">CNN</strong> at: <a href='https://wandb.ai/goodevening13/ml_sys_design/runs/9yhxpypt' target=\"_blank\">https://wandb.ai/goodevening13/ml_sys_design/runs/9yhxpypt</a><br> View project at: <a href='https://wandb.ai/goodevening13/ml_sys_design' target=\"_blank\">https://wandb.ai/goodevening13/ml_sys_design</a><br>Synced 5 W&B file(s), 0 media file(s), 0 artifact file(s) and 0 other file(s)"
      ],
      "text/plain": [
       "<IPython.core.display.HTML object>"
      ]
     },
     "metadata": {},
     "output_type": "display_data"
    },
    {
     "data": {
      "text/html": [
       "Find logs at: <code>./wandb/run-20250326_003057-9yhxpypt/logs</code>"
      ],
      "text/plain": [
       "<IPython.core.display.HTML object>"
      ]
     },
     "metadata": {},
     "output_type": "display_data"
    },
    {
     "name": "stdout",
     "output_type": "stream",
     "text": [
      "Лучшие параметры (Grid Search): {'lr': 0.001, 'optimizer': <class 'torch.optim.adam.Adam'>}\n"
     ]
    }
   ],
   "source": [
    "\n",
    "grid_params = {\n",
    "    \"lr\": [1e-3, 1e-4],\n",
    "    \"optimizer\": [optim.Adam, optim.RMSprop],\n",
    "}\n",
    "best_val_f1 = 0\n",
    "for params in ParameterGrid(grid_params):\n",
    "    model = TextCNN(embed_dim=32, output_size=7, dropout=0.352, num_convs=5).to(device)\n",
    "\n",
    "    val_f1 = training_loop(model, 'CNN', device, train_loader, val_loader, params=params, optimizer=params[\"optimizer\"], lr=params['lr'])\n",
    "    if val_f1 > best_val_f1:\n",
    "        best_val_f1 = val_f1\n",
    "        best_params = params\n",
    "\n",
    "print(\"Лучшие параметры (Grid Search):\", best_params)"
   ]
  },
  {
   "cell_type": "markdown",
   "metadata": {},
   "source": [
    "## 4. Демо инференса модели  (2 балл)\n",
    "\n",
    "В репозитории по ссылке https://github.com/goodevening13/last_hse\n",
    "\n",
    "Все скриншоты также в репозитории"
   ]
  },
  {
   "cell_type": "code",
   "execution_count": 4,
   "metadata": {},
   "outputs": [
    {
     "name": "stderr",
     "output_type": "stream",
     "text": [
      "/home/alinashutova/anaconda3/envs/aquakv/lib/python3.11/site-packages/torch/nn/modules/rnn.py:123: UserWarning: dropout option adds dropout after all but last recurrent layer, so non-zero dropout expects num_layers greater than 1, but got dropout=0.25 and num_layers=1\n",
      "  warnings.warn(\n",
      "\u001b[34m\u001b[1mwandb\u001b[0m: Using wandb-core as the SDK backend.  Please refer to https://wandb.me/wandb-core for more information.\n",
      "\u001b[34m\u001b[1mwandb\u001b[0m: Currently logged in as: \u001b[33mgoodevening13\u001b[0m to \u001b[32mhttps://api.wandb.ai\u001b[0m. Use \u001b[1m`wandb login --relogin`\u001b[0m to force relogin\n"
     ]
    },
    {
     "data": {
      "text/html": [
       "Tracking run with wandb version 0.19.8"
      ],
      "text/plain": [
       "<IPython.core.display.HTML object>"
      ]
     },
     "metadata": {},
     "output_type": "display_data"
    },
    {
     "data": {
      "text/html": [
       "Run data is saved locally in <code>/extra_disk_1/alinashutova/last_hse/wandb/run-20250326_023514-t61n1wdf</code>"
      ],
      "text/plain": [
       "<IPython.core.display.HTML object>"
      ]
     },
     "metadata": {},
     "output_type": "display_data"
    },
    {
     "data": {
      "text/html": [
       "Syncing run <strong><a href='https://wandb.ai/goodevening13/ml_sys_design/runs/t61n1wdf' target=\"_blank\">LSTM</a></strong> to <a href='https://wandb.ai/goodevening13/ml_sys_design' target=\"_blank\">Weights & Biases</a> (<a href='https://wandb.me/developer-guide' target=\"_blank\">docs</a>)<br>"
      ],
      "text/plain": [
       "<IPython.core.display.HTML object>"
      ]
     },
     "metadata": {},
     "output_type": "display_data"
    },
    {
     "data": {
      "text/html": [
       " View project at <a href='https://wandb.ai/goodevening13/ml_sys_design' target=\"_blank\">https://wandb.ai/goodevening13/ml_sys_design</a>"
      ],
      "text/plain": [
       "<IPython.core.display.HTML object>"
      ]
     },
     "metadata": {},
     "output_type": "display_data"
    },
    {
     "data": {
      "text/html": [
       " View run at <a href='https://wandb.ai/goodevening13/ml_sys_design/runs/t61n1wdf' target=\"_blank\">https://wandb.ai/goodevening13/ml_sys_design/runs/t61n1wdf</a>"
      ],
      "text/plain": [
       "<IPython.core.display.HTML object>"
      ]
     },
     "metadata": {},
     "output_type": "display_data"
    },
    {
     "name": "stderr",
     "output_type": "stream",
     "text": [
      "100%|██████████| 20/20 [04:29<00:00, 13.47s/it]\n"
     ]
    },
    {
     "data": {
      "text/html": [],
      "text/plain": [
       "<IPython.core.display.HTML object>"
      ]
     },
     "metadata": {},
     "output_type": "display_data"
    },
    {
     "data": {
      "text/html": [
       "<br>    <style><br>        .wandb-row {<br>            display: flex;<br>            flex-direction: row;<br>            flex-wrap: wrap;<br>            justify-content: flex-start;<br>            width: 100%;<br>        }<br>        .wandb-col {<br>            display: flex;<br>            flex-direction: column;<br>            flex-basis: 100%;<br>            flex: 1;<br>            padding: 10px;<br>        }<br>    </style><br><div class=\"wandb-row\"><div class=\"wandb-col\"><h3>Run history:</h3><br/><table class=\"wandb\"><tr><td>epoch</td><td>▁▁▂▂▂▃▃▄▄▄▅▅▅▆▆▇▇▇██</td></tr><tr><td>test_f1</td><td>▁▄▄▅▅▆▇▇▆█▇▇▇█▇▇█▇▇▇</td></tr><tr><td>test_recall_n</td><td>█▇▇▇▆█▅▇█▇▆▆▃▆▁▅▅▅▄▂</td></tr><tr><td>train_f1</td><td>▁▂▂▂▃▂▄▄▄▅▅▆▆▆▆▇▇███</td></tr><tr><td>train_loss</td><td>█▇▆▆▅▅▅▄▄▄▃▃▃▂▂▂▂▁▁▁</td></tr><tr><td>train_recall_n</td><td>████▇█▆▇▇█▇▇▅▇▁█▇▇▇▆</td></tr></table><br/></div><div class=\"wandb-col\"><h3>Run summary:</h3><br/><table class=\"wandb\"><tr><td>epoch</td><td>19</td></tr><tr><td>test_f1</td><td>0.75014</td></tr><tr><td>test_recall_n</td><td>0.83626</td></tr><tr><td>train_f1</td><td>0.91885</td></tr><tr><td>train_loss</td><td>0.28122</td></tr><tr><td>train_recall_n</td><td>0.96641</td></tr></table><br/></div></div>"
      ],
      "text/plain": [
       "<IPython.core.display.HTML object>"
      ]
     },
     "metadata": {},
     "output_type": "display_data"
    },
    {
     "data": {
      "text/html": [
       " View run <strong style=\"color:#cdcd00\">LSTM</strong> at: <a href='https://wandb.ai/goodevening13/ml_sys_design/runs/t61n1wdf' target=\"_blank\">https://wandb.ai/goodevening13/ml_sys_design/runs/t61n1wdf</a><br> View project at: <a href='https://wandb.ai/goodevening13/ml_sys_design' target=\"_blank\">https://wandb.ai/goodevening13/ml_sys_design</a><br>Synced 5 W&B file(s), 0 media file(s), 0 artifact file(s) and 0 other file(s)"
      ],
      "text/plain": [
       "<IPython.core.display.HTML object>"
      ]
     },
     "metadata": {},
     "output_type": "display_data"
    },
    {
     "data": {
      "text/html": [
       "Find logs at: <code>./wandb/run-20250326_023514-t61n1wdf/logs</code>"
      ],
      "text/plain": [
       "<IPython.core.display.HTML object>"
      ]
     },
     "metadata": {},
     "output_type": "display_data"
    }
   ],
   "source": [
    "from utils.models import MainModel, MainModelConfig\n",
    "import torch.optim as optim\n",
    "\n",
    "config = MainModelConfig(embed_dim=64, hidden_size=64, output_size=7, num_layers=1, dropout=0.25)\n",
    "model = MainModel(config).to(device)\n",
    "    \n",
    "_ = training_loop(model, 'LSTM', device, train_loader, val_loader, params=None, lr=0.001, optimizer=optim.RMSprop)"
   ]
  },
  {
   "cell_type": "code",
   "execution_count": 5,
   "metadata": {},
   "outputs": [],
   "source": [
    "from huggingface_hub import login\n",
    "with open(\"token\", \"r\") as f:\n",
    "        hf_token = f.read().strip()\n",
    "login(token=hf_token)"
   ]
  },
  {
   "cell_type": "code",
   "execution_count": 7,
   "metadata": {},
   "outputs": [
    {
     "data": {
      "application/vnd.jupyter.widget-view+json": {
       "model_id": "e0d0cafb2020433a9104af1f78c11b32",
       "version_major": 2,
       "version_minor": 0
      },
      "text/plain": [
       "model.safetensors:   0%|          | 0.00/33.0M [00:00<?, ?B/s]"
      ]
     },
     "metadata": {},
     "output_type": "display_data"
    },
    {
     "data": {
      "text/plain": [
       "CommitInfo(commit_url='https://huggingface.co/goodevening13/model_hse_hw/commit/759fd10b988c9f6dc8541abd6b2d6adb5cf0d8d2', commit_message='Upload model', commit_description='', oid='759fd10b988c9f6dc8541abd6b2d6adb5cf0d8d2', pr_url=None, repo_url=RepoUrl('https://huggingface.co/goodevening13/model_hse_hw', endpoint='https://huggingface.co', repo_type='model', repo_id='goodevening13/model_hse_hw'), pr_revision=None, pr_num=None)"
      ]
     },
     "execution_count": 7,
     "metadata": {},
     "output_type": "execute_result"
    }
   ],
   "source": [
    "model.push_to_hub(\"model_hse_hw\", config=config)"
   ]
  },
  {
   "cell_type": "code",
   "execution_count": null,
   "metadata": {},
   "outputs": [],
   "source": []
  }
 ],
 "metadata": {
  "kernelspec": {
   "display_name": "aquakv",
   "language": "python",
   "name": "python3"
  },
  "language_info": {
   "codemirror_mode": {
    "name": "ipython",
    "version": 3
   },
   "file_extension": ".py",
   "mimetype": "text/x-python",
   "name": "python",
   "nbconvert_exporter": "python",
   "pygments_lexer": "ipython3",
   "version": "3.11.11"
  }
 },
 "nbformat": 4,
 "nbformat_minor": 2
}

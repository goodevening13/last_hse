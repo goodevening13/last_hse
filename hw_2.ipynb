{
 "cells": [
  {
   "cell_type": "code",
   "execution_count": 1,
   "metadata": {},
   "outputs": [],
   "source": [
    "import os\n",
    "os.environ[\"CUDA_DEVICE_ORDER\"]=\"PCI_BUS_ID\"\n",
    "os.environ[\"CUDA_VISIBLE_DEVICES\"]=\"3\""
   ]
  },
  {
   "cell_type": "code",
   "execution_count": 2,
   "metadata": {},
   "outputs": [],
   "source": [
    "import pandas as pd\n",
    "import optuna\n",
    "import torch\n",
    "import torch.nn as nn\n",
    "from ray import tune\n",
    "from ray.tune.schedulers import PopulationBasedTraining\n",
    "from sklearn.model_selection import ParameterGrid\n",
    "import json\n",
    "from transformers import LongformerTokenizer, LongformerForSequenceClassification, AutoTokenizer\n",
    "from utils.load_dataset import create_loaders\n",
    "from utils.training_loop import training_loop, calculate_metrics\n",
    "from utils.models import Baseline, SmallTransformer, TextCNN\n",
    "from sklearn.feature_extraction.text import TfidfVectorizer\n",
    "from sklearn.linear_model import LogisticRegression"
   ]
  },
  {
   "cell_type": "code",
   "execution_count": 3,
   "metadata": {},
   "outputs": [],
   "source": [
    "device = 'cuda:0'\n",
    "\n",
    "train_ds = pd.read_csv('data/train_ds.csv', converters={'embs': lambda x: json.loads(x.replace(\"'\", '\"'))})\n",
    "val_ds = pd.read_csv('data/val_ds.csv', converters={'embs': lambda x: json.loads(x.replace(\"'\", '\"'))})\n",
    "test_ds = pd.read_csv('data/test_ds.csv', converters={'embs': lambda x: json.loads(x.replace(\"'\", '\"'))})\n",
    "\n",
    "train_loader, val_loader, test_loader = create_loaders(train_ds, val_ds, test_ds, batch_size=64)"
   ]
  },
  {
   "cell_type": "markdown",
   "metadata": {},
   "source": [
    "## 1. Эксперименты с моделями без тюнинга гиперпараметров  (3 балла)\n",
    "\n",
    "- Усложним бейзлайн, заменив RNN на LSTM\n",
    "- Попробуем CNN для текстов\n",
    "- Попробуем маленькую transformer модельку\n",
    "- TF-IDF + LogisticRegression\n",
    "\n",
    "(Конечно, можно было бы взять большую предобученную модель, качество будет на порядки выше, но предположим, что наши бизнес-ограничения требуют очень дешевое обучение и инференс)"
   ]
  },
  {
   "cell_type": "code",
   "execution_count": 4,
   "metadata": {},
   "outputs": [
    {
     "name": "stderr",
     "output_type": "stream",
     "text": [
      "\u001b[34m\u001b[1mwandb\u001b[0m: Using wandb-core as the SDK backend.  Please refer to https://wandb.me/wandb-core for more information.\n",
      "\u001b[34m\u001b[1mwandb\u001b[0m: Currently logged in as: \u001b[33mgoodevening13\u001b[0m to \u001b[32mhttps://api.wandb.ai\u001b[0m. Use \u001b[1m`wandb login --relogin`\u001b[0m to force relogin\n"
     ]
    },
    {
     "data": {
      "text/html": [
       "Tracking run with wandb version 0.19.8"
      ],
      "text/plain": [
       "<IPython.core.display.HTML object>"
      ]
     },
     "metadata": {},
     "output_type": "display_data"
    },
    {
     "data": {
      "text/html": [
       "Run data is saved locally in <code>/extra_disk_1/alinashutova/last_hse/wandb/run-20250325_181905-h03rbgsa</code>"
      ],
      "text/plain": [
       "<IPython.core.display.HTML object>"
      ]
     },
     "metadata": {},
     "output_type": "display_data"
    },
    {
     "data": {
      "text/html": [
       "Syncing run <strong><a href='https://wandb.ai/goodevening13/ml_sys_design/runs/h03rbgsa' target=\"_blank\">LSTM</a></strong> to <a href='https://wandb.ai/goodevening13/ml_sys_design' target=\"_blank\">Weights & Biases</a> (<a href='https://wandb.me/developer-guide' target=\"_blank\">docs</a>)<br>"
      ],
      "text/plain": [
       "<IPython.core.display.HTML object>"
      ]
     },
     "metadata": {},
     "output_type": "display_data"
    },
    {
     "data": {
      "text/html": [
       " View project at <a href='https://wandb.ai/goodevening13/ml_sys_design' target=\"_blank\">https://wandb.ai/goodevening13/ml_sys_design</a>"
      ],
      "text/plain": [
       "<IPython.core.display.HTML object>"
      ]
     },
     "metadata": {},
     "output_type": "display_data"
    },
    {
     "data": {
      "text/html": [
       " View run at <a href='https://wandb.ai/goodevening13/ml_sys_design/runs/h03rbgsa' target=\"_blank\">https://wandb.ai/goodevening13/ml_sys_design/runs/h03rbgsa</a>"
      ],
      "text/plain": [
       "<IPython.core.display.HTML object>"
      ]
     },
     "metadata": {},
     "output_type": "display_data"
    },
    {
     "name": "stderr",
     "output_type": "stream",
     "text": [
      "100%|██████████| 20/20 [04:54<00:00, 14.74s/it]\n"
     ]
    },
    {
     "data": {
      "text/html": [],
      "text/plain": [
       "<IPython.core.display.HTML object>"
      ]
     },
     "metadata": {},
     "output_type": "display_data"
    },
    {
     "data": {
      "text/html": [
       "<br>    <style><br>        .wandb-row {<br>            display: flex;<br>            flex-direction: row;<br>            flex-wrap: wrap;<br>            justify-content: flex-start;<br>            width: 100%;<br>        }<br>        .wandb-col {<br>            display: flex;<br>            flex-direction: column;<br>            flex-basis: 100%;<br>            flex: 1;<br>            padding: 10px;<br>        }<br>    </style><br><div class=\"wandb-row\"><div class=\"wandb-col\"><h3>Run history:</h3><br/><table class=\"wandb\"><tr><td>epoch</td><td>▁▁▂▂▂▃▃▄▄▄▅▅▅▆▆▇▇▇██</td></tr><tr><td>test_f1</td><td>▁▂▅▁▆▃▆▆▆▇▇▇▇███▇▇██</td></tr><tr><td>test_recall_n</td><td>▅▃▅█▆▆▅▅▄▄▃▁▃▂▂▁▃▂▁▂</td></tr><tr><td>train_f1</td><td>▁▁▂▁▂▃▄▄▅▅▆▆▆▇▇▇▇▇██</td></tr><tr><td>train_loss</td><td>█▆▆▆▅▅▄▄▄▃▃▃▂▂▂▂▁▁▁▁</td></tr><tr><td>train_recall_n</td><td>▆▅▆█▇▅▅▅▄▆▄▁▆▆▅▅▇▇▇▇</td></tr></table><br/></div><div class=\"wandb-col\"><h3>Run summary:</h3><br/><table class=\"wandb\"><tr><td>epoch</td><td>19</td></tr><tr><td>test_f1</td><td>0.76227</td></tr><tr><td>test_recall_n</td><td>0.86155</td></tr><tr><td>train_f1</td><td>0.92719</td></tr><tr><td>train_loss</td><td>0.25357</td></tr><tr><td>train_recall_n</td><td>0.98446</td></tr></table><br/></div></div>"
      ],
      "text/plain": [
       "<IPython.core.display.HTML object>"
      ]
     },
     "metadata": {},
     "output_type": "display_data"
    },
    {
     "data": {
      "text/html": [
       " View run <strong style=\"color:#cdcd00\">LSTM</strong> at: <a href='https://wandb.ai/goodevening13/ml_sys_design/runs/h03rbgsa' target=\"_blank\">https://wandb.ai/goodevening13/ml_sys_design/runs/h03rbgsa</a><br> View project at: <a href='https://wandb.ai/goodevening13/ml_sys_design' target=\"_blank\">https://wandb.ai/goodevening13/ml_sys_design</a><br>Synced 5 W&B file(s), 0 media file(s), 0 artifact file(s) and 0 other file(s)"
      ],
      "text/plain": [
       "<IPython.core.display.HTML object>"
      ]
     },
     "metadata": {},
     "output_type": "display_data"
    },
    {
     "data": {
      "text/html": [
       "Find logs at: <code>./wandb/run-20250325_181905-h03rbgsa/logs</code>"
      ],
      "text/plain": [
       "<IPython.core.display.HTML object>"
      ]
     },
     "metadata": {},
     "output_type": "display_data"
    }
   ],
   "source": [
    "model_lstm = Baseline(embed_dim=64, hidden_size=64, output_size=7, use_rnn=False, num_layers=2).to(device)\n",
    "training_loop(model_lstm, 'LSTM', device, train_loader, test_loader)"
   ]
  },
  {
   "cell_type": "code",
   "execution_count": 5,
   "metadata": {},
   "outputs": [],
   "source": [
    "del model_lstm"
   ]
  },
  {
   "cell_type": "code",
   "execution_count": 6,
   "metadata": {},
   "outputs": [
    {
     "data": {
      "text/html": [
       "Tracking run with wandb version 0.19.8"
      ],
      "text/plain": [
       "<IPython.core.display.HTML object>"
      ]
     },
     "metadata": {},
     "output_type": "display_data"
    },
    {
     "data": {
      "text/html": [
       "Run data is saved locally in <code>/extra_disk_1/alinashutova/last_hse/wandb/run-20250325_182403-948gekhw</code>"
      ],
      "text/plain": [
       "<IPython.core.display.HTML object>"
      ]
     },
     "metadata": {},
     "output_type": "display_data"
    },
    {
     "data": {
      "text/html": [
       "Syncing run <strong><a href='https://wandb.ai/goodevening13/ml_sys_design/runs/948gekhw' target=\"_blank\">CNN</a></strong> to <a href='https://wandb.ai/goodevening13/ml_sys_design' target=\"_blank\">Weights & Biases</a> (<a href='https://wandb.me/developer-guide' target=\"_blank\">docs</a>)<br>"
      ],
      "text/plain": [
       "<IPython.core.display.HTML object>"
      ]
     },
     "metadata": {},
     "output_type": "display_data"
    },
    {
     "data": {
      "text/html": [
       " View project at <a href='https://wandb.ai/goodevening13/ml_sys_design' target=\"_blank\">https://wandb.ai/goodevening13/ml_sys_design</a>"
      ],
      "text/plain": [
       "<IPython.core.display.HTML object>"
      ]
     },
     "metadata": {},
     "output_type": "display_data"
    },
    {
     "data": {
      "text/html": [
       " View run at <a href='https://wandb.ai/goodevening13/ml_sys_design/runs/948gekhw' target=\"_blank\">https://wandb.ai/goodevening13/ml_sys_design/runs/948gekhw</a>"
      ],
      "text/plain": [
       "<IPython.core.display.HTML object>"
      ]
     },
     "metadata": {},
     "output_type": "display_data"
    },
    {
     "name": "stderr",
     "output_type": "stream",
     "text": [
      "100%|██████████| 20/20 [04:44<00:00, 14.23s/it]\n"
     ]
    },
    {
     "data": {
      "text/html": [],
      "text/plain": [
       "<IPython.core.display.HTML object>"
      ]
     },
     "metadata": {},
     "output_type": "display_data"
    },
    {
     "data": {
      "text/html": [
       "<br>    <style><br>        .wandb-row {<br>            display: flex;<br>            flex-direction: row;<br>            flex-wrap: wrap;<br>            justify-content: flex-start;<br>            width: 100%;<br>        }<br>        .wandb-col {<br>            display: flex;<br>            flex-direction: column;<br>            flex-basis: 100%;<br>            flex: 1;<br>            padding: 10px;<br>        }<br>    </style><br><div class=\"wandb-row\"><div class=\"wandb-col\"><h3>Run history:</h3><br/><table class=\"wandb\"><tr><td>epoch</td><td>▁▁▂▂▂▃▃▄▄▄▅▅▅▆▆▇▇▇██</td></tr><tr><td>test_f1</td><td>▁▄▇▄▇▆█▆▆▄▆▇▃▇▅▆▆▄▅▅</td></tr><tr><td>test_recall_n</td><td>▆█▇▄▇▃█▄▆▂▂▅▁▄▂▁▃▃▁▁</td></tr><tr><td>train_f1</td><td>▁▂▂▃▃▄▄▅▅▅▆▆▆▇▇▇████</td></tr><tr><td>train_loss</td><td>█▇▆▆▅▅▅▄▄▄▃▃▃▂▂▂▂▁▁▁</td></tr><tr><td>train_recall_n</td><td>▇▇▇▄▆▂█▃▆▁▄▇▃▇▆▅▇█▇▆</td></tr></table><br/></div><div class=\"wandb-col\"><h3>Run summary:</h3><br/><table class=\"wandb\"><tr><td>epoch</td><td>19</td></tr><tr><td>test_f1</td><td>0.72833</td></tr><tr><td>test_recall_n</td><td>0.81673</td></tr><tr><td>train_f1</td><td>0.93503</td></tr><tr><td>train_loss</td><td>0.23738</td></tr><tr><td>train_recall_n</td><td>0.96582</td></tr></table><br/></div></div>"
      ],
      "text/plain": [
       "<IPython.core.display.HTML object>"
      ]
     },
     "metadata": {},
     "output_type": "display_data"
    },
    {
     "data": {
      "text/html": [
       " View run <strong style=\"color:#cdcd00\">CNN</strong> at: <a href='https://wandb.ai/goodevening13/ml_sys_design/runs/948gekhw' target=\"_blank\">https://wandb.ai/goodevening13/ml_sys_design/runs/948gekhw</a><br> View project at: <a href='https://wandb.ai/goodevening13/ml_sys_design' target=\"_blank\">https://wandb.ai/goodevening13/ml_sys_design</a><br>Synced 5 W&B file(s), 0 media file(s), 0 artifact file(s) and 0 other file(s)"
      ],
      "text/plain": [
       "<IPython.core.display.HTML object>"
      ]
     },
     "metadata": {},
     "output_type": "display_data"
    },
    {
     "data": {
      "text/html": [
       "Find logs at: <code>./wandb/run-20250325_182403-948gekhw/logs</code>"
      ],
      "text/plain": [
       "<IPython.core.display.HTML object>"
      ]
     },
     "metadata": {},
     "output_type": "display_data"
    }
   ],
   "source": [
    "model_cnn = TextCNN(embed_dim=64, output_size=7).to(device)\n",
    "training_loop(model_cnn, 'CNN', device, train_loader, test_loader)"
   ]
  },
  {
   "cell_type": "code",
   "execution_count": 7,
   "metadata": {},
   "outputs": [],
   "source": [
    "del model_cnn"
   ]
  },
  {
   "cell_type": "code",
   "execution_count": 8,
   "metadata": {},
   "outputs": [
    {
     "data": {
      "text/html": [
       "Tracking run with wandb version 0.19.8"
      ],
      "text/plain": [
       "<IPython.core.display.HTML object>"
      ]
     },
     "metadata": {},
     "output_type": "display_data"
    },
    {
     "data": {
      "text/html": [
       "Run data is saved locally in <code>/extra_disk_1/alinashutova/last_hse/wandb/run-20250325_182850-zqzoe5qt</code>"
      ],
      "text/plain": [
       "<IPython.core.display.HTML object>"
      ]
     },
     "metadata": {},
     "output_type": "display_data"
    },
    {
     "data": {
      "text/html": [
       "Syncing run <strong><a href='https://wandb.ai/goodevening13/ml_sys_design/runs/zqzoe5qt' target=\"_blank\">SmallTransformer</a></strong> to <a href='https://wandb.ai/goodevening13/ml_sys_design' target=\"_blank\">Weights & Biases</a> (<a href='https://wandb.me/developer-guide' target=\"_blank\">docs</a>)<br>"
      ],
      "text/plain": [
       "<IPython.core.display.HTML object>"
      ]
     },
     "metadata": {},
     "output_type": "display_data"
    },
    {
     "data": {
      "text/html": [
       " View project at <a href='https://wandb.ai/goodevening13/ml_sys_design' target=\"_blank\">https://wandb.ai/goodevening13/ml_sys_design</a>"
      ],
      "text/plain": [
       "<IPython.core.display.HTML object>"
      ]
     },
     "metadata": {},
     "output_type": "display_data"
    },
    {
     "data": {
      "text/html": [
       " View run at <a href='https://wandb.ai/goodevening13/ml_sys_design/runs/zqzoe5qt' target=\"_blank\">https://wandb.ai/goodevening13/ml_sys_design/runs/zqzoe5qt</a>"
      ],
      "text/plain": [
       "<IPython.core.display.HTML object>"
      ]
     },
     "metadata": {},
     "output_type": "display_data"
    },
    {
     "name": "stderr",
     "output_type": "stream",
     "text": [
      "100%|██████████| 20/20 [05:26<00:00, 16.32s/it]\n"
     ]
    },
    {
     "data": {
      "text/html": [],
      "text/plain": [
       "<IPython.core.display.HTML object>"
      ]
     },
     "metadata": {},
     "output_type": "display_data"
    },
    {
     "data": {
      "text/html": [
       "<br>    <style><br>        .wandb-row {<br>            display: flex;<br>            flex-direction: row;<br>            flex-wrap: wrap;<br>            justify-content: flex-start;<br>            width: 100%;<br>        }<br>        .wandb-col {<br>            display: flex;<br>            flex-direction: column;<br>            flex-basis: 100%;<br>            flex: 1;<br>            padding: 10px;<br>        }<br>    </style><br><div class=\"wandb-row\"><div class=\"wandb-col\"><h3>Run history:</h3><br/><table class=\"wandb\"><tr><td>epoch</td><td>▁▁▂▂▂▃▃▄▄▄▅▅▅▆▆▇▇▇██</td></tr><tr><td>test_f1</td><td>▁▂▃▅▅▇▇▇▇██████▇█▇██</td></tr><tr><td>test_recall_n</td><td>▅▅▆█▇▇▇▇▄▅▄▄▄▃▆▃▅▁▃▃</td></tr><tr><td>train_f1</td><td>▁▁▂▂▂▃▃▄▅▅▆▆▆▇▇▇▇███</td></tr><tr><td>train_loss</td><td>█▇▆▆▅▅▅▄▄▄▃▃▃▂▂▂▂▁▁▁</td></tr><tr><td>train_recall_n</td><td>▃▆▅█▇▅▇▇▁▂▃▄▂▃▆▄▆▁▄▆</td></tr></table><br/></div><div class=\"wandb-col\"><h3>Run summary:</h3><br/><table class=\"wandb\"><tr><td>epoch</td><td>19</td></tr><tr><td>test_f1</td><td>0.74093</td></tr><tr><td>test_recall_n</td><td>0.84064</td></tr><tr><td>train_f1</td><td>0.93329</td></tr><tr><td>train_loss</td><td>0.28997</td></tr><tr><td>train_recall_n</td><td>0.9836</td></tr></table><br/></div></div>"
      ],
      "text/plain": [
       "<IPython.core.display.HTML object>"
      ]
     },
     "metadata": {},
     "output_type": "display_data"
    },
    {
     "data": {
      "text/html": [
       " View run <strong style=\"color:#cdcd00\">SmallTransformer</strong> at: <a href='https://wandb.ai/goodevening13/ml_sys_design/runs/zqzoe5qt' target=\"_blank\">https://wandb.ai/goodevening13/ml_sys_design/runs/zqzoe5qt</a><br> View project at: <a href='https://wandb.ai/goodevening13/ml_sys_design' target=\"_blank\">https://wandb.ai/goodevening13/ml_sys_design</a><br>Synced 5 W&B file(s), 0 media file(s), 0 artifact file(s) and 0 other file(s)"
      ],
      "text/plain": [
       "<IPython.core.display.HTML object>"
      ]
     },
     "metadata": {},
     "output_type": "display_data"
    },
    {
     "data": {
      "text/html": [
       "Find logs at: <code>./wandb/run-20250325_182850-zqzoe5qt/logs</code>"
      ],
      "text/plain": [
       "<IPython.core.display.HTML object>"
      ]
     },
     "metadata": {},
     "output_type": "display_data"
    }
   ],
   "source": [
    "model_t = SmallTransformer(embed_dim=64, num_heads=2, hidden_dim=64, output_size=7).to(device)\n",
    "training_loop(model_t, 'SmallTransformer', device, train_loader, test_loader)"
   ]
  },
  {
   "cell_type": "code",
   "execution_count": 9,
   "metadata": {},
   "outputs": [],
   "source": [
    "del model_t"
   ]
  },
  {
   "cell_type": "code",
   "execution_count": 4,
   "metadata": {},
   "outputs": [],
   "source": [
    "used_tokenizer = AutoTokenizer.from_pretrained('unsloth/Meta-Llama-3.1-8B-Instruct')\n",
    "\n",
    "def decode(ids):\n",
    "    return used_tokenizer.decode(ids)\n",
    "\n",
    "train_ds['text'] = train_ds['embs'].apply(decode)\n",
    "val_ds['text'] = val_ds['embs'].apply(decode)\n",
    "test_ds['text'] = test_ds['embs'].apply(decode)"
   ]
  },
  {
   "cell_type": "code",
   "execution_count": 5,
   "metadata": {},
   "outputs": [
    {
     "data": {
      "text/html": [
       "<style>#sk-container-id-1 {\n",
       "  /* Definition of color scheme common for light and dark mode */\n",
       "  --sklearn-color-text: #000;\n",
       "  --sklearn-color-text-muted: #666;\n",
       "  --sklearn-color-line: gray;\n",
       "  /* Definition of color scheme for unfitted estimators */\n",
       "  --sklearn-color-unfitted-level-0: #fff5e6;\n",
       "  --sklearn-color-unfitted-level-1: #f6e4d2;\n",
       "  --sklearn-color-unfitted-level-2: #ffe0b3;\n",
       "  --sklearn-color-unfitted-level-3: chocolate;\n",
       "  /* Definition of color scheme for fitted estimators */\n",
       "  --sklearn-color-fitted-level-0: #f0f8ff;\n",
       "  --sklearn-color-fitted-level-1: #d4ebff;\n",
       "  --sklearn-color-fitted-level-2: #b3dbfd;\n",
       "  --sklearn-color-fitted-level-3: cornflowerblue;\n",
       "\n",
       "  /* Specific color for light theme */\n",
       "  --sklearn-color-text-on-default-background: var(--sg-text-color, var(--theme-code-foreground, var(--jp-content-font-color1, black)));\n",
       "  --sklearn-color-background: var(--sg-background-color, var(--theme-background, var(--jp-layout-color0, white)));\n",
       "  --sklearn-color-border-box: var(--sg-text-color, var(--theme-code-foreground, var(--jp-content-font-color1, black)));\n",
       "  --sklearn-color-icon: #696969;\n",
       "\n",
       "  @media (prefers-color-scheme: dark) {\n",
       "    /* Redefinition of color scheme for dark theme */\n",
       "    --sklearn-color-text-on-default-background: var(--sg-text-color, var(--theme-code-foreground, var(--jp-content-font-color1, white)));\n",
       "    --sklearn-color-background: var(--sg-background-color, var(--theme-background, var(--jp-layout-color0, #111)));\n",
       "    --sklearn-color-border-box: var(--sg-text-color, var(--theme-code-foreground, var(--jp-content-font-color1, white)));\n",
       "    --sklearn-color-icon: #878787;\n",
       "  }\n",
       "}\n",
       "\n",
       "#sk-container-id-1 {\n",
       "  color: var(--sklearn-color-text);\n",
       "}\n",
       "\n",
       "#sk-container-id-1 pre {\n",
       "  padding: 0;\n",
       "}\n",
       "\n",
       "#sk-container-id-1 input.sk-hidden--visually {\n",
       "  border: 0;\n",
       "  clip: rect(1px 1px 1px 1px);\n",
       "  clip: rect(1px, 1px, 1px, 1px);\n",
       "  height: 1px;\n",
       "  margin: -1px;\n",
       "  overflow: hidden;\n",
       "  padding: 0;\n",
       "  position: absolute;\n",
       "  width: 1px;\n",
       "}\n",
       "\n",
       "#sk-container-id-1 div.sk-dashed-wrapped {\n",
       "  border: 1px dashed var(--sklearn-color-line);\n",
       "  margin: 0 0.4em 0.5em 0.4em;\n",
       "  box-sizing: border-box;\n",
       "  padding-bottom: 0.4em;\n",
       "  background-color: var(--sklearn-color-background);\n",
       "}\n",
       "\n",
       "#sk-container-id-1 div.sk-container {\n",
       "  /* jupyter's `normalize.less` sets `[hidden] { display: none; }`\n",
       "     but bootstrap.min.css set `[hidden] { display: none !important; }`\n",
       "     so we also need the `!important` here to be able to override the\n",
       "     default hidden behavior on the sphinx rendered scikit-learn.org.\n",
       "     See: https://github.com/scikit-learn/scikit-learn/issues/21755 */\n",
       "  display: inline-block !important;\n",
       "  position: relative;\n",
       "}\n",
       "\n",
       "#sk-container-id-1 div.sk-text-repr-fallback {\n",
       "  display: none;\n",
       "}\n",
       "\n",
       "div.sk-parallel-item,\n",
       "div.sk-serial,\n",
       "div.sk-item {\n",
       "  /* draw centered vertical line to link estimators */\n",
       "  background-image: linear-gradient(var(--sklearn-color-text-on-default-background), var(--sklearn-color-text-on-default-background));\n",
       "  background-size: 2px 100%;\n",
       "  background-repeat: no-repeat;\n",
       "  background-position: center center;\n",
       "}\n",
       "\n",
       "/* Parallel-specific style estimator block */\n",
       "\n",
       "#sk-container-id-1 div.sk-parallel-item::after {\n",
       "  content: \"\";\n",
       "  width: 100%;\n",
       "  border-bottom: 2px solid var(--sklearn-color-text-on-default-background);\n",
       "  flex-grow: 1;\n",
       "}\n",
       "\n",
       "#sk-container-id-1 div.sk-parallel {\n",
       "  display: flex;\n",
       "  align-items: stretch;\n",
       "  justify-content: center;\n",
       "  background-color: var(--sklearn-color-background);\n",
       "  position: relative;\n",
       "}\n",
       "\n",
       "#sk-container-id-1 div.sk-parallel-item {\n",
       "  display: flex;\n",
       "  flex-direction: column;\n",
       "}\n",
       "\n",
       "#sk-container-id-1 div.sk-parallel-item:first-child::after {\n",
       "  align-self: flex-end;\n",
       "  width: 50%;\n",
       "}\n",
       "\n",
       "#sk-container-id-1 div.sk-parallel-item:last-child::after {\n",
       "  align-self: flex-start;\n",
       "  width: 50%;\n",
       "}\n",
       "\n",
       "#sk-container-id-1 div.sk-parallel-item:only-child::after {\n",
       "  width: 0;\n",
       "}\n",
       "\n",
       "/* Serial-specific style estimator block */\n",
       "\n",
       "#sk-container-id-1 div.sk-serial {\n",
       "  display: flex;\n",
       "  flex-direction: column;\n",
       "  align-items: center;\n",
       "  background-color: var(--sklearn-color-background);\n",
       "  padding-right: 1em;\n",
       "  padding-left: 1em;\n",
       "}\n",
       "\n",
       "\n",
       "/* Toggleable style: style used for estimator/Pipeline/ColumnTransformer box that is\n",
       "clickable and can be expanded/collapsed.\n",
       "- Pipeline and ColumnTransformer use this feature and define the default style\n",
       "- Estimators will overwrite some part of the style using the `sk-estimator` class\n",
       "*/\n",
       "\n",
       "/* Pipeline and ColumnTransformer style (default) */\n",
       "\n",
       "#sk-container-id-1 div.sk-toggleable {\n",
       "  /* Default theme specific background. It is overwritten whether we have a\n",
       "  specific estimator or a Pipeline/ColumnTransformer */\n",
       "  background-color: var(--sklearn-color-background);\n",
       "}\n",
       "\n",
       "/* Toggleable label */\n",
       "#sk-container-id-1 label.sk-toggleable__label {\n",
       "  cursor: pointer;\n",
       "  display: flex;\n",
       "  width: 100%;\n",
       "  margin-bottom: 0;\n",
       "  padding: 0.5em;\n",
       "  box-sizing: border-box;\n",
       "  text-align: center;\n",
       "  align-items: start;\n",
       "  justify-content: space-between;\n",
       "  gap: 0.5em;\n",
       "}\n",
       "\n",
       "#sk-container-id-1 label.sk-toggleable__label .caption {\n",
       "  font-size: 0.6rem;\n",
       "  font-weight: lighter;\n",
       "  color: var(--sklearn-color-text-muted);\n",
       "}\n",
       "\n",
       "#sk-container-id-1 label.sk-toggleable__label-arrow:before {\n",
       "  /* Arrow on the left of the label */\n",
       "  content: \"▸\";\n",
       "  float: left;\n",
       "  margin-right: 0.25em;\n",
       "  color: var(--sklearn-color-icon);\n",
       "}\n",
       "\n",
       "#sk-container-id-1 label.sk-toggleable__label-arrow:hover:before {\n",
       "  color: var(--sklearn-color-text);\n",
       "}\n",
       "\n",
       "/* Toggleable content - dropdown */\n",
       "\n",
       "#sk-container-id-1 div.sk-toggleable__content {\n",
       "  max-height: 0;\n",
       "  max-width: 0;\n",
       "  overflow: hidden;\n",
       "  text-align: left;\n",
       "  /* unfitted */\n",
       "  background-color: var(--sklearn-color-unfitted-level-0);\n",
       "}\n",
       "\n",
       "#sk-container-id-1 div.sk-toggleable__content.fitted {\n",
       "  /* fitted */\n",
       "  background-color: var(--sklearn-color-fitted-level-0);\n",
       "}\n",
       "\n",
       "#sk-container-id-1 div.sk-toggleable__content pre {\n",
       "  margin: 0.2em;\n",
       "  border-radius: 0.25em;\n",
       "  color: var(--sklearn-color-text);\n",
       "  /* unfitted */\n",
       "  background-color: var(--sklearn-color-unfitted-level-0);\n",
       "}\n",
       "\n",
       "#sk-container-id-1 div.sk-toggleable__content.fitted pre {\n",
       "  /* unfitted */\n",
       "  background-color: var(--sklearn-color-fitted-level-0);\n",
       "}\n",
       "\n",
       "#sk-container-id-1 input.sk-toggleable__control:checked~div.sk-toggleable__content {\n",
       "  /* Expand drop-down */\n",
       "  max-height: 200px;\n",
       "  max-width: 100%;\n",
       "  overflow: auto;\n",
       "}\n",
       "\n",
       "#sk-container-id-1 input.sk-toggleable__control:checked~label.sk-toggleable__label-arrow:before {\n",
       "  content: \"▾\";\n",
       "}\n",
       "\n",
       "/* Pipeline/ColumnTransformer-specific style */\n",
       "\n",
       "#sk-container-id-1 div.sk-label input.sk-toggleable__control:checked~label.sk-toggleable__label {\n",
       "  color: var(--sklearn-color-text);\n",
       "  background-color: var(--sklearn-color-unfitted-level-2);\n",
       "}\n",
       "\n",
       "#sk-container-id-1 div.sk-label.fitted input.sk-toggleable__control:checked~label.sk-toggleable__label {\n",
       "  background-color: var(--sklearn-color-fitted-level-2);\n",
       "}\n",
       "\n",
       "/* Estimator-specific style */\n",
       "\n",
       "/* Colorize estimator box */\n",
       "#sk-container-id-1 div.sk-estimator input.sk-toggleable__control:checked~label.sk-toggleable__label {\n",
       "  /* unfitted */\n",
       "  background-color: var(--sklearn-color-unfitted-level-2);\n",
       "}\n",
       "\n",
       "#sk-container-id-1 div.sk-estimator.fitted input.sk-toggleable__control:checked~label.sk-toggleable__label {\n",
       "  /* fitted */\n",
       "  background-color: var(--sklearn-color-fitted-level-2);\n",
       "}\n",
       "\n",
       "#sk-container-id-1 div.sk-label label.sk-toggleable__label,\n",
       "#sk-container-id-1 div.sk-label label {\n",
       "  /* The background is the default theme color */\n",
       "  color: var(--sklearn-color-text-on-default-background);\n",
       "}\n",
       "\n",
       "/* On hover, darken the color of the background */\n",
       "#sk-container-id-1 div.sk-label:hover label.sk-toggleable__label {\n",
       "  color: var(--sklearn-color-text);\n",
       "  background-color: var(--sklearn-color-unfitted-level-2);\n",
       "}\n",
       "\n",
       "/* Label box, darken color on hover, fitted */\n",
       "#sk-container-id-1 div.sk-label.fitted:hover label.sk-toggleable__label.fitted {\n",
       "  color: var(--sklearn-color-text);\n",
       "  background-color: var(--sklearn-color-fitted-level-2);\n",
       "}\n",
       "\n",
       "/* Estimator label */\n",
       "\n",
       "#sk-container-id-1 div.sk-label label {\n",
       "  font-family: monospace;\n",
       "  font-weight: bold;\n",
       "  display: inline-block;\n",
       "  line-height: 1.2em;\n",
       "}\n",
       "\n",
       "#sk-container-id-1 div.sk-label-container {\n",
       "  text-align: center;\n",
       "}\n",
       "\n",
       "/* Estimator-specific */\n",
       "#sk-container-id-1 div.sk-estimator {\n",
       "  font-family: monospace;\n",
       "  border: 1px dotted var(--sklearn-color-border-box);\n",
       "  border-radius: 0.25em;\n",
       "  box-sizing: border-box;\n",
       "  margin-bottom: 0.5em;\n",
       "  /* unfitted */\n",
       "  background-color: var(--sklearn-color-unfitted-level-0);\n",
       "}\n",
       "\n",
       "#sk-container-id-1 div.sk-estimator.fitted {\n",
       "  /* fitted */\n",
       "  background-color: var(--sklearn-color-fitted-level-0);\n",
       "}\n",
       "\n",
       "/* on hover */\n",
       "#sk-container-id-1 div.sk-estimator:hover {\n",
       "  /* unfitted */\n",
       "  background-color: var(--sklearn-color-unfitted-level-2);\n",
       "}\n",
       "\n",
       "#sk-container-id-1 div.sk-estimator.fitted:hover {\n",
       "  /* fitted */\n",
       "  background-color: var(--sklearn-color-fitted-level-2);\n",
       "}\n",
       "\n",
       "/* Specification for estimator info (e.g. \"i\" and \"?\") */\n",
       "\n",
       "/* Common style for \"i\" and \"?\" */\n",
       "\n",
       ".sk-estimator-doc-link,\n",
       "a:link.sk-estimator-doc-link,\n",
       "a:visited.sk-estimator-doc-link {\n",
       "  float: right;\n",
       "  font-size: smaller;\n",
       "  line-height: 1em;\n",
       "  font-family: monospace;\n",
       "  background-color: var(--sklearn-color-background);\n",
       "  border-radius: 1em;\n",
       "  height: 1em;\n",
       "  width: 1em;\n",
       "  text-decoration: none !important;\n",
       "  margin-left: 0.5em;\n",
       "  text-align: center;\n",
       "  /* unfitted */\n",
       "  border: var(--sklearn-color-unfitted-level-1) 1pt solid;\n",
       "  color: var(--sklearn-color-unfitted-level-1);\n",
       "}\n",
       "\n",
       ".sk-estimator-doc-link.fitted,\n",
       "a:link.sk-estimator-doc-link.fitted,\n",
       "a:visited.sk-estimator-doc-link.fitted {\n",
       "  /* fitted */\n",
       "  border: var(--sklearn-color-fitted-level-1) 1pt solid;\n",
       "  color: var(--sklearn-color-fitted-level-1);\n",
       "}\n",
       "\n",
       "/* On hover */\n",
       "div.sk-estimator:hover .sk-estimator-doc-link:hover,\n",
       ".sk-estimator-doc-link:hover,\n",
       "div.sk-label-container:hover .sk-estimator-doc-link:hover,\n",
       ".sk-estimator-doc-link:hover {\n",
       "  /* unfitted */\n",
       "  background-color: var(--sklearn-color-unfitted-level-3);\n",
       "  color: var(--sklearn-color-background);\n",
       "  text-decoration: none;\n",
       "}\n",
       "\n",
       "div.sk-estimator.fitted:hover .sk-estimator-doc-link.fitted:hover,\n",
       ".sk-estimator-doc-link.fitted:hover,\n",
       "div.sk-label-container:hover .sk-estimator-doc-link.fitted:hover,\n",
       ".sk-estimator-doc-link.fitted:hover {\n",
       "  /* fitted */\n",
       "  background-color: var(--sklearn-color-fitted-level-3);\n",
       "  color: var(--sklearn-color-background);\n",
       "  text-decoration: none;\n",
       "}\n",
       "\n",
       "/* Span, style for the box shown on hovering the info icon */\n",
       ".sk-estimator-doc-link span {\n",
       "  display: none;\n",
       "  z-index: 9999;\n",
       "  position: relative;\n",
       "  font-weight: normal;\n",
       "  right: .2ex;\n",
       "  padding: .5ex;\n",
       "  margin: .5ex;\n",
       "  width: min-content;\n",
       "  min-width: 20ex;\n",
       "  max-width: 50ex;\n",
       "  color: var(--sklearn-color-text);\n",
       "  box-shadow: 2pt 2pt 4pt #999;\n",
       "  /* unfitted */\n",
       "  background: var(--sklearn-color-unfitted-level-0);\n",
       "  border: .5pt solid var(--sklearn-color-unfitted-level-3);\n",
       "}\n",
       "\n",
       ".sk-estimator-doc-link.fitted span {\n",
       "  /* fitted */\n",
       "  background: var(--sklearn-color-fitted-level-0);\n",
       "  border: var(--sklearn-color-fitted-level-3);\n",
       "}\n",
       "\n",
       ".sk-estimator-doc-link:hover span {\n",
       "  display: block;\n",
       "}\n",
       "\n",
       "/* \"?\"-specific style due to the `<a>` HTML tag */\n",
       "\n",
       "#sk-container-id-1 a.estimator_doc_link {\n",
       "  float: right;\n",
       "  font-size: 1rem;\n",
       "  line-height: 1em;\n",
       "  font-family: monospace;\n",
       "  background-color: var(--sklearn-color-background);\n",
       "  border-radius: 1rem;\n",
       "  height: 1rem;\n",
       "  width: 1rem;\n",
       "  text-decoration: none;\n",
       "  /* unfitted */\n",
       "  color: var(--sklearn-color-unfitted-level-1);\n",
       "  border: var(--sklearn-color-unfitted-level-1) 1pt solid;\n",
       "}\n",
       "\n",
       "#sk-container-id-1 a.estimator_doc_link.fitted {\n",
       "  /* fitted */\n",
       "  border: var(--sklearn-color-fitted-level-1) 1pt solid;\n",
       "  color: var(--sklearn-color-fitted-level-1);\n",
       "}\n",
       "\n",
       "/* On hover */\n",
       "#sk-container-id-1 a.estimator_doc_link:hover {\n",
       "  /* unfitted */\n",
       "  background-color: var(--sklearn-color-unfitted-level-3);\n",
       "  color: var(--sklearn-color-background);\n",
       "  text-decoration: none;\n",
       "}\n",
       "\n",
       "#sk-container-id-1 a.estimator_doc_link.fitted:hover {\n",
       "  /* fitted */\n",
       "  background-color: var(--sklearn-color-fitted-level-3);\n",
       "}\n",
       "</style><div id=\"sk-container-id-1\" class=\"sk-top-container\"><div class=\"sk-text-repr-fallback\"><pre>LogisticRegression(max_iter=500)</pre><b>In a Jupyter environment, please rerun this cell to show the HTML representation or trust the notebook. <br />On GitHub, the HTML representation is unable to render, please try loading this page with nbviewer.org.</b></div><div class=\"sk-container\" hidden><div class=\"sk-item\"><div class=\"sk-estimator fitted sk-toggleable\"><input class=\"sk-toggleable__control sk-hidden--visually\" id=\"sk-estimator-id-1\" type=\"checkbox\" checked><label for=\"sk-estimator-id-1\" class=\"sk-toggleable__label fitted sk-toggleable__label-arrow\"><div><div>LogisticRegression</div></div><div><a class=\"sk-estimator-doc-link fitted\" rel=\"noreferrer\" target=\"_blank\" href=\"https://scikit-learn.org/1.6/modules/generated/sklearn.linear_model.LogisticRegression.html\">?<span>Documentation for LogisticRegression</span></a><span class=\"sk-estimator-doc-link fitted\">i<span>Fitted</span></span></div></label><div class=\"sk-toggleable__content fitted\"><pre>LogisticRegression(max_iter=500)</pre></div> </div></div></div></div>"
      ],
      "text/plain": [
       "LogisticRegression(max_iter=500)"
      ]
     },
     "execution_count": 5,
     "metadata": {},
     "output_type": "execute_result"
    }
   ],
   "source": [
    "vectorizer = TfidfVectorizer(max_features=128256)\n",
    "X_train = vectorizer.fit_transform(train_ds['text'])\n",
    "model = LogisticRegression(max_iter=500)\n",
    "model.fit(X_train, train_ds['enc_label'])"
   ]
  },
  {
   "cell_type": "code",
   "execution_count": 6,
   "metadata": {},
   "outputs": [],
   "source": [
    "predictions = model.predict(X_train)\n",
    "X_test = vectorizer.transform(test_ds['text'])\n",
    "predictions_test = model.predict(X_test)"
   ]
  },
  {
   "cell_type": "code",
   "execution_count": 7,
   "metadata": {},
   "outputs": [],
   "source": [
    "labels = train_ds['enc_label'].to_numpy()\n",
    "labels_test = test_ds['enc_label'].to_numpy()"
   ]
  },
  {
   "cell_type": "code",
   "execution_count": 8,
   "metadata": {},
   "outputs": [
    {
     "name": "stderr",
     "output_type": "stream",
     "text": [
      "\u001b[34m\u001b[1mwandb\u001b[0m: Using wandb-core as the SDK backend.  Please refer to https://wandb.me/wandb-core for more information.\n",
      "\u001b[34m\u001b[1mwandb\u001b[0m: Currently logged in as: \u001b[33mgoodevening13\u001b[0m to \u001b[32mhttps://api.wandb.ai\u001b[0m. Use \u001b[1m`wandb login --relogin`\u001b[0m to force relogin\n"
     ]
    },
    {
     "data": {
      "text/html": [
       "Tracking run with wandb version 0.19.8"
      ],
      "text/plain": [
       "<IPython.core.display.HTML object>"
      ]
     },
     "metadata": {},
     "output_type": "display_data"
    },
    {
     "data": {
      "text/html": [
       "Run data is saved locally in <code>/extra_disk_1/alinashutova/last_hse/wandb/run-20250326_012105-z2mxqhoy</code>"
      ],
      "text/plain": [
       "<IPython.core.display.HTML object>"
      ]
     },
     "metadata": {},
     "output_type": "display_data"
    },
    {
     "data": {
      "text/html": [
       "Syncing run <strong><a href='https://wandb.ai/goodevening13/ml_sys_design/runs/z2mxqhoy' target=\"_blank\">TF-IDF Classifier</a></strong> to <a href='https://wandb.ai/goodevening13/ml_sys_design' target=\"_blank\">Weights & Biases</a> (<a href='https://wandb.me/developer-guide' target=\"_blank\">docs</a>)<br>"
      ],
      "text/plain": [
       "<IPython.core.display.HTML object>"
      ]
     },
     "metadata": {},
     "output_type": "display_data"
    },
    {
     "data": {
      "text/html": [
       " View project at <a href='https://wandb.ai/goodevening13/ml_sys_design' target=\"_blank\">https://wandb.ai/goodevening13/ml_sys_design</a>"
      ],
      "text/plain": [
       "<IPython.core.display.HTML object>"
      ]
     },
     "metadata": {},
     "output_type": "display_data"
    },
    {
     "data": {
      "text/html": [
       " View run at <a href='https://wandb.ai/goodevening13/ml_sys_design/runs/z2mxqhoy' target=\"_blank\">https://wandb.ai/goodevening13/ml_sys_design/runs/z2mxqhoy</a>"
      ],
      "text/plain": [
       "<IPython.core.display.HTML object>"
      ]
     },
     "metadata": {},
     "output_type": "display_data"
    },
    {
     "data": {
      "text/html": [],
      "text/plain": [
       "<IPython.core.display.HTML object>"
      ]
     },
     "metadata": {},
     "output_type": "display_data"
    },
    {
     "data": {
      "text/html": [
       "<br>    <style><br>        .wandb-row {<br>            display: flex;<br>            flex-direction: row;<br>            flex-wrap: wrap;<br>            justify-content: flex-start;<br>            width: 100%;<br>        }<br>        .wandb-col {<br>            display: flex;<br>            flex-direction: column;<br>            flex-basis: 100%;<br>            flex: 1;<br>            padding: 10px;<br>        }<br>    </style><br><div class=\"wandb-row\"><div class=\"wandb-col\"><h3>Run history:</h3><br/><table class=\"wandb\"><tr><td>epoch</td><td>▁▁▂▂▂▃▃▄▄▄▅▅▅▆▆▇▇▇██</td></tr><tr><td>test_f1</td><td>▁▁▁▁▁▁▁▁▁▁▁▁▁▁▁▁▁▁▁▁</td></tr><tr><td>test_recall_n</td><td>▁▁▁▁▁▁▁▁▁▁▁▁▁▁▁▁▁▁▁▁</td></tr><tr><td>train_f1</td><td>▁▁▁▁▁▁▁▁▁▁▁▁▁▁▁▁▁▁▁▁</td></tr><tr><td>train_loss</td><td>▁▁▁▁▁▁▁▁▁▁▁▁▁▁▁▁▁▁▁▁</td></tr><tr><td>train_recall_n</td><td>▁▁▁▁▁▁▁▁▁▁▁▁▁▁▁▁▁▁▁▁</td></tr></table><br/></div><div class=\"wandb-col\"><h3>Run summary:</h3><br/><table class=\"wandb\"><tr><td>epoch</td><td>19</td></tr><tr><td>test_f1</td><td>0.75609</td></tr><tr><td>test_recall_n</td><td>0.96713</td></tr><tr><td>train_f1</td><td>0.78055</td></tr><tr><td>train_loss</td><td>0</td></tr><tr><td>train_recall_n</td><td>0.99032</td></tr></table><br/></div></div>"
      ],
      "text/plain": [
       "<IPython.core.display.HTML object>"
      ]
     },
     "metadata": {},
     "output_type": "display_data"
    },
    {
     "data": {
      "text/html": [
       " View run <strong style=\"color:#cdcd00\">TF-IDF Classifier</strong> at: <a href='https://wandb.ai/goodevening13/ml_sys_design/runs/z2mxqhoy' target=\"_blank\">https://wandb.ai/goodevening13/ml_sys_design/runs/z2mxqhoy</a><br> View project at: <a href='https://wandb.ai/goodevening13/ml_sys_design' target=\"_blank\">https://wandb.ai/goodevening13/ml_sys_design</a><br>Synced 5 W&B file(s), 0 media file(s), 0 artifact file(s) and 0 other file(s)"
      ],
      "text/plain": [
       "<IPython.core.display.HTML object>"
      ]
     },
     "metadata": {},
     "output_type": "display_data"
    },
    {
     "data": {
      "text/html": [
       "Find logs at: <code>./wandb/run-20250326_012105-z2mxqhoy/logs</code>"
      ],
      "text/plain": [
       "<IPython.core.display.HTML object>"
      ]
     },
     "metadata": {},
     "output_type": "display_data"
    }
   ],
   "source": [
    "import wandb\n",
    "from torcheval.metrics.functional import multiclass_f1_score\n",
    "def calculate_recall_normal(predictions, labels):\n",
    "    normal_idx = [i for i in range(len(labels)) if labels[i] == 1.]\n",
    "    recall_normal = sum([1 if predictions[idx] == 1. else 0 for idx in normal_idx]) / len(normal_idx)\n",
    "    return recall_normal\n",
    "\n",
    "f1_train = multiclass_f1_score(torch.Tensor(predictions).to(dtype=torch.int64),\n",
    "                               torch.Tensor(labels).to(dtype=torch.int64), average='weighted', num_classes=7)\n",
    "\n",
    "f1_test = multiclass_f1_score(torch.Tensor(predictions_test).to(dtype=torch.int64), \n",
    "                               torch.Tensor(labels_test).to(dtype=torch.int64), average='weighted', num_classes=7)\n",
    "recall_n_train = calculate_recall_normal(predictions, labels)\n",
    "recall_n_test = calculate_recall_normal(predictions_test, labels_test)\n",
    "\n",
    "wandb.init(\n",
    "        project=\"ml_sys_design\",\n",
    "        name='TF-IDF Classifier',\n",
    "        group='model_comparison'\n",
    "    )\n",
    "for i in range(20):\n",
    "    wandb.log({\n",
    "            \"epoch\": i,\n",
    "            \"train_loss\": 0,\n",
    "            \"train_recall_n\": recall_n_train,\n",
    "            \"train_f1\": f1_train,\n",
    "            \"test_recall_n\": recall_n_test,\n",
    "            \"test_f1\": f1_test,\n",
    "        })\n",
    "wandb.finish()"
   ]
  },
  {
   "cell_type": "markdown",
   "metadata": {},
   "source": [
    "## 2. Эксперименты с моделями с тюнингом гиперпараметров  (4 балла)"
   ]
  },
  {
   "cell_type": "markdown",
   "metadata": {},
   "source": [
    "берем две модели: LSTM и SmallTransformer\n",
    "\n",
    "Сначала подбираем параметры для LSTM"
   ]
  },
  {
   "cell_type": "code",
   "execution_count": 5,
   "metadata": {},
   "outputs": [
    {
     "name": "stderr",
     "output_type": "stream",
     "text": [
      "[I 2025-03-25 20:43:26,520] A new study created in memory with name: no-name-200122c6-00cc-4c72-9ae2-89d0deb956e1\n",
      "\u001b[34m\u001b[1mwandb\u001b[0m: Using wandb-core as the SDK backend.  Please refer to https://wandb.me/wandb-core for more information.\n",
      "\u001b[34m\u001b[1mwandb\u001b[0m: Currently logged in as: \u001b[33mgoodevening13\u001b[0m to \u001b[32mhttps://api.wandb.ai\u001b[0m. Use \u001b[1m`wandb login --relogin`\u001b[0m to force relogin\n"
     ]
    },
    {
     "data": {
      "text/html": [
       "Tracking run with wandb version 0.19.8"
      ],
      "text/plain": [
       "<IPython.core.display.HTML object>"
      ]
     },
     "metadata": {},
     "output_type": "display_data"
    },
    {
     "data": {
      "text/html": [
       "Run data is saved locally in <code>/extra_disk_1/alinashutova/last_hse/wandb/run-20250325_204327-csoklxns</code>"
      ],
      "text/plain": [
       "<IPython.core.display.HTML object>"
      ]
     },
     "metadata": {},
     "output_type": "display_data"
    },
    {
     "data": {
      "text/html": [
       "Syncing run <strong><a href='https://wandb.ai/goodevening13/ml_sys_design/runs/csoklxns' target=\"_blank\">LSTM</a></strong> to <a href='https://wandb.ai/goodevening13/ml_sys_design' target=\"_blank\">Weights & Biases</a> (<a href='https://wandb.me/developer-guide' target=\"_blank\">docs</a>)<br>"
      ],
      "text/plain": [
       "<IPython.core.display.HTML object>"
      ]
     },
     "metadata": {},
     "output_type": "display_data"
    },
    {
     "data": {
      "text/html": [
       " View project at <a href='https://wandb.ai/goodevening13/ml_sys_design' target=\"_blank\">https://wandb.ai/goodevening13/ml_sys_design</a>"
      ],
      "text/plain": [
       "<IPython.core.display.HTML object>"
      ]
     },
     "metadata": {},
     "output_type": "display_data"
    },
    {
     "data": {
      "text/html": [
       " View run at <a href='https://wandb.ai/goodevening13/ml_sys_design/runs/csoklxns' target=\"_blank\">https://wandb.ai/goodevening13/ml_sys_design/runs/csoklxns</a>"
      ],
      "text/plain": [
       "<IPython.core.display.HTML object>"
      ]
     },
     "metadata": {},
     "output_type": "display_data"
    },
    {
     "name": "stderr",
     "output_type": "stream",
     "text": [
      "100%|██████████| 20/20 [06:18<00:00, 18.94s/it]\n"
     ]
    },
    {
     "data": {
      "text/html": [],
      "text/plain": [
       "<IPython.core.display.HTML object>"
      ]
     },
     "metadata": {},
     "output_type": "display_data"
    },
    {
     "data": {
      "text/html": [
       "<br>    <style><br>        .wandb-row {<br>            display: flex;<br>            flex-direction: row;<br>            flex-wrap: wrap;<br>            justify-content: flex-start;<br>            width: 100%;<br>        }<br>        .wandb-col {<br>            display: flex;<br>            flex-direction: column;<br>            flex-basis: 100%;<br>            flex: 1;<br>            padding: 10px;<br>        }<br>    </style><br><div class=\"wandb-row\"><div class=\"wandb-col\"><h3>Run history:</h3><br/><table class=\"wandb\"><tr><td>epoch</td><td>▁▁▂▂▂▃▃▄▄▄▅▅▅▆▆▇▇▇██</td></tr><tr><td>test_f1</td><td>▁▂▃▃▇███▇▇▇███▇▇▇▇▇▇</td></tr><tr><td>test_recall_n</td><td>▅▆█▇█▇▆▅▃▅▂▃▃▄▂▂▂▂▂▁</td></tr><tr><td>train_f1</td><td>▁▁▂▂▃▃▄▅▅▆▆▇▇▇▇▇▇███</td></tr><tr><td>train_loss</td><td>█▇▆▆▅▅▄▄▄▃▃▃▂▂▂▂▂▁▁▁</td></tr><tr><td>train_recall_n</td><td>▃▅█▇█▇▆▁▁▅▁▂▆▆▅▆▇▆▇▅</td></tr></table><br/></div><div class=\"wandb-col\"><h3>Run summary:</h3><br/><table class=\"wandb\"><tr><td>epoch</td><td>19</td></tr><tr><td>test_f1</td><td>0.74277</td></tr><tr><td>test_recall_n</td><td>0.83528</td></tr><tr><td>train_f1</td><td>0.94039</td></tr><tr><td>train_loss</td><td>0.19723</td></tr><tr><td>train_recall_n</td><td>0.98182</td></tr></table><br/></div></div>"
      ],
      "text/plain": [
       "<IPython.core.display.HTML object>"
      ]
     },
     "metadata": {},
     "output_type": "display_data"
    },
    {
     "data": {
      "text/html": [
       " View run <strong style=\"color:#cdcd00\">LSTM</strong> at: <a href='https://wandb.ai/goodevening13/ml_sys_design/runs/csoklxns' target=\"_blank\">https://wandb.ai/goodevening13/ml_sys_design/runs/csoklxns</a><br> View project at: <a href='https://wandb.ai/goodevening13/ml_sys_design' target=\"_blank\">https://wandb.ai/goodevening13/ml_sys_design</a><br>Synced 5 W&B file(s), 0 media file(s), 0 artifact file(s) and 0 other file(s)"
      ],
      "text/plain": [
       "<IPython.core.display.HTML object>"
      ]
     },
     "metadata": {},
     "output_type": "display_data"
    },
    {
     "data": {
      "text/html": [
       "Find logs at: <code>./wandb/run-20250325_204327-csoklxns/logs</code>"
      ],
      "text/plain": [
       "<IPython.core.display.HTML object>"
      ]
     },
     "metadata": {},
     "output_type": "display_data"
    },
    {
     "name": "stderr",
     "output_type": "stream",
     "text": [
      "[I 2025-03-25 20:49:49,829] Trial 0 finished with value: 0.7427650690078735 and parameters: {'hidden_dim': 128, 'num_layers': 3, 'dropout': 0.4464886137511739}. Best is trial 0 with value: 0.7427650690078735.\n"
     ]
    },
    {
     "data": {
      "text/html": [
       "Tracking run with wandb version 0.19.8"
      ],
      "text/plain": [
       "<IPython.core.display.HTML object>"
      ]
     },
     "metadata": {},
     "output_type": "display_data"
    },
    {
     "data": {
      "text/html": [
       "Run data is saved locally in <code>/extra_disk_1/alinashutova/last_hse/wandb/run-20250325_204950-1knvizmw</code>"
      ],
      "text/plain": [
       "<IPython.core.display.HTML object>"
      ]
     },
     "metadata": {},
     "output_type": "display_data"
    },
    {
     "data": {
      "text/html": [
       "Syncing run <strong><a href='https://wandb.ai/goodevening13/ml_sys_design/runs/1knvizmw' target=\"_blank\">LSTM</a></strong> to <a href='https://wandb.ai/goodevening13/ml_sys_design' target=\"_blank\">Weights & Biases</a> (<a href='https://wandb.me/developer-guide' target=\"_blank\">docs</a>)<br>"
      ],
      "text/plain": [
       "<IPython.core.display.HTML object>"
      ]
     },
     "metadata": {},
     "output_type": "display_data"
    },
    {
     "data": {
      "text/html": [
       " View project at <a href='https://wandb.ai/goodevening13/ml_sys_design' target=\"_blank\">https://wandb.ai/goodevening13/ml_sys_design</a>"
      ],
      "text/plain": [
       "<IPython.core.display.HTML object>"
      ]
     },
     "metadata": {},
     "output_type": "display_data"
    },
    {
     "data": {
      "text/html": [
       " View run at <a href='https://wandb.ai/goodevening13/ml_sys_design/runs/1knvizmw' target=\"_blank\">https://wandb.ai/goodevening13/ml_sys_design/runs/1knvizmw</a>"
      ],
      "text/plain": [
       "<IPython.core.display.HTML object>"
      ]
     },
     "metadata": {},
     "output_type": "display_data"
    },
    {
     "name": "stderr",
     "output_type": "stream",
     "text": [
      "100%|██████████| 20/20 [05:14<00:00, 15.74s/it]\n"
     ]
    },
    {
     "data": {
      "text/html": [],
      "text/plain": [
       "<IPython.core.display.HTML object>"
      ]
     },
     "metadata": {},
     "output_type": "display_data"
    },
    {
     "data": {
      "text/html": [
       "<br>    <style><br>        .wandb-row {<br>            display: flex;<br>            flex-direction: row;<br>            flex-wrap: wrap;<br>            justify-content: flex-start;<br>            width: 100%;<br>        }<br>        .wandb-col {<br>            display: flex;<br>            flex-direction: column;<br>            flex-basis: 100%;<br>            flex: 1;<br>            padding: 10px;<br>        }<br>    </style><br><div class=\"wandb-row\"><div class=\"wandb-col\"><h3>Run history:</h3><br/><table class=\"wandb\"><tr><td>epoch</td><td>▁▁▂▂▂▃▃▄▄▄▅▅▅▆▆▇▇▇██</td></tr><tr><td>test_f1</td><td>▁▂▄▄▅▃▆▇▇███▇▇▇▇▇▇▇▇</td></tr><tr><td>test_recall_n</td><td>▆▇▇▇▇█▇▇▆▆▅▅▄▁▃▃▄▃▃▃</td></tr><tr><td>train_f1</td><td>▁▁▂▂▃▃▄▅▅▆▆▆▇▇▇▇▇███</td></tr><tr><td>train_loss</td><td>█▆▆▅▅▄▄▄▃▃▃▂▂▂▂▂▁▁▁▁</td></tr><tr><td>train_recall_n</td><td>▆▆▇▆▅▇▆▇▆▇▆▇▇▁▆▅▇▅██</td></tr></table><br/></div><div class=\"wandb-col\"><h3>Run summary:</h3><br/><table class=\"wandb\"><tr><td>epoch</td><td>19</td></tr><tr><td>test_f1</td><td>0.7493</td></tr><tr><td>test_recall_n</td><td>0.87135</td></tr><tr><td>train_f1</td><td>0.94354</td></tr><tr><td>train_loss</td><td>0.20884</td></tr><tr><td>train_recall_n</td><td>0.9888</td></tr></table><br/></div></div>"
      ],
      "text/plain": [
       "<IPython.core.display.HTML object>"
      ]
     },
     "metadata": {},
     "output_type": "display_data"
    },
    {
     "data": {
      "text/html": [
       " View run <strong style=\"color:#cdcd00\">LSTM</strong> at: <a href='https://wandb.ai/goodevening13/ml_sys_design/runs/1knvizmw' target=\"_blank\">https://wandb.ai/goodevening13/ml_sys_design/runs/1knvizmw</a><br> View project at: <a href='https://wandb.ai/goodevening13/ml_sys_design' target=\"_blank\">https://wandb.ai/goodevening13/ml_sys_design</a><br>Synced 5 W&B file(s), 0 media file(s), 0 artifact file(s) and 0 other file(s)"
      ],
      "text/plain": [
       "<IPython.core.display.HTML object>"
      ]
     },
     "metadata": {},
     "output_type": "display_data"
    },
    {
     "data": {
      "text/html": [
       "Find logs at: <code>./wandb/run-20250325_204950-1knvizmw/logs</code>"
      ],
      "text/plain": [
       "<IPython.core.display.HTML object>"
      ]
     },
     "metadata": {},
     "output_type": "display_data"
    },
    {
     "name": "stderr",
     "output_type": "stream",
     "text": [
      "[I 2025-03-25 20:55:08,231] Trial 1 finished with value: 0.7492995858192444 and parameters: {'hidden_dim': 64, 'num_layers': 1, 'dropout': 0.36044941024150834}. Best is trial 1 with value: 0.7492995858192444.\n"
     ]
    },
    {
     "data": {
      "text/html": [
       "Tracking run with wandb version 0.19.8"
      ],
      "text/plain": [
       "<IPython.core.display.HTML object>"
      ]
     },
     "metadata": {},
     "output_type": "display_data"
    },
    {
     "data": {
      "text/html": [
       "Run data is saved locally in <code>/extra_disk_1/alinashutova/last_hse/wandb/run-20250325_205508-zek8f9zc</code>"
      ],
      "text/plain": [
       "<IPython.core.display.HTML object>"
      ]
     },
     "metadata": {},
     "output_type": "display_data"
    },
    {
     "data": {
      "text/html": [
       "Syncing run <strong><a href='https://wandb.ai/goodevening13/ml_sys_design/runs/zek8f9zc' target=\"_blank\">LSTM</a></strong> to <a href='https://wandb.ai/goodevening13/ml_sys_design' target=\"_blank\">Weights & Biases</a> (<a href='https://wandb.me/developer-guide' target=\"_blank\">docs</a>)<br>"
      ],
      "text/plain": [
       "<IPython.core.display.HTML object>"
      ]
     },
     "metadata": {},
     "output_type": "display_data"
    },
    {
     "data": {
      "text/html": [
       " View project at <a href='https://wandb.ai/goodevening13/ml_sys_design' target=\"_blank\">https://wandb.ai/goodevening13/ml_sys_design</a>"
      ],
      "text/plain": [
       "<IPython.core.display.HTML object>"
      ]
     },
     "metadata": {},
     "output_type": "display_data"
    },
    {
     "data": {
      "text/html": [
       " View run at <a href='https://wandb.ai/goodevening13/ml_sys_design/runs/zek8f9zc' target=\"_blank\">https://wandb.ai/goodevening13/ml_sys_design/runs/zek8f9zc</a>"
      ],
      "text/plain": [
       "<IPython.core.display.HTML object>"
      ]
     },
     "metadata": {},
     "output_type": "display_data"
    },
    {
     "name": "stderr",
     "output_type": "stream",
     "text": [
      "100%|██████████| 20/20 [06:11<00:00, 18.58s/it]\n"
     ]
    },
    {
     "data": {
      "text/html": [],
      "text/plain": [
       "<IPython.core.display.HTML object>"
      ]
     },
     "metadata": {},
     "output_type": "display_data"
    },
    {
     "data": {
      "text/html": [
       "<br>    <style><br>        .wandb-row {<br>            display: flex;<br>            flex-direction: row;<br>            flex-wrap: wrap;<br>            justify-content: flex-start;<br>            width: 100%;<br>        }<br>        .wandb-col {<br>            display: flex;<br>            flex-direction: column;<br>            flex-basis: 100%;<br>            flex: 1;<br>            padding: 10px;<br>        }<br>    </style><br><div class=\"wandb-row\"><div class=\"wandb-col\"><h3>Run history:</h3><br/><table class=\"wandb\"><tr><td>epoch</td><td>▁▁▂▂▂▃▃▄▄▄▅▅▅▆▆▇▇▇██</td></tr><tr><td>test_f1</td><td>▁▃▄▄▄▄▆▄▆▆▇▇▇▇▇▇█▇▇█</td></tr><tr><td>test_recall_n</td><td>▅█▆█▆▇▆▅▃▃▆▅▅▅▃▄▄▂▁▄</td></tr><tr><td>train_f1</td><td>▁▂▂▂▃▃▄▄▅▅▄▆▆▆▇▇▇███</td></tr><tr><td>train_loss</td><td>█▅▅▄▄▄▃▃▃▃▂▂▂▂▂▂▁▁▁▁</td></tr><tr><td>train_recall_n</td><td>▅█▅█▇▇▆▅▁▃█▅▅▆▃▆▆▄▁▆</td></tr></table><br/></div><div class=\"wandb-col\"><h3>Run summary:</h3><br/><table class=\"wandb\"><tr><td>epoch</td><td>19</td></tr><tr><td>test_f1</td><td>0.73582</td></tr><tr><td>test_recall_n</td><td>0.89376</td></tr><tr><td>train_f1</td><td>0.85171</td></tr><tr><td>train_loss</td><td>0.41991</td></tr><tr><td>train_recall_n</td><td>0.98268</td></tr></table><br/></div></div>"
      ],
      "text/plain": [
       "<IPython.core.display.HTML object>"
      ]
     },
     "metadata": {},
     "output_type": "display_data"
    },
    {
     "data": {
      "text/html": [
       " View run <strong style=\"color:#cdcd00\">LSTM</strong> at: <a href='https://wandb.ai/goodevening13/ml_sys_design/runs/zek8f9zc' target=\"_blank\">https://wandb.ai/goodevening13/ml_sys_design/runs/zek8f9zc</a><br> View project at: <a href='https://wandb.ai/goodevening13/ml_sys_design' target=\"_blank\">https://wandb.ai/goodevening13/ml_sys_design</a><br>Synced 5 W&B file(s), 0 media file(s), 0 artifact file(s) and 0 other file(s)"
      ],
      "text/plain": [
       "<IPython.core.display.HTML object>"
      ]
     },
     "metadata": {},
     "output_type": "display_data"
    },
    {
     "data": {
      "text/html": [
       "Find logs at: <code>./wandb/run-20250325_205508-zek8f9zc/logs</code>"
      ],
      "text/plain": [
       "<IPython.core.display.HTML object>"
      ]
     },
     "metadata": {},
     "output_type": "display_data"
    },
    {
     "name": "stderr",
     "output_type": "stream",
     "text": [
      "[I 2025-03-25 21:01:22,426] Trial 2 finished with value: 0.7358205318450928 and parameters: {'hidden_dim': 32, 'num_layers': 4, 'dropout': 0.26072583518065967}. Best is trial 1 with value: 0.7492995858192444.\n"
     ]
    },
    {
     "data": {
      "text/html": [
       "Tracking run with wandb version 0.19.8"
      ],
      "text/plain": [
       "<IPython.core.display.HTML object>"
      ]
     },
     "metadata": {},
     "output_type": "display_data"
    },
    {
     "data": {
      "text/html": [
       "Run data is saved locally in <code>/extra_disk_1/alinashutova/last_hse/wandb/run-20250325_210122-6jfb76f3</code>"
      ],
      "text/plain": [
       "<IPython.core.display.HTML object>"
      ]
     },
     "metadata": {},
     "output_type": "display_data"
    },
    {
     "data": {
      "text/html": [
       "Syncing run <strong><a href='https://wandb.ai/goodevening13/ml_sys_design/runs/6jfb76f3' target=\"_blank\">LSTM</a></strong> to <a href='https://wandb.ai/goodevening13/ml_sys_design' target=\"_blank\">Weights & Biases</a> (<a href='https://wandb.me/developer-guide' target=\"_blank\">docs</a>)<br>"
      ],
      "text/plain": [
       "<IPython.core.display.HTML object>"
      ]
     },
     "metadata": {},
     "output_type": "display_data"
    },
    {
     "data": {
      "text/html": [
       " View project at <a href='https://wandb.ai/goodevening13/ml_sys_design' target=\"_blank\">https://wandb.ai/goodevening13/ml_sys_design</a>"
      ],
      "text/plain": [
       "<IPython.core.display.HTML object>"
      ]
     },
     "metadata": {},
     "output_type": "display_data"
    },
    {
     "data": {
      "text/html": [
       " View run at <a href='https://wandb.ai/goodevening13/ml_sys_design/runs/6jfb76f3' target=\"_blank\">https://wandb.ai/goodevening13/ml_sys_design/runs/6jfb76f3</a>"
      ],
      "text/plain": [
       "<IPython.core.display.HTML object>"
      ]
     },
     "metadata": {},
     "output_type": "display_data"
    },
    {
     "name": "stderr",
     "output_type": "stream",
     "text": [
      "100%|██████████| 20/20 [05:13<00:00, 15.68s/it]\n"
     ]
    },
    {
     "data": {
      "text/html": [],
      "text/plain": [
       "<IPython.core.display.HTML object>"
      ]
     },
     "metadata": {},
     "output_type": "display_data"
    },
    {
     "data": {
      "text/html": [
       "<br>    <style><br>        .wandb-row {<br>            display: flex;<br>            flex-direction: row;<br>            flex-wrap: wrap;<br>            justify-content: flex-start;<br>            width: 100%;<br>        }<br>        .wandb-col {<br>            display: flex;<br>            flex-direction: column;<br>            flex-basis: 100%;<br>            flex: 1;<br>            padding: 10px;<br>        }<br>    </style><br><div class=\"wandb-row\"><div class=\"wandb-col\"><h3>Run history:</h3><br/><table class=\"wandb\"><tr><td>epoch</td><td>▁▁▂▂▂▃▃▄▄▄▅▅▅▆▆▇▇▇██</td></tr><tr><td>test_f1</td><td>▁▂▄▆▇▇▇▇█████▇▇▇▇▇▆▇</td></tr><tr><td>test_recall_n</td><td>█▆▇█▆▄▅▆▅▅▅▄▄▁▁▂▃▂▂▂</td></tr><tr><td>train_f1</td><td>▁▁▂▂▃▄▄▅▅▆▆▆▇▇▇▇████</td></tr><tr><td>train_loss</td><td>█▆▆▅▅▅▄▄▃▃▃▃▂▂▂▂▁▁▁▁</td></tr><tr><td>train_recall_n</td><td>█▇▇█▇▁▄▃▄▅▆▆▆▅▅▆▇▇▇▇</td></tr></table><br/></div><div class=\"wandb-col\"><h3>Run summary:</h3><br/><table class=\"wandb\"><tr><td>epoch</td><td>19</td></tr><tr><td>test_f1</td><td>0.7489</td></tr><tr><td>test_recall_n</td><td>0.88889</td></tr><tr><td>train_f1</td><td>0.94655</td></tr><tr><td>train_loss</td><td>0.19139</td></tr><tr><td>train_recall_n</td><td>0.98808</td></tr></table><br/></div></div>"
      ],
      "text/plain": [
       "<IPython.core.display.HTML object>"
      ]
     },
     "metadata": {},
     "output_type": "display_data"
    },
    {
     "data": {
      "text/html": [
       " View run <strong style=\"color:#cdcd00\">LSTM</strong> at: <a href='https://wandb.ai/goodevening13/ml_sys_design/runs/6jfb76f3' target=\"_blank\">https://wandb.ai/goodevening13/ml_sys_design/runs/6jfb76f3</a><br> View project at: <a href='https://wandb.ai/goodevening13/ml_sys_design' target=\"_blank\">https://wandb.ai/goodevening13/ml_sys_design</a><br>Synced 5 W&B file(s), 0 media file(s), 0 artifact file(s) and 0 other file(s)"
      ],
      "text/plain": [
       "<IPython.core.display.HTML object>"
      ]
     },
     "metadata": {},
     "output_type": "display_data"
    },
    {
     "data": {
      "text/html": [
       "Find logs at: <code>./wandb/run-20250325_210122-6jfb76f3/logs</code>"
      ],
      "text/plain": [
       "<IPython.core.display.HTML object>"
      ]
     },
     "metadata": {},
     "output_type": "display_data"
    },
    {
     "name": "stderr",
     "output_type": "stream",
     "text": [
      "[I 2025-03-25 21:06:38,430] Trial 3 finished with value: 0.7488998174667358 and parameters: {'hidden_dim': 64, 'num_layers': 1, 'dropout': 0.25140622923018885}. Best is trial 1 with value: 0.7492995858192444.\n"
     ]
    },
    {
     "data": {
      "text/html": [
       "Tracking run with wandb version 0.19.8"
      ],
      "text/plain": [
       "<IPython.core.display.HTML object>"
      ]
     },
     "metadata": {},
     "output_type": "display_data"
    },
    {
     "data": {
      "text/html": [
       "Run data is saved locally in <code>/extra_disk_1/alinashutova/last_hse/wandb/run-20250325_210638-g45yotk1</code>"
      ],
      "text/plain": [
       "<IPython.core.display.HTML object>"
      ]
     },
     "metadata": {},
     "output_type": "display_data"
    },
    {
     "data": {
      "text/html": [
       "Syncing run <strong><a href='https://wandb.ai/goodevening13/ml_sys_design/runs/g45yotk1' target=\"_blank\">LSTM</a></strong> to <a href='https://wandb.ai/goodevening13/ml_sys_design' target=\"_blank\">Weights & Biases</a> (<a href='https://wandb.me/developer-guide' target=\"_blank\">docs</a>)<br>"
      ],
      "text/plain": [
       "<IPython.core.display.HTML object>"
      ]
     },
     "metadata": {},
     "output_type": "display_data"
    },
    {
     "data": {
      "text/html": [
       " View project at <a href='https://wandb.ai/goodevening13/ml_sys_design' target=\"_blank\">https://wandb.ai/goodevening13/ml_sys_design</a>"
      ],
      "text/plain": [
       "<IPython.core.display.HTML object>"
      ]
     },
     "metadata": {},
     "output_type": "display_data"
    },
    {
     "data": {
      "text/html": [
       " View run at <a href='https://wandb.ai/goodevening13/ml_sys_design/runs/g45yotk1' target=\"_blank\">https://wandb.ai/goodevening13/ml_sys_design/runs/g45yotk1</a>"
      ],
      "text/plain": [
       "<IPython.core.display.HTML object>"
      ]
     },
     "metadata": {},
     "output_type": "display_data"
    },
    {
     "name": "stderr",
     "output_type": "stream",
     "text": [
      "100%|██████████| 20/20 [06:15<00:00, 18.77s/it]\n"
     ]
    },
    {
     "data": {
      "text/html": [],
      "text/plain": [
       "<IPython.core.display.HTML object>"
      ]
     },
     "metadata": {},
     "output_type": "display_data"
    },
    {
     "data": {
      "text/html": [
       "<br>    <style><br>        .wandb-row {<br>            display: flex;<br>            flex-direction: row;<br>            flex-wrap: wrap;<br>            justify-content: flex-start;<br>            width: 100%;<br>        }<br>        .wandb-col {<br>            display: flex;<br>            flex-direction: column;<br>            flex-basis: 100%;<br>            flex: 1;<br>            padding: 10px;<br>        }<br>    </style><br><div class=\"wandb-row\"><div class=\"wandb-col\"><h3>Run history:</h3><br/><table class=\"wandb\"><tr><td>epoch</td><td>▁▁▂▂▂▃▃▄▄▄▅▅▅▆▆▇▇▇██</td></tr><tr><td>test_f1</td><td>▁▂▂▅▆▃▅███████▇█▇███</td></tr><tr><td>test_recall_n</td><td>▆▆▆█▆█▅▅▄▃▂▄▃▂▃▂▁▂▁▁</td></tr><tr><td>train_f1</td><td>▁▁▁▂▃▃▄▅▅▆▆▆▇▇▇▇▇███</td></tr><tr><td>train_loss</td><td>█▇▆▆▅▅▄▄▃▃▃▃▂▂▂▂▁▁▁▁</td></tr><tr><td>train_recall_n</td><td>▄▄▄█▁▇▁▅▄▃▃▆▆▅▆▅▇█▇█</td></tr></table><br/></div><div class=\"wandb-col\"><h3>Run summary:</h3><br/><table class=\"wandb\"><tr><td>epoch</td><td>19</td></tr><tr><td>test_f1</td><td>0.7485</td></tr><tr><td>test_recall_n</td><td>0.83821</td></tr><tr><td>train_f1</td><td>0.94678</td></tr><tr><td>train_loss</td><td>0.19721</td></tr><tr><td>train_recall_n</td><td>0.99203</td></tr></table><br/></div></div>"
      ],
      "text/plain": [
       "<IPython.core.display.HTML object>"
      ]
     },
     "metadata": {},
     "output_type": "display_data"
    },
    {
     "data": {
      "text/html": [
       " View run <strong style=\"color:#cdcd00\">LSTM</strong> at: <a href='https://wandb.ai/goodevening13/ml_sys_design/runs/g45yotk1' target=\"_blank\">https://wandb.ai/goodevening13/ml_sys_design/runs/g45yotk1</a><br> View project at: <a href='https://wandb.ai/goodevening13/ml_sys_design' target=\"_blank\">https://wandb.ai/goodevening13/ml_sys_design</a><br>Synced 5 W&B file(s), 0 media file(s), 0 artifact file(s) and 0 other file(s)"
      ],
      "text/plain": [
       "<IPython.core.display.HTML object>"
      ]
     },
     "metadata": {},
     "output_type": "display_data"
    },
    {
     "data": {
      "text/html": [
       "Find logs at: <code>./wandb/run-20250325_210638-g45yotk1/logs</code>"
      ],
      "text/plain": [
       "<IPython.core.display.HTML object>"
      ]
     },
     "metadata": {},
     "output_type": "display_data"
    },
    {
     "name": "stderr",
     "output_type": "stream",
     "text": [
      "[I 2025-03-25 21:12:56,251] Trial 4 finished with value: 0.7485037446022034 and parameters: {'hidden_dim': 128, 'num_layers': 3, 'dropout': 0.47835899429406614}. Best is trial 1 with value: 0.7492995858192444.\n"
     ]
    },
    {
     "data": {
      "text/html": [
       "Tracking run with wandb version 0.19.8"
      ],
      "text/plain": [
       "<IPython.core.display.HTML object>"
      ]
     },
     "metadata": {},
     "output_type": "display_data"
    },
    {
     "data": {
      "text/html": [
       "Run data is saved locally in <code>/extra_disk_1/alinashutova/last_hse/wandb/run-20250325_211256-ug56niv2</code>"
      ],
      "text/plain": [
       "<IPython.core.display.HTML object>"
      ]
     },
     "metadata": {},
     "output_type": "display_data"
    },
    {
     "data": {
      "text/html": [
       "Syncing run <strong><a href='https://wandb.ai/goodevening13/ml_sys_design/runs/ug56niv2' target=\"_blank\">LSTM</a></strong> to <a href='https://wandb.ai/goodevening13/ml_sys_design' target=\"_blank\">Weights & Biases</a> (<a href='https://wandb.me/developer-guide' target=\"_blank\">docs</a>)<br>"
      ],
      "text/plain": [
       "<IPython.core.display.HTML object>"
      ]
     },
     "metadata": {},
     "output_type": "display_data"
    },
    {
     "data": {
      "text/html": [
       " View project at <a href='https://wandb.ai/goodevening13/ml_sys_design' target=\"_blank\">https://wandb.ai/goodevening13/ml_sys_design</a>"
      ],
      "text/plain": [
       "<IPython.core.display.HTML object>"
      ]
     },
     "metadata": {},
     "output_type": "display_data"
    },
    {
     "data": {
      "text/html": [
       " View run at <a href='https://wandb.ai/goodevening13/ml_sys_design/runs/ug56niv2' target=\"_blank\">https://wandb.ai/goodevening13/ml_sys_design/runs/ug56niv2</a>"
      ],
      "text/plain": [
       "<IPython.core.display.HTML object>"
      ]
     },
     "metadata": {},
     "output_type": "display_data"
    },
    {
     "name": "stderr",
     "output_type": "stream",
     "text": [
      "100%|██████████| 20/20 [05:09<00:00, 15.47s/it]\n"
     ]
    },
    {
     "data": {
      "text/html": [],
      "text/plain": [
       "<IPython.core.display.HTML object>"
      ]
     },
     "metadata": {},
     "output_type": "display_data"
    },
    {
     "data": {
      "text/html": [
       "<br>    <style><br>        .wandb-row {<br>            display: flex;<br>            flex-direction: row;<br>            flex-wrap: wrap;<br>            justify-content: flex-start;<br>            width: 100%;<br>        }<br>        .wandb-col {<br>            display: flex;<br>            flex-direction: column;<br>            flex-basis: 100%;<br>            flex: 1;<br>            padding: 10px;<br>        }<br>    </style><br><div class=\"wandb-row\"><div class=\"wandb-col\"><h3>Run history:</h3><br/><table class=\"wandb\"><tr><td>epoch</td><td>▁▁▂▂▂▃▃▄▄▄▅▅▅▆▆▇▇▇██</td></tr><tr><td>test_f1</td><td>▁▂▂▃▃▃▃▅▅▅▆█▇▄▇▆▆▆██</td></tr><tr><td>test_recall_n</td><td>▄▇▅█▅▇▃▇▆▅▆▇▄▂▁▃▂▂▁▁</td></tr><tr><td>train_f1</td><td>▁▁▂▂▂▂▃▄▄▅▅▅▆▆▇▆▇███</td></tr><tr><td>train_loss</td><td>█▆▅▅▄▄▄▃▃▃▃▂▂▂▂▂▁▁▁▁</td></tr><tr><td>train_recall_n</td><td>▂▆▅█▅▇▁▅▂▁▄▇▃▃▁▂▄▄▄▅</td></tr></table><br/></div><div class=\"wandb-col\"><h3>Run summary:</h3><br/><table class=\"wandb\"><tr><td>epoch</td><td>19</td></tr><tr><td>test_f1</td><td>0.73768</td></tr><tr><td>test_recall_n</td><td>0.88109</td></tr><tr><td>train_f1</td><td>0.85756</td></tr><tr><td>train_loss</td><td>0.3936</td></tr><tr><td>train_recall_n</td><td>0.98064</td></tr></table><br/></div></div>"
      ],
      "text/plain": [
       "<IPython.core.display.HTML object>"
      ]
     },
     "metadata": {},
     "output_type": "display_data"
    },
    {
     "data": {
      "text/html": [
       " View run <strong style=\"color:#cdcd00\">LSTM</strong> at: <a href='https://wandb.ai/goodevening13/ml_sys_design/runs/ug56niv2' target=\"_blank\">https://wandb.ai/goodevening13/ml_sys_design/runs/ug56niv2</a><br> View project at: <a href='https://wandb.ai/goodevening13/ml_sys_design' target=\"_blank\">https://wandb.ai/goodevening13/ml_sys_design</a><br>Synced 5 W&B file(s), 0 media file(s), 0 artifact file(s) and 0 other file(s)"
      ],
      "text/plain": [
       "<IPython.core.display.HTML object>"
      ]
     },
     "metadata": {},
     "output_type": "display_data"
    },
    {
     "data": {
      "text/html": [
       "Find logs at: <code>./wandb/run-20250325_211256-ug56niv2/logs</code>"
      ],
      "text/plain": [
       "<IPython.core.display.HTML object>"
      ]
     },
     "metadata": {},
     "output_type": "display_data"
    },
    {
     "name": "stderr",
     "output_type": "stream",
     "text": [
      "[I 2025-03-25 21:18:08,080] Trial 5 finished with value: 0.7376782894134521 and parameters: {'hidden_dim': 32, 'num_layers': 2, 'dropout': 0.4177951562393335}. Best is trial 1 with value: 0.7492995858192444.\n"
     ]
    },
    {
     "data": {
      "text/html": [
       "Tracking run with wandb version 0.19.8"
      ],
      "text/plain": [
       "<IPython.core.display.HTML object>"
      ]
     },
     "metadata": {},
     "output_type": "display_data"
    },
    {
     "data": {
      "text/html": [
       "Run data is saved locally in <code>/extra_disk_1/alinashutova/last_hse/wandb/run-20250325_211808-3rwa39d4</code>"
      ],
      "text/plain": [
       "<IPython.core.display.HTML object>"
      ]
     },
     "metadata": {},
     "output_type": "display_data"
    },
    {
     "data": {
      "text/html": [
       "Syncing run <strong><a href='https://wandb.ai/goodevening13/ml_sys_design/runs/3rwa39d4' target=\"_blank\">LSTM</a></strong> to <a href='https://wandb.ai/goodevening13/ml_sys_design' target=\"_blank\">Weights & Biases</a> (<a href='https://wandb.me/developer-guide' target=\"_blank\">docs</a>)<br>"
      ],
      "text/plain": [
       "<IPython.core.display.HTML object>"
      ]
     },
     "metadata": {},
     "output_type": "display_data"
    },
    {
     "data": {
      "text/html": [
       " View project at <a href='https://wandb.ai/goodevening13/ml_sys_design' target=\"_blank\">https://wandb.ai/goodevening13/ml_sys_design</a>"
      ],
      "text/plain": [
       "<IPython.core.display.HTML object>"
      ]
     },
     "metadata": {},
     "output_type": "display_data"
    },
    {
     "data": {
      "text/html": [
       " View run at <a href='https://wandb.ai/goodevening13/ml_sys_design/runs/3rwa39d4' target=\"_blank\">https://wandb.ai/goodevening13/ml_sys_design/runs/3rwa39d4</a>"
      ],
      "text/plain": [
       "<IPython.core.display.HTML object>"
      ]
     },
     "metadata": {},
     "output_type": "display_data"
    },
    {
     "name": "stderr",
     "output_type": "stream",
     "text": [
      "100%|██████████| 20/20 [05:49<00:00, 17.47s/it]\n"
     ]
    },
    {
     "data": {
      "text/html": [],
      "text/plain": [
       "<IPython.core.display.HTML object>"
      ]
     },
     "metadata": {},
     "output_type": "display_data"
    },
    {
     "data": {
      "text/html": [
       "<br>    <style><br>        .wandb-row {<br>            display: flex;<br>            flex-direction: row;<br>            flex-wrap: wrap;<br>            justify-content: flex-start;<br>            width: 100%;<br>        }<br>        .wandb-col {<br>            display: flex;<br>            flex-direction: column;<br>            flex-basis: 100%;<br>            flex: 1;<br>            padding: 10px;<br>        }<br>    </style><br><div class=\"wandb-row\"><div class=\"wandb-col\"><h3>Run history:</h3><br/><table class=\"wandb\"><tr><td>epoch</td><td>▁▁▂▂▂▃▃▄▄▄▅▅▅▆▆▇▇▇██</td></tr><tr><td>test_f1</td><td>▁▅▅▆▇▇████▇▇▇▇▇▇▇▇▇▇</td></tr><tr><td>test_recall_n</td><td>▅█▆▇▆▆▇▆▅▅▃▄▄▃▄▃▂▂▁▃</td></tr><tr><td>train_f1</td><td>▁▁▂▃▄▄▅▆▆▇▇▇▇███████</td></tr><tr><td>train_loss</td><td>█▇▆▅▅▄▄▃▃▃▂▂▂▂▂▁▁▁▁▁</td></tr><tr><td>train_recall_n</td><td>▃█▄▅▁▅▅▄▆▆▃▅▆▆█▇▇▇▆█</td></tr></table><br/></div><div class=\"wandb-col\"><h3>Run summary:</h3><br/><table class=\"wandb\"><tr><td>epoch</td><td>19</td></tr><tr><td>test_f1</td><td>0.74821</td></tr><tr><td>test_recall_n</td><td>0.87817</td></tr><tr><td>train_f1</td><td>0.97838</td></tr><tr><td>train_loss</td><td>0.08921</td></tr><tr><td>train_recall_n</td><td>0.99236</td></tr></table><br/></div></div>"
      ],
      "text/plain": [
       "<IPython.core.display.HTML object>"
      ]
     },
     "metadata": {},
     "output_type": "display_data"
    },
    {
     "data": {
      "text/html": [
       " View run <strong style=\"color:#cdcd00\">LSTM</strong> at: <a href='https://wandb.ai/goodevening13/ml_sys_design/runs/3rwa39d4' target=\"_blank\">https://wandb.ai/goodevening13/ml_sys_design/runs/3rwa39d4</a><br> View project at: <a href='https://wandb.ai/goodevening13/ml_sys_design' target=\"_blank\">https://wandb.ai/goodevening13/ml_sys_design</a><br>Synced 5 W&B file(s), 0 media file(s), 0 artifact file(s) and 0 other file(s)"
      ],
      "text/plain": [
       "<IPython.core.display.HTML object>"
      ]
     },
     "metadata": {},
     "output_type": "display_data"
    },
    {
     "data": {
      "text/html": [
       "Find logs at: <code>./wandb/run-20250325_211808-3rwa39d4/logs</code>"
      ],
      "text/plain": [
       "<IPython.core.display.HTML object>"
      ]
     },
     "metadata": {},
     "output_type": "display_data"
    },
    {
     "name": "stderr",
     "output_type": "stream",
     "text": [
      "[I 2025-03-25 21:24:00,549] Trial 6 finished with value: 0.748207151889801 and parameters: {'hidden_dim': 128, 'num_layers': 1, 'dropout': 0.4957924025577741}. Best is trial 1 with value: 0.7492995858192444.\n"
     ]
    },
    {
     "data": {
      "text/html": [
       "Tracking run with wandb version 0.19.8"
      ],
      "text/plain": [
       "<IPython.core.display.HTML object>"
      ]
     },
     "metadata": {},
     "output_type": "display_data"
    },
    {
     "data": {
      "text/html": [
       "Run data is saved locally in <code>/extra_disk_1/alinashutova/last_hse/wandb/run-20250325_212400-222ty7wd</code>"
      ],
      "text/plain": [
       "<IPython.core.display.HTML object>"
      ]
     },
     "metadata": {},
     "output_type": "display_data"
    },
    {
     "data": {
      "text/html": [
       "Syncing run <strong><a href='https://wandb.ai/goodevening13/ml_sys_design/runs/222ty7wd' target=\"_blank\">LSTM</a></strong> to <a href='https://wandb.ai/goodevening13/ml_sys_design' target=\"_blank\">Weights & Biases</a> (<a href='https://wandb.me/developer-guide' target=\"_blank\">docs</a>)<br>"
      ],
      "text/plain": [
       "<IPython.core.display.HTML object>"
      ]
     },
     "metadata": {},
     "output_type": "display_data"
    },
    {
     "data": {
      "text/html": [
       " View project at <a href='https://wandb.ai/goodevening13/ml_sys_design' target=\"_blank\">https://wandb.ai/goodevening13/ml_sys_design</a>"
      ],
      "text/plain": [
       "<IPython.core.display.HTML object>"
      ]
     },
     "metadata": {},
     "output_type": "display_data"
    },
    {
     "data": {
      "text/html": [
       " View run at <a href='https://wandb.ai/goodevening13/ml_sys_design/runs/222ty7wd' target=\"_blank\">https://wandb.ai/goodevening13/ml_sys_design/runs/222ty7wd</a>"
      ],
      "text/plain": [
       "<IPython.core.display.HTML object>"
      ]
     },
     "metadata": {},
     "output_type": "display_data"
    },
    {
     "name": "stderr",
     "output_type": "stream",
     "text": [
      "100%|██████████| 20/20 [05:33<00:00, 16.69s/it]\n"
     ]
    },
    {
     "data": {
      "text/html": [],
      "text/plain": [
       "<IPython.core.display.HTML object>"
      ]
     },
     "metadata": {},
     "output_type": "display_data"
    },
    {
     "data": {
      "text/html": [
       "<br>    <style><br>        .wandb-row {<br>            display: flex;<br>            flex-direction: row;<br>            flex-wrap: wrap;<br>            justify-content: flex-start;<br>            width: 100%;<br>        }<br>        .wandb-col {<br>            display: flex;<br>            flex-direction: column;<br>            flex-basis: 100%;<br>            flex: 1;<br>            padding: 10px;<br>        }<br>    </style><br><div class=\"wandb-row\"><div class=\"wandb-col\"><h3>Run history:</h3><br/><table class=\"wandb\"><tr><td>epoch</td><td>▁▁▂▂▂▃▃▄▄▄▅▅▅▆▆▇▇▇██</td></tr><tr><td>test_f1</td><td>▁▂▂▂▅▅▇▇███▇██▇██▇▇▇</td></tr><tr><td>test_recall_n</td><td>▅▅▆██▅▅▄▅▅▅▃▃▄▃▃▃▁▂▂</td></tr><tr><td>train_f1</td><td>▁▁▂▂▃▄▄▅▅▆▆▆▇▇▇▇████</td></tr><tr><td>train_loss</td><td>█▆▆▅▅▅▄▄▃▃▃▂▂▂▂▂▁▁▁▁</td></tr><tr><td>train_recall_n</td><td>▄▅▆█▇▃▃▁▅▅▆▄▄▆▅▆▇▅▆▇</td></tr></table><br/></div><div class=\"wandb-col\"><h3>Run summary:</h3><br/><table class=\"wandb\"><tr><td>epoch</td><td>19</td></tr><tr><td>test_f1</td><td>0.75263</td></tr><tr><td>test_recall_n</td><td>0.85283</td></tr><tr><td>train_f1</td><td>0.91943</td></tr><tr><td>train_loss</td><td>0.24591</td></tr><tr><td>train_recall_n</td><td>0.98432</td></tr></table><br/></div></div>"
      ],
      "text/plain": [
       "<IPython.core.display.HTML object>"
      ]
     },
     "metadata": {},
     "output_type": "display_data"
    },
    {
     "data": {
      "text/html": [
       " View run <strong style=\"color:#cdcd00\">LSTM</strong> at: <a href='https://wandb.ai/goodevening13/ml_sys_design/runs/222ty7wd' target=\"_blank\">https://wandb.ai/goodevening13/ml_sys_design/runs/222ty7wd</a><br> View project at: <a href='https://wandb.ai/goodevening13/ml_sys_design' target=\"_blank\">https://wandb.ai/goodevening13/ml_sys_design</a><br>Synced 5 W&B file(s), 0 media file(s), 0 artifact file(s) and 0 other file(s)"
      ],
      "text/plain": [
       "<IPython.core.display.HTML object>"
      ]
     },
     "metadata": {},
     "output_type": "display_data"
    },
    {
     "data": {
      "text/html": [
       "Find logs at: <code>./wandb/run-20250325_212400-222ty7wd/logs</code>"
      ],
      "text/plain": [
       "<IPython.core.display.HTML object>"
      ]
     },
     "metadata": {},
     "output_type": "display_data"
    },
    {
     "name": "stderr",
     "output_type": "stream",
     "text": [
      "[I 2025-03-25 21:29:36,901] Trial 7 finished with value: 0.7526282668113708 and parameters: {'hidden_dim': 64, 'num_layers': 2, 'dropout': 0.3926072895884507}. Best is trial 7 with value: 0.7526282668113708.\n"
     ]
    },
    {
     "data": {
      "text/html": [
       "Tracking run with wandb version 0.19.8"
      ],
      "text/plain": [
       "<IPython.core.display.HTML object>"
      ]
     },
     "metadata": {},
     "output_type": "display_data"
    },
    {
     "data": {
      "text/html": [
       "Run data is saved locally in <code>/extra_disk_1/alinashutova/last_hse/wandb/run-20250325_212936-5o248gfy</code>"
      ],
      "text/plain": [
       "<IPython.core.display.HTML object>"
      ]
     },
     "metadata": {},
     "output_type": "display_data"
    },
    {
     "data": {
      "text/html": [
       "Syncing run <strong><a href='https://wandb.ai/goodevening13/ml_sys_design/runs/5o248gfy' target=\"_blank\">LSTM</a></strong> to <a href='https://wandb.ai/goodevening13/ml_sys_design' target=\"_blank\">Weights & Biases</a> (<a href='https://wandb.me/developer-guide' target=\"_blank\">docs</a>)<br>"
      ],
      "text/plain": [
       "<IPython.core.display.HTML object>"
      ]
     },
     "metadata": {},
     "output_type": "display_data"
    },
    {
     "data": {
      "text/html": [
       " View project at <a href='https://wandb.ai/goodevening13/ml_sys_design' target=\"_blank\">https://wandb.ai/goodevening13/ml_sys_design</a>"
      ],
      "text/plain": [
       "<IPython.core.display.HTML object>"
      ]
     },
     "metadata": {},
     "output_type": "display_data"
    },
    {
     "data": {
      "text/html": [
       " View run at <a href='https://wandb.ai/goodevening13/ml_sys_design/runs/5o248gfy' target=\"_blank\">https://wandb.ai/goodevening13/ml_sys_design/runs/5o248gfy</a>"
      ],
      "text/plain": [
       "<IPython.core.display.HTML object>"
      ]
     },
     "metadata": {},
     "output_type": "display_data"
    },
    {
     "name": "stderr",
     "output_type": "stream",
     "text": [
      "100%|██████████| 20/20 [04:44<00:00, 14.21s/it]\n"
     ]
    },
    {
     "data": {
      "text/html": [],
      "text/plain": [
       "<IPython.core.display.HTML object>"
      ]
     },
     "metadata": {},
     "output_type": "display_data"
    },
    {
     "data": {
      "text/html": [
       "<br>    <style><br>        .wandb-row {<br>            display: flex;<br>            flex-direction: row;<br>            flex-wrap: wrap;<br>            justify-content: flex-start;<br>            width: 100%;<br>        }<br>        .wandb-col {<br>            display: flex;<br>            flex-direction: column;<br>            flex-basis: 100%;<br>            flex: 1;<br>            padding: 10px;<br>        }<br>    </style><br><div class=\"wandb-row\"><div class=\"wandb-col\"><h3>Run history:</h3><br/><table class=\"wandb\"><tr><td>epoch</td><td>▁▁▂▂▂▃▃▄▄▄▅▅▅▆▆▇▇▇██</td></tr><tr><td>test_f1</td><td>▃▄▄▄▁▄▄▅▄▇▇▅▇▇▇█████</td></tr><tr><td>test_recall_n</td><td>▄▄▃▄█▆▇▆▄▆▅▃▄▃▄▄▄▃▂▁</td></tr><tr><td>train_f1</td><td>▁▂▂▂▁▃▃▃▃▄▅▅▅▆▆▆▇▇██</td></tr><tr><td>train_loss</td><td>█▆▅▅▅▅▄▄▄▃▃▃▃▂▂▂▂▁▁▁</td></tr><tr><td>train_recall_n</td><td>▃▄▃▄█▆▇▆▄▆▅▄▃▁▅▅▅▃▄▂</td></tr></table><br/></div><div class=\"wandb-col\"><h3>Run summary:</h3><br/><table class=\"wandb\"><tr><td>epoch</td><td>19</td></tr><tr><td>test_f1</td><td>0.74166</td></tr><tr><td>test_recall_n</td><td>0.84211</td></tr><tr><td>train_f1</td><td>0.86327</td></tr><tr><td>train_loss</td><td>0.40918</td></tr><tr><td>train_recall_n</td><td>0.96404</td></tr></table><br/></div></div>"
      ],
      "text/plain": [
       "<IPython.core.display.HTML object>"
      ]
     },
     "metadata": {},
     "output_type": "display_data"
    },
    {
     "data": {
      "text/html": [
       " View run <strong style=\"color:#cdcd00\">LSTM</strong> at: <a href='https://wandb.ai/goodevening13/ml_sys_design/runs/5o248gfy' target=\"_blank\">https://wandb.ai/goodevening13/ml_sys_design/runs/5o248gfy</a><br> View project at: <a href='https://wandb.ai/goodevening13/ml_sys_design' target=\"_blank\">https://wandb.ai/goodevening13/ml_sys_design</a><br>Synced 5 W&B file(s), 0 media file(s), 0 artifact file(s) and 0 other file(s)"
      ],
      "text/plain": [
       "<IPython.core.display.HTML object>"
      ]
     },
     "metadata": {},
     "output_type": "display_data"
    },
    {
     "data": {
      "text/html": [
       "Find logs at: <code>./wandb/run-20250325_212936-5o248gfy/logs</code>"
      ],
      "text/plain": [
       "<IPython.core.display.HTML object>"
      ]
     },
     "metadata": {},
     "output_type": "display_data"
    },
    {
     "name": "stderr",
     "output_type": "stream",
     "text": [
      "[I 2025-03-25 21:34:23,506] Trial 8 finished with value: 0.7416589856147766 and parameters: {'hidden_dim': 32, 'num_layers': 2, 'dropout': 0.1915978973911459}. Best is trial 7 with value: 0.7526282668113708.\n"
     ]
    },
    {
     "data": {
      "text/html": [
       "Tracking run with wandb version 0.19.8"
      ],
      "text/plain": [
       "<IPython.core.display.HTML object>"
      ]
     },
     "metadata": {},
     "output_type": "display_data"
    },
    {
     "data": {
      "text/html": [
       "Run data is saved locally in <code>/extra_disk_1/alinashutova/last_hse/wandb/run-20250325_213423-o9jsbtd7</code>"
      ],
      "text/plain": [
       "<IPython.core.display.HTML object>"
      ]
     },
     "metadata": {},
     "output_type": "display_data"
    },
    {
     "data": {
      "text/html": [
       "Syncing run <strong><a href='https://wandb.ai/goodevening13/ml_sys_design/runs/o9jsbtd7' target=\"_blank\">LSTM</a></strong> to <a href='https://wandb.ai/goodevening13/ml_sys_design' target=\"_blank\">Weights & Biases</a> (<a href='https://wandb.me/developer-guide' target=\"_blank\">docs</a>)<br>"
      ],
      "text/plain": [
       "<IPython.core.display.HTML object>"
      ]
     },
     "metadata": {},
     "output_type": "display_data"
    },
    {
     "data": {
      "text/html": [
       " View project at <a href='https://wandb.ai/goodevening13/ml_sys_design' target=\"_blank\">https://wandb.ai/goodevening13/ml_sys_design</a>"
      ],
      "text/plain": [
       "<IPython.core.display.HTML object>"
      ]
     },
     "metadata": {},
     "output_type": "display_data"
    },
    {
     "data": {
      "text/html": [
       " View run at <a href='https://wandb.ai/goodevening13/ml_sys_design/runs/o9jsbtd7' target=\"_blank\">https://wandb.ai/goodevening13/ml_sys_design/runs/o9jsbtd7</a>"
      ],
      "text/plain": [
       "<IPython.core.display.HTML object>"
      ]
     },
     "metadata": {},
     "output_type": "display_data"
    },
    {
     "name": "stderr",
     "output_type": "stream",
     "text": [
      "100%|██████████| 20/20 [06:43<00:00, 20.20s/it]\n"
     ]
    },
    {
     "data": {
      "text/html": [],
      "text/plain": [
       "<IPython.core.display.HTML object>"
      ]
     },
     "metadata": {},
     "output_type": "display_data"
    },
    {
     "data": {
      "text/html": [
       "<br>    <style><br>        .wandb-row {<br>            display: flex;<br>            flex-direction: row;<br>            flex-wrap: wrap;<br>            justify-content: flex-start;<br>            width: 100%;<br>        }<br>        .wandb-col {<br>            display: flex;<br>            flex-direction: column;<br>            flex-basis: 100%;<br>            flex: 1;<br>            padding: 10px;<br>        }<br>    </style><br><div class=\"wandb-row\"><div class=\"wandb-col\"><h3>Run history:</h3><br/><table class=\"wandb\"><tr><td>epoch</td><td>▁▁▂▂▂▃▃▄▄▄▅▅▅▆▆▇▇▇██</td></tr><tr><td>test_f1</td><td>▁▃▃▃▃▅▅▆▆██▇▇▇██▇███</td></tr><tr><td>test_recall_n</td><td>█▇▇▇▇▅▄▆▄▄▄▄▃▃▃▁▂▂▁▂</td></tr><tr><td>train_f1</td><td>▁▂▂▂▂▃▄▅▅▆▆▆▆▇▇▇████</td></tr><tr><td>train_loss</td><td>█▇▆▆▅▅▄▄▃▃▃▃▂▂▂▂▂▁▁▁</td></tr><tr><td>train_recall_n</td><td>█▅▆▇█▆▁▆▁▄▅▄▇▇▇▄▇▅▃▆</td></tr></table><br/></div><div class=\"wandb-col\"><h3>Run summary:</h3><br/><table class=\"wandb\"><tr><td>epoch</td><td>19</td></tr><tr><td>test_f1</td><td>0.75078</td></tr><tr><td>test_recall_n</td><td>0.85283</td></tr><tr><td>train_f1</td><td>0.9316</td></tr><tr><td>train_loss</td><td>0.23706</td></tr><tr><td>train_recall_n</td><td>0.98465</td></tr></table><br/></div></div>"
      ],
      "text/plain": [
       "<IPython.core.display.HTML object>"
      ]
     },
     "metadata": {},
     "output_type": "display_data"
    },
    {
     "data": {
      "text/html": [
       " View run <strong style=\"color:#cdcd00\">LSTM</strong> at: <a href='https://wandb.ai/goodevening13/ml_sys_design/runs/o9jsbtd7' target=\"_blank\">https://wandb.ai/goodevening13/ml_sys_design/runs/o9jsbtd7</a><br> View project at: <a href='https://wandb.ai/goodevening13/ml_sys_design' target=\"_blank\">https://wandb.ai/goodevening13/ml_sys_design</a><br>Synced 5 W&B file(s), 0 media file(s), 0 artifact file(s) and 0 other file(s)"
      ],
      "text/plain": [
       "<IPython.core.display.HTML object>"
      ]
     },
     "metadata": {},
     "output_type": "display_data"
    },
    {
     "data": {
      "text/html": [
       "Find logs at: <code>./wandb/run-20250325_213423-o9jsbtd7/logs</code>"
      ],
      "text/plain": [
       "<IPython.core.display.HTML object>"
      ]
     },
     "metadata": {},
     "output_type": "display_data"
    },
    {
     "name": "stderr",
     "output_type": "stream",
     "text": [
      "[I 2025-03-25 21:41:10,286] Trial 9 finished with value: 0.7507827281951904 and parameters: {'hidden_dim': 128, 'num_layers': 4, 'dropout': 0.48174889407109966}. Best is trial 7 with value: 0.7526282668113708.\n"
     ]
    }
   ],
   "source": [
    "def objective_optuna(trial):\n",
    "    params = {\n",
    "        \"hidden_size\": trial.suggest_categorical(\"hidden_dim\", [32, 64, 128]),\n",
    "        \"num_layers\": trial.suggest_int(\"num_layers\", 1, 4),\n",
    "        \"dropout\": trial.suggest_float(\"dropout\", 0.1, 0.5)\n",
    "    }\n",
    "    \n",
    "    model = Baseline(embed_dim=params['hidden_size'], hidden_size=params['hidden_size'], output_size=7, use_rnn=False, \n",
    "                     num_layers=params['num_layers']).to(device)\n",
    "    \n",
    "    val_f1 = training_loop(model, 'LSTM', device, train_loader, val_loader, params=params)\n",
    "    return val_f1\n",
    "\n",
    "study = optuna.create_study(direction=\"maximize\")\n",
    "study.optimize(objective_optuna, n_trials=10)"
   ]
  },
  {
   "cell_type": "code",
   "execution_count": 21,
   "metadata": {},
   "outputs": [
    {
     "name": "stdout",
     "output_type": "stream",
     "text": [
      "\u001b[33mDEPRECATION: Loading egg at /extra_disk_1/alinashutova/anaconda3/envs/aquakv/lib/python3.11/site-packages/fast_hadamard_transform-1.0.4.post1-py3.11-linux-x86_64.egg is deprecated. pip 25.1 will enforce this behaviour change. A possible replacement is to use pip for package installation. Discussion can be found at https://github.com/pypa/pip/issues/12330\u001b[0m\u001b[33m\n",
      "\u001b[0m"
     ]
    }
   ],
   "source": [
    "! pip install -q tensorboardx"
   ]
  },
  {
   "cell_type": "code",
   "execution_count": 14,
   "metadata": {},
   "outputs": [
    {
     "name": "stderr",
     "output_type": "stream",
     "text": [
      "100%|██████████| 20/20 [04:43<00:00, 14.18s/it]\n"
     ]
    },
    {
     "data": {
      "text/html": [],
      "text/plain": [
       "<IPython.core.display.HTML object>"
      ]
     },
     "metadata": {},
     "output_type": "display_data"
    },
    {
     "data": {
      "text/html": [
       "<br>    <style><br>        .wandb-row {<br>            display: flex;<br>            flex-direction: row;<br>            flex-wrap: wrap;<br>            justify-content: flex-start;<br>            width: 100%;<br>        }<br>        .wandb-col {<br>            display: flex;<br>            flex-direction: column;<br>            flex-basis: 100%;<br>            flex: 1;<br>            padding: 10px;<br>        }<br>    </style><br><div class=\"wandb-row\"><div class=\"wandb-col\"><h3>Run history:</h3><br/><table class=\"wandb\"><tr><td>epoch</td><td>▁▁▂▂▂▃▃▄▄▄▅▅▅▆▆▇▇▇██</td></tr><tr><td>test_f1</td><td>▁▂▃▂▅▆▇▇▇▇▇██▇▇▇▇▇▇▇</td></tr><tr><td>test_recall_n</td><td>▆▇▆█▇▅▇▅▄▄▅▄▄▃▂▂▂▄▂▁</td></tr><tr><td>train_f1</td><td>▁▁▂▂▂▃▄▅▅▆▆▆▆▇▇▇█▇██</td></tr><tr><td>train_loss</td><td>█▆▆▅▅▅▄▄▃▃▃▂▂▂▂▂▁▁▁▁</td></tr><tr><td>train_recall_n</td><td>▅▆▅█▆▄▄▁▁▂▄▆▄▃▄▃▄▇▄▄</td></tr></table><br/></div><div class=\"wandb-col\"><h3>Run summary:</h3><br/><table class=\"wandb\"><tr><td>epoch</td><td>19</td></tr><tr><td>test_f1</td><td>0.75255</td></tr><tr><td>test_recall_n</td><td>0.87037</td></tr><tr><td>train_f1</td><td>0.94375</td></tr><tr><td>train_loss</td><td>0.21868</td></tr><tr><td>train_recall_n</td><td>0.97899</td></tr></table><br/></div></div>"
      ],
      "text/plain": [
       "<IPython.core.display.HTML object>"
      ]
     },
     "metadata": {},
     "output_type": "display_data"
    },
    {
     "data": {
      "text/html": [
       " View run <strong style=\"color:#cdcd00\">LSTM</strong> at: <a href='https://wandb.ai/goodevening13/ml_sys_design/runs/q5fh7r7y' target=\"_blank\">https://wandb.ai/goodevening13/ml_sys_design/runs/q5fh7r7y</a><br> View project at: <a href='https://wandb.ai/goodevening13/ml_sys_design' target=\"_blank\">https://wandb.ai/goodevening13/ml_sys_design</a><br>Synced 5 W&B file(s), 0 media file(s), 0 artifact file(s) and 0 other file(s)"
      ],
      "text/plain": [
       "<IPython.core.display.HTML object>"
      ]
     },
     "metadata": {},
     "output_type": "display_data"
    },
    {
     "data": {
      "text/html": [
       "Find logs at: <code>./wandb/run-20250325_230557-q5fh7r7y/logs</code>"
      ],
      "text/plain": [
       "<IPython.core.display.HTML object>"
      ]
     },
     "metadata": {},
     "output_type": "display_data"
    },
    {
     "name": "stdout",
     "output_type": "stream",
     "text": [
      "Лучшие параметры (Grid Search): {'lr': 0.001, 'optimizer': <class 'torch.optim.adam.Adam'>}\n"
     ]
    },
    {
     "data": {
      "text/html": [
       "Tracking run with wandb version 0.19.8"
      ],
      "text/plain": [
       "<IPython.core.display.HTML object>"
      ]
     },
     "metadata": {},
     "output_type": "display_data"
    },
    {
     "data": {
      "text/html": [
       "Run data is saved locally in <code>/extra_disk_1/alinashutova/last_hse/wandb/run-20250325_231057-j1hjjair</code>"
      ],
      "text/plain": [
       "<IPython.core.display.HTML object>"
      ]
     },
     "metadata": {},
     "output_type": "display_data"
    },
    {
     "data": {
      "text/html": [
       "Syncing run <strong><a href='https://wandb.ai/goodevening13/ml_sys_design/runs/j1hjjair' target=\"_blank\">LSTM</a></strong> to <a href='https://wandb.ai/goodevening13/ml_sys_design' target=\"_blank\">Weights & Biases</a> (<a href='https://wandb.me/developer-guide' target=\"_blank\">docs</a>)<br>"
      ],
      "text/plain": [
       "<IPython.core.display.HTML object>"
      ]
     },
     "metadata": {},
     "output_type": "display_data"
    },
    {
     "data": {
      "text/html": [
       " View project at <a href='https://wandb.ai/goodevening13/ml_sys_design' target=\"_blank\">https://wandb.ai/goodevening13/ml_sys_design</a>"
      ],
      "text/plain": [
       "<IPython.core.display.HTML object>"
      ]
     },
     "metadata": {},
     "output_type": "display_data"
    },
    {
     "data": {
      "text/html": [
       " View run at <a href='https://wandb.ai/goodevening13/ml_sys_design/runs/j1hjjair' target=\"_blank\">https://wandb.ai/goodevening13/ml_sys_design/runs/j1hjjair</a>"
      ],
      "text/plain": [
       "<IPython.core.display.HTML object>"
      ]
     },
     "metadata": {},
     "output_type": "display_data"
    },
    {
     "name": "stderr",
     "output_type": "stream",
     "text": [
      "100%|██████████| 20/20 [04:35<00:00, 13.75s/it]\n"
     ]
    },
    {
     "data": {
      "text/html": [],
      "text/plain": [
       "<IPython.core.display.HTML object>"
      ]
     },
     "metadata": {},
     "output_type": "display_data"
    },
    {
     "data": {
      "text/html": [
       "<br>    <style><br>        .wandb-row {<br>            display: flex;<br>            flex-direction: row;<br>            flex-wrap: wrap;<br>            justify-content: flex-start;<br>            width: 100%;<br>        }<br>        .wandb-col {<br>            display: flex;<br>            flex-direction: column;<br>            flex-basis: 100%;<br>            flex: 1;<br>            padding: 10px;<br>        }<br>    </style><br><div class=\"wandb-row\"><div class=\"wandb-col\"><h3>Run history:</h3><br/><table class=\"wandb\"><tr><td>epoch</td><td>▁▁▂▂▂▃▃▄▄▄▅▅▅▆▆▇▇▇██</td></tr><tr><td>test_f1</td><td>▂▁▃▄▄▆▆▅▇▆▅▇▇█▇▇▇▇▇█</td></tr><tr><td>test_recall_n</td><td>▃█▇▇▃▃▅▅▄▂▂▄▃▃▂▃▃▃▁▄</td></tr><tr><td>train_f1</td><td>▁▁▂▂▃▄▄▄▅▅▅▆▆▆▇▇▇███</td></tr><tr><td>train_loss</td><td>█▇▆▆▅▅▄▄▄▃▃▃▃▂▂▂▂▁▁▁</td></tr><tr><td>train_recall_n</td><td>▅█▇█▅▁▃▄▆▃▃▅▆▇▄▇▇▆▄▇</td></tr></table><br/></div><div class=\"wandb-col\"><h3>Run summary:</h3><br/><table class=\"wandb\"><tr><td>epoch</td><td>19</td></tr><tr><td>test_f1</td><td>0.76108</td></tr><tr><td>test_recall_n</td><td>0.92105</td></tr><tr><td>train_f1</td><td>0.90429</td></tr><tr><td>train_loss</td><td>0.28166</td></tr><tr><td>train_recall_n</td><td>0.99065</td></tr></table><br/></div></div>"
      ],
      "text/plain": [
       "<IPython.core.display.HTML object>"
      ]
     },
     "metadata": {},
     "output_type": "display_data"
    },
    {
     "data": {
      "text/html": [
       " View run <strong style=\"color:#cdcd00\">LSTM</strong> at: <a href='https://wandb.ai/goodevening13/ml_sys_design/runs/j1hjjair' target=\"_blank\">https://wandb.ai/goodevening13/ml_sys_design/runs/j1hjjair</a><br> View project at: <a href='https://wandb.ai/goodevening13/ml_sys_design' target=\"_blank\">https://wandb.ai/goodevening13/ml_sys_design</a><br>Synced 5 W&B file(s), 0 media file(s), 0 artifact file(s) and 0 other file(s)"
      ],
      "text/plain": [
       "<IPython.core.display.HTML object>"
      ]
     },
     "metadata": {},
     "output_type": "display_data"
    },
    {
     "data": {
      "text/html": [
       "Find logs at: <code>./wandb/run-20250325_231057-j1hjjair/logs</code>"
      ],
      "text/plain": [
       "<IPython.core.display.HTML object>"
      ]
     },
     "metadata": {},
     "output_type": "display_data"
    },
    {
     "name": "stdout",
     "output_type": "stream",
     "text": [
      "Лучшие параметры (Grid Search): {'lr': 0.001, 'optimizer': <class 'torch.optim.rmsprop.RMSprop'>}\n"
     ]
    },
    {
     "data": {
      "text/html": [
       "Tracking run with wandb version 0.19.8"
      ],
      "text/plain": [
       "<IPython.core.display.HTML object>"
      ]
     },
     "metadata": {},
     "output_type": "display_data"
    },
    {
     "data": {
      "text/html": [
       "Run data is saved locally in <code>/extra_disk_1/alinashutova/last_hse/wandb/run-20250325_231534-1glsy1jg</code>"
      ],
      "text/plain": [
       "<IPython.core.display.HTML object>"
      ]
     },
     "metadata": {},
     "output_type": "display_data"
    },
    {
     "data": {
      "text/html": [
       "Syncing run <strong><a href='https://wandb.ai/goodevening13/ml_sys_design/runs/1glsy1jg' target=\"_blank\">LSTM</a></strong> to <a href='https://wandb.ai/goodevening13/ml_sys_design' target=\"_blank\">Weights & Biases</a> (<a href='https://wandb.me/developer-guide' target=\"_blank\">docs</a>)<br>"
      ],
      "text/plain": [
       "<IPython.core.display.HTML object>"
      ]
     },
     "metadata": {},
     "output_type": "display_data"
    },
    {
     "data": {
      "text/html": [
       " View project at <a href='https://wandb.ai/goodevening13/ml_sys_design' target=\"_blank\">https://wandb.ai/goodevening13/ml_sys_design</a>"
      ],
      "text/plain": [
       "<IPython.core.display.HTML object>"
      ]
     },
     "metadata": {},
     "output_type": "display_data"
    },
    {
     "data": {
      "text/html": [
       " View run at <a href='https://wandb.ai/goodevening13/ml_sys_design/runs/1glsy1jg' target=\"_blank\">https://wandb.ai/goodevening13/ml_sys_design/runs/1glsy1jg</a>"
      ],
      "text/plain": [
       "<IPython.core.display.HTML object>"
      ]
     },
     "metadata": {},
     "output_type": "display_data"
    },
    {
     "name": "stderr",
     "output_type": "stream",
     "text": [
      "100%|██████████| 20/20 [04:28<00:00, 13.41s/it]\n"
     ]
    },
    {
     "data": {
      "text/html": [],
      "text/plain": [
       "<IPython.core.display.HTML object>"
      ]
     },
     "metadata": {},
     "output_type": "display_data"
    },
    {
     "data": {
      "text/html": [
       "<br>    <style><br>        .wandb-row {<br>            display: flex;<br>            flex-direction: row;<br>            flex-wrap: wrap;<br>            justify-content: flex-start;<br>            width: 100%;<br>        }<br>        .wandb-col {<br>            display: flex;<br>            flex-direction: column;<br>            flex-basis: 100%;<br>            flex: 1;<br>            padding: 10px;<br>        }<br>    </style><br><div class=\"wandb-row\"><div class=\"wandb-col\"><h3>Run history:</h3><br/><table class=\"wandb\"><tr><td>epoch</td><td>▁▁▂▂▂▃▃▄▄▄▅▅▅▆▆▇▇▇██</td></tr><tr><td>test_f1</td><td>▁▅▇▇▇▇▇▇▇▇▇▇▇▇▇█████</td></tr><tr><td>test_recall_n</td><td>█▃▁▂▂▄▃▂▃▄▃▂▂▅▃▄▃▂▃▃</td></tr><tr><td>train_f1</td><td>▁▄▆▆▆▇▇▇▇▇▇▇▇▇▇█████</td></tr><tr><td>train_loss</td><td>█▄▃▃▂▂▂▂▂▂▂▂▂▁▁▁▁▁▁▁</td></tr><tr><td>train_recall_n</td><td>█▃▁▄▃▃▃▃▃▄▃▂▂▅▃▄▄▃▄▃</td></tr></table><br/></div><div class=\"wandb-col\"><h3>Run summary:</h3><br/><table class=\"wandb\"><tr><td>epoch</td><td>19</td></tr><tr><td>test_f1</td><td>0.69011</td></tr><tr><td>test_recall_n</td><td>0.9347</td></tr><tr><td>train_f1</td><td>0.67688</td></tr><tr><td>train_loss</td><td>0.76432</td></tr><tr><td>train_recall_n</td><td>0.98169</td></tr></table><br/></div></div>"
      ],
      "text/plain": [
       "<IPython.core.display.HTML object>"
      ]
     },
     "metadata": {},
     "output_type": "display_data"
    },
    {
     "data": {
      "text/html": [
       " View run <strong style=\"color:#cdcd00\">LSTM</strong> at: <a href='https://wandb.ai/goodevening13/ml_sys_design/runs/1glsy1jg' target=\"_blank\">https://wandb.ai/goodevening13/ml_sys_design/runs/1glsy1jg</a><br> View project at: <a href='https://wandb.ai/goodevening13/ml_sys_design' target=\"_blank\">https://wandb.ai/goodevening13/ml_sys_design</a><br>Synced 5 W&B file(s), 0 media file(s), 0 artifact file(s) and 0 other file(s)"
      ],
      "text/plain": [
       "<IPython.core.display.HTML object>"
      ]
     },
     "metadata": {},
     "output_type": "display_data"
    },
    {
     "data": {
      "text/html": [
       "Find logs at: <code>./wandb/run-20250325_231534-1glsy1jg/logs</code>"
      ],
      "text/plain": [
       "<IPython.core.display.HTML object>"
      ]
     },
     "metadata": {},
     "output_type": "display_data"
    },
    {
     "name": "stdout",
     "output_type": "stream",
     "text": [
      "Лучшие параметры (Grid Search): {'lr': 0.001, 'optimizer': <class 'torch.optim.rmsprop.RMSprop'>}\n"
     ]
    },
    {
     "data": {
      "text/html": [
       "Tracking run with wandb version 0.19.8"
      ],
      "text/plain": [
       "<IPython.core.display.HTML object>"
      ]
     },
     "metadata": {},
     "output_type": "display_data"
    },
    {
     "data": {
      "text/html": [
       "Run data is saved locally in <code>/extra_disk_1/alinashutova/last_hse/wandb/run-20250325_232005-wx61ew7t</code>"
      ],
      "text/plain": [
       "<IPython.core.display.HTML object>"
      ]
     },
     "metadata": {},
     "output_type": "display_data"
    },
    {
     "data": {
      "text/html": [
       "Syncing run <strong><a href='https://wandb.ai/goodevening13/ml_sys_design/runs/wx61ew7t' target=\"_blank\">LSTM</a></strong> to <a href='https://wandb.ai/goodevening13/ml_sys_design' target=\"_blank\">Weights & Biases</a> (<a href='https://wandb.me/developer-guide' target=\"_blank\">docs</a>)<br>"
      ],
      "text/plain": [
       "<IPython.core.display.HTML object>"
      ]
     },
     "metadata": {},
     "output_type": "display_data"
    },
    {
     "data": {
      "text/html": [
       " View project at <a href='https://wandb.ai/goodevening13/ml_sys_design' target=\"_blank\">https://wandb.ai/goodevening13/ml_sys_design</a>"
      ],
      "text/plain": [
       "<IPython.core.display.HTML object>"
      ]
     },
     "metadata": {},
     "output_type": "display_data"
    },
    {
     "data": {
      "text/html": [
       " View run at <a href='https://wandb.ai/goodevening13/ml_sys_design/runs/wx61ew7t' target=\"_blank\">https://wandb.ai/goodevening13/ml_sys_design/runs/wx61ew7t</a>"
      ],
      "text/plain": [
       "<IPython.core.display.HTML object>"
      ]
     },
     "metadata": {},
     "output_type": "display_data"
    },
    {
     "name": "stderr",
     "output_type": "stream",
     "text": [
      "100%|██████████| 20/20 [04:35<00:00, 13.75s/it]\n"
     ]
    },
    {
     "data": {
      "text/html": [],
      "text/plain": [
       "<IPython.core.display.HTML object>"
      ]
     },
     "metadata": {},
     "output_type": "display_data"
    },
    {
     "data": {
      "text/html": [
       "<br>    <style><br>        .wandb-row {<br>            display: flex;<br>            flex-direction: row;<br>            flex-wrap: wrap;<br>            justify-content: flex-start;<br>            width: 100%;<br>        }<br>        .wandb-col {<br>            display: flex;<br>            flex-direction: column;<br>            flex-basis: 100%;<br>            flex: 1;<br>            padding: 10px;<br>        }<br>    </style><br><div class=\"wandb-row\"><div class=\"wandb-col\"><h3>Run history:</h3><br/><table class=\"wandb\"><tr><td>epoch</td><td>▁▁▂▂▂▃▃▄▄▄▅▅▅▆▆▇▇▇██</td></tr><tr><td>test_f1</td><td>▁▅▇▇▇▇▇█████████████</td></tr><tr><td>test_recall_n</td><td>█▄▂▁▃▂▄▄▃▄▄▄▆▄▃▅▃▄▄▃</td></tr><tr><td>train_f1</td><td>▁▆▆▇▇▇▇▇▇███████████</td></tr><tr><td>train_loss</td><td>█▄▃▃▂▂▂▂▂▂▂▂▂▁▁▁▁▁▁▁</td></tr><tr><td>train_recall_n</td><td>█▄▃▁▄▃▄▄▂▄▄▄▆▅▃▅▃▅▅▄</td></tr></table><br/></div><div class=\"wandb-col\"><h3>Run summary:</h3><br/><table class=\"wandb\"><tr><td>epoch</td><td>19</td></tr><tr><td>test_f1</td><td>0.64938</td></tr><tr><td>test_recall_n</td><td>0.92105</td></tr><tr><td>train_f1</td><td>0.66467</td></tr><tr><td>train_loss</td><td>0.79458</td></tr><tr><td>train_recall_n</td><td>0.97576</td></tr></table><br/></div></div>"
      ],
      "text/plain": [
       "<IPython.core.display.HTML object>"
      ]
     },
     "metadata": {},
     "output_type": "display_data"
    },
    {
     "data": {
      "text/html": [
       " View run <strong style=\"color:#cdcd00\">LSTM</strong> at: <a href='https://wandb.ai/goodevening13/ml_sys_design/runs/wx61ew7t' target=\"_blank\">https://wandb.ai/goodevening13/ml_sys_design/runs/wx61ew7t</a><br> View project at: <a href='https://wandb.ai/goodevening13/ml_sys_design' target=\"_blank\">https://wandb.ai/goodevening13/ml_sys_design</a><br>Synced 5 W&B file(s), 0 media file(s), 0 artifact file(s) and 0 other file(s)"
      ],
      "text/plain": [
       "<IPython.core.display.HTML object>"
      ]
     },
     "metadata": {},
     "output_type": "display_data"
    },
    {
     "data": {
      "text/html": [
       "Find logs at: <code>./wandb/run-20250325_232005-wx61ew7t/logs</code>"
      ],
      "text/plain": [
       "<IPython.core.display.HTML object>"
      ]
     },
     "metadata": {},
     "output_type": "display_data"
    },
    {
     "name": "stdout",
     "output_type": "stream",
     "text": [
      "Лучшие параметры (Grid Search): {'lr': 0.001, 'optimizer': <class 'torch.optim.rmsprop.RMSprop'>}\n"
     ]
    }
   ],
   "source": [
    "import torch.optim as optim\n",
    "\n",
    "\n",
    "grid_params = {\n",
    "    \"lr\": [1e-3, 1e-4],\n",
    "    \"optimizer\": [optim.Adam, optim.RMSprop],\n",
    "}\n",
    "\n",
    "best_val_f1 = 0\n",
    "for params in ParameterGrid(grid_params):\n",
    "    model = Baseline(embed_dim=64, hidden_size=64, output_size=7, use_rnn=False, \n",
    "                    num_layers=1).to(device)\n",
    "\n",
    "    val_f1 = training_loop(model, 'LSTM', device, train_loader, val_loader, params=params, optimizer=params[\"optimizer\"], lr=params['lr'])\n",
    "    if val_f1 > best_val_f1:\n",
    "        best_val_f1 = val_f1\n",
    "        best_params = params\n",
    "    \n",
    "    print(\"Лучшие параметры (Grid Search):\", best_params)"
   ]
  },
  {
   "cell_type": "code",
   "execution_count": null,
   "metadata": {},
   "outputs": [
    {
     "name": "stderr",
     "output_type": "stream",
     "text": [
      "2025-03-26 01:22:15,468\tINFO worker.py:1852 -- Started a local Ray instance.\n",
      "2025-03-26 01:22:18,416\tINFO tune.py:253 -- Initializing Ray automatically. For cluster usage or custom Ray initialization, call `ray.init(...)` before `tune.run(...)`.\n",
      "2025-03-26 01:22:18,421\tINFO tune.py:616 -- [output] This uses the legacy output and progress reporter, as Jupyter notebooks are not supported by the new engine, yet. For more information, please see https://github.com/ray-project/ray/issues/36949\n",
      "/home/alinashutova/anaconda3/envs/aquakv/lib/python3.11/site-packages/ray/tune/tune.py:730: UserWarning: Consider boosting PBT performance by enabling `reuse_actors` as well as implementing `reset_config` for Trainable.\n",
      "  warnings.warn(\n"
     ]
    },
    {
     "data": {
      "text/html": [
       "<div class=\"tuneStatus\">\n",
       "  <div style=\"display: flex;flex-direction: row\">\n",
       "    <div style=\"display: flex;flex-direction: column;\">\n",
       "      <h3>Tune Status</h3>\n",
       "      <table>\n",
       "<tbody>\n",
       "<tr><td>Current time:</td><td>2025-03-26 01:22:56</td></tr>\n",
       "<tr><td>Running for: </td><td>00:00:37.63        </td></tr>\n",
       "<tr><td>Memory:      </td><td>401.1/917.3 GiB    </td></tr>\n",
       "</tbody>\n",
       "</table>\n",
       "    </div>\n",
       "    <div class=\"vDivider\"></div>\n",
       "    <div class=\"systemInfo\">\n",
       "      <h3>System Info</h3>\n",
       "      PopulationBasedTraining: 1 checkpoints, 0 perturbs<br>Logical resource usage: 8.0/255 CPUs, 1.0/1 GPUs (0.0/1.0 accelerator_type:A100)\n",
       "    </div>\n",
       "    \n",
       "  </div>\n",
       "  <div class=\"hDivider\"></div>\n",
       "  <div class=\"trialStatus\">\n",
       "    <h3>Trial Status</h3>\n",
       "    <table>\n",
       "<thead>\n",
       "<tr><th>Trial name           </th><th>status  </th><th>loc               </th><th style=\"text-align: right;\">  iter</th><th style=\"text-align: right;\">  total time (s)</th><th style=\"text-align: right;\">  epoch</th><th style=\"text-align: right;\">  train_loss</th><th style=\"text-align: right;\">  train_recall_n</th></tr>\n",
       "</thead>\n",
       "<tbody>\n",
       "<tr><td>train_pbt_9cf58_00002</td><td>RUNNING </td><td>192.168.1.2:925825</td><td style=\"text-align: right;\">     1</td><td style=\"text-align: right;\">         7.05774</td><td style=\"text-align: right;\">      0</td><td style=\"text-align: right;\">     1.288  </td><td style=\"text-align: right;\">        1       </td></tr>\n",
       "<tr><td>train_pbt_9cf58_00003</td><td>RUNNING </td><td>192.168.1.2:925824</td><td style=\"text-align: right;\">     1</td><td style=\"text-align: right;\">         6.96627</td><td style=\"text-align: right;\">      0</td><td style=\"text-align: right;\">     1.2741 </td><td style=\"text-align: right;\">        0.995653</td></tr>\n",
       "<tr><td>train_pbt_9cf58_00000</td><td>PAUSED  </td><td>192.168.1.2:923125</td><td style=\"text-align: right;\">     2</td><td style=\"text-align: right;\">        12.51   </td><td style=\"text-align: right;\">      1</td><td style=\"text-align: right;\">     1.07725</td><td style=\"text-align: right;\">        0.975697</td></tr>\n",
       "<tr><td>train_pbt_9cf58_00001</td><td>PAUSED  </td><td>192.168.1.2:923126</td><td style=\"text-align: right;\">     2</td><td style=\"text-align: right;\">        12.4622 </td><td style=\"text-align: right;\">      1</td><td style=\"text-align: right;\">     1.09902</td><td style=\"text-align: right;\">        0.952249</td></tr>\n",
       "<tr><td>train_pbt_9cf58_00004</td><td>PENDING </td><td>                  </td><td style=\"text-align: right;\">      </td><td style=\"text-align: right;\">                </td><td style=\"text-align: right;\">       </td><td style=\"text-align: right;\">            </td><td style=\"text-align: right;\">                </td></tr>\n",
       "</tbody>\n",
       "</table>\n",
       "  </div>\n",
       "</div>\n",
       "<style>\n",
       ".tuneStatus {\n",
       "  color: var(--jp-ui-font-color1);\n",
       "}\n",
       ".tuneStatus .systemInfo {\n",
       "  display: flex;\n",
       "  flex-direction: column;\n",
       "}\n",
       ".tuneStatus td {\n",
       "  white-space: nowrap;\n",
       "}\n",
       ".tuneStatus .trialStatus {\n",
       "  display: flex;\n",
       "  flex-direction: column;\n",
       "}\n",
       ".tuneStatus h3 {\n",
       "  font-weight: bold;\n",
       "}\n",
       ".tuneStatus .hDivider {\n",
       "  border-bottom-width: var(--jp-border-width);\n",
       "  border-bottom-color: var(--jp-border-color0);\n",
       "  border-bottom-style: solid;\n",
       "}\n",
       ".tuneStatus .vDivider {\n",
       "  border-left-width: var(--jp-border-width);\n",
       "  border-left-color: var(--jp-border-color0);\n",
       "  border-left-style: solid;\n",
       "  margin: 0.5em 1em 0.5em 1em;\n",
       "}\n",
       "</style>\n"
      ],
      "text/plain": [
       "<IPython.core.display.HTML object>"
      ]
     },
     "metadata": {},
     "output_type": "display_data"
    },
    {
     "name": "stderr",
     "output_type": "stream",
     "text": [
      "2025-03-26 01:22:18,512\tWARNING tune_controller.py:2132 -- The maximum number of pending trials has been automatically set to the number of available cluster CPUs, which is high (280 CPUs/pending trials). If you're running an experiment with a large number of trials, this could lead to scheduling overhead. In this case, consider setting the `TUNE_MAX_PENDING_TRIALS_PG` environment variable to the desired maximum number of concurrent pending trials.\n",
      "2025-03-26 01:22:18,515\tWARNING tune_controller.py:2132 -- The maximum number of pending trials has been automatically set to the number of available cluster CPUs, which is high (280 CPUs/pending trials). If you're running an experiment with a large number of trials, this could lead to scheduling overhead. In this case, consider setting the `TUNE_MAX_PENDING_TRIALS_PG` environment variable to the desired maximum number of concurrent pending trials.\n"
     ]
    },
    {
     "name": "stdout",
     "output_type": "stream",
     "text": [
      "\u001b[33m(raylet)\u001b[0m Warning: The actor ImplicitFunc is very large (9 MiB). Check that its definition is not implicitly capturing a large array or other object in scope. Tip: use ray.put() to put large objects in the Ray object store.\n"
     ]
    },
    {
     "name": "stderr",
     "output_type": "stream",
     "text": [
      "\u001b[33m(raylet)\u001b[0m [2025-03-26 01:22:25,463 E 907034 907067] (raylet) file_system_monitor.cc:116: /var/tmp/ray/session_2025-03-26_01-22-13_421315_893989 is over 95% full, available space: 72.6015 GB; capacity: 2558.08 GB. Object creation will fail if spilling is required.\n",
      "\u001b[36m(train_pbt pid=923126)\u001b[0m /home/alinashutova/anaconda3/envs/aquakv/lib/python3.11/site-packages/torch/nn/modules/rnn.py:123: UserWarning: dropout option adds dropout after all but last recurrent layer, so non-zero dropout expects num_layers greater than 1, but got dropout=0.3 and num_layers=1\n",
      "\u001b[36m(train_pbt pid=923126)\u001b[0m   warnings.warn(\n"
     ]
    },
    {
     "data": {
      "text/html": [
       "<div class=\"trialProgress\">\n",
       "  <h3>Trial Progress</h3>\n",
       "  <table>\n",
       "<thead>\n",
       "<tr><th>Trial name           </th><th style=\"text-align: right;\">  epoch</th><th style=\"text-align: right;\">  train_f1</th><th style=\"text-align: right;\">  train_loss</th><th style=\"text-align: right;\">  train_recall_n</th><th style=\"text-align: right;\">  val_f1</th><th style=\"text-align: right;\">  val_recall_n</th></tr>\n",
       "</thead>\n",
       "<tbody>\n",
       "<tr><td>train_pbt_9cf58_00000</td><td style=\"text-align: right;\">      1</td><td style=\"text-align: right;\">  0.624046</td><td style=\"text-align: right;\">     1.07725</td><td style=\"text-align: right;\">        0.975697</td><td style=\"text-align: right;\">0.59309 </td><td style=\"text-align: right;\">      0.921315</td></tr>\n",
       "<tr><td>train_pbt_9cf58_00001</td><td style=\"text-align: right;\">      1</td><td style=\"text-align: right;\">  0.612376</td><td style=\"text-align: right;\">     1.09902</td><td style=\"text-align: right;\">        0.952249</td><td style=\"text-align: right;\">0.565483</td><td style=\"text-align: right;\">      0.88745 </td></tr>\n",
       "<tr><td>train_pbt_9cf58_00002</td><td style=\"text-align: right;\">      0</td><td style=\"text-align: right;\">  0.491823</td><td style=\"text-align: right;\">     1.288  </td><td style=\"text-align: right;\">        1       </td><td style=\"text-align: right;\">0.239572</td><td style=\"text-align: right;\">      1       </td></tr>\n",
       "<tr><td>train_pbt_9cf58_00003</td><td style=\"text-align: right;\">      0</td><td style=\"text-align: right;\">  0.513845</td><td style=\"text-align: right;\">     1.2741 </td><td style=\"text-align: right;\">        0.995653</td><td style=\"text-align: right;\">0.30628 </td><td style=\"text-align: right;\">      0.983068</td></tr>\n",
       "</tbody>\n",
       "</table>\n",
       "</div>\n",
       "<style>\n",
       ".trialProgress {\n",
       "  display: flex;\n",
       "  flex-direction: column;\n",
       "  color: var(--jp-ui-font-color1);\n",
       "}\n",
       ".trialProgress h3 {\n",
       "  font-weight: bold;\n",
       "}\n",
       ".trialProgress td {\n",
       "  white-space: nowrap;\n",
       "}\n",
       "</style>\n"
      ],
      "text/plain": [
       "<IPython.core.display.HTML object>"
      ]
     },
     "metadata": {},
     "output_type": "display_data"
    },
    {
     "name": "stderr",
     "output_type": "stream",
     "text": [
      "\u001b[33m(raylet)\u001b[0m [2025-03-26 01:22:35,484 E 907034 907067] (raylet) file_system_monitor.cc:116: /var/tmp/ray/session_2025-03-26_01-22-13_421315_893989 is over 95% full, available space: 72.5943 GB; capacity: 2558.08 GB. Object creation will fail if spilling is required.\n",
      "\u001b[36m(train_pbt pid=923125)\u001b[0m /home/alinashutova/anaconda3/envs/aquakv/lib/python3.11/site-packages/torch/nn/modules/rnn.py:123: UserWarning: dropout option adds dropout after all but last recurrent layer, so non-zero dropout expects num_layers greater than 1, but got dropout=0.3 and num_layers=1\n",
      "\u001b[36m(train_pbt pid=923125)\u001b[0m   warnings.warn(\n",
      "\u001b[33m(raylet)\u001b[0m [2025-03-26 01:22:45,502 E 907034 907067] (raylet) file_system_monitor.cc:116: /var/tmp/ray/session_2025-03-26_01-22-13_421315_893989 is over 95% full, available space: 72.5932 GB; capacity: 2558.08 GB. Object creation will fail if spilling is required.\n",
      "\u001b[36m(train_pbt pid=925825)\u001b[0m /home/alinashutova/anaconda3/envs/aquakv/lib/python3.11/site-packages/torch/nn/modules/rnn.py:123: UserWarning: dropout option adds dropout after all but last recurrent layer, so non-zero dropout expects num_layers greater than 1, but got dropout=0.3 and num_layers=1\n",
      "\u001b[36m(train_pbt pid=925825)\u001b[0m   warnings.warn(\n",
      "\u001b[33m(raylet)\u001b[0m [2025-03-26 01:22:55,537 E 907034 907067] (raylet) file_system_monitor.cc:116: /var/tmp/ray/session_2025-03-26_01-22-13_421315_893989 is over 95% full, available space: 72.5931 GB; capacity: 2558.08 GB. Object creation will fail if spilling is required.\n",
      "\u001b[36m(train_pbt pid=925824)\u001b[0m /home/alinashutova/anaconda3/envs/aquakv/lib/python3.11/site-packages/torch/nn/modules/rnn.py:123: UserWarning: dropout option adds dropout after all but last recurrent layer, so non-zero dropout expects num_layers greater than 1, but got dropout=0.3 and num_layers=1\n",
      "\u001b[36m(train_pbt pid=925824)\u001b[0m   warnings.warn(\n"
     ]
    }
   ],
   "source": [
    "import torch.optim as optim\n",
    "\n",
    "\n",
    "def train_pbt(config):\n",
    "    model = Baseline(embed_dim=64, hidden_size=64, output_size=7, use_rnn=False, num_layers=1, dropout=config[\"dropout\"]).to(device)\n",
    "    criterion = nn.CrossEntropyLoss(ignore_index=-1)\n",
    "    optimizer = optim.RMSprop(model.parameters(), lr=config[\"lr\"])\n",
    "\n",
    "    for epoch in range(20):\n",
    "        model.train()\n",
    "        running_loss = 0.0\n",
    "        for i, (inputs, labels, extra, lengths) in enumerate(train_loader):\n",
    "            inputs, labels = inputs.to(device), labels.to(device)\n",
    "            outputs = model(inputs, lengths)\n",
    "            loss = criterion(outputs, labels)\n",
    "            loss.backward()\n",
    "            optimizer.step()\n",
    "            running_loss += loss.item()\n",
    "        model.eval()\n",
    "        val_f1, val_recall_n = calculate_metrics(test_loader, model, device, 1, 7, pretrained=False)\n",
    "        train_f1, train_recall_n = calculate_metrics(train_loader, model, device, 1, 7, pretrained=False)\n",
    "        tune.report({\n",
    "            \"epoch\": float(epoch),\n",
    "            \"train_loss\": float(running_loss / len(train_loader)),\n",
    "            \"train_recall_n\": float(train_recall_n),\n",
    "            \"train_f1\": float(train_f1),\n",
    "            \"val_recall_n\": float(val_recall_n),\n",
    "            \"val_f1\": float(val_f1),\n",
    "        })\n",
    "        \n",
    "        \n",
    "\n",
    "pbt_scheduler = PopulationBasedTraining(\n",
    "    time_attr=\"training_iteration\",\n",
    "    metric=\"val_f1\",\n",
    "    mode=\"max\",\n",
    "    perturbation_interval=2,\n",
    "    hyperparam_mutations={\n",
    "        \"lr\": tune.loguniform(1e-5, 1e-3),\n",
    "        \"dropout\": tune.uniform(0.1, 0.5),\n",
    "    }\n",
    ")\n",
    "\n",
    "tune.run(\n",
    "    train_pbt,\n",
    "    config={\n",
    "        \"lr\": 1e-4,\n",
    "        \"dropout\": 0.3,\n",
    "    },\n",
    "    scheduler=pbt_scheduler,\n",
    "    num_samples=5,\n",
    "    resources_per_trial={\n",
    "        \"cpu\": 4,\n",
    "        \"gpu\": 0.5 if torch.cuda.is_available() else 0\n",
    "    }\n",
    ")"
   ]
  },
  {
   "cell_type": "markdown",
   "metadata": {},
   "source": [
    "То же самое для CNN"
   ]
  },
  {
   "cell_type": "code",
   "execution_count": 16,
   "metadata": {},
   "outputs": [
    {
     "name": "stderr",
     "output_type": "stream",
     "text": [
      "[I 2025-03-25 23:35:23,653] A new study created in memory with name: no-name-a20f00a2-b78a-44b0-8914-b6eaef0976aa\n"
     ]
    },
    {
     "data": {
      "text/html": [
       "Tracking run with wandb version 0.19.8"
      ],
      "text/plain": [
       "<IPython.core.display.HTML object>"
      ]
     },
     "metadata": {},
     "output_type": "display_data"
    },
    {
     "data": {
      "text/html": [
       "Run data is saved locally in <code>/extra_disk_1/alinashutova/last_hse/wandb/run-20250325_233523-g70qkw6p</code>"
      ],
      "text/plain": [
       "<IPython.core.display.HTML object>"
      ]
     },
     "metadata": {},
     "output_type": "display_data"
    },
    {
     "data": {
      "text/html": [
       "Syncing run <strong><a href='https://wandb.ai/goodevening13/ml_sys_design/runs/g70qkw6p' target=\"_blank\">CNN</a></strong> to <a href='https://wandb.ai/goodevening13/ml_sys_design' target=\"_blank\">Weights & Biases</a> (<a href='https://wandb.me/developer-guide' target=\"_blank\">docs</a>)<br>"
      ],
      "text/plain": [
       "<IPython.core.display.HTML object>"
      ]
     },
     "metadata": {},
     "output_type": "display_data"
    },
    {
     "data": {
      "text/html": [
       " View project at <a href='https://wandb.ai/goodevening13/ml_sys_design' target=\"_blank\">https://wandb.ai/goodevening13/ml_sys_design</a>"
      ],
      "text/plain": [
       "<IPython.core.display.HTML object>"
      ]
     },
     "metadata": {},
     "output_type": "display_data"
    },
    {
     "data": {
      "text/html": [
       " View run at <a href='https://wandb.ai/goodevening13/ml_sys_design/runs/g70qkw6p' target=\"_blank\">https://wandb.ai/goodevening13/ml_sys_design/runs/g70qkw6p</a>"
      ],
      "text/plain": [
       "<IPython.core.display.HTML object>"
      ]
     },
     "metadata": {},
     "output_type": "display_data"
    },
    {
     "name": "stderr",
     "output_type": "stream",
     "text": [
      "100%|██████████| 20/20 [04:36<00:00, 13.83s/it]\n"
     ]
    },
    {
     "data": {
      "text/html": [],
      "text/plain": [
       "<IPython.core.display.HTML object>"
      ]
     },
     "metadata": {},
     "output_type": "display_data"
    },
    {
     "data": {
      "text/html": [
       "<br>    <style><br>        .wandb-row {<br>            display: flex;<br>            flex-direction: row;<br>            flex-wrap: wrap;<br>            justify-content: flex-start;<br>            width: 100%;<br>        }<br>        .wandb-col {<br>            display: flex;<br>            flex-direction: column;<br>            flex-basis: 100%;<br>            flex: 1;<br>            padding: 10px;<br>        }<br>    </style><br><div class=\"wandb-row\"><div class=\"wandb-col\"><h3>Run history:</h3><br/><table class=\"wandb\"><tr><td>epoch</td><td>▁▁▂▂▂▃▃▄▄▄▅▅▅▆▆▇▇▇██</td></tr><tr><td>test_f1</td><td>▂▁▅▅▆▅▇▇▇█▇██▇▇▇▄█▇▇</td></tr><tr><td>test_recall_n</td><td>▇▅▆█▆▇▆▅▆▆▆▆▆▅▅▆▁▆▄▅</td></tr><tr><td>train_f1</td><td>▁▁▂▂▃▃▄▄▅▆▆▆▆▆▇▇▇███</td></tr><tr><td>train_loss</td><td>█▇▆▅▅▅▄▄▄▄▃▃▃▂▂▂▂▁▁▁</td></tr><tr><td>train_recall_n</td><td>█▆▇█▇▇▅▆▆▅▆▆▇▇▆▇▁▇▆▆</td></tr></table><br/></div><div class=\"wandb-col\"><h3>Run summary:</h3><br/><table class=\"wandb\"><tr><td>epoch</td><td>19</td></tr><tr><td>test_f1</td><td>0.74704</td></tr><tr><td>test_recall_n</td><td>0.87135</td></tr><tr><td>train_f1</td><td>0.89788</td></tr><tr><td>train_loss</td><td>0.34612</td></tr><tr><td>train_recall_n</td><td>0.9647</td></tr></table><br/></div></div>"
      ],
      "text/plain": [
       "<IPython.core.display.HTML object>"
      ]
     },
     "metadata": {},
     "output_type": "display_data"
    },
    {
     "data": {
      "text/html": [
       " View run <strong style=\"color:#cdcd00\">CNN</strong> at: <a href='https://wandb.ai/goodevening13/ml_sys_design/runs/g70qkw6p' target=\"_blank\">https://wandb.ai/goodevening13/ml_sys_design/runs/g70qkw6p</a><br> View project at: <a href='https://wandb.ai/goodevening13/ml_sys_design' target=\"_blank\">https://wandb.ai/goodevening13/ml_sys_design</a><br>Synced 5 W&B file(s), 0 media file(s), 0 artifact file(s) and 0 other file(s)"
      ],
      "text/plain": [
       "<IPython.core.display.HTML object>"
      ]
     },
     "metadata": {},
     "output_type": "display_data"
    },
    {
     "data": {
      "text/html": [
       "Find logs at: <code>./wandb/run-20250325_233523-g70qkw6p/logs</code>"
      ],
      "text/plain": [
       "<IPython.core.display.HTML object>"
      ]
     },
     "metadata": {},
     "output_type": "display_data"
    },
    {
     "name": "stderr",
     "output_type": "stream",
     "text": [
      "[I 2025-03-25 23:40:02,650] Trial 0 finished with value: 0.7470376491546631 and parameters: {'embed_dim': 32, 'num_convs': 3, 'dropout': 0.15071331742827523}. Best is trial 0 with value: 0.7470376491546631.\n"
     ]
    },
    {
     "data": {
      "text/html": [
       "Tracking run with wandb version 0.19.8"
      ],
      "text/plain": [
       "<IPython.core.display.HTML object>"
      ]
     },
     "metadata": {},
     "output_type": "display_data"
    },
    {
     "data": {
      "text/html": [
       "Run data is saved locally in <code>/extra_disk_1/alinashutova/last_hse/wandb/run-20250325_234002-empsqh1v</code>"
      ],
      "text/plain": [
       "<IPython.core.display.HTML object>"
      ]
     },
     "metadata": {},
     "output_type": "display_data"
    },
    {
     "data": {
      "text/html": [
       "Syncing run <strong><a href='https://wandb.ai/goodevening13/ml_sys_design/runs/empsqh1v' target=\"_blank\">CNN</a></strong> to <a href='https://wandb.ai/goodevening13/ml_sys_design' target=\"_blank\">Weights & Biases</a> (<a href='https://wandb.me/developer-guide' target=\"_blank\">docs</a>)<br>"
      ],
      "text/plain": [
       "<IPython.core.display.HTML object>"
      ]
     },
     "metadata": {},
     "output_type": "display_data"
    },
    {
     "data": {
      "text/html": [
       " View project at <a href='https://wandb.ai/goodevening13/ml_sys_design' target=\"_blank\">https://wandb.ai/goodevening13/ml_sys_design</a>"
      ],
      "text/plain": [
       "<IPython.core.display.HTML object>"
      ]
     },
     "metadata": {},
     "output_type": "display_data"
    },
    {
     "data": {
      "text/html": [
       " View run at <a href='https://wandb.ai/goodevening13/ml_sys_design/runs/empsqh1v' target=\"_blank\">https://wandb.ai/goodevening13/ml_sys_design/runs/empsqh1v</a>"
      ],
      "text/plain": [
       "<IPython.core.display.HTML object>"
      ]
     },
     "metadata": {},
     "output_type": "display_data"
    },
    {
     "name": "stderr",
     "output_type": "stream",
     "text": [
      "100%|██████████| 20/20 [04:28<00:00, 13.42s/it]\n"
     ]
    },
    {
     "data": {
      "text/html": [],
      "text/plain": [
       "<IPython.core.display.HTML object>"
      ]
     },
     "metadata": {},
     "output_type": "display_data"
    },
    {
     "data": {
      "text/html": [
       "<br>    <style><br>        .wandb-row {<br>            display: flex;<br>            flex-direction: row;<br>            flex-wrap: wrap;<br>            justify-content: flex-start;<br>            width: 100%;<br>        }<br>        .wandb-col {<br>            display: flex;<br>            flex-direction: column;<br>            flex-basis: 100%;<br>            flex: 1;<br>            padding: 10px;<br>        }<br>    </style><br><div class=\"wandb-row\"><div class=\"wandb-col\"><h3>Run history:</h3><br/><table class=\"wandb\"><tr><td>epoch</td><td>▁▁▂▂▂▃▃▄▄▄▅▅▅▆▆▇▇▇██</td></tr><tr><td>test_f1</td><td>▁▂▅▇▇▂▇█▇█▆▆▆▇█▆▆▆▆▆</td></tr><tr><td>test_recall_n</td><td>▇▃▆█▆▇▅▇▅▅▄▆▁▅▅▃▃▂▁▁</td></tr><tr><td>train_f1</td><td>▁▁▂▂▃▂▄▄▅▅▅▅▆▇▇▇████</td></tr><tr><td>train_loss</td><td>█▇▆▆▅▅▅▄▄▄▃▃▃▃▂▂▂▁▁▁</td></tr><tr><td>train_recall_n</td><td>▇▅▆█▇▇▁▆▄▅▆█▁▇▇▅▅▅▆▅</td></tr></table><br/></div><div class=\"wandb-col\"><h3>Run summary:</h3><br/><table class=\"wandb\"><tr><td>epoch</td><td>19</td></tr><tr><td>test_f1</td><td>0.73967</td></tr><tr><td>test_recall_n</td><td>0.82359</td></tr><tr><td>train_f1</td><td>0.92219</td></tr><tr><td>train_loss</td><td>0.28821</td></tr><tr><td>train_recall_n</td><td>0.96285</td></tr></table><br/></div></div>"
      ],
      "text/plain": [
       "<IPython.core.display.HTML object>"
      ]
     },
     "metadata": {},
     "output_type": "display_data"
    },
    {
     "data": {
      "text/html": [
       " View run <strong style=\"color:#cdcd00\">CNN</strong> at: <a href='https://wandb.ai/goodevening13/ml_sys_design/runs/empsqh1v' target=\"_blank\">https://wandb.ai/goodevening13/ml_sys_design/runs/empsqh1v</a><br> View project at: <a href='https://wandb.ai/goodevening13/ml_sys_design' target=\"_blank\">https://wandb.ai/goodevening13/ml_sys_design</a><br>Synced 5 W&B file(s), 0 media file(s), 0 artifact file(s) and 0 other file(s)"
      ],
      "text/plain": [
       "<IPython.core.display.HTML object>"
      ]
     },
     "metadata": {},
     "output_type": "display_data"
    },
    {
     "data": {
      "text/html": [
       "Find logs at: <code>./wandb/run-20250325_234002-empsqh1v/logs</code>"
      ],
      "text/plain": [
       "<IPython.core.display.HTML object>"
      ]
     },
     "metadata": {},
     "output_type": "display_data"
    },
    {
     "name": "stderr",
     "output_type": "stream",
     "text": [
      "[I 2025-03-25 23:44:32,906] Trial 1 finished with value: 0.7396743297576904 and parameters: {'embed_dim': 64, 'num_convs': 2, 'dropout': 0.39229083512627383}. Best is trial 0 with value: 0.7470376491546631.\n"
     ]
    },
    {
     "data": {
      "text/html": [
       "Tracking run with wandb version 0.19.8"
      ],
      "text/plain": [
       "<IPython.core.display.HTML object>"
      ]
     },
     "metadata": {},
     "output_type": "display_data"
    },
    {
     "data": {
      "text/html": [
       "Run data is saved locally in <code>/extra_disk_1/alinashutova/last_hse/wandb/run-20250325_234432-bdii47z4</code>"
      ],
      "text/plain": [
       "<IPython.core.display.HTML object>"
      ]
     },
     "metadata": {},
     "output_type": "display_data"
    },
    {
     "data": {
      "text/html": [
       "Syncing run <strong><a href='https://wandb.ai/goodevening13/ml_sys_design/runs/bdii47z4' target=\"_blank\">CNN</a></strong> to <a href='https://wandb.ai/goodevening13/ml_sys_design' target=\"_blank\">Weights & Biases</a> (<a href='https://wandb.me/developer-guide' target=\"_blank\">docs</a>)<br>"
      ],
      "text/plain": [
       "<IPython.core.display.HTML object>"
      ]
     },
     "metadata": {},
     "output_type": "display_data"
    },
    {
     "data": {
      "text/html": [
       " View project at <a href='https://wandb.ai/goodevening13/ml_sys_design' target=\"_blank\">https://wandb.ai/goodevening13/ml_sys_design</a>"
      ],
      "text/plain": [
       "<IPython.core.display.HTML object>"
      ]
     },
     "metadata": {},
     "output_type": "display_data"
    },
    {
     "data": {
      "text/html": [
       " View run at <a href='https://wandb.ai/goodevening13/ml_sys_design/runs/bdii47z4' target=\"_blank\">https://wandb.ai/goodevening13/ml_sys_design/runs/bdii47z4</a>"
      ],
      "text/plain": [
       "<IPython.core.display.HTML object>"
      ]
     },
     "metadata": {},
     "output_type": "display_data"
    },
    {
     "name": "stderr",
     "output_type": "stream",
     "text": [
      "100%|██████████| 20/20 [04:49<00:00, 14.47s/it]\n"
     ]
    },
    {
     "data": {
      "text/html": [],
      "text/plain": [
       "<IPython.core.display.HTML object>"
      ]
     },
     "metadata": {},
     "output_type": "display_data"
    },
    {
     "data": {
      "text/html": [
       "<br>    <style><br>        .wandb-row {<br>            display: flex;<br>            flex-direction: row;<br>            flex-wrap: wrap;<br>            justify-content: flex-start;<br>            width: 100%;<br>        }<br>        .wandb-col {<br>            display: flex;<br>            flex-direction: column;<br>            flex-basis: 100%;<br>            flex: 1;<br>            padding: 10px;<br>        }<br>    </style><br><div class=\"wandb-row\"><div class=\"wandb-col\"><h3>Run history:</h3><br/><table class=\"wandb\"><tr><td>epoch</td><td>▁▁▂▂▂▃▃▄▄▄▅▅▅▆▆▇▇▇██</td></tr><tr><td>test_f1</td><td>▃▅▄▆▁▅▄▇█▇▇▇▇▇█▆▅▇▇▇</td></tr><tr><td>test_recall_n</td><td>▆█▁▅▃▇▇▆▄▇▆▅▅▆▆▇▂▃▁▄</td></tr><tr><td>train_f1</td><td>▁▂▂▃▃▃▃▅▅▅▅▆▆▆▇▆▇███</td></tr><tr><td>train_loss</td><td>█▇▆▆▅▅▅▄▄▄▃▃▃▃▂▂▂▂▁▁</td></tr><tr><td>train_recall_n</td><td>▇█▁▇▅▇█▇▆▇▇▇▇▇▇█▇▇▆█</td></tr></table><br/></div><div class=\"wandb-col\"><h3>Run summary:</h3><br/><table class=\"wandb\"><tr><td>epoch</td><td>19</td></tr><tr><td>test_f1</td><td>0.75031</td></tr><tr><td>test_recall_n</td><td>0.87817</td></tr><tr><td>train_f1</td><td>0.91061</td></tr><tr><td>train_loss</td><td>0.30432</td></tr><tr><td>train_recall_n</td><td>0.98762</td></tr></table><br/></div></div>"
      ],
      "text/plain": [
       "<IPython.core.display.HTML object>"
      ]
     },
     "metadata": {},
     "output_type": "display_data"
    },
    {
     "data": {
      "text/html": [
       " View run <strong style=\"color:#cdcd00\">CNN</strong> at: <a href='https://wandb.ai/goodevening13/ml_sys_design/runs/bdii47z4' target=\"_blank\">https://wandb.ai/goodevening13/ml_sys_design/runs/bdii47z4</a><br> View project at: <a href='https://wandb.ai/goodevening13/ml_sys_design' target=\"_blank\">https://wandb.ai/goodevening13/ml_sys_design</a><br>Synced 5 W&B file(s), 0 media file(s), 0 artifact file(s) and 0 other file(s)"
      ],
      "text/plain": [
       "<IPython.core.display.HTML object>"
      ]
     },
     "metadata": {},
     "output_type": "display_data"
    },
    {
     "data": {
      "text/html": [
       "Find logs at: <code>./wandb/run-20250325_234432-bdii47z4/logs</code>"
      ],
      "text/plain": [
       "<IPython.core.display.HTML object>"
      ]
     },
     "metadata": {},
     "output_type": "display_data"
    },
    {
     "name": "stderr",
     "output_type": "stream",
     "text": [
      "[I 2025-03-25 23:49:24,868] Trial 2 finished with value: 0.7503054738044739 and parameters: {'embed_dim': 32, 'num_convs': 5, 'dropout': 0.10028882933049982}. Best is trial 2 with value: 0.7503054738044739.\n"
     ]
    },
    {
     "data": {
      "text/html": [
       "Tracking run with wandb version 0.19.8"
      ],
      "text/plain": [
       "<IPython.core.display.HTML object>"
      ]
     },
     "metadata": {},
     "output_type": "display_data"
    },
    {
     "data": {
      "text/html": [
       "Run data is saved locally in <code>/extra_disk_1/alinashutova/last_hse/wandb/run-20250325_234925-tnyrnwqc</code>"
      ],
      "text/plain": [
       "<IPython.core.display.HTML object>"
      ]
     },
     "metadata": {},
     "output_type": "display_data"
    },
    {
     "data": {
      "text/html": [
       "Syncing run <strong><a href='https://wandb.ai/goodevening13/ml_sys_design/runs/tnyrnwqc' target=\"_blank\">CNN</a></strong> to <a href='https://wandb.ai/goodevening13/ml_sys_design' target=\"_blank\">Weights & Biases</a> (<a href='https://wandb.me/developer-guide' target=\"_blank\">docs</a>)<br>"
      ],
      "text/plain": [
       "<IPython.core.display.HTML object>"
      ]
     },
     "metadata": {},
     "output_type": "display_data"
    },
    {
     "data": {
      "text/html": [
       " View project at <a href='https://wandb.ai/goodevening13/ml_sys_design' target=\"_blank\">https://wandb.ai/goodevening13/ml_sys_design</a>"
      ],
      "text/plain": [
       "<IPython.core.display.HTML object>"
      ]
     },
     "metadata": {},
     "output_type": "display_data"
    },
    {
     "data": {
      "text/html": [
       " View run at <a href='https://wandb.ai/goodevening13/ml_sys_design/runs/tnyrnwqc' target=\"_blank\">https://wandb.ai/goodevening13/ml_sys_design/runs/tnyrnwqc</a>"
      ],
      "text/plain": [
       "<IPython.core.display.HTML object>"
      ]
     },
     "metadata": {},
     "output_type": "display_data"
    },
    {
     "name": "stderr",
     "output_type": "stream",
     "text": [
      "100%|██████████| 20/20 [04:38<00:00, 13.93s/it]\n"
     ]
    },
    {
     "data": {
      "text/html": [],
      "text/plain": [
       "<IPython.core.display.HTML object>"
      ]
     },
     "metadata": {},
     "output_type": "display_data"
    },
    {
     "data": {
      "text/html": [
       "<br>    <style><br>        .wandb-row {<br>            display: flex;<br>            flex-direction: row;<br>            flex-wrap: wrap;<br>            justify-content: flex-start;<br>            width: 100%;<br>        }<br>        .wandb-col {<br>            display: flex;<br>            flex-direction: column;<br>            flex-basis: 100%;<br>            flex: 1;<br>            padding: 10px;<br>        }<br>    </style><br><div class=\"wandb-row\"><div class=\"wandb-col\"><h3>Run history:</h3><br/><table class=\"wandb\"><tr><td>epoch</td><td>▁▁▂▂▂▃▃▄▄▄▅▅▅▆▆▇▇▇██</td></tr><tr><td>test_f1</td><td>▁▃█▆▇▇▅▇▅▅▃▆▇▇▇▆▇▄▇▆</td></tr><tr><td>test_recall_n</td><td>██▇▅▅▆▅▃▆▅▁▂▂▄▃▁▄▃▂▁</td></tr><tr><td>train_f1</td><td>▁▂▃▄▄▅▅▆▅▆▆▇▇▇██████</td></tr><tr><td>train_loss</td><td>█▇▆▆▅▅▄▄▃▃▃▃▂▂▂▂▁▁▁▁</td></tr><tr><td>train_recall_n</td><td>█▇▇▁▃▆▃▃▇▇▂▂▄▆▅▅█▇▆▆</td></tr></table><br/></div><div class=\"wandb-col\"><h3>Run summary:</h3><br/><table class=\"wandb\"><tr><td>epoch</td><td>19</td></tr><tr><td>test_f1</td><td>0.74914</td></tr><tr><td>test_recall_n</td><td>0.83821</td></tr><tr><td>train_f1</td><td>0.96251</td></tr><tr><td>train_loss</td><td>0.17022</td></tr><tr><td>train_recall_n</td><td>0.97952</td></tr></table><br/></div></div>"
      ],
      "text/plain": [
       "<IPython.core.display.HTML object>"
      ]
     },
     "metadata": {},
     "output_type": "display_data"
    },
    {
     "data": {
      "text/html": [
       " View run <strong style=\"color:#cdcd00\">CNN</strong> at: <a href='https://wandb.ai/goodevening13/ml_sys_design/runs/tnyrnwqc' target=\"_blank\">https://wandb.ai/goodevening13/ml_sys_design/runs/tnyrnwqc</a><br> View project at: <a href='https://wandb.ai/goodevening13/ml_sys_design' target=\"_blank\">https://wandb.ai/goodevening13/ml_sys_design</a><br>Synced 5 W&B file(s), 0 media file(s), 0 artifact file(s) and 0 other file(s)"
      ],
      "text/plain": [
       "<IPython.core.display.HTML object>"
      ]
     },
     "metadata": {},
     "output_type": "display_data"
    },
    {
     "data": {
      "text/html": [
       "Find logs at: <code>./wandb/run-20250325_234925-tnyrnwqc/logs</code>"
      ],
      "text/plain": [
       "<IPython.core.display.HTML object>"
      ]
     },
     "metadata": {},
     "output_type": "display_data"
    },
    {
     "name": "stderr",
     "output_type": "stream",
     "text": [
      "[I 2025-03-25 23:54:05,977] Trial 3 finished with value: 0.749137818813324 and parameters: {'embed_dim': 128, 'num_convs': 3, 'dropout': 0.2009823567262941}. Best is trial 2 with value: 0.7503054738044739.\n"
     ]
    },
    {
     "data": {
      "text/html": [
       "Tracking run with wandb version 0.19.8"
      ],
      "text/plain": [
       "<IPython.core.display.HTML object>"
      ]
     },
     "metadata": {},
     "output_type": "display_data"
    },
    {
     "data": {
      "text/html": [
       "Run data is saved locally in <code>/extra_disk_1/alinashutova/last_hse/wandb/run-20250325_235406-sa7b42vi</code>"
      ],
      "text/plain": [
       "<IPython.core.display.HTML object>"
      ]
     },
     "metadata": {},
     "output_type": "display_data"
    },
    {
     "data": {
      "text/html": [
       "Syncing run <strong><a href='https://wandb.ai/goodevening13/ml_sys_design/runs/sa7b42vi' target=\"_blank\">CNN</a></strong> to <a href='https://wandb.ai/goodevening13/ml_sys_design' target=\"_blank\">Weights & Biases</a> (<a href='https://wandb.me/developer-guide' target=\"_blank\">docs</a>)<br>"
      ],
      "text/plain": [
       "<IPython.core.display.HTML object>"
      ]
     },
     "metadata": {},
     "output_type": "display_data"
    },
    {
     "data": {
      "text/html": [
       " View project at <a href='https://wandb.ai/goodevening13/ml_sys_design' target=\"_blank\">https://wandb.ai/goodevening13/ml_sys_design</a>"
      ],
      "text/plain": [
       "<IPython.core.display.HTML object>"
      ]
     },
     "metadata": {},
     "output_type": "display_data"
    },
    {
     "data": {
      "text/html": [
       " View run at <a href='https://wandb.ai/goodevening13/ml_sys_design/runs/sa7b42vi' target=\"_blank\">https://wandb.ai/goodevening13/ml_sys_design/runs/sa7b42vi</a>"
      ],
      "text/plain": [
       "<IPython.core.display.HTML object>"
      ]
     },
     "metadata": {},
     "output_type": "display_data"
    },
    {
     "name": "stderr",
     "output_type": "stream",
     "text": [
      "100%|██████████| 20/20 [04:44<00:00, 14.24s/it]\n"
     ]
    },
    {
     "data": {
      "text/html": [],
      "text/plain": [
       "<IPython.core.display.HTML object>"
      ]
     },
     "metadata": {},
     "output_type": "display_data"
    },
    {
     "data": {
      "text/html": [
       "<br>    <style><br>        .wandb-row {<br>            display: flex;<br>            flex-direction: row;<br>            flex-wrap: wrap;<br>            justify-content: flex-start;<br>            width: 100%;<br>        }<br>        .wandb-col {<br>            display: flex;<br>            flex-direction: column;<br>            flex-basis: 100%;<br>            flex: 1;<br>            padding: 10px;<br>        }<br>    </style><br><div class=\"wandb-row\"><div class=\"wandb-col\"><h3>Run history:</h3><br/><table class=\"wandb\"><tr><td>epoch</td><td>▁▁▂▂▂▃▃▄▄▄▅▅▅▆▆▇▇▇██</td></tr><tr><td>test_f1</td><td>▄▁▅▆▇▇▆▂▇▇▄▅▆▇█▆████</td></tr><tr><td>test_recall_n</td><td>▆▆▇▇██▅█▅▅▅▇▇▆▅▁▅▄▅▅</td></tr><tr><td>train_f1</td><td>▁▁▂▂▃▃▃▃▅▅▄▄▅▆▇▆▇▇██</td></tr><tr><td>train_loss</td><td>█▇▆▆▅▅▅▄▄▄▃▃▃▃▂▂▂▂▁▁</td></tr><tr><td>train_recall_n</td><td>▇▇▇███▇█▅▆▇██▇▇▁▇▆█▇</td></tr></table><br/></div><div class=\"wandb-col\"><h3>Run summary:</h3><br/><table class=\"wandb\"><tr><td>epoch</td><td>19</td></tr><tr><td>test_f1</td><td>0.75318</td></tr><tr><td>test_recall_n</td><td>0.86647</td></tr><tr><td>train_f1</td><td>0.89725</td></tr><tr><td>train_loss</td><td>0.37167</td></tr><tr><td>train_recall_n</td><td>0.95528</td></tr></table><br/></div></div>"
      ],
      "text/plain": [
       "<IPython.core.display.HTML object>"
      ]
     },
     "metadata": {},
     "output_type": "display_data"
    },
    {
     "data": {
      "text/html": [
       " View run <strong style=\"color:#cdcd00\">CNN</strong> at: <a href='https://wandb.ai/goodevening13/ml_sys_design/runs/sa7b42vi' target=\"_blank\">https://wandb.ai/goodevening13/ml_sys_design/runs/sa7b42vi</a><br> View project at: <a href='https://wandb.ai/goodevening13/ml_sys_design' target=\"_blank\">https://wandb.ai/goodevening13/ml_sys_design</a><br>Synced 5 W&B file(s), 0 media file(s), 0 artifact file(s) and 0 other file(s)"
      ],
      "text/plain": [
       "<IPython.core.display.HTML object>"
      ]
     },
     "metadata": {},
     "output_type": "display_data"
    },
    {
     "data": {
      "text/html": [
       "Find logs at: <code>./wandb/run-20250325_235406-sa7b42vi/logs</code>"
      ],
      "text/plain": [
       "<IPython.core.display.HTML object>"
      ]
     },
     "metadata": {},
     "output_type": "display_data"
    },
    {
     "name": "stderr",
     "output_type": "stream",
     "text": [
      "[I 2025-03-25 23:58:53,050] Trial 4 finished with value: 0.7531791925430298 and parameters: {'embed_dim': 32, 'num_convs': 5, 'dropout': 0.35235017826646153}. Best is trial 4 with value: 0.7531791925430298.\n"
     ]
    },
    {
     "data": {
      "text/html": [
       "Tracking run with wandb version 0.19.8"
      ],
      "text/plain": [
       "<IPython.core.display.HTML object>"
      ]
     },
     "metadata": {},
     "output_type": "display_data"
    },
    {
     "data": {
      "text/html": [
       "Run data is saved locally in <code>/extra_disk_1/alinashutova/last_hse/wandb/run-20250325_235853-bylr7wmv</code>"
      ],
      "text/plain": [
       "<IPython.core.display.HTML object>"
      ]
     },
     "metadata": {},
     "output_type": "display_data"
    },
    {
     "data": {
      "text/html": [
       "Syncing run <strong><a href='https://wandb.ai/goodevening13/ml_sys_design/runs/bylr7wmv' target=\"_blank\">CNN</a></strong> to <a href='https://wandb.ai/goodevening13/ml_sys_design' target=\"_blank\">Weights & Biases</a> (<a href='https://wandb.me/developer-guide' target=\"_blank\">docs</a>)<br>"
      ],
      "text/plain": [
       "<IPython.core.display.HTML object>"
      ]
     },
     "metadata": {},
     "output_type": "display_data"
    },
    {
     "data": {
      "text/html": [
       " View project at <a href='https://wandb.ai/goodevening13/ml_sys_design' target=\"_blank\">https://wandb.ai/goodevening13/ml_sys_design</a>"
      ],
      "text/plain": [
       "<IPython.core.display.HTML object>"
      ]
     },
     "metadata": {},
     "output_type": "display_data"
    },
    {
     "data": {
      "text/html": [
       " View run at <a href='https://wandb.ai/goodevening13/ml_sys_design/runs/bylr7wmv' target=\"_blank\">https://wandb.ai/goodevening13/ml_sys_design/runs/bylr7wmv</a>"
      ],
      "text/plain": [
       "<IPython.core.display.HTML object>"
      ]
     },
     "metadata": {},
     "output_type": "display_data"
    },
    {
     "name": "stderr",
     "output_type": "stream",
     "text": [
      "100%|██████████| 20/20 [04:40<00:00, 14.04s/it]\n"
     ]
    },
    {
     "data": {
      "text/html": [],
      "text/plain": [
       "<IPython.core.display.HTML object>"
      ]
     },
     "metadata": {},
     "output_type": "display_data"
    },
    {
     "data": {
      "text/html": [
       "<br>    <style><br>        .wandb-row {<br>            display: flex;<br>            flex-direction: row;<br>            flex-wrap: wrap;<br>            justify-content: flex-start;<br>            width: 100%;<br>        }<br>        .wandb-col {<br>            display: flex;<br>            flex-direction: column;<br>            flex-basis: 100%;<br>            flex: 1;<br>            padding: 10px;<br>        }<br>    </style><br><div class=\"wandb-row\"><div class=\"wandb-col\"><h3>Run history:</h3><br/><table class=\"wandb\"><tr><td>epoch</td><td>▁▁▂▂▂▃▃▄▄▄▅▅▅▆▆▇▇▇██</td></tr><tr><td>test_f1</td><td>▁▆▆▄▆▇▅▇█▆█▇█▇▇▇▇▇▇▇</td></tr><tr><td>test_recall_n</td><td>▇▆▃▅▂▄▅▂▅▃█▃▇▅▄▁▁▂▁▂</td></tr><tr><td>train_f1</td><td>▁▂▃▂▄▄▄▅▅▅▆▆▆▇▇▇▇███</td></tr><tr><td>train_loss</td><td>█▇▆▆▆▅▅▄▄▄▃▃▃▃▂▂▂▂▁▁</td></tr><tr><td>train_recall_n</td><td>▇▇▅▇▁▆▅▄▆▅█▅█▇▆▆▆▇▇▇</td></tr></table><br/></div><div class=\"wandb-col\"><h3>Run summary:</h3><br/><table class=\"wandb\"><tr><td>epoch</td><td>19</td></tr><tr><td>test_f1</td><td>0.7388</td></tr><tr><td>test_recall_n</td><td>0.82359</td></tr><tr><td>train_f1</td><td>0.93257</td></tr><tr><td>train_loss</td><td>0.25429</td></tr><tr><td>train_recall_n</td><td>0.96252</td></tr></table><br/></div></div>"
      ],
      "text/plain": [
       "<IPython.core.display.HTML object>"
      ]
     },
     "metadata": {},
     "output_type": "display_data"
    },
    {
     "data": {
      "text/html": [
       " View run <strong style=\"color:#cdcd00\">CNN</strong> at: <a href='https://wandb.ai/goodevening13/ml_sys_design/runs/bylr7wmv' target=\"_blank\">https://wandb.ai/goodevening13/ml_sys_design/runs/bylr7wmv</a><br> View project at: <a href='https://wandb.ai/goodevening13/ml_sys_design' target=\"_blank\">https://wandb.ai/goodevening13/ml_sys_design</a><br>Synced 5 W&B file(s), 0 media file(s), 0 artifact file(s) and 0 other file(s)"
      ],
      "text/plain": [
       "<IPython.core.display.HTML object>"
      ]
     },
     "metadata": {},
     "output_type": "display_data"
    },
    {
     "data": {
      "text/html": [
       "Find logs at: <code>./wandb/run-20250325_235853-bylr7wmv/logs</code>"
      ],
      "text/plain": [
       "<IPython.core.display.HTML object>"
      ]
     },
     "metadata": {},
     "output_type": "display_data"
    },
    {
     "name": "stderr",
     "output_type": "stream",
     "text": [
      "[I 2025-03-26 00:03:36,461] Trial 5 finished with value: 0.7387993931770325 and parameters: {'embed_dim': 64, 'num_convs': 3, 'dropout': 0.3569675213020953}. Best is trial 4 with value: 0.7531791925430298.\n"
     ]
    }
   ],
   "source": [
    "def objective_optuna(trial):\n",
    "    params = {\n",
    "        \"embed_dim\": trial.suggest_categorical(\"embed_dim\", [32, 64, 128]),\n",
    "        \"num_convs\": trial.suggest_int(\"num_convs\", 2, 5),\n",
    "        \"dropout\": trial.suggest_float(\"dropout\", 0.1, 0.5)\n",
    "    }\n",
    "    \n",
    "    model = TextCNN(embed_dim=params['embed_dim'], output_size=7, num_convs=params['num_convs'], dropout=params['dropout']).to(device)\n",
    "    \n",
    "    val_f1 = training_loop(model, 'CNN', device, train_loader, val_loader, params=params)\n",
    "    return val_f1\n",
    "\n",
    "study = optuna.create_study(direction=\"maximize\")\n",
    "study.optimize(objective_optuna, n_trials=6)"
   ]
  },
  {
   "cell_type": "code",
   "execution_count": 18,
   "metadata": {},
   "outputs": [
    {
     "data": {
      "text/html": [
       "Tracking run with wandb version 0.19.8"
      ],
      "text/plain": [
       "<IPython.core.display.HTML object>"
      ]
     },
     "metadata": {},
     "output_type": "display_data"
    },
    {
     "data": {
      "text/html": [
       "Run data is saved locally in <code>/extra_disk_1/alinashutova/last_hse/wandb/run-20250326_001409-dy4mf7sk</code>"
      ],
      "text/plain": [
       "<IPython.core.display.HTML object>"
      ]
     },
     "metadata": {},
     "output_type": "display_data"
    },
    {
     "data": {
      "text/html": [
       "Syncing run <strong><a href='https://wandb.ai/goodevening13/ml_sys_design/runs/dy4mf7sk' target=\"_blank\">CNN</a></strong> to <a href='https://wandb.ai/goodevening13/ml_sys_design' target=\"_blank\">Weights & Biases</a> (<a href='https://wandb.me/developer-guide' target=\"_blank\">docs</a>)<br>"
      ],
      "text/plain": [
       "<IPython.core.display.HTML object>"
      ]
     },
     "metadata": {},
     "output_type": "display_data"
    },
    {
     "data": {
      "text/html": [
       " View project at <a href='https://wandb.ai/goodevening13/ml_sys_design' target=\"_blank\">https://wandb.ai/goodevening13/ml_sys_design</a>"
      ],
      "text/plain": [
       "<IPython.core.display.HTML object>"
      ]
     },
     "metadata": {},
     "output_type": "display_data"
    },
    {
     "data": {
      "text/html": [
       " View run at <a href='https://wandb.ai/goodevening13/ml_sys_design/runs/dy4mf7sk' target=\"_blank\">https://wandb.ai/goodevening13/ml_sys_design/runs/dy4mf7sk</a>"
      ],
      "text/plain": [
       "<IPython.core.display.HTML object>"
      ]
     },
     "metadata": {},
     "output_type": "display_data"
    },
    {
     "name": "stderr",
     "output_type": "stream",
     "text": [
      "100%|██████████| 20/20 [06:51<00:00, 20.56s/it]\n"
     ]
    },
    {
     "data": {
      "text/html": [],
      "text/plain": [
       "<IPython.core.display.HTML object>"
      ]
     },
     "metadata": {},
     "output_type": "display_data"
    },
    {
     "data": {
      "text/html": [
       "<br>    <style><br>        .wandb-row {<br>            display: flex;<br>            flex-direction: row;<br>            flex-wrap: wrap;<br>            justify-content: flex-start;<br>            width: 100%;<br>        }<br>        .wandb-col {<br>            display: flex;<br>            flex-direction: column;<br>            flex-basis: 100%;<br>            flex: 1;<br>            padding: 10px;<br>        }<br>    </style><br><div class=\"wandb-row\"><div class=\"wandb-col\"><h3>Run history:</h3><br/><table class=\"wandb\"><tr><td>epoch</td><td>▁▁▂▂▂▃▃▄▄▄▅▅▅▆▆▇▇▇██</td></tr><tr><td>test_f1</td><td>▁▄▂▇▇▅▆▆▆▅▇▆█▇██▇▇▇▇</td></tr><tr><td>test_recall_n</td><td>▃▃▁█▅▆▂▆▇▂▆▆▅▃▅▆▄▆▃▄</td></tr><tr><td>train_f1</td><td>▁▂▂▃▃▃▄▄▄▅▅▅▇▆▇▇█▇██</td></tr><tr><td>train_loss</td><td>█▇▆▆▅▅▅▄▄▄▃▃▃▃▂▂▂▁▁▁</td></tr><tr><td>train_recall_n</td><td>▅▆▄█▇▇▄▆▇▁█▇▆▆▇█▆█▆▇</td></tr></table><br/></div><div class=\"wandb-col\"><h3>Run summary:</h3><br/><table class=\"wandb\"><tr><td>epoch</td><td>19</td></tr><tr><td>test_f1</td><td>0.74395</td></tr><tr><td>test_recall_n</td><td>0.85283</td></tr><tr><td>train_f1</td><td>0.88489</td></tr><tr><td>train_loss</td><td>0.35594</td></tr><tr><td>train_recall_n</td><td>0.95765</td></tr></table><br/></div></div>"
      ],
      "text/plain": [
       "<IPython.core.display.HTML object>"
      ]
     },
     "metadata": {},
     "output_type": "display_data"
    },
    {
     "data": {
      "text/html": [
       " View run <strong style=\"color:#cdcd00\">CNN</strong> at: <a href='https://wandb.ai/goodevening13/ml_sys_design/runs/dy4mf7sk' target=\"_blank\">https://wandb.ai/goodevening13/ml_sys_design/runs/dy4mf7sk</a><br> View project at: <a href='https://wandb.ai/goodevening13/ml_sys_design' target=\"_blank\">https://wandb.ai/goodevening13/ml_sys_design</a><br>Synced 5 W&B file(s), 0 media file(s), 0 artifact file(s) and 0 other file(s)"
      ],
      "text/plain": [
       "<IPython.core.display.HTML object>"
      ]
     },
     "metadata": {},
     "output_type": "display_data"
    },
    {
     "data": {
      "text/html": [
       "Find logs at: <code>./wandb/run-20250326_001409-dy4mf7sk/logs</code>"
      ],
      "text/plain": [
       "<IPython.core.display.HTML object>"
      ]
     },
     "metadata": {},
     "output_type": "display_data"
    },
    {
     "data": {
      "text/html": [
       "Tracking run with wandb version 0.19.8"
      ],
      "text/plain": [
       "<IPython.core.display.HTML object>"
      ]
     },
     "metadata": {},
     "output_type": "display_data"
    },
    {
     "data": {
      "text/html": [
       "Run data is saved locally in <code>/extra_disk_1/alinashutova/last_hse/wandb/run-20250326_002103-a1fd8u6a</code>"
      ],
      "text/plain": [
       "<IPython.core.display.HTML object>"
      ]
     },
     "metadata": {},
     "output_type": "display_data"
    },
    {
     "data": {
      "text/html": [
       "Syncing run <strong><a href='https://wandb.ai/goodevening13/ml_sys_design/runs/a1fd8u6a' target=\"_blank\">CNN</a></strong> to <a href='https://wandb.ai/goodevening13/ml_sys_design' target=\"_blank\">Weights & Biases</a> (<a href='https://wandb.me/developer-guide' target=\"_blank\">docs</a>)<br>"
      ],
      "text/plain": [
       "<IPython.core.display.HTML object>"
      ]
     },
     "metadata": {},
     "output_type": "display_data"
    },
    {
     "data": {
      "text/html": [
       " View project at <a href='https://wandb.ai/goodevening13/ml_sys_design' target=\"_blank\">https://wandb.ai/goodevening13/ml_sys_design</a>"
      ],
      "text/plain": [
       "<IPython.core.display.HTML object>"
      ]
     },
     "metadata": {},
     "output_type": "display_data"
    },
    {
     "data": {
      "text/html": [
       " View run at <a href='https://wandb.ai/goodevening13/ml_sys_design/runs/a1fd8u6a' target=\"_blank\">https://wandb.ai/goodevening13/ml_sys_design/runs/a1fd8u6a</a>"
      ],
      "text/plain": [
       "<IPython.core.display.HTML object>"
      ]
     },
     "metadata": {},
     "output_type": "display_data"
    },
    {
     "name": "stderr",
     "output_type": "stream",
     "text": [
      "100%|██████████| 20/20 [04:59<00:00, 14.95s/it]\n"
     ]
    },
    {
     "data": {
      "text/html": [],
      "text/plain": [
       "<IPython.core.display.HTML object>"
      ]
     },
     "metadata": {},
     "output_type": "display_data"
    },
    {
     "data": {
      "text/html": [
       "<br>    <style><br>        .wandb-row {<br>            display: flex;<br>            flex-direction: row;<br>            flex-wrap: wrap;<br>            justify-content: flex-start;<br>            width: 100%;<br>        }<br>        .wandb-col {<br>            display: flex;<br>            flex-direction: column;<br>            flex-basis: 100%;<br>            flex: 1;<br>            padding: 10px;<br>        }<br>    </style><br><div class=\"wandb-row\"><div class=\"wandb-col\"><h3>Run history:</h3><br/><table class=\"wandb\"><tr><td>epoch</td><td>▁▁▂▂▂▃▃▄▄▄▅▅▅▆▆▇▇▇██</td></tr><tr><td>test_f1</td><td>▃▆▅▂▅▁██▇▂▅▆▆▇▄▅▆▅▅▇</td></tr><tr><td>test_recall_n</td><td>▅▇▇▂█▇▇▇▇▁▆▄▇▇▄▅▅▁▆▆</td></tr><tr><td>train_f1</td><td>▄▅▅▁▅▅▆▇▇▃▆▆▇█▆▇▇▃▇█</td></tr><tr><td>train_loss</td><td>█▆▅▅▄▄▄▄▃▃▃▃▂▂▂▂▂▁▁▁</td></tr><tr><td>train_recall_n</td><td>▇▆█▁█▇█▇█▂▇▅█▇▆▇▆▁▇▇</td></tr></table><br/></div><div class=\"wandb-col\"><h3>Run summary:</h3><br/><table class=\"wandb\"><tr><td>epoch</td><td>19</td></tr><tr><td>test_f1</td><td>0.71516</td></tr><tr><td>test_recall_n</td><td>0.82651</td></tr><tr><td>train_f1</td><td>0.8295</td></tr><tr><td>train_loss</td><td>0.47988</td></tr><tr><td>train_recall_n</td><td>0.93447</td></tr></table><br/></div></div>"
      ],
      "text/plain": [
       "<IPython.core.display.HTML object>"
      ]
     },
     "metadata": {},
     "output_type": "display_data"
    },
    {
     "data": {
      "text/html": [
       " View run <strong style=\"color:#cdcd00\">CNN</strong> at: <a href='https://wandb.ai/goodevening13/ml_sys_design/runs/a1fd8u6a' target=\"_blank\">https://wandb.ai/goodevening13/ml_sys_design/runs/a1fd8u6a</a><br> View project at: <a href='https://wandb.ai/goodevening13/ml_sys_design' target=\"_blank\">https://wandb.ai/goodevening13/ml_sys_design</a><br>Synced 5 W&B file(s), 0 media file(s), 0 artifact file(s) and 0 other file(s)"
      ],
      "text/plain": [
       "<IPython.core.display.HTML object>"
      ]
     },
     "metadata": {},
     "output_type": "display_data"
    },
    {
     "data": {
      "text/html": [
       "Find logs at: <code>./wandb/run-20250326_002103-a1fd8u6a/logs</code>"
      ],
      "text/plain": [
       "<IPython.core.display.HTML object>"
      ]
     },
     "metadata": {},
     "output_type": "display_data"
    },
    {
     "data": {
      "text/html": [
       "Tracking run with wandb version 0.19.8"
      ],
      "text/plain": [
       "<IPython.core.display.HTML object>"
      ]
     },
     "metadata": {},
     "output_type": "display_data"
    },
    {
     "data": {
      "text/html": [
       "Run data is saved locally in <code>/extra_disk_1/alinashutova/last_hse/wandb/run-20250326_002604-w9atq0a2</code>"
      ],
      "text/plain": [
       "<IPython.core.display.HTML object>"
      ]
     },
     "metadata": {},
     "output_type": "display_data"
    },
    {
     "data": {
      "text/html": [
       "Syncing run <strong><a href='https://wandb.ai/goodevening13/ml_sys_design/runs/w9atq0a2' target=\"_blank\">CNN</a></strong> to <a href='https://wandb.ai/goodevening13/ml_sys_design' target=\"_blank\">Weights & Biases</a> (<a href='https://wandb.me/developer-guide' target=\"_blank\">docs</a>)<br>"
      ],
      "text/plain": [
       "<IPython.core.display.HTML object>"
      ]
     },
     "metadata": {},
     "output_type": "display_data"
    },
    {
     "data": {
      "text/html": [
       " View project at <a href='https://wandb.ai/goodevening13/ml_sys_design' target=\"_blank\">https://wandb.ai/goodevening13/ml_sys_design</a>"
      ],
      "text/plain": [
       "<IPython.core.display.HTML object>"
      ]
     },
     "metadata": {},
     "output_type": "display_data"
    },
    {
     "data": {
      "text/html": [
       " View run at <a href='https://wandb.ai/goodevening13/ml_sys_design/runs/w9atq0a2' target=\"_blank\">https://wandb.ai/goodevening13/ml_sys_design/runs/w9atq0a2</a>"
      ],
      "text/plain": [
       "<IPython.core.display.HTML object>"
      ]
     },
     "metadata": {},
     "output_type": "display_data"
    },
    {
     "name": "stderr",
     "output_type": "stream",
     "text": [
      "100%|██████████| 20/20 [04:50<00:00, 14.53s/it]\n"
     ]
    },
    {
     "data": {
      "text/html": [],
      "text/plain": [
       "<IPython.core.display.HTML object>"
      ]
     },
     "metadata": {},
     "output_type": "display_data"
    },
    {
     "data": {
      "text/html": [
       "<br>    <style><br>        .wandb-row {<br>            display: flex;<br>            flex-direction: row;<br>            flex-wrap: wrap;<br>            justify-content: flex-start;<br>            width: 100%;<br>        }<br>        .wandb-col {<br>            display: flex;<br>            flex-direction: column;<br>            flex-basis: 100%;<br>            flex: 1;<br>            padding: 10px;<br>        }<br>    </style><br><div class=\"wandb-row\"><div class=\"wandb-col\"><h3>Run history:</h3><br/><table class=\"wandb\"><tr><td>epoch</td><td>▁▁▂▂▂▃▃▄▄▄▅▅▅▆▆▇▇▇██</td></tr><tr><td>test_f1</td><td>▁▂▄▄▄▆▆▅▆▄▇▇▇▇▇██▇██</td></tr><tr><td>test_recall_n</td><td>█▆▅▄▂▅▁▂▄▂▃▅▃▅▄▆█▂▆▅</td></tr><tr><td>train_f1</td><td>▁▂▃▃▃▅▅▅▅▄▆▇▇▇▇▇▇███</td></tr><tr><td>train_loss</td><td>█▅▅▄▄▃▃▃▂▂▂▂▂▂▁▁▁▁▁▁</td></tr><tr><td>train_recall_n</td><td>█▇▆▆▅▆▄▄▅▄▄▆▄▆▅▆▇▁▆▅</td></tr></table><br/></div><div class=\"wandb-col\"><h3>Run summary:</h3><br/><table class=\"wandb\"><tr><td>epoch</td><td>19</td></tr><tr><td>test_f1</td><td>0.71986</td></tr><tr><td>test_recall_n</td><td>0.90253</td></tr><tr><td>train_f1</td><td>0.69622</td></tr><tr><td>train_loss</td><td>0.77858</td></tr><tr><td>train_recall_n</td><td>0.96555</td></tr></table><br/></div></div>"
      ],
      "text/plain": [
       "<IPython.core.display.HTML object>"
      ]
     },
     "metadata": {},
     "output_type": "display_data"
    },
    {
     "data": {
      "text/html": [
       " View run <strong style=\"color:#cdcd00\">CNN</strong> at: <a href='https://wandb.ai/goodevening13/ml_sys_design/runs/w9atq0a2' target=\"_blank\">https://wandb.ai/goodevening13/ml_sys_design/runs/w9atq0a2</a><br> View project at: <a href='https://wandb.ai/goodevening13/ml_sys_design' target=\"_blank\">https://wandb.ai/goodevening13/ml_sys_design</a><br>Synced 5 W&B file(s), 0 media file(s), 0 artifact file(s) and 0 other file(s)"
      ],
      "text/plain": [
       "<IPython.core.display.HTML object>"
      ]
     },
     "metadata": {},
     "output_type": "display_data"
    },
    {
     "data": {
      "text/html": [
       "Find logs at: <code>./wandb/run-20250326_002604-w9atq0a2/logs</code>"
      ],
      "text/plain": [
       "<IPython.core.display.HTML object>"
      ]
     },
     "metadata": {},
     "output_type": "display_data"
    },
    {
     "data": {
      "text/html": [
       "Tracking run with wandb version 0.19.8"
      ],
      "text/plain": [
       "<IPython.core.display.HTML object>"
      ]
     },
     "metadata": {},
     "output_type": "display_data"
    },
    {
     "data": {
      "text/html": [
       "Run data is saved locally in <code>/extra_disk_1/alinashutova/last_hse/wandb/run-20250326_003057-9yhxpypt</code>"
      ],
      "text/plain": [
       "<IPython.core.display.HTML object>"
      ]
     },
     "metadata": {},
     "output_type": "display_data"
    },
    {
     "data": {
      "text/html": [
       "Syncing run <strong><a href='https://wandb.ai/goodevening13/ml_sys_design/runs/9yhxpypt' target=\"_blank\">CNN</a></strong> to <a href='https://wandb.ai/goodevening13/ml_sys_design' target=\"_blank\">Weights & Biases</a> (<a href='https://wandb.me/developer-guide' target=\"_blank\">docs</a>)<br>"
      ],
      "text/plain": [
       "<IPython.core.display.HTML object>"
      ]
     },
     "metadata": {},
     "output_type": "display_data"
    },
    {
     "data": {
      "text/html": [
       " View project at <a href='https://wandb.ai/goodevening13/ml_sys_design' target=\"_blank\">https://wandb.ai/goodevening13/ml_sys_design</a>"
      ],
      "text/plain": [
       "<IPython.core.display.HTML object>"
      ]
     },
     "metadata": {},
     "output_type": "display_data"
    },
    {
     "data": {
      "text/html": [
       " View run at <a href='https://wandb.ai/goodevening13/ml_sys_design/runs/9yhxpypt' target=\"_blank\">https://wandb.ai/goodevening13/ml_sys_design/runs/9yhxpypt</a>"
      ],
      "text/plain": [
       "<IPython.core.display.HTML object>"
      ]
     },
     "metadata": {},
     "output_type": "display_data"
    },
    {
     "name": "stderr",
     "output_type": "stream",
     "text": [
      "100%|██████████| 20/20 [04:51<00:00, 14.58s/it]\n"
     ]
    },
    {
     "data": {
      "text/html": [],
      "text/plain": [
       "<IPython.core.display.HTML object>"
      ]
     },
     "metadata": {},
     "output_type": "display_data"
    },
    {
     "data": {
      "text/html": [
       "<br>    <style><br>        .wandb-row {<br>            display: flex;<br>            flex-direction: row;<br>            flex-wrap: wrap;<br>            justify-content: flex-start;<br>            width: 100%;<br>        }<br>        .wandb-col {<br>            display: flex;<br>            flex-direction: column;<br>            flex-basis: 100%;<br>            flex: 1;<br>            padding: 10px;<br>        }<br>    </style><br><div class=\"wandb-row\"><div class=\"wandb-col\"><h3>Run history:</h3><br/><table class=\"wandb\"><tr><td>epoch</td><td>▁▁▂▂▂▃▃▄▄▄▅▅▅▆▆▇▇▇██</td></tr><tr><td>test_f1</td><td>▁▂▂▅▅▅▇▄▄▅█▆▅█▇▇█▄▆▇</td></tr><tr><td>test_recall_n</td><td>▇▇▄▅▇▇▇▅▆▇▆▅▅▇█▇▃▁▃▆</td></tr><tr><td>train_f1</td><td>▁▁▂▃▃▄▅▄▄▅▆▆▅▇▆▆█▆▇▇</td></tr><tr><td>train_loss</td><td>█▆▆▅▅▄▄▃▃▃▃▂▂▂▂▂▁▁▁▁</td></tr><tr><td>train_recall_n</td><td>██▅▆███▆▇▇▇▆▅▇█▇▂▁▅▇</td></tr></table><br/></div><div class=\"wandb-col\"><h3>Run summary:</h3><br/><table class=\"wandb\"><tr><td>epoch</td><td>19</td></tr><tr><td>test_f1</td><td>0.68947</td></tr><tr><td>test_recall_n</td><td>0.90936</td></tr><tr><td>train_f1</td><td>0.68312</td></tr><tr><td>train_loss</td><td>0.78377</td></tr><tr><td>train_recall_n</td><td>0.96924</td></tr></table><br/></div></div>"
      ],
      "text/plain": [
       "<IPython.core.display.HTML object>"
      ]
     },
     "metadata": {},
     "output_type": "display_data"
    },
    {
     "data": {
      "text/html": [
       " View run <strong style=\"color:#cdcd00\">CNN</strong> at: <a href='https://wandb.ai/goodevening13/ml_sys_design/runs/9yhxpypt' target=\"_blank\">https://wandb.ai/goodevening13/ml_sys_design/runs/9yhxpypt</a><br> View project at: <a href='https://wandb.ai/goodevening13/ml_sys_design' target=\"_blank\">https://wandb.ai/goodevening13/ml_sys_design</a><br>Synced 5 W&B file(s), 0 media file(s), 0 artifact file(s) and 0 other file(s)"
      ],
      "text/plain": [
       "<IPython.core.display.HTML object>"
      ]
     },
     "metadata": {},
     "output_type": "display_data"
    },
    {
     "data": {
      "text/html": [
       "Find logs at: <code>./wandb/run-20250326_003057-9yhxpypt/logs</code>"
      ],
      "text/plain": [
       "<IPython.core.display.HTML object>"
      ]
     },
     "metadata": {},
     "output_type": "display_data"
    },
    {
     "name": "stdout",
     "output_type": "stream",
     "text": [
      "Лучшие параметры (Grid Search): {'lr': 0.001, 'optimizer': <class 'torch.optim.adam.Adam'>}\n"
     ]
    }
   ],
   "source": [
    "\n",
    "grid_params = {\n",
    "    \"lr\": [1e-3, 1e-4],\n",
    "    \"optimizer\": [optim.Adam, optim.RMSprop],\n",
    "}\n",
    "best_val_f1 = 0\n",
    "for params in ParameterGrid(grid_params):\n",
    "    model = TextCNN(embed_dim=32, output_size=7, dropout=0.352, num_convs=5).to(device)\n",
    "\n",
    "    val_f1 = training_loop(model, 'CNN', device, train_loader, val_loader, params=params, optimizer=params[\"optimizer\"], lr=params['lr'])\n",
    "    if val_f1 > best_val_f1:\n",
    "        best_val_f1 = val_f1\n",
    "        best_params = params\n",
    "\n",
    "print(\"Лучшие параметры (Grid Search):\", best_params)"
   ]
  },
  {
   "cell_type": "markdown",
   "metadata": {},
   "source": [
    "## 4. Демо инференса модели  (2 балл)\n",
    "\n",
    "В репозитории по ссылке https://github.com/goodevening13/last_hse\n",
    "\n",
    "Все скриншоты также в репозитории"
   ]
  },
  {
   "cell_type": "code",
   "execution_count": 19,
   "metadata": {},
   "outputs": [
    {
     "name": "stderr",
     "output_type": "stream",
     "text": [
      "/home/alinashutova/anaconda3/envs/aquakv/lib/python3.11/site-packages/torch/nn/modules/rnn.py:123: UserWarning: dropout option adds dropout after all but last recurrent layer, so non-zero dropout expects num_layers greater than 1, but got dropout=0.25 and num_layers=1\n",
      "  warnings.warn(\n"
     ]
    },
    {
     "data": {
      "text/html": [
       "Tracking run with wandb version 0.19.8"
      ],
      "text/plain": [
       "<IPython.core.display.HTML object>"
      ]
     },
     "metadata": {},
     "output_type": "display_data"
    },
    {
     "data": {
      "text/html": [
       "Run data is saved locally in <code>/extra_disk_1/alinashutova/last_hse/wandb/run-20250326_003720-9ms11yvn</code>"
      ],
      "text/plain": [
       "<IPython.core.display.HTML object>"
      ]
     },
     "metadata": {},
     "output_type": "display_data"
    },
    {
     "data": {
      "text/html": [
       "Syncing run <strong><a href='https://wandb.ai/goodevening13/ml_sys_design/runs/9ms11yvn' target=\"_blank\">LSTM</a></strong> to <a href='https://wandb.ai/goodevening13/ml_sys_design' target=\"_blank\">Weights & Biases</a> (<a href='https://wandb.me/developer-guide' target=\"_blank\">docs</a>)<br>"
      ],
      "text/plain": [
       "<IPython.core.display.HTML object>"
      ]
     },
     "metadata": {},
     "output_type": "display_data"
    },
    {
     "data": {
      "text/html": [
       " View project at <a href='https://wandb.ai/goodevening13/ml_sys_design' target=\"_blank\">https://wandb.ai/goodevening13/ml_sys_design</a>"
      ],
      "text/plain": [
       "<IPython.core.display.HTML object>"
      ]
     },
     "metadata": {},
     "output_type": "display_data"
    },
    {
     "data": {
      "text/html": [
       " View run at <a href='https://wandb.ai/goodevening13/ml_sys_design/runs/9ms11yvn' target=\"_blank\">https://wandb.ai/goodevening13/ml_sys_design/runs/9ms11yvn</a>"
      ],
      "text/plain": [
       "<IPython.core.display.HTML object>"
      ]
     },
     "metadata": {},
     "output_type": "display_data"
    },
    {
     "name": "stderr",
     "output_type": "stream",
     "text": [
      "100%|██████████| 20/20 [04:44<00:00, 14.23s/it]\n"
     ]
    },
    {
     "data": {
      "text/html": [],
      "text/plain": [
       "<IPython.core.display.HTML object>"
      ]
     },
     "metadata": {},
     "output_type": "display_data"
    },
    {
     "data": {
      "text/html": [
       "<br>    <style><br>        .wandb-row {<br>            display: flex;<br>            flex-direction: row;<br>            flex-wrap: wrap;<br>            justify-content: flex-start;<br>            width: 100%;<br>        }<br>        .wandb-col {<br>            display: flex;<br>            flex-direction: column;<br>            flex-basis: 100%;<br>            flex: 1;<br>            padding: 10px;<br>        }<br>    </style><br><div class=\"wandb-row\"><div class=\"wandb-col\"><h3>Run history:</h3><br/><table class=\"wandb\"><tr><td>epoch</td><td>▁▁▂▂▂▃▃▄▄▄▅▅▅▆▆▇▇▇██</td></tr><tr><td>test_f1</td><td>▁▃▄▄▃▆▄▇▇█▇▆▇▅██▇█▇█</td></tr><tr><td>test_recall_n</td><td>▇██▇▃▆█▇▆▇▆▁▆▃▆▆▃▅▄▆</td></tr><tr><td>train_f1</td><td>▁▂▂▂▃▄▃▄▅▅▆▆▆▆▇▇████</td></tr><tr><td>train_loss</td><td>█▇▆▆▅▅▅▄▄▄▃▃▃▂▂▂▂▁▁▁</td></tr><tr><td>train_recall_n</td><td>▇▇█▇▄▅▇▆▆▆▅▁▇▅▇▇▅▇▆█</td></tr></table><br/></div><div class=\"wandb-col\"><h3>Run summary:</h3><br/><table class=\"wandb\"><tr><td>epoch</td><td>19</td></tr><tr><td>test_f1</td><td>0.76438</td></tr><tr><td>test_recall_n</td><td>0.93372</td></tr><tr><td>train_f1</td><td>0.8851</td></tr><tr><td>train_loss</td><td>0.29155</td></tr><tr><td>train_recall_n</td><td>0.99295</td></tr></table><br/></div></div>"
      ],
      "text/plain": [
       "<IPython.core.display.HTML object>"
      ]
     },
     "metadata": {},
     "output_type": "display_data"
    },
    {
     "data": {
      "text/html": [
       " View run <strong style=\"color:#cdcd00\">LSTM</strong> at: <a href='https://wandb.ai/goodevening13/ml_sys_design/runs/9ms11yvn' target=\"_blank\">https://wandb.ai/goodevening13/ml_sys_design/runs/9ms11yvn</a><br> View project at: <a href='https://wandb.ai/goodevening13/ml_sys_design' target=\"_blank\">https://wandb.ai/goodevening13/ml_sys_design</a><br>Synced 5 W&B file(s), 0 media file(s), 0 artifact file(s) and 0 other file(s)"
      ],
      "text/plain": [
       "<IPython.core.display.HTML object>"
      ]
     },
     "metadata": {},
     "output_type": "display_data"
    },
    {
     "data": {
      "text/html": [
       "Find logs at: <code>./wandb/run-20250326_003720-9ms11yvn/logs</code>"
      ],
      "text/plain": [
       "<IPython.core.display.HTML object>"
      ]
     },
     "metadata": {},
     "output_type": "display_data"
    },
    {
     "ename": "AttributeError",
     "evalue": "'Baseline' object has no attribute 'push_to_hub'",
     "output_type": "error",
     "traceback": [
      "\u001b[31m---------------------------------------------------------------------------\u001b[39m",
      "\u001b[31mAttributeError\u001b[39m                            Traceback (most recent call last)",
      "\u001b[36mCell\u001b[39m\u001b[36m \u001b[39m\u001b[32mIn[19]\u001b[39m\u001b[32m, line 4\u001b[39m\n\u001b[32m      1\u001b[39m model = Baseline(embed_dim=\u001b[32m64\u001b[39m, hidden_size=\u001b[32m64\u001b[39m, output_size=\u001b[32m7\u001b[39m, use_rnn=\u001b[38;5;28;01mFalse\u001b[39;00m, num_layers=\u001b[32m1\u001b[39m, dropout=\u001b[32m0.25\u001b[39m).to(device)\n\u001b[32m      3\u001b[39m _ = training_loop(model, \u001b[33m'\u001b[39m\u001b[33mLSTM\u001b[39m\u001b[33m'\u001b[39m, device, train_loader, val_loader, params=params, lr=\u001b[32m0.001\u001b[39m, optimizer=optim.RMSprop)\n\u001b[32m----> \u001b[39m\u001b[32m4\u001b[39m \u001b[43mmodel\u001b[49m\u001b[43m.\u001b[49m\u001b[43mpush_to_hub\u001b[49m(\u001b[33m\"\u001b[39m\u001b[33mmodel_hse_hw\u001b[39m\u001b[33m\"\u001b[39m)\n",
      "\u001b[36mFile \u001b[39m\u001b[32m~/anaconda3/envs/aquakv/lib/python3.11/site-packages/torch/nn/modules/module.py:1931\u001b[39m, in \u001b[36mModule.__getattr__\u001b[39m\u001b[34m(self, name)\u001b[39m\n\u001b[32m   1929\u001b[39m     \u001b[38;5;28;01mif\u001b[39;00m name \u001b[38;5;129;01min\u001b[39;00m modules:\n\u001b[32m   1930\u001b[39m         \u001b[38;5;28;01mreturn\u001b[39;00m modules[name]\n\u001b[32m-> \u001b[39m\u001b[32m1931\u001b[39m \u001b[38;5;28;01mraise\u001b[39;00m \u001b[38;5;167;01mAttributeError\u001b[39;00m(\n\u001b[32m   1932\u001b[39m     \u001b[33mf\u001b[39m\u001b[33m\"\u001b[39m\u001b[33m'\u001b[39m\u001b[38;5;132;01m{\u001b[39;00m\u001b[38;5;28mtype\u001b[39m(\u001b[38;5;28mself\u001b[39m).\u001b[34m__name__\u001b[39m\u001b[38;5;132;01m}\u001b[39;00m\u001b[33m'\u001b[39m\u001b[33m object has no attribute \u001b[39m\u001b[33m'\u001b[39m\u001b[38;5;132;01m{\u001b[39;00mname\u001b[38;5;132;01m}\u001b[39;00m\u001b[33m'\u001b[39m\u001b[33m\"\u001b[39m\n\u001b[32m   1933\u001b[39m )\n",
      "\u001b[31mAttributeError\u001b[39m: 'Baseline' object has no attribute 'push_to_hub'"
     ]
    }
   ],
   "source": [
    "model = Baseline(embed_dim=64, hidden_size=64, output_size=7, use_rnn=False, num_layers=1, dropout=0.25).to(device)\n",
    "    \n",
    "_ = training_loop(model, 'LSTM', device, train_loader, val_loader, params=params, lr=0.001, optimizer=optim.RMSprop)\n",
    "model.push_to_hub(\"model_hse_hw\")"
   ]
  },
  {
   "cell_type": "code",
   "execution_count": null,
   "metadata": {},
   "outputs": [],
   "source": []
  }
 ],
 "metadata": {
  "kernelspec": {
   "display_name": "aquakv",
   "language": "python",
   "name": "python3"
  },
  "language_info": {
   "codemirror_mode": {
    "name": "ipython",
    "version": 3
   },
   "file_extension": ".py",
   "mimetype": "text/x-python",
   "name": "python",
   "nbconvert_exporter": "python",
   "pygments_lexer": "ipython3",
   "version": "3.11.11"
  }
 },
 "nbformat": 4,
 "nbformat_minor": 2
}
